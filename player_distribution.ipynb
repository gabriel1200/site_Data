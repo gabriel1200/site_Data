{
 "cells": [
  {
   "cell_type": "code",
   "execution_count": 41,
   "id": "07c01c85-546e-486f-b136-0af32392ad6a",
   "metadata": {},
   "outputs": [
    {
     "data": {
      "application/vnd.plotly.v1+json": {
       "config": {
        "plotlyServerURL": "https://plot.ly"
       },
       "data": [
        {
         "line": {
          "shape": "linear"
         },
         "marker": {
          "color": "#3e8989",
          "size": 10
         },
         "mode": "markers",
         "name": "Other Players",
         "type": "scatter",
         "x": [
          2022,
          2022,
          2022,
          2022,
          2022,
          2022,
          2022,
          2022,
          2022,
          2022,
          2022,
          2022,
          2022,
          2022,
          2022,
          2022,
          2022,
          2022,
          2022,
          2022,
          2022,
          2022,
          2022,
          2022,
          2022,
          2022,
          2022,
          2022,
          2022,
          2022,
          2022,
          2022,
          2022,
          2022,
          2022,
          2022,
          2022,
          2022,
          2022,
          2022,
          2022,
          2022,
          2022,
          2022,
          2022,
          2023,
          2023,
          2023,
          2023,
          2023,
          2023,
          2023,
          2023,
          2023,
          2023,
          2023,
          2023,
          2023,
          2023,
          2023,
          2023,
          2023,
          2023,
          2023,
          2023,
          2023,
          2023,
          2023,
          2023,
          2023,
          2023,
          2023,
          2023,
          2023,
          2023,
          2023,
          2023,
          2023,
          2023,
          2023,
          2023,
          2023,
          2023,
          2023,
          2023,
          2023,
          2023,
          2023,
          2023,
          2023,
          2023,
          2023,
          2023,
          2023,
          2023,
          2023,
          2023,
          2024,
          2024,
          2024,
          2024,
          2024,
          2024,
          2024,
          2024,
          2024,
          2024,
          2024,
          2024,
          2024,
          2024,
          2024,
          2024,
          2024,
          2024,
          2024,
          2024,
          2024,
          2024,
          2024,
          2024,
          2024,
          2024,
          2024,
          2024,
          2024,
          2024,
          2024,
          2024,
          2024,
          2024,
          2024,
          2024,
          2024,
          2024,
          2024,
          2024,
          2024,
          2024,
          2024,
          2024,
          2024,
          2024,
          2024,
          2024,
          2024,
          2024,
          2024,
          2024,
          2024,
          2024,
          2024,
          2024,
          2024,
          2024,
          2024,
          2024,
          2024,
          2024,
          2024,
          2024,
          2024,
          2024,
          2024,
          2024,
          2024
         ],
         "y": [
          -0.32,
          -0.38,
          1.8,
          0.65,
          -0.61,
          -0.09,
          -0.48,
          0.59,
          0.21,
          -0.57,
          -1.15,
          0.81,
          -1.04,
          -0.1,
          -1.47,
          0.09,
          0.19,
          0.74,
          -0.7,
          1.53,
          -0.13,
          -0.18,
          2.17,
          -0.52,
          0.9,
          1.09,
          -0.05,
          -1.7,
          0.8,
          -0.17,
          3.55,
          -0.51,
          0.92,
          -1.04,
          -0.62,
          -0.57,
          1.74,
          0.72,
          -0.01,
          -0.25,
          0.37,
          0.33,
          0.97,
          2.13,
          1.56,
          -0.27,
          -0.32,
          0.51,
          -0.88,
          -0.5,
          0.58,
          -0.08,
          -0.43,
          0.87,
          -0.37,
          -0.41,
          -0.39,
          -0.5,
          0.5,
          0.17,
          0.34,
          -0.22,
          0.07,
          0.16,
          0.97,
          -0.29,
          1.72,
          1.12,
          0.36,
          1.18,
          1.7,
          0.42,
          0.97,
          3.21,
          0.29,
          1.3,
          2,
          1.43,
          1.46,
          3.07,
          2.06,
          1.35,
          0.82,
          -0.05,
          -0.29,
          -0.75,
          0.51,
          0.8,
          -0.25,
          -0.15,
          0.02,
          0.41,
          0.83,
          2.07,
          0.31,
          0.9,
          0.72,
          0.8428921655683335,
          2.724960306398429,
          2.6054406461755124,
          -0.1421420391333211,
          0.468997699158515,
          1.2347113362663018,
          1.191995521029528,
          0.6776899809363536,
          0.086016144535729,
          -0.1401357576553076,
          -0.0183833807218301,
          0.5926396203268536,
          0.244458683529484,
          1.4517125850091126,
          0.4824867991920962,
          2.753598923330358,
          0.7099952697535536,
          -0.4055052920934623,
          0.4296521143440952,
          0.151592641768837,
          1.885806066191941,
          -0.2739267210824482,
          1.4952085616765791,
          1.4369520327529737,
          1.3950474680151734,
          1.1457363808697385,
          -0.265469336647895,
          0.9333608937891966,
          1.395104610189297,
          0.4698550121937873,
          0.93381867203251,
          -0.6504964183508611,
          -0.0038089658342449,
          0.8650006852744644,
          0.14593939099458,
          0.0472729654801802,
          -0.009084549462593,
          0.0528688722081208,
          0.8102303971120999,
          1.012141390262877,
          0.2455003605827109,
          1.1608474944396563,
          0.9388693585156076,
          -0.1793348366525446,
          0.0722748777496837,
          0.3865944109194353,
          -0.1664666422458995,
          1.7347588558857328,
          -0.7337090366144237,
          1.0560612697782017,
          0.6094377374785322,
          2.3220374066652587,
          0.3265425186491251,
          0.2479687657185205,
          0.7030093310052068,
          0.7501970296196024,
          1.4203738836978372,
          0.3408841869128032,
          0.6807623043818188,
          0.4838738059233284,
          -0.2030918431641997,
          -0.258972812808718,
          1.2017607703204634,
          -0.003254341289832,
          2.8183732541075623,
          1.7922644602427438,
          1.4822481401323888,
          -0.0433102727794283,
          0.3466468157538025
         ]
        },
        {
         "line": {
          "shape": "linear"
         },
         "marker": {
          "color": "#ffdb58",
          "size": 20
         },
         "mode": "lines+markers+text",
         "name": "Nic Claxton",
         "text": [
          "Mobile Big",
          "Mobile Big",
          "Mobile Big"
         ],
         "textfont": {
          "color": "white",
          "family": "Malgun Gothic",
          "size": 20
         },
         "textposition": "top center",
         "type": "scatter",
         "x": [
          2022,
          2023,
          2024
         ],
         "y": [
          0.59,
          3.21,
          2.3220374066652587
         ]
        }
       ],
       "layout": {
        "height": 1200,
        "legend": {
         "font": {
          "color": "#FFFFFF",
          "family": "Malgun Gothic",
          "size": 22
         },
         "traceorder": "reversed"
        },
        "paper_bgcolor": "#0d0106",
        "plot_bgcolor": "#0d0106",
        "showlegend": true,
        "template": {
         "data": {
          "bar": [
           {
            "error_x": {
             "color": "#2a3f5f"
            },
            "error_y": {
             "color": "#2a3f5f"
            },
            "marker": {
             "line": {
              "color": "#E5ECF6",
              "width": 0.5
             },
             "pattern": {
              "fillmode": "overlay",
              "size": 10,
              "solidity": 0.2
             }
            },
            "type": "bar"
           }
          ],
          "barpolar": [
           {
            "marker": {
             "line": {
              "color": "#E5ECF6",
              "width": 0.5
             },
             "pattern": {
              "fillmode": "overlay",
              "size": 10,
              "solidity": 0.2
             }
            },
            "type": "barpolar"
           }
          ],
          "carpet": [
           {
            "aaxis": {
             "endlinecolor": "#2a3f5f",
             "gridcolor": "white",
             "linecolor": "white",
             "minorgridcolor": "white",
             "startlinecolor": "#2a3f5f"
            },
            "baxis": {
             "endlinecolor": "#2a3f5f",
             "gridcolor": "white",
             "linecolor": "white",
             "minorgridcolor": "white",
             "startlinecolor": "#2a3f5f"
            },
            "type": "carpet"
           }
          ],
          "choropleth": [
           {
            "colorbar": {
             "outlinewidth": 0,
             "ticks": ""
            },
            "type": "choropleth"
           }
          ],
          "contour": [
           {
            "colorbar": {
             "outlinewidth": 0,
             "ticks": ""
            },
            "colorscale": [
             [
              0,
              "#0d0887"
             ],
             [
              0.1111111111111111,
              "#46039f"
             ],
             [
              0.2222222222222222,
              "#7201a8"
             ],
             [
              0.3333333333333333,
              "#9c179e"
             ],
             [
              0.4444444444444444,
              "#bd3786"
             ],
             [
              0.5555555555555556,
              "#d8576b"
             ],
             [
              0.6666666666666666,
              "#ed7953"
             ],
             [
              0.7777777777777778,
              "#fb9f3a"
             ],
             [
              0.8888888888888888,
              "#fdca26"
             ],
             [
              1,
              "#f0f921"
             ]
            ],
            "type": "contour"
           }
          ],
          "contourcarpet": [
           {
            "colorbar": {
             "outlinewidth": 0,
             "ticks": ""
            },
            "type": "contourcarpet"
           }
          ],
          "heatmap": [
           {
            "colorbar": {
             "outlinewidth": 0,
             "ticks": ""
            },
            "colorscale": [
             [
              0,
              "#0d0887"
             ],
             [
              0.1111111111111111,
              "#46039f"
             ],
             [
              0.2222222222222222,
              "#7201a8"
             ],
             [
              0.3333333333333333,
              "#9c179e"
             ],
             [
              0.4444444444444444,
              "#bd3786"
             ],
             [
              0.5555555555555556,
              "#d8576b"
             ],
             [
              0.6666666666666666,
              "#ed7953"
             ],
             [
              0.7777777777777778,
              "#fb9f3a"
             ],
             [
              0.8888888888888888,
              "#fdca26"
             ],
             [
              1,
              "#f0f921"
             ]
            ],
            "type": "heatmap"
           }
          ],
          "heatmapgl": [
           {
            "colorbar": {
             "outlinewidth": 0,
             "ticks": ""
            },
            "colorscale": [
             [
              0,
              "#0d0887"
             ],
             [
              0.1111111111111111,
              "#46039f"
             ],
             [
              0.2222222222222222,
              "#7201a8"
             ],
             [
              0.3333333333333333,
              "#9c179e"
             ],
             [
              0.4444444444444444,
              "#bd3786"
             ],
             [
              0.5555555555555556,
              "#d8576b"
             ],
             [
              0.6666666666666666,
              "#ed7953"
             ],
             [
              0.7777777777777778,
              "#fb9f3a"
             ],
             [
              0.8888888888888888,
              "#fdca26"
             ],
             [
              1,
              "#f0f921"
             ]
            ],
            "type": "heatmapgl"
           }
          ],
          "histogram": [
           {
            "marker": {
             "pattern": {
              "fillmode": "overlay",
              "size": 10,
              "solidity": 0.2
             }
            },
            "type": "histogram"
           }
          ],
          "histogram2d": [
           {
            "colorbar": {
             "outlinewidth": 0,
             "ticks": ""
            },
            "colorscale": [
             [
              0,
              "#0d0887"
             ],
             [
              0.1111111111111111,
              "#46039f"
             ],
             [
              0.2222222222222222,
              "#7201a8"
             ],
             [
              0.3333333333333333,
              "#9c179e"
             ],
             [
              0.4444444444444444,
              "#bd3786"
             ],
             [
              0.5555555555555556,
              "#d8576b"
             ],
             [
              0.6666666666666666,
              "#ed7953"
             ],
             [
              0.7777777777777778,
              "#fb9f3a"
             ],
             [
              0.8888888888888888,
              "#fdca26"
             ],
             [
              1,
              "#f0f921"
             ]
            ],
            "type": "histogram2d"
           }
          ],
          "histogram2dcontour": [
           {
            "colorbar": {
             "outlinewidth": 0,
             "ticks": ""
            },
            "colorscale": [
             [
              0,
              "#0d0887"
             ],
             [
              0.1111111111111111,
              "#46039f"
             ],
             [
              0.2222222222222222,
              "#7201a8"
             ],
             [
              0.3333333333333333,
              "#9c179e"
             ],
             [
              0.4444444444444444,
              "#bd3786"
             ],
             [
              0.5555555555555556,
              "#d8576b"
             ],
             [
              0.6666666666666666,
              "#ed7953"
             ],
             [
              0.7777777777777778,
              "#fb9f3a"
             ],
             [
              0.8888888888888888,
              "#fdca26"
             ],
             [
              1,
              "#f0f921"
             ]
            ],
            "type": "histogram2dcontour"
           }
          ],
          "mesh3d": [
           {
            "colorbar": {
             "outlinewidth": 0,
             "ticks": ""
            },
            "type": "mesh3d"
           }
          ],
          "parcoords": [
           {
            "line": {
             "colorbar": {
              "outlinewidth": 0,
              "ticks": ""
             }
            },
            "type": "parcoords"
           }
          ],
          "pie": [
           {
            "automargin": true,
            "type": "pie"
           }
          ],
          "scatter": [
           {
            "fillpattern": {
             "fillmode": "overlay",
             "size": 10,
             "solidity": 0.2
            },
            "type": "scatter"
           }
          ],
          "scatter3d": [
           {
            "line": {
             "colorbar": {
              "outlinewidth": 0,
              "ticks": ""
             }
            },
            "marker": {
             "colorbar": {
              "outlinewidth": 0,
              "ticks": ""
             }
            },
            "type": "scatter3d"
           }
          ],
          "scattercarpet": [
           {
            "marker": {
             "colorbar": {
              "outlinewidth": 0,
              "ticks": ""
             }
            },
            "type": "scattercarpet"
           }
          ],
          "scattergeo": [
           {
            "marker": {
             "colorbar": {
              "outlinewidth": 0,
              "ticks": ""
             }
            },
            "type": "scattergeo"
           }
          ],
          "scattergl": [
           {
            "marker": {
             "colorbar": {
              "outlinewidth": 0,
              "ticks": ""
             }
            },
            "type": "scattergl"
           }
          ],
          "scattermapbox": [
           {
            "marker": {
             "colorbar": {
              "outlinewidth": 0,
              "ticks": ""
             }
            },
            "type": "scattermapbox"
           }
          ],
          "scatterpolar": [
           {
            "marker": {
             "colorbar": {
              "outlinewidth": 0,
              "ticks": ""
             }
            },
            "type": "scatterpolar"
           }
          ],
          "scatterpolargl": [
           {
            "marker": {
             "colorbar": {
              "outlinewidth": 0,
              "ticks": ""
             }
            },
            "type": "scatterpolargl"
           }
          ],
          "scatterternary": [
           {
            "marker": {
             "colorbar": {
              "outlinewidth": 0,
              "ticks": ""
             }
            },
            "type": "scatterternary"
           }
          ],
          "surface": [
           {
            "colorbar": {
             "outlinewidth": 0,
             "ticks": ""
            },
            "colorscale": [
             [
              0,
              "#0d0887"
             ],
             [
              0.1111111111111111,
              "#46039f"
             ],
             [
              0.2222222222222222,
              "#7201a8"
             ],
             [
              0.3333333333333333,
              "#9c179e"
             ],
             [
              0.4444444444444444,
              "#bd3786"
             ],
             [
              0.5555555555555556,
              "#d8576b"
             ],
             [
              0.6666666666666666,
              "#ed7953"
             ],
             [
              0.7777777777777778,
              "#fb9f3a"
             ],
             [
              0.8888888888888888,
              "#fdca26"
             ],
             [
              1,
              "#f0f921"
             ]
            ],
            "type": "surface"
           }
          ],
          "table": [
           {
            "cells": {
             "fill": {
              "color": "#EBF0F8"
             },
             "line": {
              "color": "white"
             }
            },
            "header": {
             "fill": {
              "color": "#C8D4E3"
             },
             "line": {
              "color": "white"
             }
            },
            "type": "table"
           }
          ]
         },
         "layout": {
          "annotationdefaults": {
           "arrowcolor": "#2a3f5f",
           "arrowhead": 0,
           "arrowwidth": 1
          },
          "autotypenumbers": "strict",
          "coloraxis": {
           "colorbar": {
            "outlinewidth": 0,
            "ticks": ""
           }
          },
          "colorscale": {
           "diverging": [
            [
             0,
             "#8e0152"
            ],
            [
             0.1,
             "#c51b7d"
            ],
            [
             0.2,
             "#de77ae"
            ],
            [
             0.3,
             "#f1b6da"
            ],
            [
             0.4,
             "#fde0ef"
            ],
            [
             0.5,
             "#f7f7f7"
            ],
            [
             0.6,
             "#e6f5d0"
            ],
            [
             0.7,
             "#b8e186"
            ],
            [
             0.8,
             "#7fbc41"
            ],
            [
             0.9,
             "#4d9221"
            ],
            [
             1,
             "#276419"
            ]
           ],
           "sequential": [
            [
             0,
             "#0d0887"
            ],
            [
             0.1111111111111111,
             "#46039f"
            ],
            [
             0.2222222222222222,
             "#7201a8"
            ],
            [
             0.3333333333333333,
             "#9c179e"
            ],
            [
             0.4444444444444444,
             "#bd3786"
            ],
            [
             0.5555555555555556,
             "#d8576b"
            ],
            [
             0.6666666666666666,
             "#ed7953"
            ],
            [
             0.7777777777777778,
             "#fb9f3a"
            ],
            [
             0.8888888888888888,
             "#fdca26"
            ],
            [
             1,
             "#f0f921"
            ]
           ],
           "sequentialminus": [
            [
             0,
             "#0d0887"
            ],
            [
             0.1111111111111111,
             "#46039f"
            ],
            [
             0.2222222222222222,
             "#7201a8"
            ],
            [
             0.3333333333333333,
             "#9c179e"
            ],
            [
             0.4444444444444444,
             "#bd3786"
            ],
            [
             0.5555555555555556,
             "#d8576b"
            ],
            [
             0.6666666666666666,
             "#ed7953"
            ],
            [
             0.7777777777777778,
             "#fb9f3a"
            ],
            [
             0.8888888888888888,
             "#fdca26"
            ],
            [
             1,
             "#f0f921"
            ]
           ]
          },
          "colorway": [
           "#636efa",
           "#EF553B",
           "#00cc96",
           "#ab63fa",
           "#FFA15A",
           "#19d3f3",
           "#FF6692",
           "#B6E880",
           "#FF97FF",
           "#FECB52"
          ],
          "font": {
           "color": "#2a3f5f"
          },
          "geo": {
           "bgcolor": "white",
           "lakecolor": "white",
           "landcolor": "#E5ECF6",
           "showlakes": true,
           "showland": true,
           "subunitcolor": "white"
          },
          "hoverlabel": {
           "align": "left"
          },
          "hovermode": "closest",
          "mapbox": {
           "style": "light"
          },
          "paper_bgcolor": "white",
          "plot_bgcolor": "#E5ECF6",
          "polar": {
           "angularaxis": {
            "gridcolor": "white",
            "linecolor": "white",
            "ticks": ""
           },
           "bgcolor": "#E5ECF6",
           "radialaxis": {
            "gridcolor": "white",
            "linecolor": "white",
            "ticks": ""
           }
          },
          "scene": {
           "xaxis": {
            "backgroundcolor": "#E5ECF6",
            "gridcolor": "white",
            "gridwidth": 2,
            "linecolor": "white",
            "showbackground": true,
            "ticks": "",
            "zerolinecolor": "white"
           },
           "yaxis": {
            "backgroundcolor": "#E5ECF6",
            "gridcolor": "white",
            "gridwidth": 2,
            "linecolor": "white",
            "showbackground": true,
            "ticks": "",
            "zerolinecolor": "white"
           },
           "zaxis": {
            "backgroundcolor": "#E5ECF6",
            "gridcolor": "white",
            "gridwidth": 2,
            "linecolor": "white",
            "showbackground": true,
            "ticks": "",
            "zerolinecolor": "white"
           }
          },
          "shapedefaults": {
           "line": {
            "color": "#2a3f5f"
           }
          },
          "ternary": {
           "aaxis": {
            "gridcolor": "white",
            "linecolor": "white",
            "ticks": ""
           },
           "baxis": {
            "gridcolor": "white",
            "linecolor": "white",
            "ticks": ""
           },
           "bgcolor": "#E5ECF6",
           "caxis": {
            "gridcolor": "white",
            "linecolor": "white",
            "ticks": ""
           }
          },
          "title": {
           "x": 0.05
          },
          "xaxis": {
           "automargin": true,
           "gridcolor": "white",
           "linecolor": "white",
           "ticks": "",
           "title": {
            "standoff": 15
           },
           "zerolinecolor": "white",
           "zerolinewidth": 2
          },
          "yaxis": {
           "automargin": true,
           "gridcolor": "white",
           "linecolor": "white",
           "ticks": "",
           "title": {
            "standoff": 15
           },
           "zerolinecolor": "white",
           "zerolinewidth": 2
          }
         }
        },
        "title": {
         "font": {
          "color": "white",
          "family": "Malgun Gothic",
          "size": 50
         },
         "text": "Nic Claxton<br>D-LEBRON vs Defensive Role",
         "x": 0.5
        },
        "width": 1800,
        "xaxis": {
         "autorange": true,
         "range": [
          2021.8677377598417,
          2024.1322622401583
         ],
         "showgrid": false,
         "tickfont": {
          "color": "#e5e5e5",
          "family": "Malgun Gothic",
          "size": 25
         },
         "tickvals": [
          2022,
          2023,
          2024
         ],
         "title": {
          "font": {
           "color": "white",
           "family": "Malgun Gothic",
           "size": 50
          },
          "text": "Year"
         },
         "type": "linear"
        },
        "yaxis": {
         "autorange": true,
         "range": [
          -2.0324980400940755,
          3.882498040094075
         ],
         "showgrid": false,
         "tickfont": {
          "color": "#e5e5e5",
          "family": "Malgun Gothic",
          "size": 25
         },
         "title": {
          "font": {
           "color": "white",
           "family": "Malgun Gothic",
           "size": 50
          },
          "text": "D-LEBRON"
         },
         "type": "linear",
         "zeroline": false
        }
       }
      },
      "image/png": "[encoded data removed]",
      "text/html": [
       "<div>                            <div id=\"6a835190-f7f1-4d2f-a892-700a2a92742a\" class=\"plotly-graph-div\" style=\"height:1200px; width:1800px;\"></div>            <script type=\"text/javascript\">                require([\"plotly\"], function(Plotly) {                    window.PLOTLYENV=window.PLOTLYENV || {};                                    if (document.getElementById(\"6a835190-f7f1-4d2f-a892-700a2a92742a\")) {                    Plotly.newPlot(                        \"6a835190-f7f1-4d2f-a892-700a2a92742a\",                        [{\"line\":{\"shape\":\"linear\"},\"marker\":{\"color\":\"#3e8989\",\"size\":10},\"mode\":\"markers\",\"name\":\"Other Players\",\"x\":[2022,2022,2022,2022,2022,2022,2022,2022,2022,2022,2022,2022,2022,2022,2022,2022,2022,2022,2022,2022,2022,2022,2022,2022,2022,2022,2022,2022,2022,2022,2022,2022,2022,2022,2022,2022,2022,2022,2022,2022,2022,2022,2022,2022,2022,2023,2023,2023,2023,2023,2023,2023,2023,2023,2023,2023,2023,2023,2023,2023,2023,2023,2023,2023,2023,2023,2023,2023,2023,2023,2023,2023,2023,2023,2023,2023,2023,2023,2023,2023,2023,2023,2023,2023,2023,2023,2023,2023,2023,2023,2023,2023,2023,2023,2023,2023,2023,2024,2024,2024,2024,2024,2024,2024,2024,2024,2024,2024,2024,2024,2024,2024,2024,2024,2024,2024,2024,2024,2024,2024,2024,2024,2024,2024,2024,2024,2024,2024,2024,2024,2024,2024,2024,2024,2024,2024,2024,2024,2024,2024,2024,2024,2024,2024,2024,2024,2024,2024,2024,2024,2024,2024,2024,2024,2024,2024,2024,2024,2024,2024,2024,2024,2024,2024,2024,2024],\"y\":[-0.32,-0.38,1.8,0.65,-0.61,-0.09,-0.48,0.59,0.21,-0.57,-1.15,0.81,-1.04,-0.1,-1.47,0.09,0.19,0.74,-0.7,1.53,-0.13,-0.18,2.17,-0.52,0.9,1.09,-0.05,-1.7,0.8,-0.17,3.55,-0.51,0.92,-1.04,-0.62,-0.57,1.74,0.72,-0.01,-0.25,0.37,0.33,0.97,2.13,1.56,-0.27,-0.32,0.51,-0.88,-0.5,0.58,-0.08,-0.43,0.87,-0.37,-0.41,-0.39,-0.5,0.5,0.17,0.34,-0.22,0.07,0.16,0.97,-0.29,1.72,1.12,0.36,1.18,1.7,0.42,0.97,3.21,0.29,1.3,2.0,1.43,1.46,3.07,2.06,1.35,0.82,-0.05,-0.29,-0.75,0.51,0.8,-0.25,-0.15,0.02,0.41,0.83,2.07,0.31,0.9,0.72,0.8428921655683335,2.724960306398429,2.6054406461755124,-0.1421420391333211,0.468997699158515,1.2347113362663018,1.191995521029528,0.6776899809363536,0.086016144535729,-0.1401357576553076,-0.0183833807218301,0.5926396203268536,0.244458683529484,1.4517125850091126,0.4824867991920962,2.753598923330358,0.7099952697535536,-0.4055052920934623,0.4296521143440952,0.151592641768837,1.885806066191941,-0.2739267210824482,1.4952085616765791,1.4369520327529737,1.3950474680151734,1.1457363808697385,-0.265469336647895,0.9333608937891966,1.395104610189297,0.4698550121937873,0.93381867203251,-0.6504964183508611,-0.0038089658342449,0.8650006852744644,0.14593939099458,0.0472729654801802,-0.009084549462593,0.0528688722081208,0.8102303971120999,1.012141390262877,0.2455003605827109,1.1608474944396563,0.9388693585156076,-0.1793348366525446,0.0722748777496837,0.3865944109194353,-0.1664666422458995,1.7347588558857328,-0.7337090366144237,1.0560612697782017,0.6094377374785322,2.3220374066652587,0.3265425186491251,0.2479687657185205,0.7030093310052068,0.7501970296196024,1.4203738836978372,0.3408841869128032,0.6807623043818188,0.4838738059233284,-0.2030918431641997,-0.258972812808718,1.2017607703204634,-0.003254341289832,2.8183732541075623,1.7922644602427438,1.4822481401323888,-0.0433102727794283,0.3466468157538025],\"type\":\"scatter\"},{\"line\":{\"shape\":\"linear\"},\"marker\":{\"color\":\"#ffdb58\",\"size\":20},\"mode\":\"lines+markers+text\",\"name\":\"Nic Claxton\",\"text\":[\"Mobile Big\",\"Mobile Big\",\"Mobile Big\"],\"textfont\":{\"color\":\"white\",\"family\":\"Malgun Gothic\",\"size\":20},\"textposition\":\"top center\",\"x\":[2022,2023,2024],\"y\":[0.59,3.21,2.3220374066652587],\"type\":\"scatter\"}],                        {\"template\":{\"data\":{\"histogram2dcontour\":[{\"type\":\"histogram2dcontour\",\"colorbar\":{\"outlinewidth\":0,\"ticks\":\"\"},\"colorscale\":[[0.0,\"#0d0887\"],[0.1111111111111111,\"#46039f\"],[0.2222222222222222,\"#7201a8\"],[0.3333333333333333,\"#9c179e\"],[0.4444444444444444,\"#bd3786\"],[0.5555555555555556,\"#d8576b\"],[0.6666666666666666,\"#ed7953\"],[0.7777777777777778,\"#fb9f3a\"],[0.8888888888888888,\"#fdca26\"],[1.0,\"#f0f921\"]]}],\"choropleth\":[{\"type\":\"choropleth\",\"colorbar\":{\"outlinewidth\":0,\"ticks\":\"\"}}],\"histogram2d\":[{\"type\":\"histogram2d\",\"colorbar\":{\"outlinewidth\":0,\"ticks\":\"\"},\"colorscale\":[[0.0,\"#0d0887\"],[0.1111111111111111,\"#46039f\"],[0.2222222222222222,\"#7201a8\"],[0.3333333333333333,\"#9c179e\"],[0.4444444444444444,\"#bd3786\"],[0.5555555555555556,\"#d8576b\"],[0.6666666666666666,\"#ed7953\"],[0.7777777777777778,\"#fb9f3a\"],[0.8888888888888888,\"#fdca26\"],[1.0,\"#f0f921\"]]}],\"heatmap\":[{\"type\":\"heatmap\",\"colorbar\":{\"outlinewidth\":0,\"ticks\":\"\"},\"colorscale\":[[0.0,\"#0d0887\"],[0.1111111111111111,\"#46039f\"],[0.2222222222222222,\"#7201a8\"],[0.3333333333333333,\"#9c179e\"],[0.4444444444444444,\"#bd3786\"],[0.5555555555555556,\"#d8576b\"],[0.6666666666666666,\"#ed7953\"],[0.7777777777777778,\"#fb9f3a\"],[0.8888888888888888,\"#fdca26\"],[1.0,\"#f0f921\"]]}],\"heatmapgl\":[{\"type\":\"heatmapgl\",\"colorbar\":{\"outlinewidth\":0,\"ticks\":\"\"},\"colorscale\":[[0.0,\"#0d0887\"],[0.1111111111111111,\"#46039f\"],[0.2222222222222222,\"#7201a8\"],[0.3333333333333333,\"#9c179e\"],[0.4444444444444444,\"#bd3786\"],[0.5555555555555556,\"#d8576b\"],[0.6666666666666666,\"#ed7953\"],[0.7777777777777778,\"#fb9f3a\"],[0.8888888888888888,\"#fdca26\"],[1.0,\"#f0f921\"]]}],\"contourcarpet\":[{\"type\":\"contourcarpet\",\"colorbar\":{\"outlinewidth\":0,\"ticks\":\"\"}}],\"contour\":[{\"type\":\"contour\",\"colorbar\":{\"outlinewidth\":0,\"ticks\":\"\"},\"colorscale\":[[0.0,\"#0d0887\"],[0.1111111111111111,\"#46039f\"],[0.2222222222222222,\"#7201a8\"],[0.3333333333333333,\"#9c179e\"],[0.4444444444444444,\"#bd3786\"],[0.5555555555555556,\"#d8576b\"],[0.6666666666666666,\"#ed7953\"],[0.7777777777777778,\"#fb9f3a\"],[0.8888888888888888,\"#fdca26\"],[1.0,\"#f0f921\"]]}],\"surface\":[{\"type\":\"surface\",\"colorbar\":{\"outlinewidth\":0,\"ticks\":\"\"},\"colorscale\":[[0.0,\"#0d0887\"],[0.1111111111111111,\"#46039f\"],[0.2222222222222222,\"#7201a8\"],[0.3333333333333333,\"#9c179e\"],[0.4444444444444444,\"#bd3786\"],[0.5555555555555556,\"#d8576b\"],[0.6666666666666666,\"#ed7953\"],[0.7777777777777778,\"#fb9f3a\"],[0.8888888888888888,\"#fdca26\"],[1.0,\"#f0f921\"]]}],\"mesh3d\":[{\"type\":\"mesh3d\",\"colorbar\":{\"outlinewidth\":0,\"ticks\":\"\"}}],\"scatter\":[{\"fillpattern\":{\"fillmode\":\"overlay\",\"size\":10,\"solidity\":0.2},\"type\":\"scatter\"}],\"parcoords\":[{\"type\":\"parcoords\",\"line\":{\"colorbar\":{\"outlinewidth\":0,\"ticks\":\"\"}}}],\"scatterpolargl\":[{\"type\":\"scatterpolargl\",\"marker\":{\"colorbar\":{\"outlinewidth\":0,\"ticks\":\"\"}}}],\"bar\":[{\"error_x\":{\"color\":\"#2a3f5f\"},\"error_y\":{\"color\":\"#2a3f5f\"},\"marker\":{\"line\":{\"color\":\"#E5ECF6\",\"width\":0.5},\"pattern\":{\"fillmode\":\"overlay\",\"size\":10,\"solidity\":0.2}},\"type\":\"bar\"}],\"scattergeo\":[{\"type\":\"scattergeo\",\"marker\":{\"colorbar\":{\"outlinewidth\":0,\"ticks\":\"\"}}}],\"scatterpolar\":[{\"type\":\"scatterpolar\",\"marker\":{\"colorbar\":{\"outlinewidth\":0,\"ticks\":\"\"}}}],\"histogram\":[{\"marker\":{\"pattern\":{\"fillmode\":\"overlay\",\"size\":10,\"solidity\":0.2}},\"type\":\"histogram\"}],\"scattergl\":[{\"type\":\"scattergl\",\"marker\":{\"colorbar\":{\"outlinewidth\":0,\"ticks\":\"\"}}}],\"scatter3d\":[{\"type\":\"scatter3d\",\"line\":{\"colorbar\":{\"outlinewidth\":0,\"ticks\":\"\"}},\"marker\":{\"colorbar\":{\"outlinewidth\":0,\"ticks\":\"\"}}}],\"scattermapbox\":[{\"type\":\"scattermapbox\",\"marker\":{\"colorbar\":{\"outlinewidth\":0,\"ticks\":\"\"}}}],\"scatterternary\":[{\"type\":\"scatterternary\",\"marker\":{\"colorbar\":{\"outlinewidth\":0,\"ticks\":\"\"}}}],\"scattercarpet\":[{\"type\":\"scattercarpet\",\"marker\":{\"colorbar\":{\"outlinewidth\":0,\"ticks\":\"\"}}}],\"carpet\":[{\"aaxis\":{\"endlinecolor\":\"#2a3f5f\",\"gridcolor\":\"white\",\"linecolor\":\"white\",\"minorgridcolor\":\"white\",\"startlinecolor\":\"#2a3f5f\"},\"baxis\":{\"endlinecolor\":\"#2a3f5f\",\"gridcolor\":\"white\",\"linecolor\":\"white\",\"minorgridcolor\":\"white\",\"startlinecolor\":\"#2a3f5f\"},\"type\":\"carpet\"}],\"table\":[{\"cells\":{\"fill\":{\"color\":\"#EBF0F8\"},\"line\":{\"color\":\"white\"}},\"header\":{\"fill\":{\"color\":\"#C8D4E3\"},\"line\":{\"color\":\"white\"}},\"type\":\"table\"}],\"barpolar\":[{\"marker\":{\"line\":{\"color\":\"#E5ECF6\",\"width\":0.5},\"pattern\":{\"fillmode\":\"overlay\",\"size\":10,\"solidity\":0.2}},\"type\":\"barpolar\"}],\"pie\":[{\"automargin\":true,\"type\":\"pie\"}]},\"layout\":{\"autotypenumbers\":\"strict\",\"colorway\":[\"#636efa\",\"#EF553B\",\"#00cc96\",\"#ab63fa\",\"#FFA15A\",\"#19d3f3\",\"#FF6692\",\"#B6E880\",\"#FF97FF\",\"#FECB52\"],\"font\":{\"color\":\"#2a3f5f\"},\"hovermode\":\"closest\",\"hoverlabel\":{\"align\":\"left\"},\"paper_bgcolor\":\"white\",\"plot_bgcolor\":\"#E5ECF6\",\"polar\":{\"bgcolor\":\"#E5ECF6\",\"angularaxis\":{\"gridcolor\":\"white\",\"linecolor\":\"white\",\"ticks\":\"\"},\"radialaxis\":{\"gridcolor\":\"white\",\"linecolor\":\"white\",\"ticks\":\"\"}},\"ternary\":{\"bgcolor\":\"#E5ECF6\",\"aaxis\":{\"gridcolor\":\"white\",\"linecolor\":\"white\",\"ticks\":\"\"},\"baxis\":{\"gridcolor\":\"white\",\"linecolor\":\"white\",\"ticks\":\"\"},\"caxis\":{\"gridcolor\":\"white\",\"linecolor\":\"white\",\"ticks\":\"\"}},\"coloraxis\":{\"colorbar\":{\"outlinewidth\":0,\"ticks\":\"\"}},\"colorscale\":{\"sequential\":[[0.0,\"#0d0887\"],[0.1111111111111111,\"#46039f\"],[0.2222222222222222,\"#7201a8\"],[0.3333333333333333,\"#9c179e\"],[0.4444444444444444,\"#bd3786\"],[0.5555555555555556,\"#d8576b\"],[0.6666666666666666,\"#ed7953\"],[0.7777777777777778,\"#fb9f3a\"],[0.8888888888888888,\"#fdca26\"],[1.0,\"#f0f921\"]],\"sequentialminus\":[[0.0,\"#0d0887\"],[0.1111111111111111,\"#46039f\"],[0.2222222222222222,\"#7201a8\"],[0.3333333333333333,\"#9c179e\"],[0.4444444444444444,\"#bd3786\"],[0.5555555555555556,\"#d8576b\"],[0.6666666666666666,\"#ed7953\"],[0.7777777777777778,\"#fb9f3a\"],[0.8888888888888888,\"#fdca26\"],[1.0,\"#f0f921\"]],\"diverging\":[[0,\"#8e0152\"],[0.1,\"#c51b7d\"],[0.2,\"#de77ae\"],[0.3,\"#f1b6da\"],[0.4,\"#fde0ef\"],[0.5,\"#f7f7f7\"],[0.6,\"#e6f5d0\"],[0.7,\"#b8e186\"],[0.8,\"#7fbc41\"],[0.9,\"#4d9221\"],[1,\"#276419\"]]},\"xaxis\":{\"gridcolor\":\"white\",\"linecolor\":\"white\",\"ticks\":\"\",\"title\":{\"standoff\":15},\"zerolinecolor\":\"white\",\"automargin\":true,\"zerolinewidth\":2},\"yaxis\":{\"gridcolor\":\"white\",\"linecolor\":\"white\",\"ticks\":\"\",\"title\":{\"standoff\":15},\"zerolinecolor\":\"white\",\"automargin\":true,\"zerolinewidth\":2},\"scene\":{\"xaxis\":{\"backgroundcolor\":\"#E5ECF6\",\"gridcolor\":\"white\",\"linecolor\":\"white\",\"showbackground\":true,\"ticks\":\"\",\"zerolinecolor\":\"white\",\"gridwidth\":2},\"yaxis\":{\"backgroundcolor\":\"#E5ECF6\",\"gridcolor\":\"white\",\"linecolor\":\"white\",\"showbackground\":true,\"ticks\":\"\",\"zerolinecolor\":\"white\",\"gridwidth\":2},\"zaxis\":{\"backgroundcolor\":\"#E5ECF6\",\"gridcolor\":\"white\",\"linecolor\":\"white\",\"showbackground\":true,\"ticks\":\"\",\"zerolinecolor\":\"white\",\"gridwidth\":2}},\"shapedefaults\":{\"line\":{\"color\":\"#2a3f5f\"}},\"annotationdefaults\":{\"arrowcolor\":\"#2a3f5f\",\"arrowhead\":0,\"arrowwidth\":1},\"geo\":{\"bgcolor\":\"white\",\"landcolor\":\"#E5ECF6\",\"subunitcolor\":\"white\",\"showland\":true,\"showlakes\":true,\"lakecolor\":\"white\"},\"title\":{\"x\":0.05},\"mapbox\":{\"style\":\"light\"}}},\"title\":{\"text\":\"Nic Claxton\\u003cbr\\u003eD-LEBRON vs Defensive Role\",\"font\":{\"color\":\"white\",\"size\":50,\"family\":\"Malgun Gothic\"},\"x\":0.5},\"legend\":{\"font\":{\"color\":\"#FFFFFF\",\"size\":22,\"family\":\"Malgun Gothic\"},\"traceorder\":\"reversed\"},\"width\":1800,\"height\":1200,\"paper_bgcolor\":\"#0d0106\",\"plot_bgcolor\":\"#0d0106\",\"xaxis\":{\"title\":{\"text\":\"Year\",\"font\":{\"color\":\"white\",\"size\":50,\"family\":\"Malgun Gothic\"}},\"tickfont\":{\"color\":\"#e5e5e5\",\"size\":25,\"family\":\"Malgun Gothic\"},\"showgrid\":false,\"tickvals\":[2022,2023,2024]},\"yaxis\":{\"title\":{\"text\":\"D-LEBRON\",\"font\":{\"color\":\"white\",\"size\":50,\"family\":\"Malgun Gothic\"}},\"tickfont\":{\"color\":\"#e5e5e5\",\"size\":25,\"family\":\"Malgun Gothic\"},\"showgrid\":false,\"zeroline\":false},\"showlegend\":true},                        {\"responsive\": true}                    ).then(function(){\n",
       "                            \n",
       "var gd = document.getElementById('6a835190-f7f1-4d2f-a892-700a2a92742a');\n",
       "var x = new MutationObserver(function (mutations, observer) {{\n",
       "        var display = window.getComputedStyle(gd).display;\n",
       "        if (!display || display === 'none') {{\n",
       "            console.log([gd, 'removed!']);\n",
       "            Plotly.purge(gd);\n",
       "            observer.disconnect();\n",
       "        }}\n",
       "}});\n",
       "\n",
       "// Listen for the removal of the full notebook cells\n",
       "var notebookContainer = gd.closest('#notebook-container');\n",
       "if (notebookContainer) {{\n",
       "    x.observe(notebookContainer, {childList: true});\n",
       "}}\n",
       "\n",
       "// Listen for the clearing of the current output cell\n",
       "var outputEl = gd.closest('.output');\n",
       "if (outputEl) {{\n",
       "    x.observe(outputEl, {childList: true});\n",
       "}}\n",
       "\n",
       "                        })                };                });            </script>        </div>"
      ]
     },
     "metadata": {},
     "output_type": "display_data"
    }
   ],
   "source": [
    "import plotly.graph_objects as go\n",
    "\n",
    "import pandas as pd\n",
    "import random\n",
    "import numpy as np\n",
    "def player_trend(player,graphtype='d', role = True):\n",
    "\n",
    "    df = pd.read_csv('lebron.csv')\n",
    "    \n",
    "    \n",
    "    old =df[df.year<2014].reset_index(drop=True)\n",
    "    new= df[df.year>2013].reset_index(drop=True)\n",
    "    old['Defensive Role'] = old['Pos']\n",
    "\n",
    "    df = pd.concat([old,new]).reset_index(drop=True)\n",
    "\n",
    "    # Create the scatter plot\n",
    "    fig = go.Figure()\n",
    "    \n",
    "    df['year'] =df['year'].astype(int)\n",
    "    \n",
    "    pdf = df[df.Player.str.lower().str.contains(player.lower())].reset_index(drop=True)\n",
    "\n",
    "    start_year = pdf['year'].min()\n",
    " \n",
    "    end_year=pdf['year'].max()\n",
    "    if graphtype =='d':\n",
    "        unit = 'D-LEBRON'\n",
    "        prole = 'Defensive Role'\n",
    "        \n",
    "    else:\n",
    "        unit='O-LEBRON'\n",
    "        prole = 'Offensive Archetype'\n",
    "    \n",
    "    pos = prole\n",
    "    pos_type = prole\n",
    "\n",
    "        \n",
    "    pdf['pos_year']= pdf[pos]+pdf['year'].astype(str)\n",
    "    to_comp =pdf['pos_year'].tolist()\n",
    "    \n",
    "\n",
    "    df['pos_year'] =  df[pos]+df['year'].astype(str)\n",
    "\n",
    "\n",
    "    df =df[df.pos_year.isin(to_comp)]\n",
    "\n",
    "    # Add scatter points and lines connecting the points\n",
    "    \n",
    "    \n",
    "    fig.add_trace(go.Scatter(\n",
    "        x=df['year'],\n",
    "        y=df[unit],\n",
    "        mode='markers',\n",
    "        name='Other Players',\n",
    "        line=dict(shape='linear'),\n",
    "        marker_color = '#3e8989',\n",
    "        marker_size=10,\n",
    "        \n",
    "    ))\n",
    "    fig.add_trace(go.Scatter(\n",
    "        x=pdf['year'],\n",
    "        y=pdf[unit],\n",
    "        mode='lines+markers+text',\n",
    "         textposition = 'top center',\n",
    "        text =pdf[pos],\n",
    "        textfont =dict(color='white',family='Malgun Gothic',size=20),\n",
    "        name=player.title(),\n",
    "        line=dict(shape='linear'),\n",
    "        marker_color='#ffdb58',\n",
    "        marker_size=20,\n",
    "    ))\n",
    "    \n",
    "    # Customize layout\n",
    "    fig.update_layout(\n",
    "        width=1800,\n",
    "        height=1200,\n",
    "        title=player.title() + '<br>'+unit+' vs '+pos_type,\n",
    "        paper_bgcolor='#0d0106',\n",
    "        plot_bgcolor='#0d0106',\n",
    "                      \n",
    "                   \n",
    "                   \n",
    "        title_font = dict(color='white', size=50,family=\"Malgun Gothic\",) ,\n",
    "        title_x=.5,\n",
    "        xaxis_title='Year',\n",
    "        yaxis_title=unit,\n",
    "        showlegend=True,\n",
    "         legend={'traceorder':'reversed','font':dict(color='#FFFFFF', size=22,family=\"Malgun Gothic\") },\n",
    "    )\n",
    "    \n",
    "# Show the plot\n",
    "    fig.update_yaxes(\n",
    "        title_font = dict(color='white', size=50,family=\"Malgun Gothic\",) ,\n",
    "    \n",
    "    tickfont=dict(color='#e5e5e5', size=25,family=\"Malgun Gothic\",) ,\n",
    "        showgrid=False,zeroline=False\n",
    "    )\n",
    "    fig.update_xaxes(\n",
    "        showgrid=False,\n",
    "        title_font = dict(color='white', size=50,family=\"Malgun Gothic\",) ,\n",
    "        tickvals=[i for i in range(start_year,end_year+1)],\n",
    "    \n",
    "    tickfont=dict(color='#e5e5e5', size=25,family=\"Malgun Gothic\",) \n",
    "    )\n",
    "    return fig\n",
    "\n",
    "fig = player_trend('nic claxton',graphtype='d',role=True)\n",
    "fig.show()"
   ]
  },
  {
   "cell_type": "code",
   "execution_count": 59,
   "id": "e4167d9b-d61f-4b3b-b18f-0a21053f279c",
   "metadata": {},
   "outputs": [
    {
     "data": {
      "text/html": [
       "<div>\n",
       "<style scoped>\n",
       "    .dataframe tbody tr th:only-of-type {\n",
       "        vertical-align: middle;\n",
       "    }\n",
       "\n",
       "    .dataframe tbody tr th {\n",
       "        vertical-align: top;\n",
       "    }\n",
       "\n",
       "    .dataframe thead th {\n",
       "        text-align: right;\n",
       "    }\n",
       "</style>\n",
       "<table border=\"1\" class=\"dataframe\">\n",
       "  <thead>\n",
       "    <tr style=\"text-align: right;\">\n",
       "      <th></th>\n",
       "      <th>bref_id</th>\n",
       "      <th>Player</th>\n",
       "      <th>Season</th>\n",
       "      <th>team</th>\n",
       "      <th>Offensive Archetype</th>\n",
       "      <th>Minutes</th>\n",
       "      <th>Games</th>\n",
       "      <th>Pos</th>\n",
       "      <th>Age</th>\n",
       "      <th>LEBRON</th>\n",
       "      <th>O-LEBRON</th>\n",
       "      <th>D-LEBRON</th>\n",
       "      <th>WAR</th>\n",
       "      <th>Value Added</th>\n",
       "      <th>NBA ID</th>\n",
       "      <th>boxLEBRON</th>\n",
       "      <th>boxOLEBRON</th>\n",
       "      <th>boxDLEBRON</th>\n",
       "      <th>year</th>\n",
       "      <th>Defensive Role</th>\n",
       "    </tr>\n",
       "  </thead>\n",
       "  <tbody>\n",
       "    <tr>\n",
       "      <th>404</th>\n",
       "      <td>holidjr01</td>\n",
       "      <td>jrue holiday</td>\n",
       "      <td>2009-10</td>\n",
       "      <td>PHI</td>\n",
       "      <td>Shot Creator</td>\n",
       "      <td>1767.0</td>\n",
       "      <td>73.0</td>\n",
       "      <td>PG</td>\n",
       "      <td>19.0</td>\n",
       "      <td>-0.64</td>\n",
       "      <td>-0.16</td>\n",
       "      <td>-0.48</td>\n",
       "      <td>2.0</td>\n",
       "      <td>3732278.0</td>\n",
       "      <td>201950.0</td>\n",
       "      <td>-1.47</td>\n",
       "      <td>-0.79</td>\n",
       "      <td>-0.68</td>\n",
       "      <td>2010.0</td>\n",
       "      <td>NaN</td>\n",
       "    </tr>\n",
       "    <tr>\n",
       "      <th>804</th>\n",
       "      <td>holidjr01</td>\n",
       "      <td>jrue holiday</td>\n",
       "      <td>2010-11</td>\n",
       "      <td>PHI</td>\n",
       "      <td>Shot Creator</td>\n",
       "      <td>2901.0</td>\n",
       "      <td>82.0</td>\n",
       "      <td>PG</td>\n",
       "      <td>20.0</td>\n",
       "      <td>1.16</td>\n",
       "      <td>1.06</td>\n",
       "      <td>0.10</td>\n",
       "      <td>6.8</td>\n",
       "      <td>11009637.0</td>\n",
       "      <td>201950.0</td>\n",
       "      <td>0.76</td>\n",
       "      <td>0.20</td>\n",
       "      <td>0.56</td>\n",
       "      <td>2011.0</td>\n",
       "      <td>NaN</td>\n",
       "    </tr>\n",
       "    <tr>\n",
       "      <th>1217</th>\n",
       "      <td>holidjr01</td>\n",
       "      <td>jrue holiday</td>\n",
       "      <td>2011-12</td>\n",
       "      <td>PHI</td>\n",
       "      <td>Shot Creator</td>\n",
       "      <td>2196.0</td>\n",
       "      <td>65.0</td>\n",
       "      <td>PG</td>\n",
       "      <td>21.0</td>\n",
       "      <td>0.36</td>\n",
       "      <td>-0.49</td>\n",
       "      <td>0.84</td>\n",
       "      <td>3.9</td>\n",
       "      <td>6751269.0</td>\n",
       "      <td>201950.0</td>\n",
       "      <td>0.75</td>\n",
       "      <td>-0.01</td>\n",
       "      <td>0.77</td>\n",
       "      <td>2012.0</td>\n",
       "      <td>NaN</td>\n",
       "    </tr>\n",
       "    <tr>\n",
       "      <th>1644</th>\n",
       "      <td>holidjr01</td>\n",
       "      <td>jrue holiday</td>\n",
       "      <td>2012-13</td>\n",
       "      <td>PHI</td>\n",
       "      <td>Shot Creator</td>\n",
       "      <td>2926.0</td>\n",
       "      <td>78.0</td>\n",
       "      <td>PG</td>\n",
       "      <td>22.0</td>\n",
       "      <td>-0.43</td>\n",
       "      <td>0.08</td>\n",
       "      <td>-0.51</td>\n",
       "      <td>3.6</td>\n",
       "      <td>6304064.0</td>\n",
       "      <td>201950.0</td>\n",
       "      <td>-0.30</td>\n",
       "      <td>0.27</td>\n",
       "      <td>-0.57</td>\n",
       "      <td>2013.0</td>\n",
       "      <td>NaN</td>\n",
       "    </tr>\n",
       "    <tr>\n",
       "      <th>1835</th>\n",
       "      <td>holidju01</td>\n",
       "      <td>justin holiday</td>\n",
       "      <td>2012-13</td>\n",
       "      <td>PHI</td>\n",
       "      <td>Off Screen Shooter</td>\n",
       "      <td>142.0</td>\n",
       "      <td>9.0</td>\n",
       "      <td>SG</td>\n",
       "      <td>23.0</td>\n",
       "      <td>-0.35</td>\n",
       "      <td>-0.28</td>\n",
       "      <td>-0.08</td>\n",
       "      <td>0.2</td>\n",
       "      <td>1130006.0</td>\n",
       "      <td>203200.0</td>\n",
       "      <td>-0.16</td>\n",
       "      <td>-0.21</td>\n",
       "      <td>0.05</td>\n",
       "      <td>2013.0</td>\n",
       "      <td>NaN</td>\n",
       "    </tr>\n",
       "    <tr>\n",
       "      <th>2235</th>\n",
       "      <td>holidjr01</td>\n",
       "      <td>ue holiday</td>\n",
       "      <td>2013-14</td>\n",
       "      <td>NOP</td>\n",
       "      <td>Slasher</td>\n",
       "      <td>1143.0</td>\n",
       "      <td>34.0</td>\n",
       "      <td>PG</td>\n",
       "      <td>23.0</td>\n",
       "      <td>1.06</td>\n",
       "      <td>1.01</td>\n",
       "      <td>0.05</td>\n",
       "      <td>2.6</td>\n",
       "      <td>4814587.0</td>\n",
       "      <td>201950.0</td>\n",
       "      <td>0.13</td>\n",
       "      <td>0.70</td>\n",
       "      <td>-0.57</td>\n",
       "      <td>2014.0</td>\n",
       "      <td>Point of Attack</td>\n",
       "    </tr>\n",
       "    <tr>\n",
       "      <th>2360</th>\n",
       "      <td>holidju01</td>\n",
       "      <td>justin holiday</td>\n",
       "      <td>2014-15</td>\n",
       "      <td>GSW</td>\n",
       "      <td>Off Screen Shooter</td>\n",
       "      <td>657.0</td>\n",
       "      <td>59.0</td>\n",
       "      <td>SG</td>\n",
       "      <td>25.0</td>\n",
       "      <td>-1.17</td>\n",
       "      <td>-0.87</td>\n",
       "      <td>-0.30</td>\n",
       "      <td>0.5</td>\n",
       "      <td>1697893.0</td>\n",
       "      <td>203200.0</td>\n",
       "      <td>-1.13</td>\n",
       "      <td>-0.70</td>\n",
       "      <td>-0.43</td>\n",
       "      <td>2015.0</td>\n",
       "      <td>Wing Stopper</td>\n",
       "    </tr>\n",
       "    <tr>\n",
       "      <th>2698</th>\n",
       "      <td>holidjr01</td>\n",
       "      <td>ue holiday</td>\n",
       "      <td>2014-15</td>\n",
       "      <td>NOP</td>\n",
       "      <td>Slasher</td>\n",
       "      <td>1303.0</td>\n",
       "      <td>40.0</td>\n",
       "      <td>PG</td>\n",
       "      <td>24.0</td>\n",
       "      <td>1.94</td>\n",
       "      <td>1.78</td>\n",
       "      <td>0.16</td>\n",
       "      <td>3.8</td>\n",
       "      <td>7032531.0</td>\n",
       "      <td>201950.0</td>\n",
       "      <td>1.04</td>\n",
       "      <td>1.31</td>\n",
       "      <td>-0.27</td>\n",
       "      <td>2015.0</td>\n",
       "      <td>Wing Stopper</td>\n",
       "    </tr>\n",
       "    <tr>\n",
       "      <th>2869</th>\n",
       "      <td>holidju01</td>\n",
       "      <td>justin holiday</td>\n",
       "      <td>2015-16</td>\n",
       "      <td>TOT</td>\n",
       "      <td>Movement Shooter</td>\n",
       "      <td>773.0</td>\n",
       "      <td>53.0</td>\n",
       "      <td>SG</td>\n",
       "      <td>26.0</td>\n",
       "      <td>-1.35</td>\n",
       "      <td>-1.30</td>\n",
       "      <td>-0.04</td>\n",
       "      <td>0.5</td>\n",
       "      <td>1805283.0</td>\n",
       "      <td>203200.0</td>\n",
       "      <td>-1.52</td>\n",
       "      <td>-1.30</td>\n",
       "      <td>-0.22</td>\n",
       "      <td>2016.0</td>\n",
       "      <td>Wing Stopper</td>\n",
       "    </tr>\n",
       "    <tr>\n",
       "      <th>3268</th>\n",
       "      <td>holidjr01</td>\n",
       "      <td>ue holiday</td>\n",
       "      <td>2015-16</td>\n",
       "      <td>NOP</td>\n",
       "      <td>Slasher</td>\n",
       "      <td>1831.0</td>\n",
       "      <td>65.0</td>\n",
       "      <td>PG</td>\n",
       "      <td>25.0</td>\n",
       "      <td>1.64</td>\n",
       "      <td>2.07</td>\n",
       "      <td>-0.42</td>\n",
       "      <td>4.9</td>\n",
       "      <td>9789762.0</td>\n",
       "      <td>201950.0</td>\n",
       "      <td>0.54</td>\n",
       "      <td>1.52</td>\n",
       "      <td>-0.98</td>\n",
       "      <td>2016.0</td>\n",
       "      <td>Wing Stopper</td>\n",
       "    </tr>\n",
       "    <tr>\n",
       "      <th>3364</th>\n",
       "      <td>holidju01</td>\n",
       "      <td>justin holiday</td>\n",
       "      <td>2016-17</td>\n",
       "      <td>NYK</td>\n",
       "      <td>Movement Shooter</td>\n",
       "      <td>1639.0</td>\n",
       "      <td>82.0</td>\n",
       "      <td>SG</td>\n",
       "      <td>27.0</td>\n",
       "      <td>-0.25</td>\n",
       "      <td>-0.29</td>\n",
       "      <td>0.05</td>\n",
       "      <td>2.3</td>\n",
       "      <td>6462082.0</td>\n",
       "      <td>203200.0</td>\n",
       "      <td>-1.10</td>\n",
       "      <td>-0.50</td>\n",
       "      <td>-0.60</td>\n",
       "      <td>2017.0</td>\n",
       "      <td>Helper</td>\n",
       "    </tr>\n",
       "    <tr>\n",
       "      <th>3728</th>\n",
       "      <td>holidjr01</td>\n",
       "      <td>ue holiday</td>\n",
       "      <td>2016-17</td>\n",
       "      <td>NOP</td>\n",
       "      <td>Primary Ball Handler</td>\n",
       "      <td>2190.0</td>\n",
       "      <td>67.0</td>\n",
       "      <td>PG</td>\n",
       "      <td>26.0</td>\n",
       "      <td>0.88</td>\n",
       "      <td>0.39</td>\n",
       "      <td>0.49</td>\n",
       "      <td>4.7</td>\n",
       "      <td>12333603.0</td>\n",
       "      <td>201950.0</td>\n",
       "      <td>0.52</td>\n",
       "      <td>0.39</td>\n",
       "      <td>0.13</td>\n",
       "      <td>2017.0</td>\n",
       "      <td>Wing Stopper</td>\n",
       "    </tr>\n",
       "    <tr>\n",
       "      <th>4093</th>\n",
       "      <td>holidjr01</td>\n",
       "      <td>ue holiday</td>\n",
       "      <td>2017-18</td>\n",
       "      <td>NOP</td>\n",
       "      <td>Slasher</td>\n",
       "      <td>2927.0</td>\n",
       "      <td>81.0</td>\n",
       "      <td>SG</td>\n",
       "      <td>27.0</td>\n",
       "      <td>2.29</td>\n",
       "      <td>1.05</td>\n",
       "      <td>1.24</td>\n",
       "      <td>9.0</td>\n",
       "      <td>24488726.0</td>\n",
       "      <td>201950.0</td>\n",
       "      <td>1.00</td>\n",
       "      <td>0.95</td>\n",
       "      <td>0.05</td>\n",
       "      <td>2018.0</td>\n",
       "      <td>Point of Attack</td>\n",
       "    </tr>\n",
       "    <tr>\n",
       "      <th>4195</th>\n",
       "      <td>holidju01</td>\n",
       "      <td>justin holiday</td>\n",
       "      <td>2017-18</td>\n",
       "      <td>CHI</td>\n",
       "      <td>Movement Shooter</td>\n",
       "      <td>2265.0</td>\n",
       "      <td>72.0</td>\n",
       "      <td>SG</td>\n",
       "      <td>28.0</td>\n",
       "      <td>0.49</td>\n",
       "      <td>-0.69</td>\n",
       "      <td>1.18</td>\n",
       "      <td>4.2</td>\n",
       "      <td>12310409.0</td>\n",
       "      <td>203200.0</td>\n",
       "      <td>-1.14</td>\n",
       "      <td>-1.11</td>\n",
       "      <td>-0.03</td>\n",
       "      <td>2018.0</td>\n",
       "      <td>Wing Stopper</td>\n",
       "    </tr>\n",
       "    <tr>\n",
       "      <th>4551</th>\n",
       "      <td>holidaa01</td>\n",
       "      <td>aaron holiday</td>\n",
       "      <td>2018-19</td>\n",
       "      <td>IND</td>\n",
       "      <td>Secondary Ball Handler</td>\n",
       "      <td>646.0</td>\n",
       "      <td>50.0</td>\n",
       "      <td>PG</td>\n",
       "      <td>22.0</td>\n",
       "      <td>-1.11</td>\n",
       "      <td>-0.52</td>\n",
       "      <td>-0.59</td>\n",
       "      <td>0.5</td>\n",
       "      <td>2868061.0</td>\n",
       "      <td>1628988.0</td>\n",
       "      <td>-1.26</td>\n",
       "      <td>-0.61</td>\n",
       "      <td>-0.64</td>\n",
       "      <td>2019.0</td>\n",
       "      <td>Point of Attack</td>\n",
       "    </tr>\n",
       "    <tr>\n",
       "      <th>4585</th>\n",
       "      <td>holidjr01</td>\n",
       "      <td>ue holiday</td>\n",
       "      <td>2018-19</td>\n",
       "      <td>NOP</td>\n",
       "      <td>Primary Ball Handler</td>\n",
       "      <td>2402.0</td>\n",
       "      <td>67.0</td>\n",
       "      <td>SG</td>\n",
       "      <td>28.0</td>\n",
       "      <td>3.87</td>\n",
       "      <td>3.15</td>\n",
       "      <td>0.72</td>\n",
       "      <td>9.8</td>\n",
       "      <td>27148601.0</td>\n",
       "      <td>201950.0</td>\n",
       "      <td>1.41</td>\n",
       "      <td>1.89</td>\n",
       "      <td>-0.47</td>\n",
       "      <td>2019.0</td>\n",
       "      <td>Wing Stopper</td>\n",
       "    </tr>\n",
       "    <tr>\n",
       "      <th>4833</th>\n",
       "      <td>holidju01</td>\n",
       "      <td>justin holiday</td>\n",
       "      <td>2018-19</td>\n",
       "      <td>TOT</td>\n",
       "      <td>Movement Shooter</td>\n",
       "      <td>2607.0</td>\n",
       "      <td>82.0</td>\n",
       "      <td>SG</td>\n",
       "      <td>29.0</td>\n",
       "      <td>-2.09</td>\n",
       "      <td>-2.24</td>\n",
       "      <td>0.15</td>\n",
       "      <td>0.4</td>\n",
       "      <td>2610921.0</td>\n",
       "      <td>203200.0</td>\n",
       "      <td>-1.24</td>\n",
       "      <td>-1.47</td>\n",
       "      <td>0.23</td>\n",
       "      <td>2019.0</td>\n",
       "      <td>Point of Attack</td>\n",
       "    </tr>\n",
       "    <tr>\n",
       "      <th>4847</th>\n",
       "      <td>holidaa01</td>\n",
       "      <td>aaron holiday</td>\n",
       "      <td>2019-20</td>\n",
       "      <td>IND</td>\n",
       "      <td>Primary Ball Handler</td>\n",
       "      <td>1617.0</td>\n",
       "      <td>66.0</td>\n",
       "      <td>PG</td>\n",
       "      <td>23.0</td>\n",
       "      <td>-1.03</td>\n",
       "      <td>-0.47</td>\n",
       "      <td>-0.56</td>\n",
       "      <td>1.4</td>\n",
       "      <td>5551849.0</td>\n",
       "      <td>1628988.0</td>\n",
       "      <td>-1.19</td>\n",
       "      <td>-0.81</td>\n",
       "      <td>-0.38</td>\n",
       "      <td>2020.0</td>\n",
       "      <td>Point of Attack</td>\n",
       "    </tr>\n",
       "    <tr>\n",
       "      <th>5132</th>\n",
       "      <td>holidju01</td>\n",
       "      <td>justin holiday</td>\n",
       "      <td>2019-20</td>\n",
       "      <td>IND</td>\n",
       "      <td>Movement Shooter</td>\n",
       "      <td>1826.0</td>\n",
       "      <td>73.0</td>\n",
       "      <td>SF</td>\n",
       "      <td>30.0</td>\n",
       "      <td>-0.19</td>\n",
       "      <td>-0.23</td>\n",
       "      <td>0.04</td>\n",
       "      <td>2.6</td>\n",
       "      <td>8894191.0</td>\n",
       "      <td>203200.0</td>\n",
       "      <td>-0.22</td>\n",
       "      <td>-0.95</td>\n",
       "      <td>0.74</td>\n",
       "      <td>2020.0</td>\n",
       "      <td>Chaser</td>\n",
       "    </tr>\n",
       "    <tr>\n",
       "      <th>5212</th>\n",
       "      <td>holidjr01</td>\n",
       "      <td>ue holiday</td>\n",
       "      <td>2019-20</td>\n",
       "      <td>NOP</td>\n",
       "      <td>Primary Ball Handler</td>\n",
       "      <td>2117.0</td>\n",
       "      <td>61.0</td>\n",
       "      <td>SG</td>\n",
       "      <td>29.0</td>\n",
       "      <td>1.73</td>\n",
       "      <td>1.07</td>\n",
       "      <td>0.66</td>\n",
       "      <td>5.7</td>\n",
       "      <td>17613605.0</td>\n",
       "      <td>201950.0</td>\n",
       "      <td>0.72</td>\n",
       "      <td>0.98</td>\n",
       "      <td>-0.26</td>\n",
       "      <td>2020.0</td>\n",
       "      <td>Point of Attack</td>\n",
       "    </tr>\n",
       "    <tr>\n",
       "      <th>5436</th>\n",
       "      <td>holidaa01</td>\n",
       "      <td>aaron holiday</td>\n",
       "      <td>2020-21</td>\n",
       "      <td>IND</td>\n",
       "      <td>Stationary Shooter</td>\n",
       "      <td>1176.0</td>\n",
       "      <td>66.0</td>\n",
       "      <td>PG</td>\n",
       "      <td>24.0</td>\n",
       "      <td>-1.95</td>\n",
       "      <td>-1.10</td>\n",
       "      <td>-0.85</td>\n",
       "      <td>0.3</td>\n",
       "      <td>2546423.0</td>\n",
       "      <td>1628988.0</td>\n",
       "      <td>-2.67</td>\n",
       "      <td>-1.46</td>\n",
       "      <td>-1.21</td>\n",
       "      <td>2021.0</td>\n",
       "      <td>Point of Attack</td>\n",
       "    </tr>\n",
       "    <tr>\n",
       "      <th>5632</th>\n",
       "      <td>holidju01</td>\n",
       "      <td>justin holiday</td>\n",
       "      <td>2020-21</td>\n",
       "      <td>IND</td>\n",
       "      <td>Movement Shooter</td>\n",
       "      <td>2183.0</td>\n",
       "      <td>72.0</td>\n",
       "      <td>SG</td>\n",
       "      <td>31.0</td>\n",
       "      <td>-1.13</td>\n",
       "      <td>-1.04</td>\n",
       "      <td>-0.09</td>\n",
       "      <td>1.8</td>\n",
       "      <td>6585043.0</td>\n",
       "      <td>203200.0</td>\n",
       "      <td>-1.22</td>\n",
       "      <td>-0.81</td>\n",
       "      <td>-0.41</td>\n",
       "      <td>2021.0</td>\n",
       "      <td>Point of Attack</td>\n",
       "    </tr>\n",
       "    <tr>\n",
       "      <th>5725</th>\n",
       "      <td>holidjr01</td>\n",
       "      <td>ue holiday</td>\n",
       "      <td>2020-21</td>\n",
       "      <td>MIL</td>\n",
       "      <td>Shot Creator</td>\n",
       "      <td>1907.0</td>\n",
       "      <td>59.0</td>\n",
       "      <td>PG</td>\n",
       "      <td>30.0</td>\n",
       "      <td>3.18</td>\n",
       "      <td>1.78</td>\n",
       "      <td>1.40</td>\n",
       "      <td>6.8</td>\n",
       "      <td>20899414.0</td>\n",
       "      <td>201950.0</td>\n",
       "      <td>2.54</td>\n",
       "      <td>2.12</td>\n",
       "      <td>0.42</td>\n",
       "      <td>2021.0</td>\n",
       "      <td>Point of Attack</td>\n",
       "    </tr>\n",
       "    <tr>\n",
       "      <th>6219</th>\n",
       "      <td>holidju01</td>\n",
       "      <td>justin holiday</td>\n",
       "      <td>2021-22</td>\n",
       "      <td>IND/SAC</td>\n",
       "      <td>Movement Shooter</td>\n",
       "      <td>2057.0</td>\n",
       "      <td>74.0</td>\n",
       "      <td>SF-SG</td>\n",
       "      <td>33.0</td>\n",
       "      <td>-1.08</td>\n",
       "      <td>-0.94</td>\n",
       "      <td>-0.14</td>\n",
       "      <td>1.7</td>\n",
       "      <td>6651104.0</td>\n",
       "      <td>203200.0</td>\n",
       "      <td>-1.37</td>\n",
       "      <td>-0.60</td>\n",
       "      <td>-0.77</td>\n",
       "      <td>2022.0</td>\n",
       "      <td>Chaser</td>\n",
       "    </tr>\n",
       "    <tr>\n",
       "      <th>6278</th>\n",
       "      <td>holidjr01</td>\n",
       "      <td>ue holiday</td>\n",
       "      <td>2021-22</td>\n",
       "      <td>MIL</td>\n",
       "      <td>Shot Creator</td>\n",
       "      <td>2208.0</td>\n",
       "      <td>67.0</td>\n",
       "      <td>PG</td>\n",
       "      <td>31.0</td>\n",
       "      <td>3.32</td>\n",
       "      <td>2.30</td>\n",
       "      <td>1.03</td>\n",
       "      <td>8.1</td>\n",
       "      <td>25269602.0</td>\n",
       "      <td>201950.0</td>\n",
       "      <td>2.00</td>\n",
       "      <td>1.83</td>\n",
       "      <td>0.17</td>\n",
       "      <td>2022.0</td>\n",
       "      <td>Point of Attack</td>\n",
       "    </tr>\n",
       "    <tr>\n",
       "      <th>6415</th>\n",
       "      <td>holidaa01</td>\n",
       "      <td>aaron holiday</td>\n",
       "      <td>2021-22</td>\n",
       "      <td>WAS/PHO</td>\n",
       "      <td>Slasher</td>\n",
       "      <td>1021.0</td>\n",
       "      <td>63.0</td>\n",
       "      <td>PG</td>\n",
       "      <td>25.0</td>\n",
       "      <td>-1.00</td>\n",
       "      <td>-1.01</td>\n",
       "      <td>0.01</td>\n",
       "      <td>0.9</td>\n",
       "      <td>4295468.0</td>\n",
       "      <td>1628988.0</td>\n",
       "      <td>-1.41</td>\n",
       "      <td>-1.00</td>\n",
       "      <td>-0.41</td>\n",
       "      <td>2022.0</td>\n",
       "      <td>Point of Attack</td>\n",
       "    </tr>\n",
       "    <tr>\n",
       "      <th>6588</th>\n",
       "      <td>holidaa01</td>\n",
       "      <td>aaron holiday</td>\n",
       "      <td>2022-23</td>\n",
       "      <td>ATL</td>\n",
       "      <td>Secondary Ball Handler</td>\n",
       "      <td>845.0</td>\n",
       "      <td>63.0</td>\n",
       "      <td>PG</td>\n",
       "      <td>26.0</td>\n",
       "      <td>-0.91</td>\n",
       "      <td>-1.32</td>\n",
       "      <td>0.42</td>\n",
       "      <td>0.8</td>\n",
       "      <td>4317518.0</td>\n",
       "      <td>1628988.0</td>\n",
       "      <td>-2.31</td>\n",
       "      <td>-2.02</td>\n",
       "      <td>-0.29</td>\n",
       "      <td>2023.0</td>\n",
       "      <td>Point of Attack</td>\n",
       "    </tr>\n",
       "    <tr>\n",
       "      <th>6670</th>\n",
       "      <td>holidju01</td>\n",
       "      <td>justin holiday</td>\n",
       "      <td>2022-23</td>\n",
       "      <td>ATL/DAL</td>\n",
       "      <td>Movement Shooter</td>\n",
       "      <td>706.0</td>\n",
       "      <td>46.0</td>\n",
       "      <td>SG</td>\n",
       "      <td>34.0</td>\n",
       "      <td>-3.72</td>\n",
       "      <td>-2.65</td>\n",
       "      <td>-1.07</td>\n",
       "      <td>-0.6</td>\n",
       "      <td>-68899.0</td>\n",
       "      <td>203200.0</td>\n",
       "      <td>-2.02</td>\n",
       "      <td>-1.64</td>\n",
       "      <td>-0.38</td>\n",
       "      <td>2023.0</td>\n",
       "      <td>Chaser</td>\n",
       "    </tr>\n",
       "    <tr>\n",
       "      <th>6845</th>\n",
       "      <td>holidjr01</td>\n",
       "      <td>ue holiday</td>\n",
       "      <td>2022-23</td>\n",
       "      <td>MIL</td>\n",
       "      <td>Primary Ball Handler</td>\n",
       "      <td>2183.0</td>\n",
       "      <td>67.0</td>\n",
       "      <td>PG</td>\n",
       "      <td>32.0</td>\n",
       "      <td>3.47</td>\n",
       "      <td>1.88</td>\n",
       "      <td>1.58</td>\n",
       "      <td>8.1</td>\n",
       "      <td>27668830.0</td>\n",
       "      <td>201950.0</td>\n",
       "      <td>2.13</td>\n",
       "      <td>1.87</td>\n",
       "      <td>0.27</td>\n",
       "      <td>2023.0</td>\n",
       "      <td>Point of Attack</td>\n",
       "    </tr>\n",
       "  </tbody>\n",
       "</table>\n",
       "</div>"
      ],
      "text/plain": [
       "        bref_id          Player   Season     team     Offensive Archetype  \\\n",
       "404   holidjr01    jrue holiday  2009-10      PHI            Shot Creator   \n",
       "804   holidjr01    jrue holiday  2010-11      PHI            Shot Creator   \n",
       "1217  holidjr01    jrue holiday  2011-12      PHI            Shot Creator   \n",
       "1644  holidjr01    jrue holiday  2012-13      PHI            Shot Creator   \n",
       "1835  holidju01  justin holiday  2012-13      PHI      Off Screen Shooter   \n",
       "2235  holidjr01      ue holiday  2013-14      NOP                 Slasher   \n",
       "2360  holidju01  justin holiday  2014-15      GSW      Off Screen Shooter   \n",
       "2698  holidjr01      ue holiday  2014-15      NOP                 Slasher   \n",
       "2869  holidju01  justin holiday  2015-16      TOT        Movement Shooter   \n",
       "3268  holidjr01      ue holiday  2015-16      NOP                 Slasher   \n",
       "3364  holidju01  justin holiday  2016-17      NYK        Movement Shooter   \n",
       "3728  holidjr01      ue holiday  2016-17      NOP    Primary Ball Handler   \n",
       "4093  holidjr01      ue holiday  2017-18      NOP                 Slasher   \n",
       "4195  holidju01  justin holiday  2017-18      CHI        Movement Shooter   \n",
       "4551  holidaa01   aaron holiday  2018-19      IND  Secondary Ball Handler   \n",
       "4585  holidjr01      ue holiday  2018-19      NOP    Primary Ball Handler   \n",
       "4833  holidju01  justin holiday  2018-19      TOT        Movement Shooter   \n",
       "4847  holidaa01   aaron holiday  2019-20      IND    Primary Ball Handler   \n",
       "5132  holidju01  justin holiday  2019-20      IND        Movement Shooter   \n",
       "5212  holidjr01      ue holiday  2019-20      NOP    Primary Ball Handler   \n",
       "5436  holidaa01   aaron holiday  2020-21      IND      Stationary Shooter   \n",
       "5632  holidju01  justin holiday  2020-21      IND        Movement Shooter   \n",
       "5725  holidjr01      ue holiday  2020-21      MIL            Shot Creator   \n",
       "6219  holidju01  justin holiday  2021-22  IND/SAC        Movement Shooter   \n",
       "6278  holidjr01      ue holiday  2021-22      MIL            Shot Creator   \n",
       "6415  holidaa01   aaron holiday  2021-22  WAS/PHO                 Slasher   \n",
       "6588  holidaa01   aaron holiday  2022-23      ATL  Secondary Ball Handler   \n",
       "6670  holidju01  justin holiday  2022-23  ATL/DAL        Movement Shooter   \n",
       "6845  holidjr01      ue holiday  2022-23      MIL    Primary Ball Handler   \n",
       "\n",
       "      Minutes  Games    Pos   Age  LEBRON  O-LEBRON  D-LEBRON  WAR  \\\n",
       "404    1767.0   73.0     PG  19.0   -0.64     -0.16     -0.48  2.0   \n",
       "804    2901.0   82.0     PG  20.0    1.16      1.06      0.10  6.8   \n",
       "1217   2196.0   65.0     PG  21.0    0.36     -0.49      0.84  3.9   \n",
       "1644   2926.0   78.0     PG  22.0   -0.43      0.08     -0.51  3.6   \n",
       "1835    142.0    9.0     SG  23.0   -0.35     -0.28     -0.08  0.2   \n",
       "2235   1143.0   34.0     PG  23.0    1.06      1.01      0.05  2.6   \n",
       "2360    657.0   59.0     SG  25.0   -1.17     -0.87     -0.30  0.5   \n",
       "2698   1303.0   40.0     PG  24.0    1.94      1.78      0.16  3.8   \n",
       "2869    773.0   53.0     SG  26.0   -1.35     -1.30     -0.04  0.5   \n",
       "3268   1831.0   65.0     PG  25.0    1.64      2.07     -0.42  4.9   \n",
       "3364   1639.0   82.0     SG  27.0   -0.25     -0.29      0.05  2.3   \n",
       "3728   2190.0   67.0     PG  26.0    0.88      0.39      0.49  4.7   \n",
       "4093   2927.0   81.0     SG  27.0    2.29      1.05      1.24  9.0   \n",
       "4195   2265.0   72.0     SG  28.0    0.49     -0.69      1.18  4.2   \n",
       "4551    646.0   50.0     PG  22.0   -1.11     -0.52     -0.59  0.5   \n",
       "4585   2402.0   67.0     SG  28.0    3.87      3.15      0.72  9.8   \n",
       "4833   2607.0   82.0     SG  29.0   -2.09     -2.24      0.15  0.4   \n",
       "4847   1617.0   66.0     PG  23.0   -1.03     -0.47     -0.56  1.4   \n",
       "5132   1826.0   73.0     SF  30.0   -0.19     -0.23      0.04  2.6   \n",
       "5212   2117.0   61.0     SG  29.0    1.73      1.07      0.66  5.7   \n",
       "5436   1176.0   66.0     PG  24.0   -1.95     -1.10     -0.85  0.3   \n",
       "5632   2183.0   72.0     SG  31.0   -1.13     -1.04     -0.09  1.8   \n",
       "5725   1907.0   59.0     PG  30.0    3.18      1.78      1.40  6.8   \n",
       "6219   2057.0   74.0  SF-SG  33.0   -1.08     -0.94     -0.14  1.7   \n",
       "6278   2208.0   67.0     PG  31.0    3.32      2.30      1.03  8.1   \n",
       "6415   1021.0   63.0     PG  25.0   -1.00     -1.01      0.01  0.9   \n",
       "6588    845.0   63.0     PG  26.0   -0.91     -1.32      0.42  0.8   \n",
       "6670    706.0   46.0     SG  34.0   -3.72     -2.65     -1.07 -0.6   \n",
       "6845   2183.0   67.0     PG  32.0    3.47      1.88      1.58  8.1   \n",
       "\n",
       "      Value Added     NBA ID  boxLEBRON  boxOLEBRON  boxDLEBRON    year  \\\n",
       "404     3732278.0   201950.0      -1.47       -0.79       -0.68  2010.0   \n",
       "804    11009637.0   201950.0       0.76        0.20        0.56  2011.0   \n",
       "1217    6751269.0   201950.0       0.75       -0.01        0.77  2012.0   \n",
       "1644    6304064.0   201950.0      -0.30        0.27       -0.57  2013.0   \n",
       "1835    1130006.0   203200.0      -0.16       -0.21        0.05  2013.0   \n",
       "2235    4814587.0   201950.0       0.13        0.70       -0.57  2014.0   \n",
       "2360    1697893.0   203200.0      -1.13       -0.70       -0.43  2015.0   \n",
       "2698    7032531.0   201950.0       1.04        1.31       -0.27  2015.0   \n",
       "2869    1805283.0   203200.0      -1.52       -1.30       -0.22  2016.0   \n",
       "3268    9789762.0   201950.0       0.54        1.52       -0.98  2016.0   \n",
       "3364    6462082.0   203200.0      -1.10       -0.50       -0.60  2017.0   \n",
       "3728   12333603.0   201950.0       0.52        0.39        0.13  2017.0   \n",
       "4093   24488726.0   201950.0       1.00        0.95        0.05  2018.0   \n",
       "4195   12310409.0   203200.0      -1.14       -1.11       -0.03  2018.0   \n",
       "4551    2868061.0  1628988.0      -1.26       -0.61       -0.64  2019.0   \n",
       "4585   27148601.0   201950.0       1.41        1.89       -0.47  2019.0   \n",
       "4833    2610921.0   203200.0      -1.24       -1.47        0.23  2019.0   \n",
       "4847    5551849.0  1628988.0      -1.19       -0.81       -0.38  2020.0   \n",
       "5132    8894191.0   203200.0      -0.22       -0.95        0.74  2020.0   \n",
       "5212   17613605.0   201950.0       0.72        0.98       -0.26  2020.0   \n",
       "5436    2546423.0  1628988.0      -2.67       -1.46       -1.21  2021.0   \n",
       "5632    6585043.0   203200.0      -1.22       -0.81       -0.41  2021.0   \n",
       "5725   20899414.0   201950.0       2.54        2.12        0.42  2021.0   \n",
       "6219    6651104.0   203200.0      -1.37       -0.60       -0.77  2022.0   \n",
       "6278   25269602.0   201950.0       2.00        1.83        0.17  2022.0   \n",
       "6415    4295468.0  1628988.0      -1.41       -1.00       -0.41  2022.0   \n",
       "6588    4317518.0  1628988.0      -2.31       -2.02       -0.29  2023.0   \n",
       "6670     -68899.0   203200.0      -2.02       -1.64       -0.38  2023.0   \n",
       "6845   27668830.0   201950.0       2.13        1.87        0.27  2023.0   \n",
       "\n",
       "       Defensive Role  \n",
       "404               NaN  \n",
       "804               NaN  \n",
       "1217              NaN  \n",
       "1644              NaN  \n",
       "1835              NaN  \n",
       "2235  Point of Attack  \n",
       "2360     Wing Stopper  \n",
       "2698     Wing Stopper  \n",
       "2869     Wing Stopper  \n",
       "3268     Wing Stopper  \n",
       "3364           Helper  \n",
       "3728     Wing Stopper  \n",
       "4093  Point of Attack  \n",
       "4195     Wing Stopper  \n",
       "4551  Point of Attack  \n",
       "4585     Wing Stopper  \n",
       "4833  Point of Attack  \n",
       "4847  Point of Attack  \n",
       "5132           Chaser  \n",
       "5212  Point of Attack  \n",
       "5436  Point of Attack  \n",
       "5632  Point of Attack  \n",
       "5725  Point of Attack  \n",
       "6219           Chaser  \n",
       "6278  Point of Attack  \n",
       "6415  Point of Attack  \n",
       "6588  Point of Attack  \n",
       "6670           Chaser  \n",
       "6845  Point of Attack  "
      ]
     },
     "execution_count": 59,
     "metadata": {},
     "output_type": "execute_result"
    }
   ],
   "source": [
    "df = pd.read_csv('lebron.csv')\n",
    "df[df.Player.str.contains('holiday')]"
   ]
  },
  {
   "cell_type": "code",
   "execution_count": 57,
   "id": "1133b64c-99f9-4dba-b64f-cb4422ec3690",
   "metadata": {},
   "outputs": [
    {
     "data": {
      "text/html": [
       "<div>\n",
       "<style scoped>\n",
       "    .dataframe tbody tr th:only-of-type {\n",
       "        vertical-align: middle;\n",
       "    }\n",
       "\n",
       "    .dataframe tbody tr th {\n",
       "        vertical-align: top;\n",
       "    }\n",
       "\n",
       "    .dataframe thead th {\n",
       "        text-align: right;\n",
       "    }\n",
       "</style>\n",
       "<table border=\"1\" class=\"dataframe\">\n",
       "  <thead>\n",
       "    <tr style=\"text-align: right;\">\n",
       "      <th></th>\n",
       "      <th>bref_id</th>\n",
       "      <th>O-LEBRON</th>\n",
       "      <th>name</th>\n",
       "    </tr>\n",
       "  </thead>\n",
       "  <tbody>\n",
       "    <tr>\n",
       "      <th>1069</th>\n",
       "      <td>mensana01</td>\n",
       "      <td>-4.287059</td>\n",
       "      <td>Nathan Mensah</td>\n",
       "    </tr>\n",
       "    <tr>\n",
       "      <th>667</th>\n",
       "      <td>hassetr01</td>\n",
       "      <td>-3.960000</td>\n",
       "      <td>trenton hassell</td>\n",
       "    </tr>\n",
       "    <tr>\n",
       "      <th>1487</th>\n",
       "      <td>stiemgr01</td>\n",
       "      <td>-3.525243</td>\n",
       "      <td>greg stiemsma</td>\n",
       "    </tr>\n",
       "    <tr>\n",
       "      <th>627</th>\n",
       "      <td>halljo01</td>\n",
       "      <td>-3.460000</td>\n",
       "      <td>josh hall</td>\n",
       "    </tr>\n",
       "    <tr>\n",
       "      <th>238</th>\n",
       "      <td>burtode02</td>\n",
       "      <td>-3.429900</td>\n",
       "      <td>deonte burton</td>\n",
       "    </tr>\n",
       "    <tr>\n",
       "      <th>...</th>\n",
       "      <td>...</td>\n",
       "      <td>...</td>\n",
       "      <td>...</td>\n",
       "    </tr>\n",
       "    <tr>\n",
       "      <th>956</th>\n",
       "      <td>lillada01</td>\n",
       "      <td>4.313302</td>\n",
       "      <td>Damian Lillard</td>\n",
       "    </tr>\n",
       "    <tr>\n",
       "      <th>359</th>\n",
       "      <td>curryst01</td>\n",
       "      <td>4.355079</td>\n",
       "      <td>Stephen Curry</td>\n",
       "    </tr>\n",
       "    <tr>\n",
       "      <th>415</th>\n",
       "      <td>doncilu01</td>\n",
       "      <td>4.523394</td>\n",
       "      <td>Luka Doncic</td>\n",
       "    </tr>\n",
       "    <tr>\n",
       "      <th>641</th>\n",
       "      <td>hardeja01</td>\n",
       "      <td>4.678236</td>\n",
       "      <td>James Harden</td>\n",
       "    </tr>\n",
       "    <tr>\n",
       "      <th>792</th>\n",
       "      <td>jamesle01</td>\n",
       "      <td>4.927470</td>\n",
       "      <td>LeBron James</td>\n",
       "    </tr>\n",
       "  </tbody>\n",
       "</table>\n",
       "<p>1756 rows × 3 columns</p>\n",
       "</div>"
      ],
      "text/plain": [
       "        bref_id  O-LEBRON             name\n",
       "1069  mensana01 -4.287059    Nathan Mensah\n",
       "667   hassetr01 -3.960000  trenton hassell\n",
       "1487  stiemgr01 -3.525243    greg stiemsma\n",
       "627    halljo01 -3.460000        josh hall\n",
       "238   burtode02 -3.429900    deonte burton\n",
       "...         ...       ...              ...\n",
       "956   lillada01  4.313302   Damian Lillard\n",
       "359   curryst01  4.355079    Stephen Curry\n",
       "415   doncilu01  4.523394      Luka Doncic\n",
       "641   hardeja01  4.678236     James Harden\n",
       "792   jamesle01  4.927470     LeBron James\n",
       "\n",
       "[1756 rows x 3 columns]"
      ]
     },
     "execution_count": 57,
     "metadata": {},
     "output_type": "execute_result"
    }
   ],
   "source": [
    "def weighted_average(dataframe, value, weight):\n",
    "    val = dataframe[value]\n",
    "    wt = dataframe[weight]\n",
    "    return (val * wt).sum() / wt.sum()\n",
    " \n",
    " \n",
    "\n",
    "\n",
    "name_dict = dict(zip(df['bref_id'],df['Player']))\n",
    "# Weighted average of value  grouped by item name\n",
    "career_average = df.groupby('bref_id').apply(weighted_average, \n",
    "                                     'O-LEBRON', 'Minutes').reset_index()\n",
    "career_average.columns = ['bref_id','O-LEBRON']\n",
    "\n",
    "career_average['name'] = career_average['bref_id'].map(name_dict)\n",
    "career_average.sort_values(by='O-LEBRON')"
   ]
  },
  {
   "cell_type": "code",
   "execution_count": 60,
   "id": "73957e13-eceb-45c3-882f-48e7295fa6f3",
   "metadata": {},
   "outputs": [
    {
     "data": {
      "text/html": [
       "<div>\n",
       "<style scoped>\n",
       "    .dataframe tbody tr th:only-of-type {\n",
       "        vertical-align: middle;\n",
       "    }\n",
       "\n",
       "    .dataframe tbody tr th {\n",
       "        vertical-align: top;\n",
       "    }\n",
       "\n",
       "    .dataframe thead th {\n",
       "        text-align: right;\n",
       "    }\n",
       "</style>\n",
       "<table border=\"1\" class=\"dataframe\">\n",
       "  <thead>\n",
       "    <tr style=\"text-align: right;\">\n",
       "      <th></th>\n",
       "      <th>bref_id</th>\n",
       "      <th>Player</th>\n",
       "      <th>Season</th>\n",
       "      <th>team</th>\n",
       "      <th>Offensive Archetype</th>\n",
       "      <th>Minutes</th>\n",
       "      <th>Games</th>\n",
       "      <th>Pos</th>\n",
       "      <th>Age</th>\n",
       "      <th>LEBRON</th>\n",
       "      <th>O-LEBRON</th>\n",
       "      <th>D-LEBRON</th>\n",
       "      <th>WAR</th>\n",
       "      <th>Value Added</th>\n",
       "      <th>NBA ID</th>\n",
       "      <th>boxLEBRON</th>\n",
       "      <th>boxOLEBRON</th>\n",
       "      <th>boxDLEBRON</th>\n",
       "      <th>year</th>\n",
       "      <th>Defensive Role</th>\n",
       "    </tr>\n",
       "  </thead>\n",
       "  <tbody>\n",
       "    <tr>\n",
       "      <th>0</th>\n",
       "      <td>hillgr01</td>\n",
       "      <td>grant hill</td>\n",
       "      <td>2009-10</td>\n",
       "      <td>PHO</td>\n",
       "      <td>Athletic Finisher</td>\n",
       "      <td>2430.000000</td>\n",
       "      <td>81.0</td>\n",
       "      <td>SF</td>\n",
       "      <td>37.0</td>\n",
       "      <td>-0.460000</td>\n",
       "      <td>-0.820000</td>\n",
       "      <td>0.360000</td>\n",
       "      <td>3.000000</td>\n",
       "      <td>5268027.0</td>\n",
       "      <td>255.0</td>\n",
       "      <td>0.660000</td>\n",
       "      <td>0.520000</td>\n",
       "      <td>0.140000</td>\n",
       "      <td>2010.0</td>\n",
       "      <td>NaN</td>\n",
       "    </tr>\n",
       "    <tr>\n",
       "      <th>1</th>\n",
       "      <td>hunteli01</td>\n",
       "      <td>lindsey hunter</td>\n",
       "      <td>2009-10</td>\n",
       "      <td>CHI</td>\n",
       "      <td>Secondary Ball Handler</td>\n",
       "      <td>122.000000</td>\n",
       "      <td>13.0</td>\n",
       "      <td>PG</td>\n",
       "      <td>39.0</td>\n",
       "      <td>-1.000000</td>\n",
       "      <td>-0.240000</td>\n",
       "      <td>-0.760000</td>\n",
       "      <td>0.100000</td>\n",
       "      <td>981535.0</td>\n",
       "      <td>283.0</td>\n",
       "      <td>-0.690000</td>\n",
       "      <td>-0.350000</td>\n",
       "      <td>-0.340000</td>\n",
       "      <td>2010.0</td>\n",
       "      <td>NaN</td>\n",
       "    </tr>\n",
       "    <tr>\n",
       "      <th>2</th>\n",
       "      <td>onealsh01</td>\n",
       "      <td>shaquille o'neal</td>\n",
       "      <td>2009-10</td>\n",
       "      <td>CLE</td>\n",
       "      <td>Post Scorer</td>\n",
       "      <td>1240.000000</td>\n",
       "      <td>53.0</td>\n",
       "      <td>C</td>\n",
       "      <td>37.0</td>\n",
       "      <td>0.290000</td>\n",
       "      <td>-1.370000</td>\n",
       "      <td>1.650000</td>\n",
       "      <td>2.200000</td>\n",
       "      <td>4034036.0</td>\n",
       "      <td>406.0</td>\n",
       "      <td>0.970000</td>\n",
       "      <td>-0.280000</td>\n",
       "      <td>1.250000</td>\n",
       "      <td>2010.0</td>\n",
       "      <td>NaN</td>\n",
       "    </tr>\n",
       "    <tr>\n",
       "      <th>3</th>\n",
       "      <td>howarju01</td>\n",
       "      <td>juwan howard</td>\n",
       "      <td>2009-10</td>\n",
       "      <td>POR</td>\n",
       "      <td>Post Scorer</td>\n",
       "      <td>1632.000000</td>\n",
       "      <td>73.0</td>\n",
       "      <td>C</td>\n",
       "      <td>36.0</td>\n",
       "      <td>-3.490000</td>\n",
       "      <td>-2.190000</td>\n",
       "      <td>-1.290000</td>\n",
       "      <td>-1.300000</td>\n",
       "      <td>-1118330.0</td>\n",
       "      <td>436.0</td>\n",
       "      <td>-2.430000</td>\n",
       "      <td>-2.010000</td>\n",
       "      <td>-0.420000</td>\n",
       "      <td>2010.0</td>\n",
       "      <td>NaN</td>\n",
       "    </tr>\n",
       "    <tr>\n",
       "      <th>4</th>\n",
       "      <td>kiddja01</td>\n",
       "      <td>jason kidd</td>\n",
       "      <td>2009-10</td>\n",
       "      <td>DAL</td>\n",
       "      <td>Stationary Shooter</td>\n",
       "      <td>2881.000000</td>\n",
       "      <td>80.0</td>\n",
       "      <td>PG</td>\n",
       "      <td>36.0</td>\n",
       "      <td>2.870000</td>\n",
       "      <td>1.240000</td>\n",
       "      <td>1.630000</td>\n",
       "      <td>10.000000</td>\n",
       "      <td>15762060.0</td>\n",
       "      <td>467.0</td>\n",
       "      <td>3.270000</td>\n",
       "      <td>1.810000</td>\n",
       "      <td>1.460000</td>\n",
       "      <td>2010.0</td>\n",
       "      <td>NaN</td>\n",
       "    </tr>\n",
       "    <tr>\n",
       "      <th>...</th>\n",
       "      <td>...</td>\n",
       "      <td>...</td>\n",
       "      <td>...</td>\n",
       "      <td>...</td>\n",
       "      <td>...</td>\n",
       "      <td>...</td>\n",
       "      <td>...</td>\n",
       "      <td>...</td>\n",
       "      <td>...</td>\n",
       "      <td>...</td>\n",
       "      <td>...</td>\n",
       "      <td>...</td>\n",
       "      <td>...</td>\n",
       "      <td>...</td>\n",
       "      <td>...</td>\n",
       "      <td>...</td>\n",
       "      <td>...</td>\n",
       "      <td>...</td>\n",
       "      <td>...</td>\n",
       "      <td>...</td>\n",
       "    </tr>\n",
       "    <tr>\n",
       "      <th>7608</th>\n",
       "      <td>colliza01</td>\n",
       "      <td>Zach Collins</td>\n",
       "      <td>2023-24</td>\n",
       "      <td>SAS</td>\n",
       "      <td>Versatile Big</td>\n",
       "      <td>1528.150000</td>\n",
       "      <td>69.0</td>\n",
       "      <td>C</td>\n",
       "      <td>26.0</td>\n",
       "      <td>-1.593994</td>\n",
       "      <td>-1.550684</td>\n",
       "      <td>-0.043310</td>\n",
       "      <td>0.827470</td>\n",
       "      <td>NaN</td>\n",
       "      <td>1628380.0</td>\n",
       "      <td>-1.467617</td>\n",
       "      <td>-1.168995</td>\n",
       "      <td>-0.298622</td>\n",
       "      <td>2024.0</td>\n",
       "      <td>Mobile Big</td>\n",
       "    </tr>\n",
       "    <tr>\n",
       "      <th>7609</th>\n",
       "      <td>lavinza01</td>\n",
       "      <td>Zach LaVine</td>\n",
       "      <td>2023-24</td>\n",
       "      <td>CHI</td>\n",
       "      <td>Secondary Ball Handler</td>\n",
       "      <td>871.850000</td>\n",
       "      <td>25.0</td>\n",
       "      <td>SG</td>\n",
       "      <td>28.0</td>\n",
       "      <td>-0.173927</td>\n",
       "      <td>0.273058</td>\n",
       "      <td>-0.446985</td>\n",
       "      <td>1.248665</td>\n",
       "      <td>NaN</td>\n",
       "      <td>203897.0</td>\n",
       "      <td>0.209569</td>\n",
       "      <td>0.502091</td>\n",
       "      <td>-0.292522</td>\n",
       "      <td>2024.0</td>\n",
       "      <td>Helper</td>\n",
       "    </tr>\n",
       "    <tr>\n",
       "      <th>7610</th>\n",
       "      <td>nnajize01</td>\n",
       "      <td>Zeke Nnaji</td>\n",
       "      <td>2023-24</td>\n",
       "      <td>DEN</td>\n",
       "      <td>Roll + Cut Big</td>\n",
       "      <td>576.033333</td>\n",
       "      <td>58.0</td>\n",
       "      <td>PF</td>\n",
       "      <td>23.0</td>\n",
       "      <td>-1.770811</td>\n",
       "      <td>-2.117457</td>\n",
       "      <td>0.346647</td>\n",
       "      <td>0.248463</td>\n",
       "      <td>NaN</td>\n",
       "      <td>1630192.0</td>\n",
       "      <td>-1.538678</td>\n",
       "      <td>-2.046404</td>\n",
       "      <td>0.507726</td>\n",
       "      <td>2024.0</td>\n",
       "      <td>Mobile Big</td>\n",
       "    </tr>\n",
       "    <tr>\n",
       "      <th>7611</th>\n",
       "      <td>willizi02</td>\n",
       "      <td>Ziaire Williams</td>\n",
       "      <td>2023-24</td>\n",
       "      <td>MEM</td>\n",
       "      <td>Stationary Shooter</td>\n",
       "      <td>1037.666667</td>\n",
       "      <td>51.0</td>\n",
       "      <td>SF</td>\n",
       "      <td>22.0</td>\n",
       "      <td>-2.357432</td>\n",
       "      <td>-1.828772</td>\n",
       "      <td>-0.528660</td>\n",
       "      <td>0.070362</td>\n",
       "      <td>NaN</td>\n",
       "      <td>1630533.0</td>\n",
       "      <td>-2.628404</td>\n",
       "      <td>-2.194555</td>\n",
       "      <td>-0.433849</td>\n",
       "      <td>2024.0</td>\n",
       "      <td>Point of Attack</td>\n",
       "    </tr>\n",
       "    <tr>\n",
       "      <th>7612</th>\n",
       "      <td>willizi01</td>\n",
       "      <td>Zion Williamson</td>\n",
       "      <td>2023-24</td>\n",
       "      <td>NOP</td>\n",
       "      <td>Shot Creator</td>\n",
       "      <td>2172.850000</td>\n",
       "      <td>70.0</td>\n",
       "      <td>PF</td>\n",
       "      <td>23.0</td>\n",
       "      <td>1.024984</td>\n",
       "      <td>1.429534</td>\n",
       "      <td>-0.404550</td>\n",
       "      <td>4.749786</td>\n",
       "      <td>NaN</td>\n",
       "      <td>1629627.0</td>\n",
       "      <td>1.994320</td>\n",
       "      <td>1.802005</td>\n",
       "      <td>0.192315</td>\n",
       "      <td>2024.0</td>\n",
       "      <td>Helper</td>\n",
       "    </tr>\n",
       "  </tbody>\n",
       "</table>\n",
       "<p>7613 rows × 20 columns</p>\n",
       "</div>"
      ],
      "text/plain": [
       "        bref_id            Player   Season team     Offensive Archetype  \\\n",
       "0      hillgr01        grant hill  2009-10  PHO       Athletic Finisher   \n",
       "1     hunteli01    lindsey hunter  2009-10  CHI  Secondary Ball Handler   \n",
       "2     onealsh01  shaquille o'neal  2009-10  CLE             Post Scorer   \n",
       "3     howarju01      juwan howard  2009-10  POR             Post Scorer   \n",
       "4      kiddja01        jason kidd  2009-10  DAL      Stationary Shooter   \n",
       "...         ...               ...      ...  ...                     ...   \n",
       "7608  colliza01      Zach Collins  2023-24  SAS           Versatile Big   \n",
       "7609  lavinza01       Zach LaVine  2023-24  CHI  Secondary Ball Handler   \n",
       "7610  nnajize01        Zeke Nnaji  2023-24  DEN          Roll + Cut Big   \n",
       "7611  willizi02   Ziaire Williams  2023-24  MEM      Stationary Shooter   \n",
       "7612  willizi01   Zion Williamson  2023-24  NOP            Shot Creator   \n",
       "\n",
       "          Minutes  Games Pos   Age    LEBRON  O-LEBRON  D-LEBRON        WAR  \\\n",
       "0     2430.000000   81.0  SF  37.0 -0.460000 -0.820000  0.360000   3.000000   \n",
       "1      122.000000   13.0  PG  39.0 -1.000000 -0.240000 -0.760000   0.100000   \n",
       "2     1240.000000   53.0   C  37.0  0.290000 -1.370000  1.650000   2.200000   \n",
       "3     1632.000000   73.0   C  36.0 -3.490000 -2.190000 -1.290000  -1.300000   \n",
       "4     2881.000000   80.0  PG  36.0  2.870000  1.240000  1.630000  10.000000   \n",
       "...           ...    ...  ..   ...       ...       ...       ...        ...   \n",
       "7608  1528.150000   69.0   C  26.0 -1.593994 -1.550684 -0.043310   0.827470   \n",
       "7609   871.850000   25.0  SG  28.0 -0.173927  0.273058 -0.446985   1.248665   \n",
       "7610   576.033333   58.0  PF  23.0 -1.770811 -2.117457  0.346647   0.248463   \n",
       "7611  1037.666667   51.0  SF  22.0 -2.357432 -1.828772 -0.528660   0.070362   \n",
       "7612  2172.850000   70.0  PF  23.0  1.024984  1.429534 -0.404550   4.749786   \n",
       "\n",
       "      Value Added     NBA ID  boxLEBRON  boxOLEBRON  boxDLEBRON    year  \\\n",
       "0       5268027.0      255.0   0.660000    0.520000    0.140000  2010.0   \n",
       "1        981535.0      283.0  -0.690000   -0.350000   -0.340000  2010.0   \n",
       "2       4034036.0      406.0   0.970000   -0.280000    1.250000  2010.0   \n",
       "3      -1118330.0      436.0  -2.430000   -2.010000   -0.420000  2010.0   \n",
       "4      15762060.0      467.0   3.270000    1.810000    1.460000  2010.0   \n",
       "...           ...        ...        ...         ...         ...     ...   \n",
       "7608          NaN  1628380.0  -1.467617   -1.168995   -0.298622  2024.0   \n",
       "7609          NaN   203897.0   0.209569    0.502091   -0.292522  2024.0   \n",
       "7610          NaN  1630192.0  -1.538678   -2.046404    0.507726  2024.0   \n",
       "7611          NaN  1630533.0  -2.628404   -2.194555   -0.433849  2024.0   \n",
       "7612          NaN  1629627.0   1.994320    1.802005    0.192315  2024.0   \n",
       "\n",
       "       Defensive Role  \n",
       "0                 NaN  \n",
       "1                 NaN  \n",
       "2                 NaN  \n",
       "3                 NaN  \n",
       "4                 NaN  \n",
       "...               ...  \n",
       "7608       Mobile Big  \n",
       "7609           Helper  \n",
       "7610       Mobile Big  \n",
       "7611  Point of Attack  \n",
       "7612           Helper  \n",
       "\n",
       "[7613 rows x 20 columns]"
      ]
     },
     "execution_count": 60,
     "metadata": {},
     "output_type": "execute_result"
    }
   ],
   "source": [
    "df['Player'] = df['Player'].str.replace('ure holiday','jrue holiday')\n",
    "df"
   ]
  },
  {
   "cell_type": "code",
   "execution_count": 61,
   "id": "9b39989a-f314-45e2-8d37-39dca7048eee",
   "metadata": {},
   "outputs": [
    {
     "data": {
      "text/html": [
       "<div>\n",
       "<style scoped>\n",
       "    .dataframe tbody tr th:only-of-type {\n",
       "        vertical-align: middle;\n",
       "    }\n",
       "\n",
       "    .dataframe tbody tr th {\n",
       "        vertical-align: top;\n",
       "    }\n",
       "\n",
       "    .dataframe thead th {\n",
       "        text-align: right;\n",
       "    }\n",
       "</style>\n",
       "<table border=\"1\" class=\"dataframe\">\n",
       "  <thead>\n",
       "    <tr style=\"text-align: right;\">\n",
       "      <th></th>\n",
       "      <th>bref_id</th>\n",
       "      <th>Player</th>\n",
       "      <th>Season</th>\n",
       "      <th>team</th>\n",
       "      <th>Offensive Archetype</th>\n",
       "      <th>Minutes</th>\n",
       "      <th>Games</th>\n",
       "      <th>Pos</th>\n",
       "      <th>Age</th>\n",
       "      <th>LEBRON</th>\n",
       "      <th>O-LEBRON</th>\n",
       "      <th>D-LEBRON</th>\n",
       "      <th>WAR</th>\n",
       "      <th>Value Added</th>\n",
       "      <th>NBA ID</th>\n",
       "      <th>boxLEBRON</th>\n",
       "      <th>boxOLEBRON</th>\n",
       "      <th>boxDLEBRON</th>\n",
       "      <th>year</th>\n",
       "      <th>Defensive Role</th>\n",
       "    </tr>\n",
       "  </thead>\n",
       "  <tbody>\n",
       "    <tr>\n",
       "      <th>404</th>\n",
       "      <td>holidjr01</td>\n",
       "      <td>jrue holiday</td>\n",
       "      <td>2009-10</td>\n",
       "      <td>PHI</td>\n",
       "      <td>Shot Creator</td>\n",
       "      <td>1767.0</td>\n",
       "      <td>73.0</td>\n",
       "      <td>PG</td>\n",
       "      <td>19.0</td>\n",
       "      <td>-0.64</td>\n",
       "      <td>-0.16</td>\n",
       "      <td>-0.48</td>\n",
       "      <td>2.0</td>\n",
       "      <td>3732278.0</td>\n",
       "      <td>201950.0</td>\n",
       "      <td>-1.47</td>\n",
       "      <td>-0.79</td>\n",
       "      <td>-0.68</td>\n",
       "      <td>2010.0</td>\n",
       "      <td>NaN</td>\n",
       "    </tr>\n",
       "    <tr>\n",
       "      <th>804</th>\n",
       "      <td>holidjr01</td>\n",
       "      <td>jrue holiday</td>\n",
       "      <td>2010-11</td>\n",
       "      <td>PHI</td>\n",
       "      <td>Shot Creator</td>\n",
       "      <td>2901.0</td>\n",
       "      <td>82.0</td>\n",
       "      <td>PG</td>\n",
       "      <td>20.0</td>\n",
       "      <td>1.16</td>\n",
       "      <td>1.06</td>\n",
       "      <td>0.10</td>\n",
       "      <td>6.8</td>\n",
       "      <td>11009637.0</td>\n",
       "      <td>201950.0</td>\n",
       "      <td>0.76</td>\n",
       "      <td>0.20</td>\n",
       "      <td>0.56</td>\n",
       "      <td>2011.0</td>\n",
       "      <td>NaN</td>\n",
       "    </tr>\n",
       "    <tr>\n",
       "      <th>1217</th>\n",
       "      <td>holidjr01</td>\n",
       "      <td>jrue holiday</td>\n",
       "      <td>2011-12</td>\n",
       "      <td>PHI</td>\n",
       "      <td>Shot Creator</td>\n",
       "      <td>2196.0</td>\n",
       "      <td>65.0</td>\n",
       "      <td>PG</td>\n",
       "      <td>21.0</td>\n",
       "      <td>0.36</td>\n",
       "      <td>-0.49</td>\n",
       "      <td>0.84</td>\n",
       "      <td>3.9</td>\n",
       "      <td>6751269.0</td>\n",
       "      <td>201950.0</td>\n",
       "      <td>0.75</td>\n",
       "      <td>-0.01</td>\n",
       "      <td>0.77</td>\n",
       "      <td>2012.0</td>\n",
       "      <td>NaN</td>\n",
       "    </tr>\n",
       "    <tr>\n",
       "      <th>1644</th>\n",
       "      <td>holidjr01</td>\n",
       "      <td>jrue holiday</td>\n",
       "      <td>2012-13</td>\n",
       "      <td>PHI</td>\n",
       "      <td>Shot Creator</td>\n",
       "      <td>2926.0</td>\n",
       "      <td>78.0</td>\n",
       "      <td>PG</td>\n",
       "      <td>22.0</td>\n",
       "      <td>-0.43</td>\n",
       "      <td>0.08</td>\n",
       "      <td>-0.51</td>\n",
       "      <td>3.6</td>\n",
       "      <td>6304064.0</td>\n",
       "      <td>201950.0</td>\n",
       "      <td>-0.30</td>\n",
       "      <td>0.27</td>\n",
       "      <td>-0.57</td>\n",
       "      <td>2013.0</td>\n",
       "      <td>NaN</td>\n",
       "    </tr>\n",
       "  </tbody>\n",
       "</table>\n",
       "</div>"
      ],
      "text/plain": [
       "        bref_id        Player   Season team Offensive Archetype  Minutes  \\\n",
       "404   holidjr01  jrue holiday  2009-10  PHI        Shot Creator   1767.0   \n",
       "804   holidjr01  jrue holiday  2010-11  PHI        Shot Creator   2901.0   \n",
       "1217  holidjr01  jrue holiday  2011-12  PHI        Shot Creator   2196.0   \n",
       "1644  holidjr01  jrue holiday  2012-13  PHI        Shot Creator   2926.0   \n",
       "\n",
       "      Games Pos   Age  LEBRON  O-LEBRON  D-LEBRON  WAR  Value Added    NBA ID  \\\n",
       "404    73.0  PG  19.0   -0.64     -0.16     -0.48  2.0    3732278.0  201950.0   \n",
       "804    82.0  PG  20.0    1.16      1.06      0.10  6.8   11009637.0  201950.0   \n",
       "1217   65.0  PG  21.0    0.36     -0.49      0.84  3.9    6751269.0  201950.0   \n",
       "1644   78.0  PG  22.0   -0.43      0.08     -0.51  3.6    6304064.0  201950.0   \n",
       "\n",
       "      boxLEBRON  boxOLEBRON  boxDLEBRON    year Defensive Role  \n",
       "404       -1.47       -0.79       -0.68  2010.0            NaN  \n",
       "804        0.76        0.20        0.56  2011.0            NaN  \n",
       "1217       0.75       -0.01        0.77  2012.0            NaN  \n",
       "1644      -0.30        0.27       -0.57  2013.0            NaN  "
      ]
     },
     "execution_count": 61,
     "metadata": {},
     "output_type": "execute_result"
    }
   ],
   "source": [
    "df[df.Player.str.contains('jrue')]"
   ]
  },
  {
   "cell_type": "code",
   "execution_count": 65,
   "id": "b23c725e-573f-4737-9136-8a528b04c56a",
   "metadata": {},
   "outputs": [
    {
     "ename": "FileNotFoundError",
     "evalue": "[Errno 2] No such file or directory: '../data/lebron.csv'",
     "output_type": "error",
     "traceback": [
      "\u001b[0;31m---------------------------------------------------------------------------\u001b[0m",
      "\u001b[0;31mFileNotFoundError\u001b[0m                         Traceback (most recent call last)",
      "Cell \u001b[0;32mIn[65], line 1\u001b[0m\n\u001b[0;32m----> 1\u001b[0m df \u001b[38;5;241m=\u001b[39m \u001b[43mpd\u001b[49m\u001b[38;5;241;43m.\u001b[39;49m\u001b[43mread_csv\u001b[49m\u001b[43m(\u001b[49m\u001b[38;5;124;43m'\u001b[39;49m\u001b[38;5;124;43m../data/lebron.csv\u001b[39;49m\u001b[38;5;124;43m'\u001b[39;49m\u001b[43m)\u001b[49m\n\u001b[1;32m      2\u001b[0m jrue \u001b[38;5;241m=\u001b[39mdf[df[\u001b[38;5;124m'\u001b[39m\u001b[38;5;124mNBA ID\u001b[39m\u001b[38;5;124m'\u001b[39m]\u001b[38;5;241m==\u001b[39m\u001b[38;5;241m201950\u001b[39m]\n\u001b[1;32m      4\u001b[0m df \u001b[38;5;241m=\u001b[39mdf[df[\u001b[38;5;124m'\u001b[39m\u001b[38;5;124mNBA ID\u001b[39m\u001b[38;5;124m'\u001b[39m]\u001b[38;5;241m!=\u001b[39m\u001b[38;5;241m201950\u001b[39m]\n",
      "File \u001b[0;32m~/.local/lib/python3.10/site-packages/pandas/io/parsers/readers.py:948\u001b[0m, in \u001b[0;36mread_csv\u001b[0;34m(filepath_or_buffer, sep, delimiter, header, names, index_col, usecols, dtype, engine, converters, true_values, false_values, skipinitialspace, skiprows, skipfooter, nrows, na_values, keep_default_na, na_filter, verbose, skip_blank_lines, parse_dates, infer_datetime_format, keep_date_col, date_parser, date_format, dayfirst, cache_dates, iterator, chunksize, compression, thousands, decimal, lineterminator, quotechar, quoting, doublequote, escapechar, comment, encoding, encoding_errors, dialect, on_bad_lines, delim_whitespace, low_memory, memory_map, float_precision, storage_options, dtype_backend)\u001b[0m\n\u001b[1;32m    935\u001b[0m kwds_defaults \u001b[38;5;241m=\u001b[39m _refine_defaults_read(\n\u001b[1;32m    936\u001b[0m     dialect,\n\u001b[1;32m    937\u001b[0m     delimiter,\n\u001b[0;32m   (...)\u001b[0m\n\u001b[1;32m    944\u001b[0m     dtype_backend\u001b[38;5;241m=\u001b[39mdtype_backend,\n\u001b[1;32m    945\u001b[0m )\n\u001b[1;32m    946\u001b[0m kwds\u001b[38;5;241m.\u001b[39mupdate(kwds_defaults)\n\u001b[0;32m--> 948\u001b[0m \u001b[38;5;28;01mreturn\u001b[39;00m \u001b[43m_read\u001b[49m\u001b[43m(\u001b[49m\u001b[43mfilepath_or_buffer\u001b[49m\u001b[43m,\u001b[49m\u001b[43m \u001b[49m\u001b[43mkwds\u001b[49m\u001b[43m)\u001b[49m\n",
      "File \u001b[0;32m~/.local/lib/python3.10/site-packages/pandas/io/parsers/readers.py:611\u001b[0m, in \u001b[0;36m_read\u001b[0;34m(filepath_or_buffer, kwds)\u001b[0m\n\u001b[1;32m    608\u001b[0m _validate_names(kwds\u001b[38;5;241m.\u001b[39mget(\u001b[38;5;124m\"\u001b[39m\u001b[38;5;124mnames\u001b[39m\u001b[38;5;124m\"\u001b[39m, \u001b[38;5;28;01mNone\u001b[39;00m))\n\u001b[1;32m    610\u001b[0m \u001b[38;5;66;03m# Create the parser.\u001b[39;00m\n\u001b[0;32m--> 611\u001b[0m parser \u001b[38;5;241m=\u001b[39m \u001b[43mTextFileReader\u001b[49m\u001b[43m(\u001b[49m\u001b[43mfilepath_or_buffer\u001b[49m\u001b[43m,\u001b[49m\u001b[43m \u001b[49m\u001b[38;5;241;43m*\u001b[39;49m\u001b[38;5;241;43m*\u001b[39;49m\u001b[43mkwds\u001b[49m\u001b[43m)\u001b[49m\n\u001b[1;32m    613\u001b[0m \u001b[38;5;28;01mif\u001b[39;00m chunksize \u001b[38;5;129;01mor\u001b[39;00m iterator:\n\u001b[1;32m    614\u001b[0m     \u001b[38;5;28;01mreturn\u001b[39;00m parser\n",
      "File \u001b[0;32m~/.local/lib/python3.10/site-packages/pandas/io/parsers/readers.py:1448\u001b[0m, in \u001b[0;36mTextFileReader.__init__\u001b[0;34m(self, f, engine, **kwds)\u001b[0m\n\u001b[1;32m   1445\u001b[0m     \u001b[38;5;28mself\u001b[39m\u001b[38;5;241m.\u001b[39moptions[\u001b[38;5;124m\"\u001b[39m\u001b[38;5;124mhas_index_names\u001b[39m\u001b[38;5;124m\"\u001b[39m] \u001b[38;5;241m=\u001b[39m kwds[\u001b[38;5;124m\"\u001b[39m\u001b[38;5;124mhas_index_names\u001b[39m\u001b[38;5;124m\"\u001b[39m]\n\u001b[1;32m   1447\u001b[0m \u001b[38;5;28mself\u001b[39m\u001b[38;5;241m.\u001b[39mhandles: IOHandles \u001b[38;5;241m|\u001b[39m \u001b[38;5;28;01mNone\u001b[39;00m \u001b[38;5;241m=\u001b[39m \u001b[38;5;28;01mNone\u001b[39;00m\n\u001b[0;32m-> 1448\u001b[0m \u001b[38;5;28mself\u001b[39m\u001b[38;5;241m.\u001b[39m_engine \u001b[38;5;241m=\u001b[39m \u001b[38;5;28;43mself\u001b[39;49m\u001b[38;5;241;43m.\u001b[39;49m\u001b[43m_make_engine\u001b[49m\u001b[43m(\u001b[49m\u001b[43mf\u001b[49m\u001b[43m,\u001b[49m\u001b[43m \u001b[49m\u001b[38;5;28;43mself\u001b[39;49m\u001b[38;5;241;43m.\u001b[39;49m\u001b[43mengine\u001b[49m\u001b[43m)\u001b[49m\n",
      "File \u001b[0;32m~/.local/lib/python3.10/site-packages/pandas/io/parsers/readers.py:1705\u001b[0m, in \u001b[0;36mTextFileReader._make_engine\u001b[0;34m(self, f, engine)\u001b[0m\n\u001b[1;32m   1703\u001b[0m     \u001b[38;5;28;01mif\u001b[39;00m \u001b[38;5;124m\"\u001b[39m\u001b[38;5;124mb\u001b[39m\u001b[38;5;124m\"\u001b[39m \u001b[38;5;129;01mnot\u001b[39;00m \u001b[38;5;129;01min\u001b[39;00m mode:\n\u001b[1;32m   1704\u001b[0m         mode \u001b[38;5;241m+\u001b[39m\u001b[38;5;241m=\u001b[39m \u001b[38;5;124m\"\u001b[39m\u001b[38;5;124mb\u001b[39m\u001b[38;5;124m\"\u001b[39m\n\u001b[0;32m-> 1705\u001b[0m \u001b[38;5;28mself\u001b[39m\u001b[38;5;241m.\u001b[39mhandles \u001b[38;5;241m=\u001b[39m \u001b[43mget_handle\u001b[49m\u001b[43m(\u001b[49m\n\u001b[1;32m   1706\u001b[0m \u001b[43m    \u001b[49m\u001b[43mf\u001b[49m\u001b[43m,\u001b[49m\n\u001b[1;32m   1707\u001b[0m \u001b[43m    \u001b[49m\u001b[43mmode\u001b[49m\u001b[43m,\u001b[49m\n\u001b[1;32m   1708\u001b[0m \u001b[43m    \u001b[49m\u001b[43mencoding\u001b[49m\u001b[38;5;241;43m=\u001b[39;49m\u001b[38;5;28;43mself\u001b[39;49m\u001b[38;5;241;43m.\u001b[39;49m\u001b[43moptions\u001b[49m\u001b[38;5;241;43m.\u001b[39;49m\u001b[43mget\u001b[49m\u001b[43m(\u001b[49m\u001b[38;5;124;43m\"\u001b[39;49m\u001b[38;5;124;43mencoding\u001b[39;49m\u001b[38;5;124;43m\"\u001b[39;49m\u001b[43m,\u001b[49m\u001b[43m \u001b[49m\u001b[38;5;28;43;01mNone\u001b[39;49;00m\u001b[43m)\u001b[49m\u001b[43m,\u001b[49m\n\u001b[1;32m   1709\u001b[0m \u001b[43m    \u001b[49m\u001b[43mcompression\u001b[49m\u001b[38;5;241;43m=\u001b[39;49m\u001b[38;5;28;43mself\u001b[39;49m\u001b[38;5;241;43m.\u001b[39;49m\u001b[43moptions\u001b[49m\u001b[38;5;241;43m.\u001b[39;49m\u001b[43mget\u001b[49m\u001b[43m(\u001b[49m\u001b[38;5;124;43m\"\u001b[39;49m\u001b[38;5;124;43mcompression\u001b[39;49m\u001b[38;5;124;43m\"\u001b[39;49m\u001b[43m,\u001b[49m\u001b[43m \u001b[49m\u001b[38;5;28;43;01mNone\u001b[39;49;00m\u001b[43m)\u001b[49m\u001b[43m,\u001b[49m\n\u001b[1;32m   1710\u001b[0m \u001b[43m    \u001b[49m\u001b[43mmemory_map\u001b[49m\u001b[38;5;241;43m=\u001b[39;49m\u001b[38;5;28;43mself\u001b[39;49m\u001b[38;5;241;43m.\u001b[39;49m\u001b[43moptions\u001b[49m\u001b[38;5;241;43m.\u001b[39;49m\u001b[43mget\u001b[49m\u001b[43m(\u001b[49m\u001b[38;5;124;43m\"\u001b[39;49m\u001b[38;5;124;43mmemory_map\u001b[39;49m\u001b[38;5;124;43m\"\u001b[39;49m\u001b[43m,\u001b[49m\u001b[43m \u001b[49m\u001b[38;5;28;43;01mFalse\u001b[39;49;00m\u001b[43m)\u001b[49m\u001b[43m,\u001b[49m\n\u001b[1;32m   1711\u001b[0m \u001b[43m    \u001b[49m\u001b[43mis_text\u001b[49m\u001b[38;5;241;43m=\u001b[39;49m\u001b[43mis_text\u001b[49m\u001b[43m,\u001b[49m\n\u001b[1;32m   1712\u001b[0m \u001b[43m    \u001b[49m\u001b[43merrors\u001b[49m\u001b[38;5;241;43m=\u001b[39;49m\u001b[38;5;28;43mself\u001b[39;49m\u001b[38;5;241;43m.\u001b[39;49m\u001b[43moptions\u001b[49m\u001b[38;5;241;43m.\u001b[39;49m\u001b[43mget\u001b[49m\u001b[43m(\u001b[49m\u001b[38;5;124;43m\"\u001b[39;49m\u001b[38;5;124;43mencoding_errors\u001b[39;49m\u001b[38;5;124;43m\"\u001b[39;49m\u001b[43m,\u001b[49m\u001b[43m \u001b[49m\u001b[38;5;124;43m\"\u001b[39;49m\u001b[38;5;124;43mstrict\u001b[39;49m\u001b[38;5;124;43m\"\u001b[39;49m\u001b[43m)\u001b[49m\u001b[43m,\u001b[49m\n\u001b[1;32m   1713\u001b[0m \u001b[43m    \u001b[49m\u001b[43mstorage_options\u001b[49m\u001b[38;5;241;43m=\u001b[39;49m\u001b[38;5;28;43mself\u001b[39;49m\u001b[38;5;241;43m.\u001b[39;49m\u001b[43moptions\u001b[49m\u001b[38;5;241;43m.\u001b[39;49m\u001b[43mget\u001b[49m\u001b[43m(\u001b[49m\u001b[38;5;124;43m\"\u001b[39;49m\u001b[38;5;124;43mstorage_options\u001b[39;49m\u001b[38;5;124;43m\"\u001b[39;49m\u001b[43m,\u001b[49m\u001b[43m \u001b[49m\u001b[38;5;28;43;01mNone\u001b[39;49;00m\u001b[43m)\u001b[49m\u001b[43m,\u001b[49m\n\u001b[1;32m   1714\u001b[0m \u001b[43m\u001b[49m\u001b[43m)\u001b[49m\n\u001b[1;32m   1715\u001b[0m \u001b[38;5;28;01massert\u001b[39;00m \u001b[38;5;28mself\u001b[39m\u001b[38;5;241m.\u001b[39mhandles \u001b[38;5;129;01mis\u001b[39;00m \u001b[38;5;129;01mnot\u001b[39;00m \u001b[38;5;28;01mNone\u001b[39;00m\n\u001b[1;32m   1716\u001b[0m f \u001b[38;5;241m=\u001b[39m \u001b[38;5;28mself\u001b[39m\u001b[38;5;241m.\u001b[39mhandles\u001b[38;5;241m.\u001b[39mhandle\n",
      "File \u001b[0;32m~/.local/lib/python3.10/site-packages/pandas/io/common.py:863\u001b[0m, in \u001b[0;36mget_handle\u001b[0;34m(path_or_buf, mode, encoding, compression, memory_map, is_text, errors, storage_options)\u001b[0m\n\u001b[1;32m    858\u001b[0m \u001b[38;5;28;01melif\u001b[39;00m \u001b[38;5;28misinstance\u001b[39m(handle, \u001b[38;5;28mstr\u001b[39m):\n\u001b[1;32m    859\u001b[0m     \u001b[38;5;66;03m# Check whether the filename is to be opened in binary mode.\u001b[39;00m\n\u001b[1;32m    860\u001b[0m     \u001b[38;5;66;03m# Binary mode does not support 'encoding' and 'newline'.\u001b[39;00m\n\u001b[1;32m    861\u001b[0m     \u001b[38;5;28;01mif\u001b[39;00m ioargs\u001b[38;5;241m.\u001b[39mencoding \u001b[38;5;129;01mand\u001b[39;00m \u001b[38;5;124m\"\u001b[39m\u001b[38;5;124mb\u001b[39m\u001b[38;5;124m\"\u001b[39m \u001b[38;5;129;01mnot\u001b[39;00m \u001b[38;5;129;01min\u001b[39;00m ioargs\u001b[38;5;241m.\u001b[39mmode:\n\u001b[1;32m    862\u001b[0m         \u001b[38;5;66;03m# Encoding\u001b[39;00m\n\u001b[0;32m--> 863\u001b[0m         handle \u001b[38;5;241m=\u001b[39m \u001b[38;5;28;43mopen\u001b[39;49m\u001b[43m(\u001b[49m\n\u001b[1;32m    864\u001b[0m \u001b[43m            \u001b[49m\u001b[43mhandle\u001b[49m\u001b[43m,\u001b[49m\n\u001b[1;32m    865\u001b[0m \u001b[43m            \u001b[49m\u001b[43mioargs\u001b[49m\u001b[38;5;241;43m.\u001b[39;49m\u001b[43mmode\u001b[49m\u001b[43m,\u001b[49m\n\u001b[1;32m    866\u001b[0m \u001b[43m            \u001b[49m\u001b[43mencoding\u001b[49m\u001b[38;5;241;43m=\u001b[39;49m\u001b[43mioargs\u001b[49m\u001b[38;5;241;43m.\u001b[39;49m\u001b[43mencoding\u001b[49m\u001b[43m,\u001b[49m\n\u001b[1;32m    867\u001b[0m \u001b[43m            \u001b[49m\u001b[43merrors\u001b[49m\u001b[38;5;241;43m=\u001b[39;49m\u001b[43merrors\u001b[49m\u001b[43m,\u001b[49m\n\u001b[1;32m    868\u001b[0m \u001b[43m            \u001b[49m\u001b[43mnewline\u001b[49m\u001b[38;5;241;43m=\u001b[39;49m\u001b[38;5;124;43m\"\u001b[39;49m\u001b[38;5;124;43m\"\u001b[39;49m\u001b[43m,\u001b[49m\n\u001b[1;32m    869\u001b[0m \u001b[43m        \u001b[49m\u001b[43m)\u001b[49m\n\u001b[1;32m    870\u001b[0m     \u001b[38;5;28;01melse\u001b[39;00m:\n\u001b[1;32m    871\u001b[0m         \u001b[38;5;66;03m# Binary mode\u001b[39;00m\n\u001b[1;32m    872\u001b[0m         handle \u001b[38;5;241m=\u001b[39m \u001b[38;5;28mopen\u001b[39m(handle, ioargs\u001b[38;5;241m.\u001b[39mmode)\n",
      "\u001b[0;31mFileNotFoundError\u001b[0m: [Errno 2] No such file or directory: '../data/lebron.csv'"
     ]
    }
   ],
   "source": []
  },
  {
   "cell_type": "code",
   "execution_count": null,
   "id": "021650b3-2ec3-4c11-bd88-a597e4fce5fb",
   "metadata": {},
   "outputs": [],
   "source": []
  }
 ],
 "metadata": {
  "kernelspec": {
   "display_name": "Python 3 (ipykernel)",
   "language": "python",
   "name": "python3"
  },
  "language_info": {
   "codemirror_mode": {
    "name": "ipython",
    "version": 3
   },
   "file_extension": ".py",
   "mimetype": "text/x-python",
   "name": "python",
   "nbconvert_exporter": "python",
   "pygments_lexer": "ipython3",
   "version": "3.10.12"
  }
 },
 "nbformat": 4,
 "nbformat_minor": 5
}
