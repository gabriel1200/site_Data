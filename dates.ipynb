{
 "cells": [
  {
   "cell_type": "code",
   "execution_count": 1,
   "id": "c8054335-611a-4f13-a665-529c658fadb2",
   "metadata": {},
   "outputs": [
    {
     "name": "stdout",
     "output_type": "stream",
     "text": [
      "dict_keys(['meta', 'leagueSchedule'])\n",
      "Index(['gameId', 'gameCode', 'gameStatus', 'gameStatusText', 'gameDate',\n",
      "       'arenaName', 'arenaCity', 'homeTeam', 'homeTeamCity', 'homeTeamScore',\n",
      "       'awayTeam', 'awayTeamCity', 'awayTeamScore', 'pointsLeaderName',\n",
      "       'pointsLeaderPoints'],\n",
      "      dtype='object')\n",
      "Empty DataFrame\n",
      "Columns: [gameId, gameCode, gameStatus, gameStatusText, gameDate, arenaName, arenaCity, homeTeam, homeTeamCity, homeTeamScore, awayTeam, awayTeamCity, awayTeamScore, pointsLeaderName, pointsLeaderPoints]\n",
      "Index: []\n"
     ]
    },
    {
     "data": {
      "text/plain": [
       "array([1.61061274e+09, 1.61061276e+09, 1.61061275e+09, 1.61061275e+09,\n",
       "       1.61061274e+09, 1.61061277e+09, 1.61061276e+09, 1.61061276e+09,\n",
       "       1.61061274e+09, 1.61061276e+09, 1.61061274e+09, 1.61061276e+09,\n",
       "       1.61061274e+09, 1.61061274e+09, 1.61061275e+09, 1.61061276e+09,\n",
       "       1.61061276e+09, 1.61061276e+09, 1.61061275e+09, 1.61061276e+09,\n",
       "       1.61061275e+09, 1.61061274e+09, 1.61061276e+09, 1.61061274e+09,\n",
       "       1.61061275e+09, 1.61061275e+09, 1.61061275e+09, 1.61061274e+09,\n",
       "       1.61061276e+09, 1.61061275e+09])"
      ]
     },
     "execution_count": 1,
     "metadata": {},
     "output_type": "execute_result"
    }
   ],
   "source": [
    "import requests\n",
    "import pandas as pd\n",
    "\n",
    "# Fetch the JSON data\n",
    "url = \"https://cdn.nba.com/static/json/staticData/scheduleLeagueV2.json\"\n",
    "response = requests.get(url)\n",
    "data = response.json()\n",
    "print(data.keys())\n",
    "# Extract games data\n",
    "games_data = []\n",
    "for game_date in data[\"leagueSchedule\"][\"gameDates\"]:\n",
    "    game_date_str = game_date[\"gameDate\"]\n",
    "    for game in game_date[\"games\"]:\n",
    "        game_info = {\n",
    "            \"gameId\": game[\"gameId\"],\n",
    "            \"gameCode\": game[\"gameCode\"],\n",
    "            \"gameStatus\": game[\"gameStatus\"],\n",
    "            \"gameStatusText\": game[\"gameStatusText\"],\n",
    "            \"gameDate\": game_date_str,\n",
    "            \"arenaName\": game[\"arenaName\"],\n",
    "            \"arenaCity\": game[\"arenaCity\"],\n",
    "            \"homeTeam\": game[\"homeTeam\"][\"teamName\"],\n",
    "            \"homeTeamCity\": game[\"homeTeam\"][\"teamCity\"],\n",
    "            \"homeTeamScore\": game[\"homeTeam\"][\"score\"],\n",
    "            \"awayTeam\": game[\"awayTeam\"][\"teamName\"],\n",
    "            \"awayTeamCity\": game[\"awayTeam\"][\"teamCity\"],\n",
    "            \"awayTeamScore\": game[\"awayTeam\"][\"score\"],\n",
    "            \"pointsLeaderName\": f\"{game['pointsLeaders'][0]['firstName']} {game['pointsLeaders'][0]['lastName']}\" if game[\"pointsLeaders\"] else None,\n",
    "            \"pointsLeaderPoints\": game[\"pointsLeaders\"][0][\"points\"] if game[\"pointsLeaders\"] else None\n",
    "        }\n",
    "        games_data.append(game_info)\n",
    "\n",
    "# Convert to DataFrame\n",
    "df = pd.DataFrame(games_data)\n",
    "\n",
    "# Display the DataFrame\n",
    "print(df.columns)\n",
    "\n",
    "\n",
    "df.to_csv('schedule.csv')\n",
    "\n",
    "print(df[df.gameId=='0032400001'])\n",
    "df['gameDate'] = pd.to_datetime(df['gameDate']).dt.strftime('%Y-%m-%d')\n",
    "\n",
    "df=df[df['gameDate']>='10222024']\n",
    "\n",
    "team_acronyms = {\n",
    "    'Celtics': 'BOS',\n",
    "    'Lakers': 'LAL',\n",
    "    'Pistons': 'DET',\n",
    "    'Hawks': 'ATL',\n",
    "    'Heat': 'MIA',\n",
    "    '76ers': 'PHI',\n",
    "    'Raptors': 'TOR',\n",
    "    'Rockets': 'HOU',\n",
    "    'Pelicans': 'NOP',\n",
    "    'Jazz': 'UTA',\n",
    "    'Clippers': 'LAC',\n",
    "    'Trail Blazers': 'POR',\n",
    "    'Wizards': 'WAS',\n",
    "    'Mavericks': 'DAL',\n",
    "    'Nuggets': 'DEN',\n",
    "    'Kings': 'SAC',\n",
    "    'Magic': 'ORL',\n",
    "    'Cavaliers': 'CLE',\n",
    "    'Knicks': 'NYK',\n",
    "    'Bucks': 'MIL',\n",
    "    'Hornets': 'CHA',\n",
    "    'Bulls': 'CHI',\n",
    "    'Grizzlies': 'MEM',\n",
    "    'Timberwolves': 'MIN',\n",
    "    'Spurs': 'SAS',\n",
    "    'Suns': 'PHX',\n",
    "    'Pacers': 'IND',\n",
    "    'Nets': 'BKN',\n",
    "    'Thunder': 'OKC',\n",
    "    'Warriors': 'GSW'\n",
    "}\n",
    "df['homeTeam']=df['homeTeam'].map(team_acronyms)\n",
    "\n",
    "df['awayTeam']=df['awayTeam'].map(team_acronyms)\n",
    "\n",
    "df =df[['gameId','gameDate','homeTeam','awayTeam']]\n",
    "\n",
    "df.rename(columns={'gameId':'game_id','gameDate':'game_date','homeTeam':'home_team','awayTeam':'away_team'},inplace=True)\n",
    "old_dates=pd.read_csv('../web_app/data/game_dates.csv')\n",
    "\n",
    "\n",
    "old_map=dict(zip(old_dates.team,old_dates.TEAM_ID))\n",
    "\n",
    "df['home_team_id']=df['home_team'].map(old_map)\n",
    "\n",
    "df['away_team_id']=df['away_team'].map(old_map)\n",
    "df.dropna(subset= 'home_team_id',inplace=True)\n",
    "df.to_csv('schedule.csv')\n",
    "df.to_csv('../web_app/data/schedule.csv')\n",
    "df['home_team_id'].unique()"
   ]
  },
  {
   "cell_type": "code",
   "execution_count": 2,
   "id": "fc9588bf-e0dd-441c-b049-5448a56b076b",
   "metadata": {},
   "outputs": [
    {
     "data": {
      "text/html": [
       "<div>\n",
       "<style scoped>\n",
       "    .dataframe tbody tr th:only-of-type {\n",
       "        vertical-align: middle;\n",
       "    }\n",
       "\n",
       "    .dataframe tbody tr th {\n",
       "        vertical-align: top;\n",
       "    }\n",
       "\n",
       "    .dataframe thead th {\n",
       "        text-align: right;\n",
       "    }\n",
       "</style>\n",
       "<table border=\"1\" class=\"dataframe\">\n",
       "  <thead>\n",
       "    <tr style=\"text-align: right;\">\n",
       "      <th></th>\n",
       "      <th>game_id</th>\n",
       "      <th>game_date</th>\n",
       "      <th>home_team</th>\n",
       "      <th>away_team</th>\n",
       "      <th>home_team_id</th>\n",
       "      <th>away_team_id</th>\n",
       "    </tr>\n",
       "  </thead>\n",
       "  <tbody>\n",
       "  </tbody>\n",
       "</table>\n",
       "</div>"
      ],
      "text/plain": [
       "Empty DataFrame\n",
       "Columns: [game_id, game_date, home_team, away_team, home_team_id, away_team_id]\n",
       "Index: []"
      ]
     },
     "execution_count": 2,
     "metadata": {},
     "output_type": "execute_result"
    }
   ],
   "source": [
    "df[df['home_team_id'].isna()]"
   ]
  },
  {
   "cell_type": "code",
   "execution_count": null,
   "id": "a0eb5b5f-2ab8-40b0-83d5-263a41bf3ea0",
   "metadata": {},
   "outputs": [],
   "source": []
  }
 ],
 "metadata": {
  "kernelspec": {
   "display_name": "Python 3 (ipykernel)",
   "language": "python",
   "name": "python3"
  },
  "language_info": {
   "codemirror_mode": {
    "name": "ipython",
    "version": 3
   },
   "file_extension": ".py",
   "mimetype": "text/x-python",
   "name": "python",
   "nbconvert_exporter": "python",
   "pygments_lexer": "ipython3",
   "version": "3.10.12"
  }
 },
 "nbformat": 4,
 "nbformat_minor": 5
}
