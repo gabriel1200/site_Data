{
 "cells": [
  {
   "cell_type": "code",
   "execution_count": 4,
   "id": "51ae852c-80c4-4d6a-bddd-c7ead42131e3",
   "metadata": {},
   "outputs": [
    {
     "name": "stdout",
     "output_type": "stream",
     "text": [
      "2024\n"
     ]
    }
   ],
   "source": [
    "import pandas as pd\n",
    "\n",
    "from nba_api.stats.endpoints import playerfantasyprofile,playerdashboardbyteamperformance,leaguedashplayerstats\n",
    "\n",
    "def update(year):\n",
    "    season_string = year\n",
    "    print(season_string)\n",
    "    frames = leaguedashplayerstats.LeagueDashPlayerStats(season=season_string,league_id_nullable=10).get_data_frames()\n",
    "    df = frames[0]\n",
    "    df['year'] = year\n",
    "    df['GROUP_SET'] = 'Players'\n",
    "    #df = df.drop(columns=['TEAM_ABBREVIATION','AGE'])\n",
    "    old = pd.read_csv('windex.csv')\n",
    "    old = old[old.year!=year]\n",
    "    \n",
    "    to_save = pd.concat([old,df])\n",
    "    to_save.drop(columns=[col for col in to_save.columns if 'Unnamed' in col],inplace = True)\n",
    "    return to_save\n",
    "def update2(year):\n",
    "    season_string = year\n",
    "    print(season_string)\n",
    "    frames = leaguedashplayerstats.LeagueDashPlayerStats(season=season_string,league_id_nullable=10,season_type_all_star=\"Playoffs\").get_data_frames()\n",
    "    df = frames[0]\n",
    "    df['year'] = year\n",
    "    df['GROUP_SET'] = 'Players'\n",
    "    #df = df.drop(columns=['TEAM_ABBREVIATION','AGE'])\n",
    "    old = pd.read_csv('windex_ps.csv')\n",
    "    old = old[old.year!=year]\n",
    "    \n",
    "    to_save = pd.concat([old,df])\n",
    "    to_save.drop(columns=[col for col in to_save.columns if 'Unnamed' in col],inplace = True)\n",
    "    return to_save\n",
    "to_save= update(2024)\n",
    "to_save.to_csv('windex.csv',index=False)\n",
    "#to_save2= update(2024)\n",
    "\n",
    "#to_save2.to_csv('windex_ps.csv',index=False)"
   ]
  },
  {
   "cell_type": "code",
   "execution_count": null,
   "id": "82b6e1a7-b6e1-493e-a79c-26d1356d5523",
   "metadata": {},
   "outputs": [],
   "source": []
  }
 ],
 "metadata": {
  "kernelspec": {
   "display_name": "Python 3 (ipykernel)",
   "language": "python",
   "name": "python3"
  },
  "language_info": {
   "codemirror_mode": {
    "name": "ipython",
    "version": 3
   },
   "file_extension": ".py",
   "mimetype": "text/x-python",
   "name": "python",
   "nbconvert_exporter": "python",
   "pygments_lexer": "ipython3",
   "version": "3.10.12"
  }
 },
 "nbformat": 4,
 "nbformat_minor": 5
}
