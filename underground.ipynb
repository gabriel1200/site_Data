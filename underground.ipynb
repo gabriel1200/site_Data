{
 "cells": [
  {
   "cell_type": "code",
   "execution_count": 1,
   "id": "cd2453d1-7ea3-416b-95ed-51e1052f6a53",
   "metadata": {},
   "outputs": [],
   "source": [
    "import pandas as pd\n",
    "import requests\n",
    "\n",
    "\n",
    "# In[3]:\n",
    "\n",
    "\n",
    "url = \"https://api.pbpstats.com/get-totals/nba\"\n",
    "params = {\n",
    "    \"Season\": \"2023-24\",\n",
    "    \"SeasonType\": \"Regular Season\",\n",
    "    \"Type\": \"Player\"\n",
    "}\n",
    "response = requests.get(url, params=params)\n",
    "response_json = response.json()\n",
    "player_stats = response_json[\"multi_row_table_data\"]\n",
    "df = pd.DataFrame(player_stats)\n",
    "#print(df.columns)\n",
    "col = ['Name','Minutes','Points','FG2M', 'FG2A', 'FG3M', 'FG3A', 'TsPct','AssistPoints','AtRimAssists','ShortMidRangeAssists', 'LongMidRangeAssists','Corner3Assists','Arc3Assists','LostBallSteals', 'LiveBallTurnovers', 'BadPassOutOfBoundsTurnovers', 'BadPassTurnovers',\n",
    "       'DeadBallTurnovers', 'LostBallOutOfBoundsTurnovers', 'LostBallTurnovers', 'StepOutOfBoundsTurnovers', 'Travels', 'Turnovers','OffensiveGoaltends','FTA','OffPoss','PtsAssisted2s',\n",
    "'PtsUnassisted2s',\n",
    "'PtsAssisted3s',\n",
    "'PtsUnassisted3s',\n",
    " 'DefPoss','TotalPoss']\n",
    "df[col].to_csv('wowy/player_small.csv',index = False)\n",
    "#df[col].to_csv('2024/player_tracking/player_small.csv',index = False)\n",
    "df.to_csv('wowy/player_large.csv',index = False)\n",
    "\n"
   ]
  },
  {
   "cell_type": "code",
   "execution_count": 2,
   "id": "459bb78c-bbff-49b1-9432-8244d0482bac",
   "metadata": {},
   "outputs": [],
   "source": [
    "year = 2024\n",
    "df['year'] = year\n",
    "shotzone = df[['Name','EntityId','TeamId','TeamAbbreviation','GamesPlayed','OffPoss','DefPoss','Minutes','FtPoints','FTA','AtRimFGA','AtRimFGM','AtRimAccuracy','ShortMidRangeFGA','ShortMidRangeFGM',\n",
    "        'ShortMidRangeAccuracy','ShortMidRangeFrequency','LongMidRangeFGM','LongMidRangeFGA','FG2A','FG2M','FG3A','NonHeaveFg3Pct','NonHeaveArc3FGA','HeaveAttempts','Corner3FGA','Corner3FGM','NonHeaveFg3Pct'\n",
    "                ,'NonHeaveArc3FGM','TsPct','Points','EfgPct','SecondChanceEfgPct','PenaltyEfgPct','SecondChanceTsPct','PenaltyTsPct','SecondChanceShotQualityAvg','PenaltyShotQualityAvg','ShotQualityAvg','year']]\n",
    "\n",
    "#shotzone"
   ]
  },
  {
   "cell_type": "code",
   "execution_count": 3,
   "id": "910d8b74-c21d-49f0-b5ba-1798ef796d3d",
   "metadata": {},
   "outputs": [],
   "source": [
    "old = pd.read_csv('shotzone.csv')\n",
    "\n",
    "old = old.rename(columns = {'NonHeaveFg3Pct.1':'NonHeaveFg3Pct'})\n",
    "\n",
    "old = old[old.year<year]\n",
    "shots = []\n",
    "shots.append(old)\n",
    "shots.append(shotzone)\n",
    "master = pd.concat(shots)\n",
    "master.to_csv('shotzone.csv',index = False)"
   ]
  },
  {
   "cell_type": "code",
   "execution_count": null,
   "id": "c577074a-fcde-46b9-8ea3-d9fc831aacd9",
   "metadata": {},
   "outputs": [],
   "source": []
  },
  {
   "cell_type": "code",
   "execution_count": null,
   "id": "06d2904a-80a9-4567-b50e-3c20d922cdd2",
   "metadata": {},
   "outputs": [],
   "source": []
  },
  {
   "cell_type": "code",
   "execution_count": null,
   "id": "3464f07b-6274-42a6-9e53-7489f9ef7861",
   "metadata": {},
   "outputs": [],
   "source": []
  }
 ],
 "metadata": {
  "kernelspec": {
   "display_name": "Python 3 (ipykernel)",
   "language": "python",
   "name": "python3"
  },
  "language_info": {
   "codemirror_mode": {
    "name": "ipython",
    "version": 3
   },
   "file_extension": ".py",
   "mimetype": "text/x-python",
   "name": "python",
   "nbconvert_exporter": "python",
   "pygments_lexer": "ipython3",
   "version": "3.10.11"
  }
 },
 "nbformat": 4,
 "nbformat_minor": 5
}
