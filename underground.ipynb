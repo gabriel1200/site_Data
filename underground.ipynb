{
 "cells": [
  {
   "cell_type": "code",
   "execution_count": 1,
   "id": "588cf45c-e4b0-4028-97db-6a7fc9e41fce",
   "metadata": {},
   "outputs": [],
   "source": [
    "import pandas as pd\n",
    "import requests\n"
   ]
  },
  {
   "cell_type": "code",
   "execution_count": 2,
   "id": "a2f788cb-a76d-4980-9f13-33e70a66efe8",
   "metadata": {},
   "outputs": [],
   "source": [
    "url = \"https://api.pbpstats.com/get-totals/nba\"\n",
    "params = {\n",
    "    \"Season\": \"2022-23\",\n",
    "    \"SeasonType\": \"Regular Season\",\n",
    "    \"Type\": \"Player\"\n",
    "}\n",
    "response = requests.get(url, params=params)\n",
    "response_json = response.json()\n",
    "player_stats = response_json[\"multi_row_table_data\"]\n",
    "df = pd.DataFrame(player_stats)\n",
    "col = ['Name','Minutes','Points','FG2M', 'FG2A', 'FG3M', 'FG3A', 'TsPct','AssistPoints','AtRimAssists','ShortMidRangeAssists', 'LongMidRangeAssists','Corner3Assists','Arc3Assists','LostBallSteals', 'LiveBallTurnovers', 'BadPassOutOfBoundsTurnovers', 'BadPassTurnovers',\n",
    "       'DeadBallTurnovers', 'LostBallOutOfBoundsTurnovers', 'LostBallTurnovers', 'StepOutOfBoundsTurnovers', 'Travels', 'Turnovers','OffensiveGoaltends','FTA','OffPoss',\n",
    " 'DefPoss','TotalPoss']\n",
    "df[col].to_csv('wowy/player_small.csv',index = False)\n",
    "df.to_csv('wowy/player_large.csv',index = False)"
   ]
  },
  {
   "cell_type": "code",
   "execution_count": 3,
   "id": "951966d3-d704-4a4d-ae26-a2377c67a743",
   "metadata": {},
   "outputs": [],
   "source": [
    "\n",
    "def get_sheets(season):\n",
    "    frames = []\n",
    "    for i in range(2000,2023):\n",
    "        url = \"https://api.pbpstats.com/get-totals/nba\"\n",
    "        params = {\n",
    "            \"Season\": str(i) +\"-\" +str(i+1)[2:],\n",
    "            \"SeasonType\":season,\n",
    "            \"Type\": \"Team\"\n",
    "        }\n",
    "        response = requests.get(url, params=params)\n",
    "        response_json = response.json()\n",
    "        #print(response_json)\n",
    "        team_stats = response_json[\"multi_row_table_data\"]\n",
    "        df = pd.DataFrame(team_stats)\n",
    "        #print(df.head(1))\n",
    "        df['year'] = i +1\n",
    "        frames.append(df)\n",
    "    return frames"
   ]
  },
  {
   "cell_type": "code",
   "execution_count": 4,
   "id": "19eff2b5-8b05-4301-a9c2-7145c5d7119a",
   "metadata": {},
   "outputs": [],
   "source": [
    "#rframes = get_sheets('Regular Season')\n",
    "#pframes = get_sheets('Playoffs')\n"
   ]
  },
  {
   "cell_type": "code",
   "execution_count": 5,
   "id": "1814f048-fdd7-4145-87fa-4dbee904115f",
   "metadata": {},
   "outputs": [],
   "source": [
    "#pdf = pd.concat(pframes)\n",
    "#rdf = pd.concat(rframes)"
   ]
  },
  {
   "cell_type": "code",
   "execution_count": 6,
   "id": "50d20feb-7de8-4075-8eb9-c1c81daab360",
   "metadata": {},
   "outputs": [],
   "source": [
    "#pdf.to_csv('pbp/team_playoff.csv',index = False)\n",
    "#rdf.to_csv('pbp/team_regular.csv',index = False)\n"
   ]
  },
  {
   "cell_type": "code",
   "execution_count": null,
   "id": "782506ab-b524-4d20-b283-26d762d1bff6",
   "metadata": {},
   "outputs": [],
   "source": []
  },
  {
   "cell_type": "code",
   "execution_count": 89,
   "id": "5e7bb6dd-ba7f-4e54-96ed-0b7c914742b9",
   "metadata": {},
   "outputs": [],
   "source": [
    "rdf = pd.read_csv('pbp/team_regular.csv')\n",
    "pdf = pd.read_csv('pbp/team_playoff.csv')\n",
    "rdf['ortg'] = (100*rdf['Points']/rdf['OffPoss']).round(2)\n",
    "rdf['drtg'] = (100*rdf['OpponentPoints']/rdf['DefPoss']).round(2)\n",
    "\n",
    "pdf['ortg'] = (100*pdf['Points']/pdf['OffPoss']).round(2)\n",
    "pdf['drtg'] = (100*pdf['OpponentPoints']/pdf['DefPoss']).round(2)\n",
    "col = [ 'SecondsPerPossOff',\n",
    " 'SecondsPerPossDef',\n",
    " 'SecondsExcludingORebsPerPossOff',\n",
    " 'SecondsExcludingORebsPerPossDef',\n",
    "      'ortg',\n",
    "      'drtg',\n",
    "       'Pace',\n",
    "      'Name',\n",
    "       'year'\n",
    "      ]\n",
    "pdf = pdf[col]\n",
    "\n",
    "rdf = rdf[col]\n",
    "\n",
    "df = rdf.merge(pdf, on =['Name','year'],suffixes=('_r', '_p'),how = 'left')\n",
    "#ofspeed = 'SecondsExcludingORebsPerPossOff'\n",
    "#dfspeed = 'SecondsExcludingORebsPerPossDef'\n",
    "ofspeed= 'SecondsPerPossOff'\n",
    "dfspeed ='SecondsPerPossDef'"
   ]
  },
  {
   "cell_type": "code",
   "execution_count": 90,
   "id": "44b04706-e8fd-4080-8296-07831d6b4a48",
   "metadata": {},
   "outputs": [
    {
     "data": {
      "text/plain": [
       "0       91.522343\n",
       "1       95.014858\n",
       "2       89.975855\n",
       "3       90.066734\n",
       "4       92.232558\n",
       "          ...    \n",
       "681     98.931488\n",
       "682     98.110331\n",
       "683     95.096234\n",
       "684     99.684682\n",
       "685    100.467277\n",
       "Name: Pace, Length: 686, dtype: float64"
      ]
     },
     "execution_count": 90,
     "metadata": {},
     "output_type": "execute_result"
    }
   ],
   "source": [
    "rdf['Pace']"
   ]
  },
  {
   "cell_type": "code",
   "execution_count": 91,
   "id": "f9f43e08-b357-4a59-9a32-340edc9b571c",
   "metadata": {},
   "outputs": [],
   "source": [
    "df = df.dropna(subset ='drtg_p')"
   ]
  },
  {
   "cell_type": "code",
   "execution_count": 92,
   "id": "c4eea9ea-d33c-4983-8a5a-f659640fa032",
   "metadata": {},
   "outputs": [],
   "source": [
    "df['speed_change'] =df[ofspeed+'_p'] - df[ofspeed+'_r'] \n",
    "df['def_speed_change'] =df[dfspeed+'_p'] - df[dfspeed+'_r'] \n",
    "#change in speed between regular season and postseason\n",
    "df['ortg_change'] = df['ortg_r'] - df['ortg_p']\n",
    "df['drtg_change'] = df['drtg_r'] - df['drtg_p']\n",
    "df['pace_change'] = df['Pace_r'] - df['Pace_p']\n",
    "#change in ortg between regular & post seasons"
   ]
  },
  {
   "cell_type": "code",
   "execution_count": 93,
   "id": "fbfee7b0-2067-43f8-b13f-253e91704bbf",
   "metadata": {},
   "outputs": [
    {
     "data": {
      "text/html": [
       "<div>\n",
       "<style scoped>\n",
       "    .dataframe tbody tr th:only-of-type {\n",
       "        vertical-align: middle;\n",
       "    }\n",
       "\n",
       "    .dataframe tbody tr th {\n",
       "        vertical-align: top;\n",
       "    }\n",
       "\n",
       "    .dataframe thead th {\n",
       "        text-align: right;\n",
       "    }\n",
       "</style>\n",
       "<table border=\"1\" class=\"dataframe\">\n",
       "  <thead>\n",
       "    <tr style=\"text-align: right;\">\n",
       "      <th></th>\n",
       "      <th>pace_change</th>\n",
       "      <th>year</th>\n",
       "    </tr>\n",
       "  </thead>\n",
       "  <tbody>\n",
       "    <tr>\n",
       "      <th>2</th>\n",
       "      <td>0.725855</td>\n",
       "      <td>2001</td>\n",
       "    </tr>\n",
       "    <tr>\n",
       "      <th>3</th>\n",
       "      <td>4.066734</td>\n",
       "      <td>2001</td>\n",
       "    </tr>\n",
       "    <tr>\n",
       "      <th>5</th>\n",
       "      <td>3.867441</td>\n",
       "      <td>2001</td>\n",
       "    </tr>\n",
       "    <tr>\n",
       "      <th>9</th>\n",
       "      <td>4.884007</td>\n",
       "      <td>2001</td>\n",
       "    </tr>\n",
       "    <tr>\n",
       "      <th>15</th>\n",
       "      <td>-0.593474</td>\n",
       "      <td>2001</td>\n",
       "    </tr>\n",
       "    <tr>\n",
       "      <th>...</th>\n",
       "      <td>...</td>\n",
       "      <td>...</td>\n",
       "    </tr>\n",
       "    <tr>\n",
       "      <th>646</th>\n",
       "      <td>6.723342</td>\n",
       "      <td>2022</td>\n",
       "    </tr>\n",
       "    <tr>\n",
       "      <th>648</th>\n",
       "      <td>-1.881450</td>\n",
       "      <td>2022</td>\n",
       "    </tr>\n",
       "    <tr>\n",
       "      <th>650</th>\n",
       "      <td>2.661035</td>\n",
       "      <td>2022</td>\n",
       "    </tr>\n",
       "    <tr>\n",
       "      <th>652</th>\n",
       "      <td>-2.185162</td>\n",
       "      <td>2022</td>\n",
       "    </tr>\n",
       "    <tr>\n",
       "      <th>655</th>\n",
       "      <td>1.263811</td>\n",
       "      <td>2022</td>\n",
       "    </tr>\n",
       "  </tbody>\n",
       "</table>\n",
       "<p>352 rows × 2 columns</p>\n",
       "</div>"
      ],
      "text/plain": [
       "     pace_change  year\n",
       "2       0.725855  2001\n",
       "3       4.066734  2001\n",
       "5       3.867441  2001\n",
       "9       4.884007  2001\n",
       "15     -0.593474  2001\n",
       "..           ...   ...\n",
       "646     6.723342  2022\n",
       "648    -1.881450  2022\n",
       "650     2.661035  2022\n",
       "652    -2.185162  2022\n",
       "655     1.263811  2022\n",
       "\n",
       "[352 rows x 2 columns]"
      ]
     },
     "execution_count": 93,
     "metadata": {},
     "output_type": "execute_result"
    }
   ],
   "source": [
    "df[['pace_change','year']]"
   ]
  },
  {
   "cell_type": "code",
   "execution_count": 94,
   "id": "88169643-4e56-4f10-9e7a-c455d6c38aac",
   "metadata": {},
   "outputs": [
    {
     "name": "stdout",
     "output_type": "stream",
     "text": [
      "-0.45379772724609846\n",
      "-0.22552777585497122\n",
      "-0.3097899465598634\n"
     ]
    }
   ],
   "source": [
    "print(df['ortg_r'].corr(df[ofspeed+'_r']))\n",
    "print(df['ortg_p'].corr(df[ofspeed+'_p']))\n",
    "print(df['ortg_p'].corr(df[ofspeed+'_r']))\n"
   ]
  },
  {
   "cell_type": "code",
   "execution_count": 95,
   "id": "03e2b3e1-4883-4f96-af39-b8a714b1edd7",
   "metadata": {},
   "outputs": [
    {
     "data": {
      "text/plain": [
       "<AxesSubplot:xlabel='ortg_r', ylabel='SecondsPerPossOff_r'>"
      ]
     },
     "execution_count": 95,
     "metadata": {},
     "output_type": "execute_result"
    },
    {
     "data": {
      "image/png": "[encoded data removed]",
      "text/plain": [
       "<Figure size 432x288 with 1 Axes>"
      ]
     },
     "metadata": {
      "needs_background": "light"
     },
     "output_type": "display_data"
    }
   ],
   "source": [
    "df.plot.scatter(x='ortg_r',y=ofspeed+'_r')"
   ]
  },
  {
   "cell_type": "code",
   "execution_count": 96,
   "id": "4076855d-adb6-4f07-9759-8b3e704afd6b",
   "metadata": {},
   "outputs": [
    {
     "name": "stdout",
     "output_type": "stream",
     "text": [
      "-0.2569213583054551\n"
     ]
    }
   ],
   "source": [
    "\n",
    "#print(df['drtg_r'].corr(df[dfspeed+'_r']))\n",
    "print(df[dfspeed+'_p'].corr(df['drtg_p']))"
   ]
  },
  {
   "cell_type": "code",
   "execution_count": 97,
   "id": "1cca0e23-186b-4d99-8be5-4873974f30b1",
   "metadata": {},
   "outputs": [
    {
     "data": {
      "text/plain": [
       "<AxesSubplot:xlabel='speed_change', ylabel='drtg_change'>"
      ]
     },
     "execution_count": 97,
     "metadata": {},
     "output_type": "execute_result"
    },
    {
     "data": {
      "image/png": "[encoded data removed]",
      "text/plain": [
       "<Figure size 432x288 with 1 Axes>"
      ]
     },
     "metadata": {
      "needs_background": "light"
     },
     "output_type": "display_data"
    }
   ],
   "source": [
    "df.plot.scatter(x='speed_change',y='drtg_change')"
   ]
  },
  {
   "cell_type": "code",
   "execution_count": 98,
   "id": "afd8a562-1b23-4bcd-a0bf-60530ce7382a",
   "metadata": {},
   "outputs": [
    {
     "data": {
      "text/plain": [
       "year\n",
       "2001   -1.395749\n",
       "2002   -0.790494\n",
       "2003   -0.907478\n",
       "2004   -1.100321\n",
       "2005   -1.261379\n",
       "2006   -1.503085\n",
       "2007   -2.021198\n",
       "2008   -3.705623\n",
       "2009   -3.778824\n",
       "2010   -2.836865\n",
       "2011   -4.078766\n",
       "2012   -2.365164\n",
       "2013   -2.012729\n",
       "2014   -3.220409\n",
       "2015    0.484665\n",
       "2016   -2.872250\n",
       "2017   -1.947268\n",
       "2018   -1.200127\n",
       "2019   -2.054487\n",
       "2020   -1.979361\n",
       "2021   -2.764696\n",
       "2022   -2.833893\n",
       "2023         NaN\n",
       "Name: Pace, dtype: float64"
      ]
     },
     "execution_count": 98,
     "metadata": {},
     "output_type": "execute_result"
    }
   ],
   "source": [
    "reg_speed = rdf.groupby('year')['Pace'].mean()\n",
    "\n",
    "pos_speed = pdf.groupby('year')['Pace'].mean()\n",
    "pos_speed - reg_speed"
   ]
  },
  {
   "cell_type": "code",
   "execution_count": 99,
   "id": "7c925dbf-0997-49f5-9192-6981aee016d4",
   "metadata": {},
   "outputs": [
    {
     "data": {
      "text/plain": [
       "year\n",
       "2001    0.286580\n",
       "2002    0.065401\n",
       "2003    0.172254\n",
       "2004    0.335795\n",
       "2005    0.359005\n",
       "2006    0.339758\n",
       "2007    0.399820\n",
       "2008    0.862110\n",
       "2009    0.715776\n",
       "2010    0.577107\n",
       "2011    0.886442\n",
       "2012    0.281582\n",
       "2013    0.513589\n",
       "2014    0.540480\n",
       "2015   -0.024579\n",
       "2016    0.516363\n",
       "2017    0.326387\n",
       "2018    0.233113\n",
       "2019    0.258123\n",
       "2020    0.282968\n",
       "2021    0.428418\n",
       "2022    0.483502\n",
       "2023         NaN\n",
       "Name: SecondsPerPossDef, dtype: float64"
      ]
     },
     "execution_count": 99,
     "metadata": {},
     "output_type": "execute_result"
    }
   ],
   "source": [
    "def_reg = rdf.groupby('year')[dfspeed].mean()\n",
    "\n",
    "def_pos = pdf.groupby('year')[dfspeed].mean()\n",
    "def_pos - def_reg"
   ]
  },
  {
   "cell_type": "code",
   "execution_count": 88,
   "id": "daad6f1a-a869-439e-a4cf-8efcf8033ea5",
   "metadata": {},
   "outputs": [
    {
     "data": {
      "text/plain": [
       "year\n",
       "2001    0.250398\n",
       "2002    0.211715\n",
       "2003    0.147143\n",
       "2004    0.118702\n",
       "2005    0.122266\n",
       "2006    0.290905\n",
       "2007    0.308405\n",
       "2008    0.370654\n",
       "2009    0.633196\n",
       "2010    0.395183\n",
       "2011    0.538872\n",
       "2012    0.520642\n",
       "2013    0.247196\n",
       "2014    0.508604\n",
       "2015   -0.090366\n",
       "2016    0.421382\n",
       "2017    0.336858\n",
       "2018    0.187308\n",
       "2019    0.332709\n",
       "2020    0.365232\n",
       "2021    0.402909\n",
       "2022    0.448852\n",
       "2023         NaN\n",
       "dtype: float64"
      ]
     },
     "execution_count": 88,
     "metadata": {},
     "output_type": "execute_result"
    }
   ],
   "source": [
    "off_reg = rdf.groupby('year')[ofspeed].mean()\n",
    "\n",
    "off_pos = pdf.groupby('year')[ofspeed].mean()\n",
    "off_pos - def_reg"
   ]
  },
  {
   "cell_type": "code",
   "execution_count": 59,
   "id": "ce1e74fd-43c5-4df0-b6a7-bcba1cc974b3",
   "metadata": {},
   "outputs": [
    {
     "data": {
      "text/plain": [
       "[]"
      ]
     },
     "execution_count": 59,
     "metadata": {},
     "output_type": "execute_result"
    }
   ],
   "source": [
    "rdf[rdf.year ==2023][['Name','drtg']].sort_values(by = 'drtg')\n",
    "test = [x for x in rdf.columns if 'speed' in x.lower()]\n",
    "test"
   ]
  },
  {
   "cell_type": "code",
   "execution_count": 103,
   "id": "8638e591-dc26-4905-bde4-4faa23e9ff42",
   "metadata": {},
   "outputs": [],
   "source": [
    "series = pd.read_csv('../playoffs/series_ratings.csv')"
   ]
  },
  {
   "cell_type": "code",
   "execution_count": 104,
   "id": "095e15ed-5ae6-42d3-8b98-22f0c9ddeabd",
   "metadata": {},
   "outputs": [
    {
     "data": {
      "text/html": [
       "<div>\n",
       "<style scoped>\n",
       "    .dataframe tbody tr th:only-of-type {\n",
       "        vertical-align: middle;\n",
       "    }\n",
       "\n",
       "    .dataframe tbody tr th {\n",
       "        vertical-align: top;\n",
       "    }\n",
       "\n",
       "    .dataframe thead th {\n",
       "        text-align: right;\n",
       "    }\n",
       "</style>\n",
       "<table border=\"1\" class=\"dataframe\">\n",
       "  <thead>\n",
       "    <tr style=\"text-align: right;\">\n",
       "      <th></th>\n",
       "      <th>SecondsExcludingORebsPerPossOff_p</th>\n",
       "      <th>SecondsExcludingORebsPerPossOff_r</th>\n",
       "    </tr>\n",
       "  </thead>\n",
       "  <tbody>\n",
       "    <tr>\n",
       "      <th>626</th>\n",
       "      <td>13.833876</td>\n",
       "      <td>13.467029</td>\n",
       "    </tr>\n",
       "    <tr>\n",
       "      <th>629</th>\n",
       "      <td>15.001757</td>\n",
       "      <td>14.377769</td>\n",
       "    </tr>\n",
       "    <tr>\n",
       "      <th>630</th>\n",
       "      <td>13.291064</td>\n",
       "      <td>13.435419</td>\n",
       "    </tr>\n",
       "    <tr>\n",
       "      <th>633</th>\n",
       "      <td>14.722288</td>\n",
       "      <td>14.517040</td>\n",
       "    </tr>\n",
       "    <tr>\n",
       "      <th>636</th>\n",
       "      <td>14.932773</td>\n",
       "      <td>14.514503</td>\n",
       "    </tr>\n",
       "    <tr>\n",
       "      <th>637</th>\n",
       "      <td>14.811966</td>\n",
       "      <td>14.212763</td>\n",
       "    </tr>\n",
       "    <tr>\n",
       "      <th>638</th>\n",
       "      <td>14.922801</td>\n",
       "      <td>14.388882</td>\n",
       "    </tr>\n",
       "    <tr>\n",
       "      <th>641</th>\n",
       "      <td>15.233393</td>\n",
       "      <td>14.293358</td>\n",
       "    </tr>\n",
       "    <tr>\n",
       "      <th>642</th>\n",
       "      <td>15.405430</td>\n",
       "      <td>14.916128</td>\n",
       "    </tr>\n",
       "    <tr>\n",
       "      <th>643</th>\n",
       "      <td>14.684492</td>\n",
       "      <td>14.070898</td>\n",
       "    </tr>\n",
       "    <tr>\n",
       "      <th>645</th>\n",
       "      <td>14.222222</td>\n",
       "      <td>14.461606</td>\n",
       "    </tr>\n",
       "    <tr>\n",
       "      <th>646</th>\n",
       "      <td>14.545757</td>\n",
       "      <td>13.772471</td>\n",
       "    </tr>\n",
       "    <tr>\n",
       "      <th>648</th>\n",
       "      <td>14.971888</td>\n",
       "      <td>14.182372</td>\n",
       "    </tr>\n",
       "    <tr>\n",
       "      <th>650</th>\n",
       "      <td>15.827399</td>\n",
       "      <td>15.082702</td>\n",
       "    </tr>\n",
       "    <tr>\n",
       "      <th>652</th>\n",
       "      <td>13.600164</td>\n",
       "      <td>13.733578</td>\n",
       "    </tr>\n",
       "    <tr>\n",
       "      <th>655</th>\n",
       "      <td>13.931700</td>\n",
       "      <td>13.832379</td>\n",
       "    </tr>\n",
       "  </tbody>\n",
       "</table>\n",
       "</div>"
      ],
      "text/plain": [
       "     SecondsExcludingORebsPerPossOff_p  SecondsExcludingORebsPerPossOff_r\n",
       "626                          13.833876                          13.467029\n",
       "629                          15.001757                          14.377769\n",
       "630                          13.291064                          13.435419\n",
       "633                          14.722288                          14.517040\n",
       "636                          14.932773                          14.514503\n",
       "637                          14.811966                          14.212763\n",
       "638                          14.922801                          14.388882\n",
       "641                          15.233393                          14.293358\n",
       "642                          15.405430                          14.916128\n",
       "643                          14.684492                          14.070898\n",
       "645                          14.222222                          14.461606\n",
       "646                          14.545757                          13.772471\n",
       "648                          14.971888                          14.182372\n",
       "650                          15.827399                          15.082702\n",
       "652                          13.600164                          13.733578\n",
       "655                          13.931700                          13.832379"
      ]
     },
     "execution_count": 104,
     "metadata": {},
     "output_type": "execute_result"
    }
   ],
   "source": [
    "test = df[df.year==2022]\n",
    "test[[ofspeed+'_p',ofspeed+'_r']]"
   ]
  },
  {
   "cell_type": "code",
   "execution_count": 61,
   "id": "4c61b78a-49b2-4479-aca7-5accd6737075",
   "metadata": {},
   "outputs": [
    {
     "data": {
      "text/plain": [
       "Index(['SecondsPerPossOff', 'SecondsPerPossDef',\n",
       "       'SecondsExcludingORebsPerPossOff', 'SecondsExcludingORebsPerPossDef',\n",
       "       'ortg', 'drtg', 'Name', 'year'],\n",
       "      dtype='object')"
      ]
     },
     "execution_count": 61,
     "metadata": {},
     "output_type": "execute_result"
    }
   ],
   "source": [
    "rdf.columns"
   ]
  },
  {
   "cell_type": "code",
   "execution_count": null,
   "id": "000b89be-51ef-41d8-bbb7-c97808c183f1",
   "metadata": {},
   "outputs": [],
   "source": []
  }
 ],
 "metadata": {
  "kernelspec": {
   "display_name": "Python 3",
   "language": "python",
   "name": "python3"
  },
  "language_info": {
   "codemirror_mode": {
    "name": "ipython",
    "version": 3
   },
   "file_extension": ".py",
   "mimetype": "text/x-python",
   "name": "python",
   "nbconvert_exporter": "python",
   "pygments_lexer": "ipython3",
   "version": "3.8.8"
  }
 },
 "nbformat": 4,
 "nbformat_minor": 5
}
