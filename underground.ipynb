{
 "cells": [
  {
   "cell_type": "code",
   "execution_count": 1,
   "id": "cd2453d1-7ea3-416b-95ed-51e1052f6a53",
   "metadata": {},
   "outputs": [],
   "source": [
    "import pandas as pd\n",
    "import requests\n",
    "\n",
    "\n",
    "# In[3]:\n",
    "\n",
    "\n",
    "url = \"https://api.pbpstats.com/get-totals/nba\"\n",
    "params = {\n",
    "    \"Season\": \"2023-24\",\n",
    "    \"SeasonType\": \"Regular Season\",\n",
    "    \"Type\": \"Player\"\n",
    "}\n",
    "response = requests.get(url, params=params)\n",
    "response_json = response.json()\n",
    "player_stats = response_json[\"multi_row_table_data\"]\n",
    "df = pd.DataFrame(player_stats)\n",
    "col = ['Name','Minutes','Points','FG2M', 'FG2A', 'FG3M', 'FG3A', 'TsPct','AssistPoints','AtRimAssists','ShortMidRangeAssists', 'LongMidRangeAssists','Corner3Assists','Arc3Assists','LostBallSteals', 'LiveBallTurnovers', 'BadPassOutOfBoundsTurnovers', 'BadPassTurnovers',\n",
    "       'DeadBallTurnovers', 'LostBallOutOfBoundsTurnovers', 'LostBallTurnovers', 'StepOutOfBoundsTurnovers', 'Travels', 'Turnovers','OffensiveGoaltends','FTA','OffPoss',\n",
    " 'DefPoss','TotalPoss']\n",
    "df[col].to_csv('wowy/player_small.csv',index = False)\n",
    "df.to_csv('wowy/player_large.csv',index = False)\n",
    "\n"
   ]
  },
  {
   "cell_type": "code",
   "execution_count": null,
   "id": "c5ba2512-ce53-444a-8d8d-250f7d05d66f",
   "metadata": {},
   "outputs": [],
   "source": []
  }
 ],
 "metadata": {
  "kernelspec": {
   "display_name": "Python 3 (ipykernel)",
   "language": "python",
   "name": "python3"
  },
  "language_info": {
   "codemirror_mode": {
    "name": "ipython",
    "version": 3
   },
   "file_extension": ".py",
   "mimetype": "text/x-python",
   "name": "python",
   "nbconvert_exporter": "python",
   "pygments_lexer": "ipython3",
   "version": "3.10.11"
  }
 },
 "nbformat": 4,
 "nbformat_minor": 5
}
