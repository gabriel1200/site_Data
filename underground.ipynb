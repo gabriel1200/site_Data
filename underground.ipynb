{
 "cells": [
  {
   "cell_type": "code",
   "execution_count": 2,
   "id": "588cf45c-e4b0-4028-97db-6a7fc9e41fce",
   "metadata": {},
   "outputs": [],
   "source": [
    "import pandas as pd\n",
    "import requests\n"
   ]
  },
  {
   "cell_type": "code",
   "execution_count": 3,
   "id": "a2f788cb-a76d-4980-9f13-33e70a66efe8",
   "metadata": {},
   "outputs": [],
   "source": [
    "url = \"https://api.pbpstats.com/get-totals/nba\"\n",
    "params = {\n",
    "    \"Season\": \"2022-23\",\n",
    "    \"SeasonType\": \"Regular Season\",\n",
    "    \"Type\": \"Player\"\n",
    "}\n",
    "response = requests.get(url, params=params)\n",
    "response_json = response.json()\n",
    "player_stats = response_json[\"multi_row_table_data\"]\n",
    "df = pd.DataFrame(player_stats)\n",
    "col = ['Name','Minutes','Points','FG2M', 'FG2A', 'FG3M', 'FG3A', 'TsPct','AssistPoints','AtRimAssists','ShortMidRangeAssists', 'LongMidRangeAssists','Corner3Assists','Arc3Assists','LostBallSteals', 'LiveBallTurnovers', 'BadPassOutOfBoundsTurnovers', 'BadPassTurnovers',\n",
    "       'DeadBallTurnovers', 'LostBallOutOfBoundsTurnovers', 'LostBallTurnovers', 'StepOutOfBoundsTurnovers', 'Travels', 'Turnovers','OffensiveGoaltends','FTA','OffPoss',\n",
    " 'DefPoss','TotalPoss']\n",
    "df[col].to_csv('wowy/player_small.csv',index = False)\n",
    "df.to_csv('wowy/player_large.csv',index = False)"
   ]
  },
  {
   "cell_type": "code",
   "execution_count": 169,
   "id": "951966d3-d704-4a4d-ae26-a2377c67a743",
   "metadata": {},
   "outputs": [],
   "source": [
    "\n",
    "def get_sheets(season):\n",
    "    frames = []\n",
    "    for i in range(2000,2023):\n",
    "        url = \"https://api.pbpstats.com/get-totals/nba\"\n",
    "        params = {\n",
    "            \"Season\": str(i) +\"-\" +str(i+1)[2:],\n",
    "            \"SeasonType\":season,\n",
    "            \"Type\": \"Team\"\n",
    "        }\n",
    "        response = requests.get(url, params=params)\n",
    "        response_json = response.json()\n",
    "        #print(response_json)\n",
    "        team_stats = response_json[\"multi_row_table_data\"]\n",
    "        df = pd.DataFrame(team_stats)\n",
    "        #print(df.head(1))\n",
    "        df['year'] = i +1\n",
    "        frames.append(df)\n",
    "    return frames"
   ]
  },
  {
   "cell_type": "code",
   "execution_count": 4,
   "id": "19eff2b5-8b05-4301-a9c2-7145c5d7119a",
   "metadata": {},
   "outputs": [
    {
     "data": {
      "text/plain": [
       "\"\\nrframes = get_sheets('Regular Season')\\npframes = get_sheets('Playoffs')\\npdf = pd.concat(pframes)\\nrdf = pd.concat(rframes)\\npdf.to_csv('pbp/team_playoff.csv',index = False)\\nrdf.to_csv('pbp/team_regular.csv',index = False)\\n\""
      ]
     },
     "execution_count": 4,
     "metadata": {},
     "output_type": "execute_result"
    }
   ],
   "source": [
    "'''\n",
    "rframes = get_sheets('Regular Season')\n",
    "pframes = get_sheets('Playoffs')\n",
    "pdf = pd.concat(pframes)\n",
    "rdf = pd.concat(rframes)\n",
    "pdf.to_csv('pbp/team_playoff.csv',index = False)\n",
    "rdf.to_csv('pbp/team_regular.csv',index = False)\n",
    "'''"
   ]
  },
  {
   "cell_type": "code",
   "execution_count": 171,
   "id": "1814f048-fdd7-4145-87fa-4dbee904115f",
   "metadata": {},
   "outputs": [],
   "source": []
  },
  {
   "cell_type": "code",
   "execution_count": 172,
   "id": "50d20feb-7de8-4075-8eb9-c1c81daab360",
   "metadata": {},
   "outputs": [],
   "source": []
  },
  {
   "cell_type": "code",
   "execution_count": null,
   "id": "782506ab-b524-4d20-b283-26d762d1bff6",
   "metadata": {},
   "outputs": [],
   "source": []
  },
  {
   "cell_type": "code",
   "execution_count": 198,
   "id": "5e7bb6dd-ba7f-4e54-96ed-0b7c914742b9",
   "metadata": {},
   "outputs": [],
   "source": [
    "\n"
   ]
  },
  {
   "cell_type": "code",
   "execution_count": 1,
   "id": "377a050b-e5ec-4863-846a-c220223f824a",
   "metadata": {},
   "outputs": [
    {
     "data": {
      "text/plain": [
       "\"\\nrdf = pd.read_csv('pbp/team_regular.csv')\\npdf = pd.read_csv('pbp/team_playoff.csv')\\n\\nrdf['ortg'] = (100*rdf['Points']/rdf['OffPoss']).round(2)\\nrdf['drtg'] = (100*rdf['OpponentPoints']/rdf['DefPoss']).round(2)\\n#calculating team offensive & defensive rating\\npdf['ortg'] = (100*pdf['Points']/pdf['OffPoss']).round(2)\\npdf['drtg'] = (100*pdf['OpponentPoints']/pdf['DefPoss']).round(2)\\n\\n\\ncol = [ 'SecondsPerPossOff',\\n 'SecondsPerPossDef',\\n 'SecondsExcludingORebsPerPossOff',\\n 'SecondsExcludingORebsPerPossDef',\\n      'ortg',\\n      'drtg',\\n       'Pace',\\n      'Name',\\n       'year'\\n      ]\\npdf = pdf[col]\\n\\nrdf = rdf[col]\\n\\ndf = rdf.merge(pdf, on =['Name','year'],suffixes=('_r', '_p'),how = 'left')\\nofspeed = 'SecondsExcludingORebsPerPossOff'\\ndfspeed = 'SecondsExcludingORebsPerPossDef'\\n#ofspeed= 'SecondsPerPossOff'\\n#dfspeed ='SecondsPerPossDef'\\ndef relative_average(df,term,new_term):\\n    #print(df[term+'_r'])\\n    ave = term+'_ave'\\n    rortg = df.groupby('year')[term+'_r'].mean().reset_index()\\n    rortg = rortg.rename(columns={term+'_r':ave})\\n    df = df.merge(rortg,on ='year',how ='left')\\n    df[new_term+'_r'] = df[term+'_r'] - df[ave]\\n    df[new_term+'_p'] = df[term+'_p'] - df[ave]\\n    return df\\ndf = relative_average(df,'ortg','rortg')\\ndf = relative_average(df,ofspeed,'r'+ofspeed)\\ndf = relative_average(df,dfspeed,'r'+dfspeed)\\ndf = relative_average(df,'Pace','rPace')\\ndf = df.dropna(subset ='drtg_p')\\ndf['off_speed_change'] =df['r'+ofspeed+'_p'] - df['r'+ofspeed+'_r'] \\ndf['def_speed_change'] =df['r'+dfspeed+'_p'] - df['r'+dfspeed+'_r'] \\n\\ndefense_change = 'def_speed_change'\\noffense_change = 'off_speed_change'\\n#change in speed between regular season and postseason\\ndf['ortg_change'] = df['ortg_p'] - df['ortg_r']\\ndf['drtg_change'] = df['drtg_r'] - df['drtg_p']\\ndf['pace_change'] = df['Pace_r'] - df['Pace_p']\\n#change in ortg between regular & post seasons\\nmore_speed = df[df[offense_change]<0]\\nmore_speed[more_speed['ortg_change']<0][['Name','year','ortg_p','ortg_r','ortg_change','rortg_r','rortg_p',offense_change]]['rortg_r']\\nless_speed = df[df[offense_change]>0]\\nprint('Teams that sped up had a rortg of '+str(more_speed['rortg_r'].mean().round(2)) +' in the regular season')\\nprint('Teams that slowed down had a rortg of '+str(less_speed['rortg_r'].mean().round(2)) +' in the regular season')\\n\\nprint('The average playoff team had a rortg of '+str(df['rortg_r'].mean().round(2))+' in the regular season')\\ndef_speed = df[df[defense_change]<0]\\ndef_speed[def_speed['drtg_change']>0][['Name','year','drtg_p','drtg_r','drtg_change']]\\nprint(df['ortg_r'].corr(df[ofspeed+'_r']))\\nprint(df['ortg_p'].corr(df[ofspeed+'_p']))\\nprint(df['ortg_p'].corr(df[ofspeed+'_r']))\\ndef_reg = rdf.groupby('year')[dfspeed].mean()\\n\\ndef_pos = pdf.groupby('year')[dfspeed].mean()\\ndef_pos - def_reg\\noff_reg = rdf.groupby('year')[ofspeed].mean()\\n\\noff_pos = pdf.groupby('year')[ofspeed].mean()\\noff_pos - def_reg\\nrdf[rdf.year ==2023][['Name','drtg']].sort_values(by = 'drtg')\\ntest = [x for x in rdf.columns if 'speed' in x.lower()]\\nseries = pd.read_csv('../playoffs/series_ratings.csv')\\ntest = df[df.year==2022]\\ntest[[ofspeed+'_p',ofspeed+'_r']]\\ndf = df.sort_values(by='rPace_r',ascending = False)\\nfastest = df.head(int(len(df)/10))\\nslowest = df.tail(len(df)-int(len(df)/10))\\nfastest.to_csv('fastest.csv',index = False)\\n\""
      ]
     },
     "execution_count": 1,
     "metadata": {},
     "output_type": "execute_result"
    }
   ],
   "source": [
    "'''\n",
    "rdf = pd.read_csv('pbp/team_regular.csv')\n",
    "pdf = pd.read_csv('pbp/team_playoff.csv')\n",
    "\n",
    "rdf['ortg'] = (100*rdf['Points']/rdf['OffPoss']).round(2)\n",
    "rdf['drtg'] = (100*rdf['OpponentPoints']/rdf['DefPoss']).round(2)\n",
    "#calculating team offensive & defensive rating\n",
    "pdf['ortg'] = (100*pdf['Points']/pdf['OffPoss']).round(2)\n",
    "pdf['drtg'] = (100*pdf['OpponentPoints']/pdf['DefPoss']).round(2)\n",
    "\n",
    "\n",
    "col = [ 'SecondsPerPossOff',\n",
    " 'SecondsPerPossDef',\n",
    " 'SecondsExcludingORebsPerPossOff',\n",
    " 'SecondsExcludingORebsPerPossDef',\n",
    "      'ortg',\n",
    "      'drtg',\n",
    "       'Pace',\n",
    "      'Name',\n",
    "       'year'\n",
    "      ]\n",
    "pdf = pdf[col]\n",
    "\n",
    "rdf = rdf[col]\n",
    "\n",
    "df = rdf.merge(pdf, on =['Name','year'],suffixes=('_r', '_p'),how = 'left')\n",
    "ofspeed = 'SecondsExcludingORebsPerPossOff'\n",
    "dfspeed = 'SecondsExcludingORebsPerPossDef'\n",
    "#ofspeed= 'SecondsPerPossOff'\n",
    "#dfspeed ='SecondsPerPossDef'\n",
    "def relative_average(df,term,new_term):\n",
    "    #print(df[term+'_r'])\n",
    "    ave = term+'_ave'\n",
    "    rortg = df.groupby('year')[term+'_r'].mean().reset_index()\n",
    "    rortg = rortg.rename(columns={term+'_r':ave})\n",
    "    df = df.merge(rortg,on ='year',how ='left')\n",
    "    df[new_term+'_r'] = df[term+'_r'] - df[ave]\n",
    "    df[new_term+'_p'] = df[term+'_p'] - df[ave]\n",
    "    return df\n",
    "df = relative_average(df,'ortg','rortg')\n",
    "df = relative_average(df,ofspeed,'r'+ofspeed)\n",
    "df = relative_average(df,dfspeed,'r'+dfspeed)\n",
    "df = relative_average(df,'Pace','rPace')\n",
    "df = df.dropna(subset ='drtg_p')\n",
    "df['off_speed_change'] =df['r'+ofspeed+'_p'] - df['r'+ofspeed+'_r'] \n",
    "df['def_speed_change'] =df['r'+dfspeed+'_p'] - df['r'+dfspeed+'_r'] \n",
    "\n",
    "defense_change = 'def_speed_change'\n",
    "offense_change = 'off_speed_change'\n",
    "#change in speed between regular season and postseason\n",
    "df['ortg_change'] = df['ortg_p'] - df['ortg_r']\n",
    "df['drtg_change'] = df['drtg_r'] - df['drtg_p']\n",
    "df['pace_change'] = df['Pace_r'] - df['Pace_p']\n",
    "#change in ortg between regular & post seasons\n",
    "more_speed = df[df[offense_change]<0]\n",
    "more_speed[more_speed['ortg_change']<0][['Name','year','ortg_p','ortg_r','ortg_change','rortg_r','rortg_p',offense_change]]['rortg_r']\n",
    "less_speed = df[df[offense_change]>0]\n",
    "print('Teams that sped up had a rortg of '+str(more_speed['rortg_r'].mean().round(2)) +' in the regular season')\n",
    "print('Teams that slowed down had a rortg of '+str(less_speed['rortg_r'].mean().round(2)) +' in the regular season')\n",
    "\n",
    "print('The average playoff team had a rortg of '+str(df['rortg_r'].mean().round(2))+' in the regular season')\n",
    "def_speed = df[df[defense_change]<0]\n",
    "def_speed[def_speed['drtg_change']>0][['Name','year','drtg_p','drtg_r','drtg_change']]\n",
    "print(df['ortg_r'].corr(df[ofspeed+'_r']))\n",
    "print(df['ortg_p'].corr(df[ofspeed+'_p']))\n",
    "print(df['ortg_p'].corr(df[ofspeed+'_r']))\n",
    "def_reg = rdf.groupby('year')[dfspeed].mean()\n",
    "\n",
    "def_pos = pdf.groupby('year')[dfspeed].mean()\n",
    "def_pos - def_reg\n",
    "off_reg = rdf.groupby('year')[ofspeed].mean()\n",
    "\n",
    "off_pos = pdf.groupby('year')[ofspeed].mean()\n",
    "off_pos - def_reg\n",
    "rdf[rdf.year ==2023][['Name','drtg']].sort_values(by = 'drtg')\n",
    "test = [x for x in rdf.columns if 'speed' in x.lower()]\n",
    "series = pd.read_csv('../playoffs/series_ratings.csv')\n",
    "test = df[df.year==2022]\n",
    "test[[ofspeed+'_p',ofspeed+'_r']]\n",
    "df = df.sort_values(by='rPace_r',ascending = False)\n",
    "fastest = df.head(int(len(df)/10))\n",
    "slowest = df.tail(len(df)-int(len(df)/10))\n",
    "fastest.to_csv('fastest.csv',index = False)\n",
    "'''"
   ]
  },
  {
   "cell_type": "code",
   "execution_count": 103,
   "id": "8638e591-dc26-4905-bde4-4faa23e9ff42",
   "metadata": {},
   "outputs": [],
   "source": []
  }
 ],
 "metadata": {
  "kernelspec": {
   "display_name": "Python 3 (ipykernel)",
   "language": "python",
   "name": "python3"
  },
  "language_info": {
   "codemirror_mode": {
    "name": "ipython",
    "version": 3
   },
   "file_extension": ".py",
   "mimetype": "text/x-python",
   "name": "python",
   "nbconvert_exporter": "python",
   "pygments_lexer": "ipython3",
   "version": "3.10.11"
  }
 },
 "nbformat": 4,
 "nbformat_minor": 5
}
