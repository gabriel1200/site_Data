{
 "cells": [
  {
   "cell_type": "code",
   "execution_count": 1,
   "id": "fc710f65-376d-4f67-9b8f-dc2f15f65490",
   "metadata": {},
   "outputs": [],
   "source": [
    "import pandas as pd\n"
   ]
  },
  {
   "cell_type": "code",
   "execution_count": 2,
   "id": "26f62b3d-8ab8-42bb-9481-36e602799ea6",
   "metadata": {},
   "outputs": [],
   "source": [
    "df = pd.read_html('https://www.basketball-reference.com/leagues/NBA_2024.html')"
   ]
  },
  {
   "cell_type": "code",
   "execution_count": 3,
   "id": "e855ca85-881d-440f-b101-e52af144457a",
   "metadata": {},
   "outputs": [
    {
     "data": {
      "text/plain": [
       "13"
      ]
     },
     "execution_count": 3,
     "metadata": {},
     "output_type": "execute_result"
    }
   ],
   "source": [
    "len(df)"
   ]
  },
  {
   "cell_type": "code",
   "execution_count": 4,
   "id": "4909c20a-eca8-4f64-a262-c97cb9632d8e",
   "metadata": {},
   "outputs": [],
   "source": [
    "df[0].to_csv('standings/east.csv',index = False)\n",
    "df[1].to_csv('standings/west.csv',index = False)"
   ]
  },
  {
   "cell_type": "code",
   "execution_count": null,
   "id": "e6208d54-5510-411f-93a8-1d8e2b4f2326",
   "metadata": {},
   "outputs": [],
   "source": []
  }
 ],
 "metadata": {
  "kernelspec": {
   "display_name": "Python 3 (ipykernel)",
   "language": "python",
   "name": "python3"
  },
  "language_info": {
   "codemirror_mode": {
    "name": "ipython",
    "version": 3
   },
   "file_extension": ".py",
   "mimetype": "text/x-python",
   "name": "python",
   "nbconvert_exporter": "python",
   "pygments_lexer": "ipython3",
   "version": "3.10.11"
  }
 },
 "nbformat": 4,
 "nbformat_minor": 5
}
