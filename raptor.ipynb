{
 "cells": [
  {
   "cell_type": "code",
   "execution_count": 1,
   "id": "d0c6fda5-486a-4a5b-9260-e86b76d0dc88",
   "metadata": {},
   "outputs": [],
   "source": [
    "link = 'https://raw.githubusercontent.com/fivethirtyeight/data/master/nba-raptor/modern_RAPTOR_by_player.csv'\n",
    "import pandas as pd\n",
    "df = pd.read_csv(link)"
   ]
  },
  {
   "cell_type": "code",
   "execution_count": 3,
   "id": "fe2f9f3c-0c45-4b13-b62c-950f0d487057",
   "metadata": {},
   "outputs": [
    {
     "data": {
      "text/plain": [
       "2014"
      ]
     },
     "execution_count": 3,
     "metadata": {},
     "output_type": "execute_result"
    }
   ],
   "source": [
    "df['season'].min()"
   ]
  },
  {
   "cell_type": "code",
   "execution_count": 4,
   "id": "63421e10-5770-4a46-9c6a-93914de294b1",
   "metadata": {},
   "outputs": [],
   "source": [
    "df.to_csv('full_raptor.csv',index = False)"
   ]
  },
  {
   "cell_type": "code",
   "execution_count": 5,
   "id": "d1dd65ac-3334-4faa-8038-7b8ffb31f03b",
   "metadata": {},
   "outputs": [],
   "source": [
    "for i in range(2014,2023):\n",
    "    path = str(i)+'/raptor.csv'\n",
    "    season =df[df.season==i]\n",
    "    season.to_csv(path)"
   ]
  },
  {
   "cell_type": "code",
   "execution_count": null,
   "id": "b2a74684-56e3-4319-98a2-2bb932e004bc",
   "metadata": {},
   "outputs": [],
   "source": []
  }
 ],
 "metadata": {
  "kernelspec": {
   "display_name": "Python 3",
   "language": "python",
   "name": "python3"
  },
  "language_info": {
   "codemirror_mode": {
    "name": "ipython",
    "version": 3
   },
   "file_extension": ".py",
   "mimetype": "text/x-python",
   "name": "python",
   "nbconvert_exporter": "python",
   "pygments_lexer": "ipython3",
   "version": "3.8.8"
  }
 },
 "nbformat": 4,
 "nbformat_minor": 5
}
