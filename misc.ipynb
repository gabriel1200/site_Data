{
 "cells": [
  {
   "cell_type": "code",
   "execution_count": 1,
   "id": "9700cea0-4705-4969-8ff3-bb192e80ce46",
   "metadata": {},
   "outputs": [],
   "source": [
    "import pandas as pd\n",
    "from selenium import webdriver\n",
    "from bs4 import BeautifulSoup\n",
    "\n",
    "# Step 1: Create a session and load the page\n",
    "url1 = 'https://www.nba.com/stats/players/pullup?PerMode=Totals'\n",
    "url2 = 'https://www.nba.com/stats/players/catch-shoot?PerMode=Totals'\n",
    "url3 = 'https://www.nba.com/stats/players/defense-dash-lt6?PerMode=Totals'\n",
    "url4 = 'https://www.nba.com/stats/teams/isolation?PerMode=Totals'\n",
    "url5 = 'https://www.nba.com/stats/players/transition?PerMode=Totals&dir=D&sort=POSS'\n",
    "url_list = [url1,url2,url3,url4,url5]\n",
    "#url_list=[url5]\n",
    "def get_tables(url_list):\n",
    "    data = []\n",
    "    for url in url_list:\n",
    "        print(url)\n",
    "        driver = webdriver.Chrome()\n",
    "        driver.get(url)\n",
    "\n",
    "        # Wait for the page to fully load\n",
    "        driver.implicitly_wait(8)\n",
    "\n",
    "        # Step 2: Parse HTML code and grab tables with Beautiful Soup\n",
    "        soup = BeautifulSoup(driver.page_source, 'lxml')\n",
    "\n",
    "        tables = soup.find_all('table')\n",
    "\n",
    "        # Step 3: Read tables with Pandas read_html()\n",
    "        dfs = pd.read_html(str(tables))\n",
    "\n",
    "        #print(f'Total tables: {len(dfs)}')\n",
    "        #print(dfs[2].head())\n",
    "    \n",
    "        driver.close()\n",
    "        #return dfs\n",
    "        df= dfs[-1]\n",
    "        #drop = ['Unnamed: 16_level_1', 'Unnamed: 17_level_1', 'Unnamed: 18_level_1']\n",
    "        #df.columns = df.columns.droplevel()\n",
    "        #df = df.drop(columns = drop)\n",
    "        data.append(df)\n",
    "    return data"
   ]
  },
  {
   "cell_type": "code",
   "execution_count": 2,
   "id": "e5fa4692-7e05-44e9-875d-68c405ad9570",
   "metadata": {},
   "outputs": [
    {
     "name": "stdout",
     "output_type": "stream",
     "text": [
      "https://www.nba.com/stats/players/pullup?PerMode=Totals\n",
      "https://www.nba.com/stats/players/catch-shoot?PerMode=Totals\n",
      "https://www.nba.com/stats/players/defense-dash-lt6?PerMode=Totals\n",
      "https://www.nba.com/stats/teams/isolation?PerMode=Totals\n",
      "https://www.nba.com/stats/players/transition?PerMode=Totals&dir=D&sort=POSS\n"
     ]
    }
   ],
   "source": [
    "#url_list = [url1]\n",
    "frames = get_tables(url_list)"
   ]
  },
  {
   "cell_type": "code",
   "execution_count": null,
   "id": "85de83e4-4ad1-4c51-a8cf-efb0d9e573be",
   "metadata": {},
   "outputs": [],
   "source": [
    "frames[0].to_csv('data/pullup.csv',index = False)"
   ]
  },
  {
   "cell_type": "code",
   "execution_count": null,
   "id": "a15d5977-aef3-4ea2-a231-3ae385202ecf",
   "metadata": {},
   "outputs": [],
   "source": [
    "terms = ['data/pullup.csv','data/catchshoot.csv','data/undersix.csv','data/iso.csv','data/transition.csv']\n",
    "\n",
    "for i in range(len(terms)):\n",
    "    df = frames[i]\n",
    "    df.to_csv(terms[i],index = False)\n",
    "   "
   ]
  },
  {
   "cell_type": "code",
   "execution_count": null,
   "id": "af4b3d9f-c3d3-492d-a36a-c21abe1d30d7",
   "metadata": {},
   "outputs": [],
   "source": []
  },
  {
   "cell_type": "code",
   "execution_count": null,
   "id": "66a443ff-1fad-4e0c-b3da-54c0d6fee077",
   "metadata": {},
   "outputs": [],
   "source": []
  }
 ],
 "metadata": {
  "kernelspec": {
   "display_name": "Python 3",
   "language": "python",
   "name": "python3"
  },
  "language_info": {
   "codemirror_mode": {
    "name": "ipython",
    "version": 3
   },
   "file_extension": ".py",
   "mimetype": "text/x-python",
   "name": "python",
   "nbconvert_exporter": "python",
   "pygments_lexer": "ipython3",
   "version": "3.8.8"
  }
 },
 "nbformat": 4,
 "nbformat_minor": 5
}
