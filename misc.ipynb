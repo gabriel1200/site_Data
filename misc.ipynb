{
 "cells": [
  {
   "cell_type": "code",
   "execution_count": 6,
   "id": "9700cea0-4705-4969-8ff3-bb192e80ce46",
   "metadata": {},
   "outputs": [],
   "source": [
    "import pandas as pd\n",
    "from selenium import webdriver\n",
    "from bs4 import BeautifulSoup\n",
    "from pathlib import Path\n",
    "\n",
    "from selenium.webdriver.support.ui import WebDriverWait\n",
    "from selenium.webdriver.support import expected_conditions as EC\n",
    "from selenium.webdriver.common.by import By\n",
    "from selenium.common.exceptions import NoSuchElementException\n",
    "from selenium.common.exceptions import ElementNotInteractableException \n",
    "\n",
    "# Step 1: Create a session and load the page\n",
    "'''\n",
    "url1 = 'https://www.nba.com/stats/players/pullup?PerMode=Totals'\n",
    "url2 = 'https://www.nba.com/stats/players/catch-shoot?PerMode=Totals'\n",
    "url3 = 'https://www.nba.com/stats/players/defense-dash-lt6?PerMode=Totals'\n",
    "url4 = 'https://www.nba.com/stats/teams/isolation?PerMode=Totals'\n",
    "url5 = 'https://www.nba.com/stats/players/transition?PerMode=Totals&dir=D&sort=POSS'\n",
    "'''\n",
    "cs ='https://www.nba.com/stats/players/catch-shoot?PerMode=Totals'\n",
    "pullup ='https://www.nba.com/stats/players/pullup?PerMode=Totals'\n",
    "\n",
    "handoff = 'https://www.nba.com/stats/teams/hand-off?PerMode=Totals'\n",
    "iso ='https://www.nba.com/stats/teams/isolation?PerMode=Totals'\n",
    "trans ='https://www.nba.com/stats/teams/transition?PerMode=Totals'\n",
    "bh='https://www.nba.com/stats/teams/ball-handler?PerMode=Totals'\n",
    "rollman = 'https://www.nba.com/stats/teams/roll-man?PerMode=Totals'\n",
    "postup = 'https://www.nba.com/stats/teams/playtype-post-up?PerMode=Totals'\n",
    "spotup = 'https://www.nba.com/stats/teams/spot-up?PerMode=Totals'\n",
    "cut = 'https://www.nba.com/stats/teams/cut?PerMode=Totals'\n",
    "offscreen = 'https://www.nba.com/stats/teams/off-screen?PerMode=Totals'\n",
    "putbacks = 'https://www.nba.com/stats/teams/putbacks?PerMode=Totals'\n",
    "misc = 'https://www.nba.com/stats/teams/playtype-misc?PerMode=Totals'\n",
    "drives = 'https://www.nba.com/stats/teams/drives?PerMode=Totals'\n",
    "#url_list = [url1,url2,url3,url4,url5]\n",
    "url_list=[handoff,iso,trans,bh,rollman,postup,spotup,cut,offscreen,putbacks,misc,drives]\n",
    "url_list =[url +'&SeasonType=Playoffs' for url in url_list]\n",
    "#url_list =[url +'&SeasonType=Regular+Season'for url in url_list]\n",
    "\n",
    "def check_exists_by_xpath(driver, xpath):\n",
    "    try:\n",
    "        driver.find_element(By.XPATH, xpath)\n",
    "    except NoSuchElementException:\n",
    "        return False\n",
    "    return True\n",
    "#url_list = [cs,pullup]\n",
    "def get_tables(url_list):\n",
    "    xpath = '//*[@id=\"__next\"]/div[2]/div[2]/div[3]/section[2]/div/div[2]/div[3]/table'\n",
    "    data = []\n",
    "    driver = webdriver.Chrome()\n",
    "    for url in url_list:\n",
    "        print(url)\n",
    "        \n",
    "        driver.get(url)\n",
    "        element = WebDriverWait(driver, 10).until(\n",
    "        EC.presence_of_element_located((By.XPATH, xpath)))\n",
    "        # Wait for the page to fully load\n",
    "        driver.implicitly_wait(20)\n",
    "        '''if check_exists_by_xpath(driver, \"//a[contains(text(),'>')]/preceding-sibling::a[1]\"):\n",
    "            number_of_pages = int(driver.find_element(By.XPATH, \"//a[contains(text(),'>')]/preceding-sibling::a[1]\").text)\n",
    "            print(number_of_pages)'''\n",
    "        # Step 2: Parse HTML code and grab tables with Beautiful Soup\n",
    "        soup = BeautifulSoup(driver.page_source, 'lxml')\n",
    "\n",
    "        tables = soup.find_all('table')\n",
    "\n",
    "        # Step 3: Read tables with Pandas read_html()\n",
    "        dfs = pd.read_html(str(tables))\n",
    "        #print(dfs)\n",
    "\n",
    "        #print(f'Total tables: {len(dfs)}')\n",
    "        #print(dfs[2].head())\n",
    "    \n",
    "        \n",
    "        #return dfs\n",
    "        df= dfs[-1]\n",
    "        #drop = ['Unnamed: 16_level_1', 'Unnamed: 17_level_1', 'Unnamed: 18_level_1']\n",
    "        #df.columns = df.columns.droplevel()\n",
    "        #df = df.drop(columns = drop)\n",
    "        data.append(df)\n",
    "    driver.close()\n",
    "    return data"
   ]
  },
  {
   "cell_type": "code",
   "execution_count": 7,
   "id": "e5fa4692-7e05-44e9-875d-68c405ad9570",
   "metadata": {},
   "outputs": [],
   "source": [
    "#url_list = [url1]#\n",
    "def get_multi(url_list,playoffs = False):\n",
    "    if playoffs == True:\n",
    "        p ='/playoffs/'\n",
    "    else:\n",
    "        p=''\n",
    "    for i in range(2022,2023):\n",
    "        \n",
    "        season = '&Season='+str(i)+'-'+str(i+1 - 2000)\n",
    "        year_url = [url+season for url in url_list]\n",
    "        frames = get_tables(year_url)\n",
    "\n",
    " \n",
    "        path = str(i+1)+p+'/playtype/'\n",
    "        output_dir = Path(path)\n",
    "        output_dir.mkdir(parents=True, exist_ok=True)\n",
    "        #terms = ['data/teampullup.csv','data/teamcatchshoot.csv','data/teamundersix.csv','data/teamiso.csv','data/teamtransition.csv']\n",
    "        terms = ['handoff.csv','iso.csv','trans.csv','bh.csv','rollman.csv','postup.csv','spotup.csv',\n",
    "                 'cut.csv','offscreen.csv','putback.csv','misc.csv','drives.csv']\n",
    "        terms = [ path+t for t in terms]\n",
    "        \n",
    "        for i in range(len(terms)):\n",
    "            df = frames[i]\n",
    "            df.to_csv(terms[i],index = False)"
   ]
  },
  {
   "cell_type": "code",
   "execution_count": 8,
   "id": "b0903a9c-6241-448b-9b5c-cca84876df6f",
   "metadata": {},
   "outputs": [
    {
     "name": "stdout",
     "output_type": "stream",
     "text": [
      "https://www.nba.com/stats/teams/hand-off?PerMode=Totals&SeasonType=Playoffs&Season=2022-23\n"
     ]
    },
    {
     "ename": "NoSuchWindowException",
     "evalue": "Message: no such window: target window already closed\nfrom unknown error: web view not found\n  (Session info: chrome=113.0.5672.93)\nStacktrace:\nBacktrace:\n\tGetHandleVerifier [0x00D78893+48451]\n\t(No symbol) [0x00D0B8A1]\n\t(No symbol) [0x00C15058]\n\t(No symbol) [0x00BFD073]\n\t(No symbol) [0x00C5DEBB]\n\t(No symbol) [0x00C6BFD3]\n\t(No symbol) [0x00C5A0B6]\n\t(No symbol) [0x00C37E08]\n\t(No symbol) [0x00C38F2D]\n\tGetHandleVerifier [0x00FD8E3A+2540266]\n\tGetHandleVerifier [0x01018959+2801161]\n\tGetHandleVerifier [0x0101295C+2776588]\n\tGetHandleVerifier [0x00E02280+612144]\n\t(No symbol) [0x00D14F6C]\n\t(No symbol) [0x00D111D8]\n\t(No symbol) [0x00D112BB]\n\t(No symbol) [0x00D04857]\n\tBaseThreadInitThunk [0x76A37D59+25]\n\tRtlInitializeExceptionChain [0x7763B74B+107]\n\tRtlClearBits [0x7763B6CF+191]\n",
     "output_type": "error",
     "traceback": [
      "\u001b[1;31m---------------------------------------------------------------------------\u001b[0m",
      "\u001b[1;31mNoSuchWindowException\u001b[0m                     Traceback (most recent call last)",
      "Cell \u001b[1;32mIn[8], line 1\u001b[0m\n\u001b[1;32m----> 1\u001b[0m \u001b[43mget_multi\u001b[49m\u001b[43m(\u001b[49m\u001b[43murl_list\u001b[49m\u001b[43m,\u001b[49m\u001b[43mplayoffs\u001b[49m\u001b[43m \u001b[49m\u001b[38;5;241;43m=\u001b[39;49m\u001b[43m \u001b[49m\u001b[38;5;28;43;01mTrue\u001b[39;49;00m\u001b[43m)\u001b[49m\n",
      "Cell \u001b[1;32mIn[7], line 11\u001b[0m, in \u001b[0;36mget_multi\u001b[1;34m(url_list, playoffs)\u001b[0m\n\u001b[0;32m      9\u001b[0m season \u001b[38;5;241m=\u001b[39m \u001b[38;5;124m'\u001b[39m\u001b[38;5;124m&Season=\u001b[39m\u001b[38;5;124m'\u001b[39m\u001b[38;5;241m+\u001b[39m\u001b[38;5;28mstr\u001b[39m(i)\u001b[38;5;241m+\u001b[39m\u001b[38;5;124m'\u001b[39m\u001b[38;5;124m-\u001b[39m\u001b[38;5;124m'\u001b[39m\u001b[38;5;241m+\u001b[39m\u001b[38;5;28mstr\u001b[39m(i\u001b[38;5;241m+\u001b[39m\u001b[38;5;241m1\u001b[39m \u001b[38;5;241m-\u001b[39m \u001b[38;5;241m2000\u001b[39m)\n\u001b[0;32m     10\u001b[0m year_url \u001b[38;5;241m=\u001b[39m [url\u001b[38;5;241m+\u001b[39mseason \u001b[38;5;28;01mfor\u001b[39;00m url \u001b[38;5;129;01min\u001b[39;00m url_list]\n\u001b[1;32m---> 11\u001b[0m frames \u001b[38;5;241m=\u001b[39m \u001b[43mget_tables\u001b[49m\u001b[43m(\u001b[49m\u001b[43myear_url\u001b[49m\u001b[43m)\u001b[49m\n\u001b[0;32m     14\u001b[0m path \u001b[38;5;241m=\u001b[39m \u001b[38;5;28mstr\u001b[39m(i\u001b[38;5;241m+\u001b[39m\u001b[38;5;241m1\u001b[39m)\u001b[38;5;241m+\u001b[39mp\u001b[38;5;241m+\u001b[39m\u001b[38;5;124m'\u001b[39m\u001b[38;5;124m/playtype/\u001b[39m\u001b[38;5;124m'\u001b[39m\n\u001b[0;32m     15\u001b[0m output_dir \u001b[38;5;241m=\u001b[39m Path(path)\n",
      "Cell \u001b[1;32mIn[6], line 55\u001b[0m, in \u001b[0;36mget_tables\u001b[1;34m(url_list)\u001b[0m\n\u001b[0;32m     52\u001b[0m \u001b[38;5;28mprint\u001b[39m(url)\n\u001b[0;32m     54\u001b[0m driver\u001b[38;5;241m.\u001b[39mget(url)\n\u001b[1;32m---> 55\u001b[0m element \u001b[38;5;241m=\u001b[39m \u001b[43mWebDriverWait\u001b[49m\u001b[43m(\u001b[49m\u001b[43mdriver\u001b[49m\u001b[43m,\u001b[49m\u001b[43m \u001b[49m\u001b[38;5;241;43m10\u001b[39;49m\u001b[43m)\u001b[49m\u001b[38;5;241;43m.\u001b[39;49m\u001b[43muntil\u001b[49m\u001b[43m(\u001b[49m\n\u001b[0;32m     56\u001b[0m \u001b[43m\u001b[49m\u001b[43mEC\u001b[49m\u001b[38;5;241;43m.\u001b[39;49m\u001b[43mpresence_of_element_located\u001b[49m\u001b[43m(\u001b[49m\u001b[43m(\u001b[49m\u001b[43mBy\u001b[49m\u001b[38;5;241;43m.\u001b[39;49m\u001b[43mXPATH\u001b[49m\u001b[43m,\u001b[49m\u001b[43m \u001b[49m\u001b[43mxpath\u001b[49m\u001b[43m)\u001b[49m\u001b[43m)\u001b[49m\u001b[43m)\u001b[49m\n\u001b[0;32m     57\u001b[0m \u001b[38;5;66;03m# Wait for the page to fully load\u001b[39;00m\n\u001b[0;32m     58\u001b[0m driver\u001b[38;5;241m.\u001b[39mimplicitly_wait(\u001b[38;5;241m20\u001b[39m)\n",
      "File \u001b[1;32m~\\anaconda3\\envs\\myenvpython310\\lib\\site-packages\\selenium\\webdriver\\support\\wait.py:86\u001b[0m, in \u001b[0;36mWebDriverWait.until\u001b[1;34m(self, method, message)\u001b[0m\n\u001b[0;32m     84\u001b[0m \u001b[38;5;28;01mwhile\u001b[39;00m \u001b[38;5;28;01mTrue\u001b[39;00m:\n\u001b[0;32m     85\u001b[0m     \u001b[38;5;28;01mtry\u001b[39;00m:\n\u001b[1;32m---> 86\u001b[0m         value \u001b[38;5;241m=\u001b[39m \u001b[43mmethod\u001b[49m\u001b[43m(\u001b[49m\u001b[38;5;28;43mself\u001b[39;49m\u001b[38;5;241;43m.\u001b[39;49m\u001b[43m_driver\u001b[49m\u001b[43m)\u001b[49m\n\u001b[0;32m     87\u001b[0m         \u001b[38;5;28;01mif\u001b[39;00m value:\n\u001b[0;32m     88\u001b[0m             \u001b[38;5;28;01mreturn\u001b[39;00m value\n",
      "File \u001b[1;32m~\\anaconda3\\envs\\myenvpython310\\lib\\site-packages\\selenium\\webdriver\\support\\expected_conditions.py:69\u001b[0m, in \u001b[0;36mpresence_of_element_located.<locals>._predicate\u001b[1;34m(driver)\u001b[0m\n\u001b[0;32m     68\u001b[0m \u001b[38;5;28;01mdef\u001b[39;00m \u001b[38;5;21m_predicate\u001b[39m(driver):\n\u001b[1;32m---> 69\u001b[0m     \u001b[38;5;28;01mreturn\u001b[39;00m \u001b[43mdriver\u001b[49m\u001b[38;5;241;43m.\u001b[39;49m\u001b[43mfind_element\u001b[49m\u001b[43m(\u001b[49m\u001b[38;5;241;43m*\u001b[39;49m\u001b[43mlocator\u001b[49m\u001b[43m)\u001b[49m\n",
      "File \u001b[1;32m~\\anaconda3\\envs\\myenvpython310\\lib\\site-packages\\selenium\\webdriver\\remote\\webdriver.py:831\u001b[0m, in \u001b[0;36mWebDriver.find_element\u001b[1;34m(self, by, value)\u001b[0m\n\u001b[0;32m    828\u001b[0m     by \u001b[38;5;241m=\u001b[39m By\u001b[38;5;241m.\u001b[39mCSS_SELECTOR\n\u001b[0;32m    829\u001b[0m     value \u001b[38;5;241m=\u001b[39m \u001b[38;5;124mf\u001b[39m\u001b[38;5;124m'\u001b[39m\u001b[38;5;124m[name=\u001b[39m\u001b[38;5;124m\"\u001b[39m\u001b[38;5;132;01m{\u001b[39;00mvalue\u001b[38;5;132;01m}\u001b[39;00m\u001b[38;5;124m\"\u001b[39m\u001b[38;5;124m]\u001b[39m\u001b[38;5;124m'\u001b[39m\n\u001b[1;32m--> 831\u001b[0m \u001b[38;5;28;01mreturn\u001b[39;00m \u001b[38;5;28;43mself\u001b[39;49m\u001b[38;5;241;43m.\u001b[39;49m\u001b[43mexecute\u001b[49m\u001b[43m(\u001b[49m\u001b[43mCommand\u001b[49m\u001b[38;5;241;43m.\u001b[39;49m\u001b[43mFIND_ELEMENT\u001b[49m\u001b[43m,\u001b[49m\u001b[43m \u001b[49m\u001b[43m{\u001b[49m\u001b[38;5;124;43m\"\u001b[39;49m\u001b[38;5;124;43musing\u001b[39;49m\u001b[38;5;124;43m\"\u001b[39;49m\u001b[43m:\u001b[49m\u001b[43m \u001b[49m\u001b[43mby\u001b[49m\u001b[43m,\u001b[49m\u001b[43m \u001b[49m\u001b[38;5;124;43m\"\u001b[39;49m\u001b[38;5;124;43mvalue\u001b[39;49m\u001b[38;5;124;43m\"\u001b[39;49m\u001b[43m:\u001b[49m\u001b[43m \u001b[49m\u001b[43mvalue\u001b[49m\u001b[43m}\u001b[49m\u001b[43m)\u001b[49m[\u001b[38;5;124m\"\u001b[39m\u001b[38;5;124mvalue\u001b[39m\u001b[38;5;124m\"\u001b[39m]\n",
      "File \u001b[1;32m~\\anaconda3\\envs\\myenvpython310\\lib\\site-packages\\selenium\\webdriver\\remote\\webdriver.py:440\u001b[0m, in \u001b[0;36mWebDriver.execute\u001b[1;34m(self, driver_command, params)\u001b[0m\n\u001b[0;32m    438\u001b[0m response \u001b[38;5;241m=\u001b[39m \u001b[38;5;28mself\u001b[39m\u001b[38;5;241m.\u001b[39mcommand_executor\u001b[38;5;241m.\u001b[39mexecute(driver_command, params)\n\u001b[0;32m    439\u001b[0m \u001b[38;5;28;01mif\u001b[39;00m response:\n\u001b[1;32m--> 440\u001b[0m     \u001b[38;5;28;43mself\u001b[39;49m\u001b[38;5;241;43m.\u001b[39;49m\u001b[43merror_handler\u001b[49m\u001b[38;5;241;43m.\u001b[39;49m\u001b[43mcheck_response\u001b[49m\u001b[43m(\u001b[49m\u001b[43mresponse\u001b[49m\u001b[43m)\u001b[49m\n\u001b[0;32m    441\u001b[0m     response[\u001b[38;5;124m\"\u001b[39m\u001b[38;5;124mvalue\u001b[39m\u001b[38;5;124m\"\u001b[39m] \u001b[38;5;241m=\u001b[39m \u001b[38;5;28mself\u001b[39m\u001b[38;5;241m.\u001b[39m_unwrap_value(response\u001b[38;5;241m.\u001b[39mget(\u001b[38;5;124m\"\u001b[39m\u001b[38;5;124mvalue\u001b[39m\u001b[38;5;124m\"\u001b[39m, \u001b[38;5;28;01mNone\u001b[39;00m))\n\u001b[0;32m    442\u001b[0m     \u001b[38;5;28;01mreturn\u001b[39;00m response\n",
      "File \u001b[1;32m~\\anaconda3\\envs\\myenvpython310\\lib\\site-packages\\selenium\\webdriver\\remote\\errorhandler.py:245\u001b[0m, in \u001b[0;36mErrorHandler.check_response\u001b[1;34m(self, response)\u001b[0m\n\u001b[0;32m    243\u001b[0m         alert_text \u001b[38;5;241m=\u001b[39m value[\u001b[38;5;124m\"\u001b[39m\u001b[38;5;124malert\u001b[39m\u001b[38;5;124m\"\u001b[39m]\u001b[38;5;241m.\u001b[39mget(\u001b[38;5;124m\"\u001b[39m\u001b[38;5;124mtext\u001b[39m\u001b[38;5;124m\"\u001b[39m)\n\u001b[0;32m    244\u001b[0m     \u001b[38;5;28;01mraise\u001b[39;00m exception_class(message, screen, stacktrace, alert_text)  \u001b[38;5;66;03m# type: ignore[call-arg]  # mypy is not smart enough here\u001b[39;00m\n\u001b[1;32m--> 245\u001b[0m \u001b[38;5;28;01mraise\u001b[39;00m exception_class(message, screen, stacktrace)\n",
      "\u001b[1;31mNoSuchWindowException\u001b[0m: Message: no such window: target window already closed\nfrom unknown error: web view not found\n  (Session info: chrome=113.0.5672.93)\nStacktrace:\nBacktrace:\n\tGetHandleVerifier [0x00D78893+48451]\n\t(No symbol) [0x00D0B8A1]\n\t(No symbol) [0x00C15058]\n\t(No symbol) [0x00BFD073]\n\t(No symbol) [0x00C5DEBB]\n\t(No symbol) [0x00C6BFD3]\n\t(No symbol) [0x00C5A0B6]\n\t(No symbol) [0x00C37E08]\n\t(No symbol) [0x00C38F2D]\n\tGetHandleVerifier [0x00FD8E3A+2540266]\n\tGetHandleVerifier [0x01018959+2801161]\n\tGetHandleVerifier [0x0101295C+2776588]\n\tGetHandleVerifier [0x00E02280+612144]\n\t(No symbol) [0x00D14F6C]\n\t(No symbol) [0x00D111D8]\n\t(No symbol) [0x00D112BB]\n\t(No symbol) [0x00D04857]\n\tBaseThreadInitThunk [0x76A37D59+25]\n\tRtlInitializeExceptionChain [0x7763B74B+107]\n\tRtlClearBits [0x7763B6CF+191]\n"
     ]
    }
   ],
   "source": [
    "get_multi(url_list,playoffs = True)"
   ]
  },
  {
   "cell_type": "code",
   "execution_count": 4,
   "id": "a15d5977-aef3-4ea2-a231-3ae385202ecf",
   "metadata": {},
   "outputs": [
    {
     "name": "stdout",
     "output_type": "stream",
     "text": [
      "https://www.nba.com/stats/teams/hand-off?PerMode=Totals\n",
      "https://www.nba.com/stats/teams/isolation?PerMode=Totals\n",
      "https://www.nba.com/stats/teams/transition?PerMode=Totals\n",
      "https://www.nba.com/stats/teams/ball-handler?PerMode=Totals\n",
      "https://www.nba.com/stats/teams/roll-man?PerMode=Totals\n",
      "https://www.nba.com/stats/teams/playtype-post-up?PerMode=Totals\n",
      "https://www.nba.com/stats/teams/spot-up?PerMode=Totals\n",
      "https://www.nba.com/stats/teams/cut?PerMode=Totals\n",
      "https://www.nba.com/stats/teams/off-screen?PerMode=Totals\n",
      "https://www.nba.com/stats/teams/putbacks?PerMode=Totals\n",
      "https://www.nba.com/stats/teams/playtype-misc?PerMode=Totals\n",
      "https://www.nba.com/stats/teams/drives?PerMode=Totals\n"
     ]
    }
   ],
   "source": [
    "#terms = ['data/teampullup.csv','data/teamcatchshoot.csv','data/teamundersix.csv','data/teamiso.csv','data/teamtransition.csv']\n",
    "frames = get_tables(url_list)\n",
    "terms = ['playtype/handoff.csv','playtype/iso.csv','playtype/trans.csv','playtype/bh.csv','playtype/rollman.csv','playtype/postup.csv','playtype/spotup.csv',\n",
    "         'playtype/cut.csv','playtype/offscreen.csv','playtype/putback.csv','playtype/misc.csv','playtype/drives.csv']\n"
   ]
  },
  {
   "cell_type": "code",
   "execution_count": 6,
   "id": "af4b3d9f-c3d3-492d-a36a-c21abe1d30d7",
   "metadata": {},
   "outputs": [],
   "source": [
    "for i in range(len(terms)):\n",
    "    df = frames[i]\n",
    "    #df.to_csv(terms[i],index = False)\n",
    "    df.to_csv('2023/playoffs/'+terms[i],index = False)\n",
    "   "
   ]
  },
  {
   "cell_type": "code",
   "execution_count": 12,
   "id": "66a443ff-1fad-4e0c-b3da-54c0d6fee077",
   "metadata": {},
   "outputs": [],
   "source": [
    "import pandas as pd\n",
    "import os\n"
   ]
  },
  {
   "cell_type": "code",
   "execution_count": 14,
   "id": "f8f2191d-4105-47fd-80f1-6d51eee035d7",
   "metadata": {},
   "outputs": [],
   "source": [
    "def add_synergy():\n",
    "    df = pd.read_csv('../synergy/full_data/playtype_p.csv')\n",
    "    for i in range(2014,2024):\n",
    "        path = str(i)+'/playoffs/synergy/'\n",
    "        isExist = os.path.exists(path)\n",
    "        if not isExist:\n",
    "\n",
    "       # Create a new directory because it does not exist\n",
    "           os.makedirs(path)\n",
    "        year_df = df[df.year == i]\n",
    "        print(year_df.head())\n",
    "        year_df.to_csv(path+'playtype.csv')"
   ]
  },
  {
   "cell_type": "code",
   "execution_count": null,
   "id": "418149b0-7739-43c3-bfaa-d8bb8e1ba48d",
   "metadata": {},
   "outputs": [],
   "source": []
  }
 ],
 "metadata": {
  "kernelspec": {
   "display_name": "Python 3 (ipykernel)",
   "language": "python",
   "name": "python3"
  },
  "language_info": {
   "codemirror_mode": {
    "name": "ipython",
    "version": 3
   },
   "file_extension": ".py",
   "mimetype": "text/x-python",
   "name": "python",
   "nbconvert_exporter": "python",
   "pygments_lexer": "ipython3",
   "version": "3.10.11"
  }
 },
 "nbformat": 4,
 "nbformat_minor": 5
}
