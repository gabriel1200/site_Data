{
 "cells": [
  {
   "cell_type": "code",
   "execution_count": 1,
   "id": "9700cea0-4705-4969-8ff3-bb192e80ce46",
   "metadata": {},
   "outputs": [],
   "source": [
    "import pandas as pd\n",
    "from selenium import webdriver\n",
    "from bs4 import BeautifulSoup\n",
    "\n",
    "from selenium.webdriver.common.by import By\n",
    "from selenium.common.exceptions import NoSuchElementException\n",
    "from selenium.common.exceptions import ElementNotInteractableException \n",
    "\n",
    "# Step 1: Create a session and load the page\n",
    "'''\n",
    "url1 = 'https://www.nba.com/stats/players/pullup?PerMode=Totals'\n",
    "url2 = 'https://www.nba.com/stats/players/catch-shoot?PerMode=Totals'\n",
    "url3 = 'https://www.nba.com/stats/players/defense-dash-lt6?PerMode=Totals'\n",
    "url4 = 'https://www.nba.com/stats/teams/isolation?PerMode=Totals'\n",
    "url5 = 'https://www.nba.com/stats/players/transition?PerMode=Totals&dir=D&sort=POSS'\n",
    "'''\n",
    "cs ='https://www.nba.com/stats/players/catch-shoot?PerMode=Totals'\n",
    "pullup ='https://www.nba.com/stats/players/pullup?PerMode=Totals'\n",
    "\n",
    "handoff = 'https://www.nba.com/stats/teams/hand-off?PerMode=Totals'\n",
    "iso ='https://www.nba.com/stats/teams/isolation?PerMode=Totals'\n",
    "trans ='https://www.nba.com/stats/teams/transition?PerMode=Totals'\n",
    "bh='https://www.nba.com/stats/teams/ball-handler?PerMode=Totals'\n",
    "rollman = 'https://www.nba.com/stats/teams/roll-man?PerMode=Totals'\n",
    "postup = 'https://www.nba.com/stats/teams/playtype-post-up?PerMode=Totals'\n",
    "spotup = 'https://www.nba.com/stats/teams/spot-up?PerMode=Totals'\n",
    "cut = 'https://www.nba.com/stats/teams/cut?PerMode=Totals'\n",
    "offscreen = 'https://www.nba.com/stats/teams/off-screen?PerMode=Totals'\n",
    "putbacks = 'https://www.nba.com/stats/teams/putbacks?PerMode=Totals'\n",
    "misc = 'https://www.nba.com/stats/teams/playtype-misc?PerMode=Totals'\n",
    "\n",
    "#url_list = [url1,url2,url3,url4,url5]\n",
    "url_list=[handoff,iso,trans,bh,rollman,postup,spotup,cut,offscreen,putbacks,misc]\n",
    "def check_exists_by_xpath(driver, xpath):\n",
    "    try:\n",
    "        driver.find_element(By.XPATH, xpath)\n",
    "    except NoSuchElementException:\n",
    "        return False\n",
    "    return True\n",
    "#url_list = [cs,pullup]\n",
    "def get_tables(url_list):\n",
    "    data = []\n",
    "    for url in url_list:\n",
    "        print(url)\n",
    "        driver = webdriver.Chrome()\n",
    "        driver.get(url)\n",
    "\n",
    "        # Wait for the page to fully load\n",
    "        driver.implicitly_wait(8)\n",
    "        '''if check_exists_by_xpath(driver, \"//a[contains(text(),'>')]/preceding-sibling::a[1]\"):\n",
    "            number_of_pages = int(driver.find_element(By.XPATH, \"//a[contains(text(),'>')]/preceding-sibling::a[1]\").text)\n",
    "            print(number_of_pages)'''\n",
    "        # Step 2: Parse HTML code and grab tables with Beautiful Soup\n",
    "        soup = BeautifulSoup(driver.page_source, 'lxml')\n",
    "\n",
    "        tables = soup.find_all('table')\n",
    "\n",
    "        # Step 3: Read tables with Pandas read_html()\n",
    "        dfs = pd.read_html(str(tables))\n",
    "        #print(dfs)\n",
    "\n",
    "        #print(f'Total tables: {len(dfs)}')\n",
    "        #print(dfs[2].head())\n",
    "    \n",
    "        driver.close()\n",
    "        #return dfs\n",
    "        df= dfs[-1]\n",
    "        #drop = ['Unnamed: 16_level_1', 'Unnamed: 17_level_1', 'Unnamed: 18_level_1']\n",
    "        #df.columns = df.columns.droplevel()\n",
    "        #df = df.drop(columns = drop)\n",
    "        data.append(df)\n",
    "    return data"
   ]
  },
  {
   "cell_type": "code",
   "execution_count": 2,
   "id": "e5fa4692-7e05-44e9-875d-68c405ad9570",
   "metadata": {},
   "outputs": [
    {
     "name": "stdout",
     "output_type": "stream",
     "text": [
      "https://www.nba.com/stats/teams/hand-off?PerMode=Totals\n",
      "https://www.nba.com/stats/teams/isolation?PerMode=Totals\n",
      "https://www.nba.com/stats/teams/transition?PerMode=Totals\n",
      "https://www.nba.com/stats/teams/ball-handler?PerMode=Totals\n",
      "https://www.nba.com/stats/teams/roll-man?PerMode=Totals\n",
      "https://www.nba.com/stats/teams/playtype-post-up?PerMode=Totals\n",
      "https://www.nba.com/stats/teams/spot-up?PerMode=Totals\n",
      "https://www.nba.com/stats/teams/cut?PerMode=Totals\n",
      "https://www.nba.com/stats/teams/off-screen?PerMode=Totals\n",
      "https://www.nba.com/stats/teams/putbacks?PerMode=Totals\n",
      "https://www.nba.com/stats/teams/playtype-misc?PerMode=Totals\n"
     ]
    }
   ],
   "source": [
    "#url_list = [url1]\n",
    "frames = get_tables(url_list)"
   ]
  },
  {
   "cell_type": "code",
   "execution_count": 3,
   "id": "a15d5977-aef3-4ea2-a231-3ae385202ecf",
   "metadata": {},
   "outputs": [],
   "source": [
    "#terms = ['data/teampullup.csv','data/teamcatchshoot.csv','data/teamundersix.csv','data/teamiso.csv','data/teamtransition.csv']\n",
    "terms = ['playtype/handoff.csv','playtype/iso.csv','playtype/trans.csv','playtype/bh.csv','playtype/rollman.csv','playtype/postup.csv','playtype/spotup.csv',\n",
    "         'playtype/cut.csv','playtype/offscreen.csv','playtype/putback.csv','playtype/misc.csv']\n",
    "for i in range(len(terms)):\n",
    "    df = frames[i]\n",
    "    df.to_csv(terms[i],index = False)\n",
    "   "
   ]
  },
  {
   "cell_type": "code",
   "execution_count": null,
   "id": "af4b3d9f-c3d3-492d-a36a-c21abe1d30d7",
   "metadata": {},
   "outputs": [],
   "source": []
  },
  {
   "cell_type": "code",
   "execution_count": null,
   "id": "66a443ff-1fad-4e0c-b3da-54c0d6fee077",
   "metadata": {},
   "outputs": [],
   "source": []
  }
 ],
 "metadata": {
  "kernelspec": {
   "display_name": "Python 3",
   "language": "python",
   "name": "python3"
  },
  "language_info": {
   "codemirror_mode": {
    "name": "ipython",
    "version": 3
   },
   "file_extension": ".py",
   "mimetype": "text/x-python",
   "name": "python",
   "nbconvert_exporter": "python",
   "pygments_lexer": "ipython3",
   "version": "3.8.8"
  }
 },
 "nbformat": 4,
 "nbformat_minor": 5
}
