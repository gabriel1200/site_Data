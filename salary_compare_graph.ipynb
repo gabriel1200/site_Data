{
 "cells": [
  {
   "cell_type": "code",
   "execution_count": 41,
   "id": "1ba88bc7-f2ca-45ae-bd27-8ce0ee69a13d",
   "metadata": {},
   "outputs": [
    {
     "data": {
      "application/vnd.plotly.v1+json": {
       "config": {
        "plotlyServerURL": "https://plot.ly"
       },
       "data": [
        {
         "fill": "tozeroy",
         "fillcolor": "rgba(0, 255, 255, 0.2)",
         "hovertemplate": "Season: %{x}<br>Salary: %{y:.1f}% of cap<br>Option: %{text}<br><extra></extra>",
         "line": {
          "color": "rgba(0, 255, 255, 0.8)",
          "width": 3
         },
         "marker": {
          "line": {
           "color": "white",
           "width": 2
          },
          "size": 12,
          "symbol": [
           "circle",
           "circle",
           "circle",
           "circle",
           "circle",
           "circle",
           "circle"
          ]
         },
         "mode": "lines+markers",
         "name": "Anthony Davis",
         "text": [
          "0",
          "0",
          "0",
          "0",
          "0",
          "",
          ""
         ],
         "type": "scatter",
         "x": [
          "2024-25",
          "2025-26",
          "2026-27",
          "2027-28",
          "2028-29",
          "2029-30",
          "2030-31"
         ],
         "y": [
          30.741912538765757,
          34.99995473562371,
          34.363531085402556,
          33.5536524104466,
          0,
          null,
          null
         ]
        },
        {
         "fill": "tozeroy",
         "fillcolor": "rgba(255, 105, 180, 0.2)",
         "hovertemplate": "Season: %{x}<br>Salary: %{y:.1f}% of cap<br>Option: %{text}<br><extra></extra>",
         "line": {
          "color": "rgba(255, 105, 180, 0.8)",
          "width": 3
         },
         "marker": {
          "line": {
           "color": "white",
           "width": 2
          },
          "size": 12,
          "symbol": [
           "circle",
           "circle",
           "circle",
           "circle",
           "circle",
           "circle",
           "circle"
          ]
         },
         "mode": "lines+markers",
         "name": "Anthony Edwards",
         "text": [
          "0",
          "0",
          "EE",
          "0",
          "0",
          "0",
          ""
         ],
         "type": "scatter",
         "x": [
          "2024-25",
          "2025-26",
          "2026-27",
          "2027-28",
          "2028-29",
          "2029-30",
          "2030-31"
         ],
         "y": [
          30,
          29.454507361927487,
          28.760242663656886,
          27.9488550311827,
          27.047318483251146,
          0,
          null
         ]
        },
        {
         "fill": "tozeroy",
         "fillcolor": "rgba(255, 215, 0, 0.2)",
         "hovertemplate": "Season: %{x}<br>Salary: %{y:.1f}% of cap<br>Option: %{text}<br><extra></extra>",
         "line": {
          "color": "rgba(255, 215, 0, 0.8)",
          "width": 3
         },
         "marker": {
          "line": {
           "color": "white",
           "width": 2
          },
          "size": 12,
          "symbol": [
           "circle",
           "circle",
           "star",
           "circle",
           "circle",
           "circle",
           "circle"
          ]
         },
         "mode": "lines+markers",
         "name": "Luka Doncic",
         "text": [
          "0",
          "EE",
          "P",
          "0",
          "0",
          "",
          ""
         ],
         "type": "scatter",
         "x": [
          "2024-25",
          "2025-26",
          "2026-27",
          "2027-28",
          "2028-29",
          "2029-30",
          "2030-31"
         ],
         "y": [
          30.608544114718185,
          29.744941705949678,
          28.785376693002256,
          0,
          0,
          null,
          null
         ]
        },
        {
         "marker": {
          "color": "white",
          "line": {
           "color": "white",
           "width": 2
          },
          "size": 12,
          "symbol": "triangle-up"
         },
         "mode": "markers",
         "name": "T Option",
         "showlegend": true,
         "type": "scatter",
         "x": [
          null
         ],
         "y": [
          null
         ]
        },
        {
         "marker": {
          "color": "white",
          "line": {
           "color": "white",
           "width": 2
          },
          "size": 12,
          "symbol": "star"
         },
         "mode": "markers",
         "name": "P Option",
         "showlegend": true,
         "type": "scatter",
         "x": [
          null
         ],
         "y": [
          null
         ]
        },
        {
         "marker": {
          "color": "white",
          "line": {
           "color": "white",
           "width": 2
          },
          "size": 12,
          "symbol": "diamond"
         },
         "mode": "markers",
         "name": "Extension Eligible",
         "showlegend": true,
         "type": "scatter",
         "x": [
          null
         ],
         "y": [
          null
         ]
        }
       ],
       "layout": {
        "font": {
         "color": "white",
         "size": 14
        },
        "height": 800,
        "hovermode": "x unified",
        "legend": {
         "bgcolor": "rgba(0, 0, 0, 0.5)",
         "bordercolor": "rgba(255,255,255,0.2)",
         "x": 0.98,
         "xanchor": "left",
         "y": 0.99,
         "yanchor": "top"
        },
        "margin": {
         "b": 80,
         "l": 80,
         "r": 80,
         "t": 100
        },
        "paper_bgcolor": "rgb(30,30,30)",
        "plot_bgcolor": "rgb(20,20,20)",
        "showlegend": true,
        "template": {
         "data": {
          "bar": [
           {
            "error_x": {
             "color": "#2a3f5f"
            },
            "error_y": {
             "color": "#2a3f5f"
            },
            "marker": {
             "line": {
              "color": "#E5ECF6",
              "width": 0.5
             },
             "pattern": {
              "fillmode": "overlay",
              "size": 10,
              "solidity": 0.2
             }
            },
            "type": "bar"
           }
          ],
          "barpolar": [
           {
            "marker": {
             "line": {
              "color": "#E5ECF6",
              "width": 0.5
             },
             "pattern": {
              "fillmode": "overlay",
              "size": 10,
              "solidity": 0.2
             }
            },
            "type": "barpolar"
           }
          ],
          "carpet": [
           {
            "aaxis": {
             "endlinecolor": "#2a3f5f",
             "gridcolor": "white",
             "linecolor": "white",
             "minorgridcolor": "white",
             "startlinecolor": "#2a3f5f"
            },
            "baxis": {
             "endlinecolor": "#2a3f5f",
             "gridcolor": "white",
             "linecolor": "white",
             "minorgridcolor": "white",
             "startlinecolor": "#2a3f5f"
            },
            "type": "carpet"
           }
          ],
          "choropleth": [
           {
            "colorbar": {
             "outlinewidth": 0,
             "ticks": ""
            },
            "type": "choropleth"
           }
          ],
          "contour": [
           {
            "colorbar": {
             "outlinewidth": 0,
             "ticks": ""
            },
            "colorscale": [
             [
              0,
              "#0d0887"
             ],
             [
              0.1111111111111111,
              "#46039f"
             ],
             [
              0.2222222222222222,
              "#7201a8"
             ],
             [
              0.3333333333333333,
              "#9c179e"
             ],
             [
              0.4444444444444444,
              "#bd3786"
             ],
             [
              0.5555555555555556,
              "#d8576b"
             ],
             [
              0.6666666666666666,
              "#ed7953"
             ],
             [
              0.7777777777777778,
              "#fb9f3a"
             ],
             [
              0.8888888888888888,
              "#fdca26"
             ],
             [
              1,
              "#f0f921"
             ]
            ],
            "type": "contour"
           }
          ],
          "contourcarpet": [
           {
            "colorbar": {
             "outlinewidth": 0,
             "ticks": ""
            },
            "type": "contourcarpet"
           }
          ],
          "heatmap": [
           {
            "colorbar": {
             "outlinewidth": 0,
             "ticks": ""
            },
            "colorscale": [
             [
              0,
              "#0d0887"
             ],
             [
              0.1111111111111111,
              "#46039f"
             ],
             [
              0.2222222222222222,
              "#7201a8"
             ],
             [
              0.3333333333333333,
              "#9c179e"
             ],
             [
              0.4444444444444444,
              "#bd3786"
             ],
             [
              0.5555555555555556,
              "#d8576b"
             ],
             [
              0.6666666666666666,
              "#ed7953"
             ],
             [
              0.7777777777777778,
              "#fb9f3a"
             ],
             [
              0.8888888888888888,
              "#fdca26"
             ],
             [
              1,
              "#f0f921"
             ]
            ],
            "type": "heatmap"
           }
          ],
          "heatmapgl": [
           {
            "colorbar": {
             "outlinewidth": 0,
             "ticks": ""
            },
            "colorscale": [
             [
              0,
              "#0d0887"
             ],
             [
              0.1111111111111111,
              "#46039f"
             ],
             [
              0.2222222222222222,
              "#7201a8"
             ],
             [
              0.3333333333333333,
              "#9c179e"
             ],
             [
              0.4444444444444444,
              "#bd3786"
             ],
             [
              0.5555555555555556,
              "#d8576b"
             ],
             [
              0.6666666666666666,
              "#ed7953"
             ],
             [
              0.7777777777777778,
              "#fb9f3a"
             ],
             [
              0.8888888888888888,
              "#fdca26"
             ],
             [
              1,
              "#f0f921"
             ]
            ],
            "type": "heatmapgl"
           }
          ],
          "histogram": [
           {
            "marker": {
             "pattern": {
              "fillmode": "overlay",
              "size": 10,
              "solidity": 0.2
             }
            },
            "type": "histogram"
           }
          ],
          "histogram2d": [
           {
            "colorbar": {
             "outlinewidth": 0,
             "ticks": ""
            },
            "colorscale": [
             [
              0,
              "#0d0887"
             ],
             [
              0.1111111111111111,
              "#46039f"
             ],
             [
              0.2222222222222222,
              "#7201a8"
             ],
             [
              0.3333333333333333,
              "#9c179e"
             ],
             [
              0.4444444444444444,
              "#bd3786"
             ],
             [
              0.5555555555555556,
              "#d8576b"
             ],
             [
              0.6666666666666666,
              "#ed7953"
             ],
             [
              0.7777777777777778,
              "#fb9f3a"
             ],
             [
              0.8888888888888888,
              "#fdca26"
             ],
             [
              1,
              "#f0f921"
             ]
            ],
            "type": "histogram2d"
           }
          ],
          "histogram2dcontour": [
           {
            "colorbar": {
             "outlinewidth": 0,
             "ticks": ""
            },
            "colorscale": [
             [
              0,
              "#0d0887"
             ],
             [
              0.1111111111111111,
              "#46039f"
             ],
             [
              0.2222222222222222,
              "#7201a8"
             ],
             [
              0.3333333333333333,
              "#9c179e"
             ],
             [
              0.4444444444444444,
              "#bd3786"
             ],
             [
              0.5555555555555556,
              "#d8576b"
             ],
             [
              0.6666666666666666,
              "#ed7953"
             ],
             [
              0.7777777777777778,
              "#fb9f3a"
             ],
             [
              0.8888888888888888,
              "#fdca26"
             ],
             [
              1,
              "#f0f921"
             ]
            ],
            "type": "histogram2dcontour"
           }
          ],
          "mesh3d": [
           {
            "colorbar": {
             "outlinewidth": 0,
             "ticks": ""
            },
            "type": "mesh3d"
           }
          ],
          "parcoords": [
           {
            "line": {
             "colorbar": {
              "outlinewidth": 0,
              "ticks": ""
             }
            },
            "type": "parcoords"
           }
          ],
          "pie": [
           {
            "automargin": true,
            "type": "pie"
           }
          ],
          "scatter": [
           {
            "fillpattern": {
             "fillmode": "overlay",
             "size": 10,
             "solidity": 0.2
            },
            "type": "scatter"
           }
          ],
          "scatter3d": [
           {
            "line": {
             "colorbar": {
              "outlinewidth": 0,
              "ticks": ""
             }
            },
            "marker": {
             "colorbar": {
              "outlinewidth": 0,
              "ticks": ""
             }
            },
            "type": "scatter3d"
           }
          ],
          "scattercarpet": [
           {
            "marker": {
             "colorbar": {
              "outlinewidth": 0,
              "ticks": ""
             }
            },
            "type": "scattercarpet"
           }
          ],
          "scattergeo": [
           {
            "marker": {
             "colorbar": {
              "outlinewidth": 0,
              "ticks": ""
             }
            },
            "type": "scattergeo"
           }
          ],
          "scattergl": [
           {
            "marker": {
             "colorbar": {
              "outlinewidth": 0,
              "ticks": ""
             }
            },
            "type": "scattergl"
           }
          ],
          "scattermapbox": [
           {
            "marker": {
             "colorbar": {
              "outlinewidth": 0,
              "ticks": ""
             }
            },
            "type": "scattermapbox"
           }
          ],
          "scatterpolar": [
           {
            "marker": {
             "colorbar": {
              "outlinewidth": 0,
              "ticks": ""
             }
            },
            "type": "scatterpolar"
           }
          ],
          "scatterpolargl": [
           {
            "marker": {
             "colorbar": {
              "outlinewidth": 0,
              "ticks": ""
             }
            },
            "type": "scatterpolargl"
           }
          ],
          "scatterternary": [
           {
            "marker": {
             "colorbar": {
              "outlinewidth": 0,
              "ticks": ""
             }
            },
            "type": "scatterternary"
           }
          ],
          "surface": [
           {
            "colorbar": {
             "outlinewidth": 0,
             "ticks": ""
            },
            "colorscale": [
             [
              0,
              "#0d0887"
             ],
             [
              0.1111111111111111,
              "#46039f"
             ],
             [
              0.2222222222222222,
              "#7201a8"
             ],
             [
              0.3333333333333333,
              "#9c179e"
             ],
             [
              0.4444444444444444,
              "#bd3786"
             ],
             [
              0.5555555555555556,
              "#d8576b"
             ],
             [
              0.6666666666666666,
              "#ed7953"
             ],
             [
              0.7777777777777778,
              "#fb9f3a"
             ],
             [
              0.8888888888888888,
              "#fdca26"
             ],
             [
              1,
              "#f0f921"
             ]
            ],
            "type": "surface"
           }
          ],
          "table": [
           {
            "cells": {
             "fill": {
              "color": "#EBF0F8"
             },
             "line": {
              "color": "white"
             }
            },
            "header": {
             "fill": {
              "color": "#C8D4E3"
             },
             "line": {
              "color": "white"
             }
            },
            "type": "table"
           }
          ]
         },
         "layout": {
          "annotationdefaults": {
           "arrowcolor": "#2a3f5f",
           "arrowhead": 0,
           "arrowwidth": 1
          },
          "autotypenumbers": "strict",
          "coloraxis": {
           "colorbar": {
            "outlinewidth": 0,
            "ticks": ""
           }
          },
          "colorscale": {
           "diverging": [
            [
             0,
             "#8e0152"
            ],
            [
             0.1,
             "#c51b7d"
            ],
            [
             0.2,
             "#de77ae"
            ],
            [
             0.3,
             "#f1b6da"
            ],
            [
             0.4,
             "#fde0ef"
            ],
            [
             0.5,
             "#f7f7f7"
            ],
            [
             0.6,
             "#e6f5d0"
            ],
            [
             0.7,
             "#b8e186"
            ],
            [
             0.8,
             "#7fbc41"
            ],
            [
             0.9,
             "#4d9221"
            ],
            [
             1,
             "#276419"
            ]
           ],
           "sequential": [
            [
             0,
             "#0d0887"
            ],
            [
             0.1111111111111111,
             "#46039f"
            ],
            [
             0.2222222222222222,
             "#7201a8"
            ],
            [
             0.3333333333333333,
             "#9c179e"
            ],
            [
             0.4444444444444444,
             "#bd3786"
            ],
            [
             0.5555555555555556,
             "#d8576b"
            ],
            [
             0.6666666666666666,
             "#ed7953"
            ],
            [
             0.7777777777777778,
             "#fb9f3a"
            ],
            [
             0.8888888888888888,
             "#fdca26"
            ],
            [
             1,
             "#f0f921"
            ]
           ],
           "sequentialminus": [
            [
             0,
             "#0d0887"
            ],
            [
             0.1111111111111111,
             "#46039f"
            ],
            [
             0.2222222222222222,
             "#7201a8"
            ],
            [
             0.3333333333333333,
             "#9c179e"
            ],
            [
             0.4444444444444444,
             "#bd3786"
            ],
            [
             0.5555555555555556,
             "#d8576b"
            ],
            [
             0.6666666666666666,
             "#ed7953"
            ],
            [
             0.7777777777777778,
             "#fb9f3a"
            ],
            [
             0.8888888888888888,
             "#fdca26"
            ],
            [
             1,
             "#f0f921"
            ]
           ]
          },
          "colorway": [
           "#636efa",
           "#EF553B",
           "#00cc96",
           "#ab63fa",
           "#FFA15A",
           "#19d3f3",
           "#FF6692",
           "#B6E880",
           "#FF97FF",
           "#FECB52"
          ],
          "font": {
           "color": "#2a3f5f"
          },
          "geo": {
           "bgcolor": "white",
           "lakecolor": "white",
           "landcolor": "#E5ECF6",
           "showlakes": true,
           "showland": true,
           "subunitcolor": "white"
          },
          "hoverlabel": {
           "align": "left"
          },
          "hovermode": "closest",
          "mapbox": {
           "style": "light"
          },
          "paper_bgcolor": "white",
          "plot_bgcolor": "#E5ECF6",
          "polar": {
           "angularaxis": {
            "gridcolor": "white",
            "linecolor": "white",
            "ticks": ""
           },
           "bgcolor": "#E5ECF6",
           "radialaxis": {
            "gridcolor": "white",
            "linecolor": "white",
            "ticks": ""
           }
          },
          "scene": {
           "xaxis": {
            "backgroundcolor": "#E5ECF6",
            "gridcolor": "white",
            "gridwidth": 2,
            "linecolor": "white",
            "showbackground": true,
            "ticks": "",
            "zerolinecolor": "white"
           },
           "yaxis": {
            "backgroundcolor": "#E5ECF6",
            "gridcolor": "white",
            "gridwidth": 2,
            "linecolor": "white",
            "showbackground": true,
            "ticks": "",
            "zerolinecolor": "white"
           },
           "zaxis": {
            "backgroundcolor": "#E5ECF6",
            "gridcolor": "white",
            "gridwidth": 2,
            "linecolor": "white",
            "showbackground": true,
            "ticks": "",
            "zerolinecolor": "white"
           }
          },
          "shapedefaults": {
           "line": {
            "color": "#2a3f5f"
           }
          },
          "ternary": {
           "aaxis": {
            "gridcolor": "white",
            "linecolor": "white",
            "ticks": ""
           },
           "baxis": {
            "gridcolor": "white",
            "linecolor": "white",
            "ticks": ""
           },
           "bgcolor": "#E5ECF6",
           "caxis": {
            "gridcolor": "white",
            "linecolor": "white",
            "ticks": ""
           }
          },
          "title": {
           "x": 0.05
          },
          "xaxis": {
           "automargin": true,
           "gridcolor": "white",
           "linecolor": "white",
           "ticks": "",
           "title": {
            "standoff": 15
           },
           "zerolinecolor": "white",
           "zerolinewidth": 2
          },
          "yaxis": {
           "automargin": true,
           "gridcolor": "white",
           "linecolor": "white",
           "ticks": "",
           "title": {
            "standoff": 15
           },
           "zerolinecolor": "white",
           "zerolinewidth": 2
          }
         }
        },
        "title": {
         "font": {
          "size": 24
         },
         "text": "Salary Comparison: Anthony Davis, Anthony Edwards and Luka Doncic",
         "y": 0.95
        },
        "width": 1200,
        "xaxis": {
         "automargin": true,
         "autorange": true,
         "gridcolor": "rgba(128, 128, 128, 0.2)",
         "range": [
          0,
          6
         ],
         "showgrid": false,
         "tickangle": 45,
         "tickmode": "array",
         "ticktext": [
          "2021-22",
          "2022-23",
          "2023-24",
          "2024-25",
          "2025-26",
          "2026-27",
          "2027-28",
          "2028-29",
          "2029-30",
          "2030-31",
          "2031-32"
         ],
         "tickvals": [
          "2021-22",
          "2022-23",
          "2023-24",
          "2024-25",
          "2025-26",
          "2026-27",
          "2027-28",
          "2028-29",
          "2029-30",
          "2030-31",
          "2031-32"
         ],
         "title": {
          "text": "Season"
         },
         "type": "category"
        },
        "yaxis": {
         "dtick": 5,
         "gridcolor": "rgba(128, 128, 128, 0.2)",
         "range": [
          -0.5,
          40
         ],
         "tickformat": ".1f",
         "tickmode": "linear",
         "ticksuffix": "%",
         "title": {
          "text": "Salary (% of cap)"
         },
         "type": "linear"
        }
       }
      },
      "image/png": "[encoded data removed]",
      "text/html": [
       "<div>                            <div id=\"76e6291e-f105-4d18-a987-e2f32a233765\" class=\"plotly-graph-div\" style=\"height:800px; width:1200px;\"></div>            <script type=\"text/javascript\">                require([\"plotly\"], function(Plotly) {                    window.PLOTLYENV=window.PLOTLYENV || {};                                    if (document.getElementById(\"76e6291e-f105-4d18-a987-e2f32a233765\")) {                    Plotly.newPlot(                        \"76e6291e-f105-4d18-a987-e2f32a233765\",                        [{\"fill\":\"tozeroy\",\"fillcolor\":\"rgba(0, 255, 255, 0.2)\",\"hovertemplate\":\"Season: %{x}\\u003cbr\\u003eSalary: %{y:.1f}% of cap\\u003cbr\\u003eOption: %{text}\\u003cbr\\u003e\\u003cextra\\u003e\\u003c\\u002fextra\\u003e\",\"line\":{\"color\":\"rgba(0, 255, 255, 0.8)\",\"width\":3},\"marker\":{\"line\":{\"color\":\"white\",\"width\":2},\"size\":12,\"symbol\":[\"circle\",\"circle\",\"circle\",\"circle\",\"circle\",\"circle\",\"circle\"]},\"mode\":\"lines+markers\",\"name\":\"Anthony Davis\",\"text\":[\"0\",\"0\",\"0\",\"0\",\"0\",\"\",\"\"],\"x\":[\"2024-25\",\"2025-26\",\"2026-27\",\"2027-28\",\"2028-29\",\"2029-30\",\"2030-31\"],\"y\":[30.741912538765757,34.99995473562371,34.363531085402556,33.5536524104466,0.0,null,null],\"type\":\"scatter\"},{\"fill\":\"tozeroy\",\"fillcolor\":\"rgba(255, 105, 180, 0.2)\",\"hovertemplate\":\"Season: %{x}\\u003cbr\\u003eSalary: %{y:.1f}% of cap\\u003cbr\\u003eOption: %{text}\\u003cbr\\u003e\\u003cextra\\u003e\\u003c\\u002fextra\\u003e\",\"line\":{\"color\":\"rgba(255, 105, 180, 0.8)\",\"width\":3},\"marker\":{\"line\":{\"color\":\"white\",\"width\":2},\"size\":12,\"symbol\":[\"circle\",\"circle\",\"circle\",\"circle\",\"circle\",\"circle\",\"circle\"]},\"mode\":\"lines+markers\",\"name\":\"Anthony Edwards\",\"text\":[\"0\",\"0\",\"EE\",\"0\",\"0\",\"0\",\"\"],\"x\":[\"2024-25\",\"2025-26\",\"2026-27\",\"2027-28\",\"2028-29\",\"2029-30\",\"2030-31\"],\"y\":[30.0,29.454507361927487,28.760242663656886,27.9488550311827,27.047318483251146,0.0,null],\"type\":\"scatter\"},{\"fill\":\"tozeroy\",\"fillcolor\":\"rgba(255, 215, 0, 0.2)\",\"hovertemplate\":\"Season: %{x}\\u003cbr\\u003eSalary: %{y:.1f}% of cap\\u003cbr\\u003eOption: %{text}\\u003cbr\\u003e\\u003cextra\\u003e\\u003c\\u002fextra\\u003e\",\"line\":{\"color\":\"rgba(255, 215, 0, 0.8)\",\"width\":3},\"marker\":{\"line\":{\"color\":\"white\",\"width\":2},\"size\":12,\"symbol\":[\"circle\",\"circle\",\"star\",\"circle\",\"circle\",\"circle\",\"circle\"]},\"mode\":\"lines+markers\",\"name\":\"Luka Doncic\",\"text\":[\"0\",\"EE\",\"P\",\"0\",\"0\",\"\",\"\"],\"x\":[\"2024-25\",\"2025-26\",\"2026-27\",\"2027-28\",\"2028-29\",\"2029-30\",\"2030-31\"],\"y\":[30.608544114718185,29.744941705949678,28.785376693002256,0.0,0.0,null,null],\"type\":\"scatter\"},{\"marker\":{\"color\":\"white\",\"line\":{\"color\":\"white\",\"width\":2},\"size\":12,\"symbol\":\"triangle-up\"},\"mode\":\"markers\",\"name\":\"T Option\",\"showlegend\":true,\"x\":[null],\"y\":[null],\"type\":\"scatter\"},{\"marker\":{\"color\":\"white\",\"line\":{\"color\":\"white\",\"width\":2},\"size\":12,\"symbol\":\"star\"},\"mode\":\"markers\",\"name\":\"P Option\",\"showlegend\":true,\"x\":[null],\"y\":[null],\"type\":\"scatter\"},{\"marker\":{\"color\":\"white\",\"line\":{\"color\":\"white\",\"width\":2},\"size\":12,\"symbol\":\"diamond\"},\"mode\":\"markers\",\"name\":\"Extension Eligible\",\"showlegend\":true,\"x\":[null],\"y\":[null],\"type\":\"scatter\"}],                        {\"template\":{\"data\":{\"histogram2dcontour\":[{\"type\":\"histogram2dcontour\",\"colorbar\":{\"outlinewidth\":0,\"ticks\":\"\"},\"colorscale\":[[0.0,\"#0d0887\"],[0.1111111111111111,\"#46039f\"],[0.2222222222222222,\"#7201a8\"],[0.3333333333333333,\"#9c179e\"],[0.4444444444444444,\"#bd3786\"],[0.5555555555555556,\"#d8576b\"],[0.6666666666666666,\"#ed7953\"],[0.7777777777777778,\"#fb9f3a\"],[0.8888888888888888,\"#fdca26\"],[1.0,\"#f0f921\"]]}],\"choropleth\":[{\"type\":\"choropleth\",\"colorbar\":{\"outlinewidth\":0,\"ticks\":\"\"}}],\"histogram2d\":[{\"type\":\"histogram2d\",\"colorbar\":{\"outlinewidth\":0,\"ticks\":\"\"},\"colorscale\":[[0.0,\"#0d0887\"],[0.1111111111111111,\"#46039f\"],[0.2222222222222222,\"#7201a8\"],[0.3333333333333333,\"#9c179e\"],[0.4444444444444444,\"#bd3786\"],[0.5555555555555556,\"#d8576b\"],[0.6666666666666666,\"#ed7953\"],[0.7777777777777778,\"#fb9f3a\"],[0.8888888888888888,\"#fdca26\"],[1.0,\"#f0f921\"]]}],\"heatmap\":[{\"type\":\"heatmap\",\"colorbar\":{\"outlinewidth\":0,\"ticks\":\"\"},\"colorscale\":[[0.0,\"#0d0887\"],[0.1111111111111111,\"#46039f\"],[0.2222222222222222,\"#7201a8\"],[0.3333333333333333,\"#9c179e\"],[0.4444444444444444,\"#bd3786\"],[0.5555555555555556,\"#d8576b\"],[0.6666666666666666,\"#ed7953\"],[0.7777777777777778,\"#fb9f3a\"],[0.8888888888888888,\"#fdca26\"],[1.0,\"#f0f921\"]]}],\"heatmapgl\":[{\"type\":\"heatmapgl\",\"colorbar\":{\"outlinewidth\":0,\"ticks\":\"\"},\"colorscale\":[[0.0,\"#0d0887\"],[0.1111111111111111,\"#46039f\"],[0.2222222222222222,\"#7201a8\"],[0.3333333333333333,\"#9c179e\"],[0.4444444444444444,\"#bd3786\"],[0.5555555555555556,\"#d8576b\"],[0.6666666666666666,\"#ed7953\"],[0.7777777777777778,\"#fb9f3a\"],[0.8888888888888888,\"#fdca26\"],[1.0,\"#f0f921\"]]}],\"contourcarpet\":[{\"type\":\"contourcarpet\",\"colorbar\":{\"outlinewidth\":0,\"ticks\":\"\"}}],\"contour\":[{\"type\":\"contour\",\"colorbar\":{\"outlinewidth\":0,\"ticks\":\"\"},\"colorscale\":[[0.0,\"#0d0887\"],[0.1111111111111111,\"#46039f\"],[0.2222222222222222,\"#7201a8\"],[0.3333333333333333,\"#9c179e\"],[0.4444444444444444,\"#bd3786\"],[0.5555555555555556,\"#d8576b\"],[0.6666666666666666,\"#ed7953\"],[0.7777777777777778,\"#fb9f3a\"],[0.8888888888888888,\"#fdca26\"],[1.0,\"#f0f921\"]]}],\"surface\":[{\"type\":\"surface\",\"colorbar\":{\"outlinewidth\":0,\"ticks\":\"\"},\"colorscale\":[[0.0,\"#0d0887\"],[0.1111111111111111,\"#46039f\"],[0.2222222222222222,\"#7201a8\"],[0.3333333333333333,\"#9c179e\"],[0.4444444444444444,\"#bd3786\"],[0.5555555555555556,\"#d8576b\"],[0.6666666666666666,\"#ed7953\"],[0.7777777777777778,\"#fb9f3a\"],[0.8888888888888888,\"#fdca26\"],[1.0,\"#f0f921\"]]}],\"mesh3d\":[{\"type\":\"mesh3d\",\"colorbar\":{\"outlinewidth\":0,\"ticks\":\"\"}}],\"scatter\":[{\"fillpattern\":{\"fillmode\":\"overlay\",\"size\":10,\"solidity\":0.2},\"type\":\"scatter\"}],\"parcoords\":[{\"type\":\"parcoords\",\"line\":{\"colorbar\":{\"outlinewidth\":0,\"ticks\":\"\"}}}],\"scatterpolargl\":[{\"type\":\"scatterpolargl\",\"marker\":{\"colorbar\":{\"outlinewidth\":0,\"ticks\":\"\"}}}],\"bar\":[{\"error_x\":{\"color\":\"#2a3f5f\"},\"error_y\":{\"color\":\"#2a3f5f\"},\"marker\":{\"line\":{\"color\":\"#E5ECF6\",\"width\":0.5},\"pattern\":{\"fillmode\":\"overlay\",\"size\":10,\"solidity\":0.2}},\"type\":\"bar\"}],\"scattergeo\":[{\"type\":\"scattergeo\",\"marker\":{\"colorbar\":{\"outlinewidth\":0,\"ticks\":\"\"}}}],\"scatterpolar\":[{\"type\":\"scatterpolar\",\"marker\":{\"colorbar\":{\"outlinewidth\":0,\"ticks\":\"\"}}}],\"histogram\":[{\"marker\":{\"pattern\":{\"fillmode\":\"overlay\",\"size\":10,\"solidity\":0.2}},\"type\":\"histogram\"}],\"scattergl\":[{\"type\":\"scattergl\",\"marker\":{\"colorbar\":{\"outlinewidth\":0,\"ticks\":\"\"}}}],\"scatter3d\":[{\"type\":\"scatter3d\",\"line\":{\"colorbar\":{\"outlinewidth\":0,\"ticks\":\"\"}},\"marker\":{\"colorbar\":{\"outlinewidth\":0,\"ticks\":\"\"}}}],\"scattermapbox\":[{\"type\":\"scattermapbox\",\"marker\":{\"colorbar\":{\"outlinewidth\":0,\"ticks\":\"\"}}}],\"scatterternary\":[{\"type\":\"scatterternary\",\"marker\":{\"colorbar\":{\"outlinewidth\":0,\"ticks\":\"\"}}}],\"scattercarpet\":[{\"type\":\"scattercarpet\",\"marker\":{\"colorbar\":{\"outlinewidth\":0,\"ticks\":\"\"}}}],\"carpet\":[{\"aaxis\":{\"endlinecolor\":\"#2a3f5f\",\"gridcolor\":\"white\",\"linecolor\":\"white\",\"minorgridcolor\":\"white\",\"startlinecolor\":\"#2a3f5f\"},\"baxis\":{\"endlinecolor\":\"#2a3f5f\",\"gridcolor\":\"white\",\"linecolor\":\"white\",\"minorgridcolor\":\"white\",\"startlinecolor\":\"#2a3f5f\"},\"type\":\"carpet\"}],\"table\":[{\"cells\":{\"fill\":{\"color\":\"#EBF0F8\"},\"line\":{\"color\":\"white\"}},\"header\":{\"fill\":{\"color\":\"#C8D4E3\"},\"line\":{\"color\":\"white\"}},\"type\":\"table\"}],\"barpolar\":[{\"marker\":{\"line\":{\"color\":\"#E5ECF6\",\"width\":0.5},\"pattern\":{\"fillmode\":\"overlay\",\"size\":10,\"solidity\":0.2}},\"type\":\"barpolar\"}],\"pie\":[{\"automargin\":true,\"type\":\"pie\"}]},\"layout\":{\"autotypenumbers\":\"strict\",\"colorway\":[\"#636efa\",\"#EF553B\",\"#00cc96\",\"#ab63fa\",\"#FFA15A\",\"#19d3f3\",\"#FF6692\",\"#B6E880\",\"#FF97FF\",\"#FECB52\"],\"font\":{\"color\":\"#2a3f5f\"},\"hovermode\":\"closest\",\"hoverlabel\":{\"align\":\"left\"},\"paper_bgcolor\":\"white\",\"plot_bgcolor\":\"#E5ECF6\",\"polar\":{\"bgcolor\":\"#E5ECF6\",\"angularaxis\":{\"gridcolor\":\"white\",\"linecolor\":\"white\",\"ticks\":\"\"},\"radialaxis\":{\"gridcolor\":\"white\",\"linecolor\":\"white\",\"ticks\":\"\"}},\"ternary\":{\"bgcolor\":\"#E5ECF6\",\"aaxis\":{\"gridcolor\":\"white\",\"linecolor\":\"white\",\"ticks\":\"\"},\"baxis\":{\"gridcolor\":\"white\",\"linecolor\":\"white\",\"ticks\":\"\"},\"caxis\":{\"gridcolor\":\"white\",\"linecolor\":\"white\",\"ticks\":\"\"}},\"coloraxis\":{\"colorbar\":{\"outlinewidth\":0,\"ticks\":\"\"}},\"colorscale\":{\"sequential\":[[0.0,\"#0d0887\"],[0.1111111111111111,\"#46039f\"],[0.2222222222222222,\"#7201a8\"],[0.3333333333333333,\"#9c179e\"],[0.4444444444444444,\"#bd3786\"],[0.5555555555555556,\"#d8576b\"],[0.6666666666666666,\"#ed7953\"],[0.7777777777777778,\"#fb9f3a\"],[0.8888888888888888,\"#fdca26\"],[1.0,\"#f0f921\"]],\"sequentialminus\":[[0.0,\"#0d0887\"],[0.1111111111111111,\"#46039f\"],[0.2222222222222222,\"#7201a8\"],[0.3333333333333333,\"#9c179e\"],[0.4444444444444444,\"#bd3786\"],[0.5555555555555556,\"#d8576b\"],[0.6666666666666666,\"#ed7953\"],[0.7777777777777778,\"#fb9f3a\"],[0.8888888888888888,\"#fdca26\"],[1.0,\"#f0f921\"]],\"diverging\":[[0,\"#8e0152\"],[0.1,\"#c51b7d\"],[0.2,\"#de77ae\"],[0.3,\"#f1b6da\"],[0.4,\"#fde0ef\"],[0.5,\"#f7f7f7\"],[0.6,\"#e6f5d0\"],[0.7,\"#b8e186\"],[0.8,\"#7fbc41\"],[0.9,\"#4d9221\"],[1,\"#276419\"]]},\"xaxis\":{\"gridcolor\":\"white\",\"linecolor\":\"white\",\"ticks\":\"\",\"title\":{\"standoff\":15},\"zerolinecolor\":\"white\",\"automargin\":true,\"zerolinewidth\":2},\"yaxis\":{\"gridcolor\":\"white\",\"linecolor\":\"white\",\"ticks\":\"\",\"title\":{\"standoff\":15},\"zerolinecolor\":\"white\",\"automargin\":true,\"zerolinewidth\":2},\"scene\":{\"xaxis\":{\"backgroundcolor\":\"#E5ECF6\",\"gridcolor\":\"white\",\"linecolor\":\"white\",\"showbackground\":true,\"ticks\":\"\",\"zerolinecolor\":\"white\",\"gridwidth\":2},\"yaxis\":{\"backgroundcolor\":\"#E5ECF6\",\"gridcolor\":\"white\",\"linecolor\":\"white\",\"showbackground\":true,\"ticks\":\"\",\"zerolinecolor\":\"white\",\"gridwidth\":2},\"zaxis\":{\"backgroundcolor\":\"#E5ECF6\",\"gridcolor\":\"white\",\"linecolor\":\"white\",\"showbackground\":true,\"ticks\":\"\",\"zerolinecolor\":\"white\",\"gridwidth\":2}},\"shapedefaults\":{\"line\":{\"color\":\"#2a3f5f\"}},\"annotationdefaults\":{\"arrowcolor\":\"#2a3f5f\",\"arrowhead\":0,\"arrowwidth\":1},\"geo\":{\"bgcolor\":\"white\",\"landcolor\":\"#E5ECF6\",\"subunitcolor\":\"white\",\"showland\":true,\"showlakes\":true,\"lakecolor\":\"white\"},\"title\":{\"x\":0.05},\"mapbox\":{\"style\":\"light\"}}},\"title\":{\"font\":{\"size\":24},\"text\":\"Salary Comparison: Anthony Davis, Anthony Edwards and Luka Doncic\",\"y\":0.95},\"yaxis\":{\"title\":{\"text\":\"Salary (% of cap)\"},\"tickformat\":\".1f\",\"ticksuffix\":\"%\",\"tickmode\":\"linear\",\"dtick\":5,\"range\":[-0.5,40],\"gridcolor\":\"rgba(128, 128, 128, 0.2)\"},\"xaxis\":{\"title\":{\"text\":\"Season\"},\"tickangle\":45,\"tickmode\":\"array\",\"ticktext\":[\"2021-22\",\"2022-23\",\"2023-24\",\"2024-25\",\"2025-26\",\"2026-27\",\"2027-28\",\"2028-29\",\"2029-30\",\"2030-31\",\"2031-32\"],\"tickvals\":[\"2021-22\",\"2022-23\",\"2023-24\",\"2024-25\",\"2025-26\",\"2026-27\",\"2027-28\",\"2028-29\",\"2029-30\",\"2030-31\",\"2031-32\"],\"range\":[\"2021-22\",\"2031-32\"],\"gridcolor\":\"rgba(128, 128, 128, 0.2)\",\"automargin\":true,\"showgrid\":false},\"legend\":{\"yanchor\":\"top\",\"y\":0.99,\"xanchor\":\"left\",\"x\":0.98,\"bgcolor\":\"rgba(0,0,0,0.5)\",\"bordercolor\":\"rgba(255,255,255,0.2)\"},\"font\":{\"color\":\"white\",\"size\":14},\"margin\":{\"t\":100,\"b\":80,\"l\":80,\"r\":80},\"showlegend\":true,\"hovermode\":\"x unified\",\"plot_bgcolor\":\"rgb(20,20,20)\",\"paper_bgcolor\":\"rgb(30,30,30)\",\"height\":800,\"width\":1200},                        {\"responsive\": true}                    ).then(function(){\n",
       "                            \n",
       "var gd = document.getElementById('76e6291e-f105-4d18-a987-e2f32a233765');\n",
       "var x = new MutationObserver(function (mutations, observer) {{\n",
       "        var display = window.getComputedStyle(gd).display;\n",
       "        if (!display || display === 'none') {{\n",
       "            console.log([gd, 'removed!']);\n",
       "            Plotly.purge(gd);\n",
       "            observer.disconnect();\n",
       "        }}\n",
       "}});\n",
       "\n",
       "// Listen for the removal of the full notebook cells\n",
       "var notebookContainer = gd.closest('#notebook-container');\n",
       "if (notebookContainer) {{\n",
       "    x.observe(notebookContainer, {childList: true});\n",
       "}}\n",
       "\n",
       "// Listen for the clearing of the current output cell\n",
       "var outputEl = gd.closest('.output');\n",
       "if (outputEl) {{\n",
       "    x.observe(outputEl, {childList: true});\n",
       "}}\n",
       "\n",
       "                        })                };                });            </script>        </div>"
      ]
     },
     "metadata": {},
     "output_type": "display_data"
    }
   ],
   "source": [
    "\n",
    "import pandas as pd\n",
    "import math\n",
    "import plotly.figure_factory as ff\n",
    "\n",
    "import plotly.graph_objects as go\n",
    "from plotly.subplots import make_subplots\n",
    "\n",
    "import numpy as np\n",
    "\n",
    "\n",
    "player1=1628369\n",
    "player2=1630162\n",
    "\n",
    "\n",
    "import plotly.graph_objects as go\n",
    "import pandas as pd\n",
    "\n",
    "import plotly.graph_objects as go\n",
    "import pandas as pd\n",
    "\n",
    "import plotly.graph_objects as go\n",
    "import pandas as pd\n",
    "\n",
    "def compare_player_salaries(df, *player_ids):\n",
    "    if len(player_ids) > 4:\n",
    "        raise ValueError(\"Maximum of 4 players can be compared at once\")\n",
    "        \n",
    "    cap = pd.read_csv('cap.csv')\n",
    "    cap['Season'] = cap['Season'].apply(lambda x: f\"{x.split('-')[0]}-{str(int(x.split('-')[1]))[-2:]}\")\n",
    "    \n",
    "    seasons = [col for col in df.columns if col.startswith('20')]\n",
    "    season_cap = dict(zip(cap['Season'], cap['Salary Cap']))\n",
    "    \n",
    "    for season in seasons:\n",
    "        df[season] = 100 * df[season] / season_cap[season]\n",
    "    \n",
    "    fig = go.Figure()\n",
    "    \n",
    "    option_markers = {\n",
    "        'T': 'triangle-up',\n",
    "        'P': 'star',\n",
    "        'ee': 'diamond',\n",
    "        '': 'circle'\n",
    "    }\n",
    "    \n",
    "    # Enhanced color palette with better opacity\n",
    "    colors = [\n",
    "        'rgba(0, 255, 255, 0.8)',    # cyan\n",
    "        'rgba(255, 105, 180, 0.8)',  # hot pink\n",
    "        'rgba(255, 215, 0, 0.8)',    # gold\n",
    "        'rgba(50, 205, 50, 0.8)'     # lime green\n",
    "    ]\n",
    "    \n",
    "    for i, player_id in enumerate(player_ids):\n",
    "        player_data = df[df['nba_id'] == player_id].iloc[0]\n",
    "        years = [int(season.split('-')[0]) for season in seasons]\n",
    "        y_values = [float(str(player_data[season]).replace('$', '').replace(',', '')) \n",
    "                   if pd.notna(player_data[season]) else None \n",
    "                   for season in seasons]\n",
    "        print(y_values)\n",
    "        print(seasons)\n",
    "        options = [player_data[f'option_{season}'] if pd.notna(player_data[f'option_{season}']) else ''\n",
    "                  for season in seasons]\n",
    "        \n",
    "        fig.add_trace(go.Scatter(\n",
    "            x=years,\n",
    "            y=y_values,\n",
    "            name=player_data['name'],\n",
    "            line=dict(color=colors[i], width=3),\n",
    "            mode='lines+markers',\n",
    "            marker=dict(\n",
    "                size=12,\n",
    "                symbol=[option_markers.get(opt, 'circle') for opt in options],\n",
    "                line=dict(width=2, color='white'),\n",
    "            ),\n",
    "            hovertemplate=(\n",
    "                \"Season: %{x}<br>\" +\n",
    "                \"Salary: %{y:.1f}% of cap<br>\" +\n",
    "                \"Option: %{text}<br>\" +\n",
    "                \"<extra></extra>\"\n",
    "            ),\n",
    "            text=options,\n",
    "            fill='tozeroy',\n",
    "            fillcolor=colors[i].replace('0.8', '0.2')\n",
    "        ))\n",
    "    \n",
    "    # Create title based on number of players\n",
    "    player_names = [df[df['nba_id'] == pid].iloc[0]['name'] for pid in player_ids]\n",
    "    if len(player_names) == 2:\n",
    "        title = f\"Salary Comparison: {player_names[0]} vs {player_names[1]}\"\n",
    "    else:\n",
    "        title = f\"Salary Comparison: {', '.join(player_names[:-1])} and {player_names[-1]}\"\n",
    "    \n",
    "    fig.update_layout(\n",
    "        title=dict(\n",
    "            text=title,\n",
    "            font=dict(size=24),\n",
    "            y=0.95\n",
    "        ),\n",
    "        xaxis_title=\"Season\",\n",
    "        yaxis_title=\"Salary (% of cap)\",\n",
    "        yaxis=dict(\n",
    "            tickformat=\".1f\",\n",
    "            ticksuffix=\"%\",\n",
    "            tickmode='linear',\n",
    "            dtick=5,  # Adjust tick spacing\n",
    "            range=[-2, 40],\n",
    "            gridcolor='rgba(128, 128, 128, 0.2)',\n",
    "        ),\n",
    "        xaxis=dict(\n",
    "            tickangle=45,\n",
    "            tickmode='array',\n",
    "            ticktext=seasons,\n",
    "            tickvals=seasons,\n",
    "            gridcolor='rgba(128, 128, 128, 0.2)',\n",
    "        ),\n",
    "        showlegend=True,\n",
    "        hovermode='x unified',\n",
    "        legend=dict(\n",
    "            yanchor=\"top\",\n",
    "            y=0.99,\n",
    "            xanchor=\"left\",\n",
    "            x=0.98,\n",
    "            bgcolor='rgba(0,0,0,0.5)',\n",
    "            bordercolor='rgba(255,255,255,0.2)',\n",
    "        ),\n",
    "        plot_bgcolor='rgb(20,20,20)',\n",
    "        paper_bgcolor='rgb(30,30,30)',\n",
    "        font=dict(\n",
    "            color='white',\n",
    "            size=14\n",
    "        ),\n",
    "        height=800,\n",
    "        width=1200,\n",
    "        margin=dict(t=100, b=80, l=80, r=50)  # Increased margins for better tick visibility\n",
    "    )\n",
    "    \n",
    "    # Add legend entries for option markers\n",
    "    for option, symbol in option_markers.items():\n",
    "        if option:\n",
    "            fig.add_trace(go.Scatter(\n",
    "                x=[None],\n",
    "                y=[None],\n",
    "                mode='markers',\n",
    "                marker=dict(\n",
    "                    symbol=symbol,\n",
    "                    size=12,\n",
    "                    color='white',\n",
    "                    line=dict(width=2, color='white')\n",
    "                ),\n",
    "                name=f'{option} Option' if option != \"ee\" else \"Extension Eligible\",\n",
    "                showlegend=True\n",
    "            ))\n",
    "    \n",
    "    return fig\n",
    "\n",
    "df=pd.read_csv('salary_spread.csv')\n",
    "fig = compare_player_salaries(df,player1,player2)\n",
    "fig.show()"
   ]
  },
  {
   "cell_type": "code",
   "execution_count": null,
   "id": "7fab4d3b-a311-44af-9b1c-5f2727b19cd7",
   "metadata": {},
   "outputs": [],
   "source": []
  }
 ],
 "metadata": {
  "kernelspec": {
   "display_name": "Python 3 (ipykernel)",
   "language": "python",
   "name": "python3"
  },
  "language_info": {
   "codemirror_mode": {
    "name": "ipython",
    "version": 3
   },
   "file_extension": ".py",
   "mimetype": "text/x-python",
   "name": "python",
   "nbconvert_exporter": "python",
   "pygments_lexer": "ipython3",
   "version": "3.10.12"
  }
 },
 "nbformat": 4,
 "nbformat_minor": 5
}
