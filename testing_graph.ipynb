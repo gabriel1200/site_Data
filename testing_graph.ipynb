{
 "cells": [
  {
   "cell_type": "code",
   "execution_count": 20,
   "id": "03c258bd-0f24-4d9e-9b0d-f22735c3615b",
   "metadata": {
    "scrolled": true
   },
   "outputs": [
    {
     "name": "stdout",
     "output_type": "stream",
     "text": [
      "173088172.0\n"
     ]
    },
    {
     "data": {
      "application/vnd.plotly.v1+json": {
       "config": {
        "plotlyServerURL": "https://plot.ly"
       },
       "data": [
        {
         "hoverinfo": "text",
         "hovertext": [
          "<b>Bam Adebayo</b><br>Position: C<br>Season: 2024-25<br>Salary: $34,848,340.00<br>Cap %: 24.8%<br>Guaranteed Total: $237,293,824.00",
          "<b>Bam Adebayo</b><br>Position: C<br>Season: 2025-26<br>Salary: $37,096,620.00<br>Cap %: 24.0%<br>Guaranteed Total: $237,293,824.00",
          "<b>Bam Adebayo</b><br>Position: C<br>Season: 2026-27<br>Salary: $51,033,600.00<br>Cap %: 30.0%<br>Guaranteed Total: $237,293,824.00",
          "<b>Bam Adebayo</b><br>Position: C<br>Season: 2027-28<br>Salary: $55,116,288.00<br>Cap %: 29.5%<br>Guaranteed Total: $237,293,824.00",
          "<b>Bam Adebayo</b><br>Position: C<br>Season: 2028-29<br>Salary: $59,198,976.00<br>Cap %: 28.8%<br>Guaranteed Total: $237,293,824.00",
          "<b>Bam Adebayo</b><br>Position: C<br>Season: 2029-30<br>Salary: $0.00<br>Cap %: 0.0%<br>Guaranteed Total: $237,293,824.00"
         ],
         "insidetextanchor": "middle",
         "marker": {
          "color": 237293824,
          "line": {
           "color": "#0d0106",
           "width": 3
          },
          "opacity": [
           1,
           1,
           1,
           1,
           1,
           1
          ],
          "pattern": {
           "shape": [
            "",
            "",
            "",
            "-",
            "",
            ""
           ]
          }
         },
         "name": "Bam Adebayo",
         "showlegend": false,
         "text": "<b>Bam Adebayo<b>",
         "textfont": {
          "color": [
           "#0d0106",
           "#0d0106",
           "#0d0106",
           "#0d0106",
           "#e8d8c3",
           "#0d0106"
          ],
          "family": "Malgun Gothic",
          "size": 22
         },
         "textposition": "inside",
         "type": "bar",
         "x": [
          "2024-25",
          "2025-26",
          "2026-27",
          "2027-28",
          "2028-29",
          "2029-30"
         ],
         "y": [
          24.78756366119441,
          23.987933810549187,
          30,
          29.454576936026037,
          28.76040323560133,
          0
         ]
        },
        {
         "hoverinfo": "text",
         "hovertext": [
          "<b>Tyler Herro</b><br>Position: SG<br>Season: 2024-25<br>Salary: $29,000,000.00<br>Cap %: 20.6%<br>Guaranteed Total: $93,000,000.00",
          "<b>Tyler Herro</b><br>Position: SG<br>Season: 2025-26<br>Salary: $31,000,000.00<br>Cap %: 20.0%<br>Guaranteed Total: $93,000,000.00",
          "<b>Tyler Herro</b><br>Position: SG<br>Season: 2026-27<br>Salary: $33,000,000.00<br>Cap %: 19.4%<br>Guaranteed Total: $93,000,000.00",
          "<b>Tyler Herro</b><br>Position: SG<br>Season: 2027-28<br>Salary: $0.00<br>Cap %: 0.0%<br>Guaranteed Total: $93,000,000.00",
          "<b>Tyler Herro</b><br>Position: SG<br>Season: 2028-29<br>Salary: $0.00<br>Cap %: 0.0%<br>Guaranteed Total: $93,000,000.00",
          "<b>Tyler Herro</b><br>Position: SG<br>Season: 2029-30<br>Salary: $0.00<br>Cap %: 0.0%<br>Guaranteed Total: $93,000,000.00"
         ],
         "insidetextanchor": "middle",
         "marker": {
          "color": 93000000,
          "line": {
           "color": "#0d0106",
           "width": 3
          },
          "opacity": [
           1,
           1,
           1,
           1,
           1,
           1
          ],
          "pattern": {
           "shape": [
            "",
            "-",
            "",
            "",
            "",
            ""
           ]
          }
         },
         "name": "Tyler Herro",
         "showlegend": false,
         "text": "<b>Tyler Herro<b>",
         "textfont": {
          "color": [
           "#0d0106",
           "#0d0106",
           "#0d0106",
           "#0d0106",
           "#0d0106",
           "#0d0106"
          ],
          "family": "Malgun Gothic",
          "size": 22
         },
         "textposition": "inside",
         "type": "bar",
         "x": [
          "2024-25",
          "2025-26",
          "2026-27",
          "2027-28",
          "2028-29",
          "2029-30"
         ],
         "y": [
          20.62764958602441,
          20.04565235665742,
          19.398984198645596,
          0,
          0,
          0
         ]
        },
        {
         "hoverinfo": "text",
         "hovertext": [
          "<b>Andrew Wiggins</b><br>Position: SF<br>Season: 2024-25<br>Salary: $26,276,786.00<br>Cap %: 18.7%<br>Guaranteed Total: $84,669,645.00",
          "<b>Andrew Wiggins</b><br>Position: SF<br>Season: 2025-26<br>Salary: $28,223,215.00<br>Cap %: 18.3%<br>Guaranteed Total: $84,669,645.00",
          "<b>Andrew Wiggins</b><br>Position: SF<br>Season: 2026-27<br>Salary: $30,169,644.00<br>Cap %: 17.7%<br>Guaranteed Total: $84,669,645.00",
          "<b>Andrew Wiggins</b><br>Position: SF<br>Season: 2027-28<br>Salary: $0.00<br>Cap %: 0.0%<br>Guaranteed Total: $84,669,645.00",
          "<b>Andrew Wiggins</b><br>Position: SF<br>Season: 2028-29<br>Salary: $0.00<br>Cap %: 0.0%<br>Guaranteed Total: $84,669,645.00",
          "<b>Andrew Wiggins</b><br>Position: SF<br>Season: 2029-30<br>Salary: $0.00<br>Cap %: 0.0%<br>Guaranteed Total: $84,669,645.00"
         ],
         "insidetextanchor": "middle",
         "marker": {
          "color": 84669645,
          "line": {
           "color": "#0d0106",
           "width": 3
          },
          "opacity": [
           1,
           1,
           1,
           1,
           1,
           1
          ],
          "pattern": {
           "shape": [
            "",
            "-",
            "",
            "",
            "",
            ""
           ]
          }
         },
         "name": "Andrew Wiggins",
         "showlegend": false,
         "text": "<b>Andrew Wiggins<b>",
         "textfont": {
          "color": [
           "#0d0106",
           "#0d0106",
           "#e8d8c3",
           "#0d0106",
           "#0d0106",
           "#0d0106"
          ],
          "family": "Malgun Gothic",
          "size": 22
         },
         "textposition": "inside",
         "type": "bar",
         "x": [
          "2024-25",
          "2025-26",
          "2026-27",
          "2027-28",
          "2028-29",
          "2029-30"
         ],
         "y": [
          18.6906322018949,
          18.250088912167712,
          17.73516506772009,
          0,
          0,
          0
         ]
        },
        {
         "hoverinfo": "text",
         "hovertext": [
          "<b>Terry Rozier</b><br>Position: PG<br>Season: 2024-25<br>Salary: $24,924,126.00<br>Cap %: 17.7%<br>Guaranteed Total: $51,567,157.00",
          "<b>Terry Rozier</b><br>Position: PG<br>Season: 2025-26<br>Salary: $26,643,031.00<br>Cap %: 17.2%<br>Guaranteed Total: $51,567,157.00",
          "<b>Terry Rozier</b><br>Position: PG<br>Season: 2026-27<br>Salary: $0.00<br>Cap %: 0.0%<br>Guaranteed Total: $51,567,157.00",
          "<b>Terry Rozier</b><br>Position: PG<br>Season: 2027-28<br>Salary: $0.00<br>Cap %: 0.0%<br>Guaranteed Total: $51,567,157.00",
          "<b>Terry Rozier</b><br>Position: PG<br>Season: 2028-29<br>Salary: $0.00<br>Cap %: 0.0%<br>Guaranteed Total: $51,567,157.00",
          "<b>Terry Rozier</b><br>Position: PG<br>Season: 2029-30<br>Salary: $0.00<br>Cap %: 0.0%<br>Guaranteed Total: $51,567,157.00"
         ],
         "insidetextanchor": "middle",
         "marker": {
          "color": 51567157,
          "line": {
           "color": "#0d0106",
           "width": 3
          },
          "opacity": [
           1,
           1,
           1,
           1,
           1,
           1
          ],
          "pattern": {
           "shape": [
            "",
            "",
            "",
            "",
            "",
            ""
           ]
          }
         },
         "name": "Terry Rozier",
         "showlegend": false,
         "text": "<b>Terry Rozier<b>",
         "textfont": {
          "color": [
           "#0d0106",
           "#0d0106",
           "#0d0106",
           "#0d0106",
           "#0d0106",
           "#0d0106"
          ],
          "family": "Malgun Gothic",
          "size": 22
         },
         "textposition": "inside",
         "type": "bar",
         "x": [
          "2024-25",
          "2025-26",
          "2026-27",
          "2027-28",
          "2028-29",
          "2029-30"
         ],
         "y": [
          17.728487495376562,
          17.228288295278926,
          0,
          0,
          0,
          0
         ]
        },
        {
         "hoverinfo": "text",
         "hovertext": [
          "<b>Duncan Robinson</b><br>Position: SF<br>Season: 2024-25<br>Salary: $19,406,000.00<br>Cap %: 13.8%<br>Guaranteed Total: $39,294,000.00",
          "<b>Duncan Robinson</b><br>Position: SF<br>Season: 2025-26<br>Salary: $19,888,000.00<br>Cap %: 12.9%<br>Guaranteed Total: $39,294,000.00",
          "<b>Duncan Robinson</b><br>Position: SF<br>Season: 2026-27<br>Salary: $0.00<br>Cap %: 0.0%<br>Guaranteed Total: $39,294,000.00",
          "<b>Duncan Robinson</b><br>Position: SF<br>Season: 2027-28<br>Salary: $0.00<br>Cap %: 0.0%<br>Guaranteed Total: $39,294,000.00",
          "<b>Duncan Robinson</b><br>Position: SF<br>Season: 2028-29<br>Salary: $0.00<br>Cap %: 0.0%<br>Guaranteed Total: $39,294,000.00",
          "<b>Duncan Robinson</b><br>Position: SF<br>Season: 2029-30<br>Salary: $0.00<br>Cap %: 0.0%<br>Guaranteed Total: $39,294,000.00"
         ],
         "insidetextanchor": "middle",
         "marker": {
          "color": 39294000,
          "line": {
           "color": "#0d0106",
           "width": 3
          },
          "opacity": [
           1,
           1,
           1,
           1,
           1,
           1
          ],
          "pattern": {
           "shape": [
            "",
            "",
            "",
            "",
            "",
            ""
           ]
          }
         },
         "name": "Duncan Robinson",
         "showlegend": false,
         "text": "<b>Duncan Robinson<b>",
         "textfont": {
          "color": [
           "#0d0106",
           "#e8d8c3",
           "#0d0106",
           "#0d0106",
           "#0d0106",
           "#0d0106"
          ],
          "family": "Malgun Gothic",
          "size": 22
         },
         "textposition": "inside",
         "type": "bar",
         "x": [
          "2024-25",
          "2025-26",
          "2026-27",
          "2027-28",
          "2028-29",
          "2029-30"
         ],
         "y": [
          13.803454064358267,
          12.860255937716218,
          0,
          0,
          0,
          0
         ]
        },
        {
         "hoverinfo": "text",
         "hovertext": [
          "<b>Kyle Anderson</b><br>Position: PF<br>Season: 2024-25<br>Salary: $8,780,488.00<br>Cap %: 6.2%<br>Guaranteed Total: $27,658,536.00",
          "<b>Kyle Anderson</b><br>Position: PF<br>Season: 2025-26<br>Salary: $9,219,512.00<br>Cap %: 6.0%<br>Guaranteed Total: $27,658,536.00",
          "<b>Kyle Anderson</b><br>Position: PF<br>Season: 2026-27<br>Salary: $9,658,536.00<br>Cap %: 5.7%<br>Guaranteed Total: $27,658,536.00",
          "<b>Kyle Anderson</b><br>Position: PF<br>Season: 2027-28<br>Salary: $0.00<br>Cap %: 0.0%<br>Guaranteed Total: $27,658,536.00",
          "<b>Kyle Anderson</b><br>Position: PF<br>Season: 2028-29<br>Salary: $0.00<br>Cap %: 0.0%<br>Guaranteed Total: $27,658,536.00",
          "<b>Kyle Anderson</b><br>Position: PF<br>Season: 2029-30<br>Salary: $0.00<br>Cap %: 0.0%<br>Guaranteed Total: $27,658,536.00"
         ],
         "insidetextanchor": "middle",
         "marker": {
          "color": 27658536,
          "line": {
           "color": "#0d0106",
           "width": 3
          },
          "opacity": [
           1,
           1,
           1,
           1,
           1,
           1
          ],
          "pattern": {
           "shape": [
            "",
            "",
            "",
            "",
            "",
            ""
           ]
          }
         },
         "name": "Kyle Anderson",
         "showlegend": true,
         "text": "<b><b>",
         "textfont": {
          "color": [
           "#0d0106",
           "#0d0106",
           "#0d0106",
           "#0d0106",
           "#0d0106",
           "#0d0106"
          ],
          "family": "Malgun Gothic",
          "size": 22
         },
         "textposition": "inside",
         "type": "bar",
         "x": [
          "2024-25",
          "2025-26",
          "2026-27",
          "2027-28",
          "2028-29",
          "2029-30"
         ],
         "y": [
          6.245545850285942,
          5.96164943387198,
          5.677751128668172,
          0,
          0,
          0
         ]
        },
        {
         "hoverinfo": "text",
         "hovertext": [
          "<b>Jr. Jaime Jaquez Jr.</b><br>Position: SF<br>Season: 2024-25<br>Salary: $3,685,800.00<br>Cap %: 2.6%<br>Guaranteed Total: $13,486,541.00",
          "<b>Jr. Jaime Jaquez Jr.</b><br>Position: SF<br>Season: 2025-26<br>Salary: $3,861,600.00<br>Cap %: 2.5%<br>Guaranteed Total: $13,486,541.00",
          "<b>Jr. Jaime Jaquez Jr.</b><br>Position: SF<br>Season: 2026-27<br>Salary: $5,939,141.00<br>Cap %: 3.5%<br>Guaranteed Total: $13,486,541.00",
          "<b>Jr. Jaime Jaquez Jr.</b><br>Position: SF<br>Season: 2027-28<br>Salary: $0.00<br>Cap %: 0.0%<br>Guaranteed Total: $13,486,541.00",
          "<b>Jr. Jaime Jaquez Jr.</b><br>Position: SF<br>Season: 2028-29<br>Salary: $0.00<br>Cap %: 0.0%<br>Guaranteed Total: $13,486,541.00",
          "<b>Jr. Jaime Jaquez Jr.</b><br>Position: SF<br>Season: 2029-30<br>Salary: $0.00<br>Cap %: 0.0%<br>Guaranteed Total: $13,486,541.00"
         ],
         "insidetextanchor": "middle",
         "marker": {
          "color": 13486541,
          "line": {
           "color": "#0d0106",
           "width": 3
          },
          "opacity": [
           1,
           1,
           1,
           1,
           1,
           1
          ],
          "pattern": {
           "shape": [
            "",
            "",
            "",
            "",
            "",
            ""
           ]
          }
         },
         "name": "Jr. Jaime Jaquez Jr.",
         "showlegend": true,
         "text": "<b><b>",
         "textfont": {
          "color": [
           "#0d0106",
           "#0d0106",
           "#0d0106",
           "#0d0106",
           "#0d0106",
           "#0d0106"
          ],
          "family": "Malgun Gothic",
          "size": 22
         },
         "textposition": "inside",
         "type": "bar",
         "x": [
          "2024-25",
          "2025-26",
          "2026-27",
          "2027-28",
          "2028-29",
          "2029-30"
         ],
         "y": [
          2.621703132557544,
          2.4970416496925254,
          3.491312194319037,
          0,
          0,
          0
         ]
        },
        {
         "hoverinfo": "text",
         "hovertext": [
          "<b>Haywood Highsmith</b><br>Position: F<br>Season: 2024-25<br>Salary: $5,200,000.00<br>Cap %: 3.7%<br>Guaranteed Total: $10,816,000.00",
          "<b>Haywood Highsmith</b><br>Position: F<br>Season: 2025-26<br>Salary: $5,616,000.00<br>Cap %: 3.6%<br>Guaranteed Total: $10,816,000.00",
          "<b>Haywood Highsmith</b><br>Position: F<br>Season: 2026-27<br>Salary: $0.00<br>Cap %: 0.0%<br>Guaranteed Total: $10,816,000.00",
          "<b>Haywood Highsmith</b><br>Position: F<br>Season: 2027-28<br>Salary: $0.00<br>Cap %: 0.0%<br>Guaranteed Total: $10,816,000.00",
          "<b>Haywood Highsmith</b><br>Position: F<br>Season: 2028-29<br>Salary: $0.00<br>Cap %: 0.0%<br>Guaranteed Total: $10,816,000.00",
          "<b>Haywood Highsmith</b><br>Position: F<br>Season: 2029-30<br>Salary: $0.00<br>Cap %: 0.0%<br>Guaranteed Total: $10,816,000.00"
         ],
         "insidetextanchor": "middle",
         "marker": {
          "color": 10816000,
          "line": {
           "color": "#0d0106",
           "width": 3
          },
          "opacity": [
           1,
           1,
           1,
           1,
           1,
           1
          ],
          "pattern": {
           "shape": [
            "",
            "",
            "",
            "",
            "",
            ""
           ]
          }
         },
         "name": "Haywood Highsmith",
         "showlegend": true,
         "text": "<b><b>",
         "textfont": {
          "color": [
           "#0d0106",
           "#0d0106",
           "#0d0106",
           "#0d0106",
           "#0d0106",
           "#0d0106"
          ],
          "family": "Malgun Gothic",
          "size": 22
         },
         "textposition": "inside",
         "type": "bar",
         "x": [
          "2024-25",
          "2025-26",
          "2026-27",
          "2027-28",
          "2028-29",
          "2029-30"
         ],
         "y": [
          3.698750960252653,
          3.6314962462899376,
          0,
          0,
          0,
          0
         ]
        },
        {
         "hoverinfo": "text",
         "hovertext": [
          "<b>Kel'el Ware</b><br>Position: C<br>Season: 2024-25<br>Salary: $4,231,800.00<br>Cap %: 3.0%<br>Guaranteed Total: $8,675,160.00",
          "<b>Kel'el Ware</b><br>Position: C<br>Season: 2025-26<br>Salary: $4,443,360.00<br>Cap %: 2.9%<br>Guaranteed Total: $8,675,160.00",
          "<b>Kel'el Ware</b><br>Position: C<br>Season: 2026-27<br>Salary: $4,654,920.00<br>Cap %: 2.7%<br>Guaranteed Total: $8,675,160.00",
          "<b>Kel'el Ware</b><br>Position: C<br>Season: 2027-28<br>Salary: $7,135,992.00<br>Cap %: 3.8%<br>Guaranteed Total: $8,675,160.00",
          "<b>Kel'el Ware</b><br>Position: C<br>Season: 2028-29<br>Salary: $0.00<br>Cap %: 0.0%<br>Guaranteed Total: $8,675,160.00",
          "<b>Kel'el Ware</b><br>Position: C<br>Season: 2029-30<br>Salary: $0.00<br>Cap %: 0.0%<br>Guaranteed Total: $8,675,160.00"
         ],
         "insidetextanchor": "middle",
         "marker": {
          "color": 8675160,
          "line": {
           "color": "#0d0106",
           "width": 3
          },
          "opacity": [
           1,
           1,
           0.35,
           0.35,
           1,
           1
          ],
          "pattern": {
           "shape": [
            "",
            "",
            "/",
            "/",
            "",
            ""
           ]
          }
         },
         "name": "Kel'el Ware",
         "showlegend": true,
         "text": "<b><b>",
         "textfont": {
          "color": [
           "#0d0106",
           "#0d0106",
           "#0d0106",
           "#0d0106",
           "#0d0106",
           "#0d0106"
          ],
          "family": "Malgun Gothic",
          "size": 22
         },
         "textposition": "inside",
         "type": "bar",
         "x": [
          "2024-25",
          "2025-26",
          "2026-27",
          "2027-28",
          "2028-29",
          "2029-30"
         ],
         "y": [
          3.010071983384073,
          2.8732274146928165,
          2.736385440180587,
          3.813530137930666,
          0,
          0
         ]
        },
        {
         "hoverinfo": "text",
         "hovertext": [
          "<b>Kevin Love</b><br>Position: C<br>Season: 2024-25<br>Salary: $3,850,000.00<br>Cap %: 2.7%<br>Guaranteed Total: $8,000,000.00",
          "<b>Kevin Love</b><br>Position: C<br>Season: 2025-26<br>Salary: $4,150,000.00<br>Cap %: 2.7%<br>Guaranteed Total: $8,000,000.00",
          "<b>Kevin Love</b><br>Position: C<br>Season: 2026-27<br>Salary: $0.00<br>Cap %: 0.0%<br>Guaranteed Total: $8,000,000.00",
          "<b>Kevin Love</b><br>Position: C<br>Season: 2027-28<br>Salary: $0.00<br>Cap %: 0.0%<br>Guaranteed Total: $8,000,000.00",
          "<b>Kevin Love</b><br>Position: C<br>Season: 2028-29<br>Salary: $0.00<br>Cap %: 0.0%<br>Guaranteed Total: $8,000,000.00",
          "<b>Kevin Love</b><br>Position: C<br>Season: 2029-30<br>Salary: $0.00<br>Cap %: 0.0%<br>Guaranteed Total: $8,000,000.00"
         ],
         "insidetextanchor": "middle",
         "marker": {
          "color": 8000000,
          "line": {
           "color": "#0d0106",
           "width": 3
          },
          "opacity": [
           1,
           1,
           1,
           1,
           1,
           1
          ],
          "pattern": {
           "shape": [
            "",
            "",
            "",
            "",
            "",
            ""
           ]
          }
         },
         "name": "Kevin Love",
         "showlegend": true,
         "text": "<b><b>",
         "textfont": {
          "color": [
           "#0d0106",
           "#0d0106",
           "#0d0106",
           "#0d0106",
           "#0d0106",
           "#0d0106"
          ],
          "family": "Malgun Gothic",
          "size": 22
         },
         "textposition": "inside",
         "type": "bar",
         "x": [
          "2024-25",
          "2025-26",
          "2026-27",
          "2027-28",
          "2028-29",
          "2029-30"
         ],
         "y": [
          2.7384983071101376,
          2.6835308800041386,
          0,
          0,
          0,
          0
         ]
        },
        {
         "hoverinfo": "text",
         "hovertext": [
          "<b>Nikola Jovic</b><br>Position: SF<br>Season: 2024-25<br>Salary: $2,464,200.00<br>Cap %: 1.8%<br>Guaranteed Total: $6,909,617.00",
          "<b>Nikola Jovic</b><br>Position: SF<br>Season: 2025-26<br>Salary: $4,445,417.00<br>Cap %: 2.9%<br>Guaranteed Total: $6,909,617.00",
          "<b>Nikola Jovic</b><br>Position: SF<br>Season: 2026-27<br>Salary: $0.00<br>Cap %: 0.0%<br>Guaranteed Total: $6,909,617.00",
          "<b>Nikola Jovic</b><br>Position: SF<br>Season: 2027-28<br>Salary: $0.00<br>Cap %: 0.0%<br>Guaranteed Total: $6,909,617.00",
          "<b>Nikola Jovic</b><br>Position: SF<br>Season: 2028-29<br>Salary: $0.00<br>Cap %: 0.0%<br>Guaranteed Total: $6,909,617.00",
          "<b>Nikola Jovic</b><br>Position: SF<br>Season: 2029-30<br>Salary: $0.00<br>Cap %: 0.0%<br>Guaranteed Total: $6,909,617.00"
         ],
         "insidetextanchor": "middle",
         "marker": {
          "color": 6909617,
          "line": {
           "color": "#0d0106",
           "width": 3
          },
          "opacity": [
           1,
           1,
           1,
           1,
           1,
           1
          ],
          "pattern": {
           "shape": [
            "",
            "-",
            "",
            "",
            "",
            ""
           ]
          }
         },
         "name": "Nikola Jovic",
         "showlegend": true,
         "text": "<b><b>",
         "textfont": {
          "color": [
           "#0d0106",
           "#0d0106",
           "#0d0106",
           "#0d0106",
           "#0d0106",
           "#0d0106"
          ],
          "family": "Malgun Gothic",
          "size": 22
         },
         "textposition": "inside",
         "type": "bar",
         "x": [
          "2024-25",
          "2025-26",
          "2026-27",
          "2027-28",
          "2028-29",
          "2029-30"
         ],
         "y": [
          1.7527811762028054,
          2.874557540721773,
          0,
          0,
          0,
          0
         ]
        },
        {
         "hoverinfo": "text",
         "hovertext": [
          "<b>Davion Mitchell</b><br>Position: PG<br>Season: 2024-25<br>Salary: $6,451,077.00<br>Cap %: 4.6%<br>Guaranteed Total: $6,451,077.00",
          "<b>Davion Mitchell</b><br>Position: PG<br>Season: 2025-26<br>Salary: $0.00<br>Cap %: 0.0%<br>Guaranteed Total: $6,451,077.00",
          "<b>Davion Mitchell</b><br>Position: PG<br>Season: 2026-27<br>Salary: $0.00<br>Cap %: 0.0%<br>Guaranteed Total: $6,451,077.00",
          "<b>Davion Mitchell</b><br>Position: PG<br>Season: 2027-28<br>Salary: $0.00<br>Cap %: 0.0%<br>Guaranteed Total: $6,451,077.00",
          "<b>Davion Mitchell</b><br>Position: PG<br>Season: 2028-29<br>Salary: $0.00<br>Cap %: 0.0%<br>Guaranteed Total: $6,451,077.00",
          "<b>Davion Mitchell</b><br>Position: PG<br>Season: 2029-30<br>Salary: $0.00<br>Cap %: 0.0%<br>Guaranteed Total: $6,451,077.00"
         ],
         "insidetextanchor": "middle",
         "marker": {
          "color": 6451077,
          "line": {
           "color": "#0d0106",
           "width": 3
          },
          "opacity": [
           1,
           1,
           1,
           1,
           1,
           1
          ],
          "pattern": {
           "shape": [
            "",
            "",
            "",
            "",
            "",
            ""
           ]
          }
         },
         "name": "Davion Mitchell",
         "showlegend": true,
         "text": "<b><b>",
         "textfont": {
          "color": [
           "#0d0106",
           "#0d0106",
           "#0d0106",
           "#0d0106",
           "#0d0106",
           "#0d0106"
          ],
          "family": "Malgun Gothic",
          "size": 22
         },
         "textposition": "inside",
         "type": "bar",
         "x": [
          "2024-25",
          "2025-26",
          "2026-27",
          "2027-28",
          "2028-29",
          "2029-30"
         ],
         "y": [
          4.588639855464193,
          0,
          0,
          0,
          0,
          0
         ]
        },
        {
         "hoverinfo": "text",
         "hovertext": [
          "<b>Pelle Larsson</b><br>Position: SG<br>Season: 2024-25<br>Salary: $1,157,153.00<br>Cap %: 0.8%<br>Guaranteed Total: $3,112,531.00",
          "<b>Pelle Larsson</b><br>Position: SG<br>Season: 2025-26<br>Salary: $1,955,378.00<br>Cap %: 1.3%<br>Guaranteed Total: $3,112,531.00",
          "<b>Pelle Larsson</b><br>Position: SG<br>Season: 2026-27<br>Salary: $2,296,271.00<br>Cap %: 1.3%<br>Guaranteed Total: $3,112,531.00",
          "<b>Pelle Larsson</b><br>Position: SG<br>Season: 2027-28<br>Salary: $0.00<br>Cap %: 0.0%<br>Guaranteed Total: $3,112,531.00",
          "<b>Pelle Larsson</b><br>Position: SG<br>Season: 2028-29<br>Salary: $0.00<br>Cap %: 0.0%<br>Guaranteed Total: $3,112,531.00",
          "<b>Pelle Larsson</b><br>Position: SG<br>Season: 2029-30<br>Salary: $0.00<br>Cap %: 0.0%<br>Guaranteed Total: $3,112,531.00"
         ],
         "insidetextanchor": "middle",
         "marker": {
          "color": 3112531,
          "line": {
           "color": "#0d0106",
           "width": 3
          },
          "opacity": [
           1,
           1,
           0.35,
           1,
           1,
           1
          ],
          "pattern": {
           "shape": [
            "",
            "",
            "/",
            "",
            "",
            ""
           ]
          }
         },
         "name": "Pelle Larsson",
         "showlegend": true,
         "text": "<b><b>",
         "textfont": {
          "color": [
           "#0d0106",
           "#0d0106",
           "#0d0106",
           "#0d0106",
           "#0d0106",
           "#0d0106"
          ],
          "family": "Malgun Gothic",
          "size": 22
         },
         "textposition": "inside",
         "type": "bar",
         "x": [
          "2024-25",
          "2025-26",
          "2026-27",
          "2027-28",
          "2028-29",
          "2029-30"
         ],
         "y": [
          0.8230809172902381,
          1.2644137939953572,
          1.3498583286305492,
          0,
          0,
          0
         ]
        },
        {
         "hoverinfo": "text",
         "hovertext": [
          "<b>Alec Burks</b><br>Position: SG<br>Season: 2024-25<br>Salary: $2,087,519.00<br>Cap %: 1.5%<br>Guaranteed Total: $2,087,519.00",
          "<b>Alec Burks</b><br>Position: SG<br>Season: 2025-26<br>Salary: $0.00<br>Cap %: 0.0%<br>Guaranteed Total: $2,087,519.00",
          "<b>Alec Burks</b><br>Position: SG<br>Season: 2026-27<br>Salary: $0.00<br>Cap %: 0.0%<br>Guaranteed Total: $2,087,519.00",
          "<b>Alec Burks</b><br>Position: SG<br>Season: 2027-28<br>Salary: $0.00<br>Cap %: 0.0%<br>Guaranteed Total: $2,087,519.00",
          "<b>Alec Burks</b><br>Position: SG<br>Season: 2028-29<br>Salary: $0.00<br>Cap %: 0.0%<br>Guaranteed Total: $2,087,519.00",
          "<b>Alec Burks</b><br>Position: SG<br>Season: 2029-30<br>Salary: $0.00<br>Cap %: 0.0%<br>Guaranteed Total: $2,087,519.00"
         ],
         "insidetextanchor": "middle",
         "marker": {
          "color": 2087519,
          "line": {
           "color": "#0d0106",
           "width": 3
          },
          "opacity": [
           1,
           1,
           1,
           1,
           1,
           1
          ],
          "pattern": {
           "shape": [
            "",
            "",
            "",
            "",
            "",
            ""
           ]
          }
         },
         "name": "Alec Burks",
         "showlegend": true,
         "text": "<b><b>",
         "textfont": {
          "color": [
           "#0d0106",
           "#0d0106",
           "#0d0106",
           "#0d0106",
           "#0d0106",
           "#0d0106"
          ],
          "family": "Malgun Gothic",
          "size": 22
         },
         "textposition": "inside",
         "type": "bar",
         "x": [
          "2024-25",
          "2025-26",
          "2026-27",
          "2027-28",
          "2028-29",
          "2029-30"
         ],
         "y": [
          1.4848486357299342,
          0,
          0,
          0,
          0,
          0
         ]
        },
        {
         "hoverinfo": "text",
         "hovertext": [
          "<b>Keshad Johnson</b><br>Position: PF<br>Season: 2024-25<br>Salary: $724,883.00<br>Cap %: 0.5%<br>Guaranteed Total: $724,883.00",
          "<b>Keshad Johnson</b><br>Position: PF<br>Season: 2025-26<br>Salary: $1,955,377.00<br>Cap %: 1.3%<br>Guaranteed Total: $724,883.00",
          "<b>Keshad Johnson</b><br>Position: PF<br>Season: 2026-27<br>Salary: $0.00<br>Cap %: 0.0%<br>Guaranteed Total: $724,883.00",
          "<b>Keshad Johnson</b><br>Position: PF<br>Season: 2027-28<br>Salary: $0.00<br>Cap %: 0.0%<br>Guaranteed Total: $724,883.00",
          "<b>Keshad Johnson</b><br>Position: PF<br>Season: 2028-29<br>Salary: $0.00<br>Cap %: 0.0%<br>Guaranteed Total: $724,883.00",
          "<b>Keshad Johnson</b><br>Position: PF<br>Season: 2029-30<br>Salary: $0.00<br>Cap %: 0.0%<br>Guaranteed Total: $724,883.00"
         ],
         "insidetextanchor": "middle",
         "marker": {
          "color": 724883,
          "line": {
           "color": "#0d0106",
           "width": 3
          },
          "opacity": [
           1,
           0.35,
           1,
           1,
           1,
           1
          ],
          "pattern": {
           "shape": [
            "",
            "/",
            "",
            "",
            "",
            ""
           ]
          }
         },
         "name": "Keshad Johnson",
         "showlegend": true,
         "text": "<b><b>",
         "textfont": {
          "color": [
           "#0d0106",
           "#0d0106",
           "#0d0106",
           "#0d0106",
           "#0d0106",
           "#0d0106"
          ],
          "family": "Malgun Gothic",
          "size": 22
         },
         "textposition": "inside",
         "type": "bar",
         "x": [
          "2024-25",
          "2025-26",
          "2026-27",
          "2027-28",
          "2028-29",
          "2029-30"
         ],
         "y": [
          0.5156080177540046,
          1.2644131473614102,
          0,
          0,
          0,
          0
         ]
        },
        {
         "hoverinfo": "text",
         "hovertext": [
          "<b>Dru Smith</b><br>Position: SG<br>Season: 2024-25<br>Salary: $0.00<br>Cap %: 0.0%<br>Guaranteed Total: $0.00",
          "<b>Dru Smith</b><br>Position: SG<br>Season: 2025-26<br>Salary: $0.00<br>Cap %: 0.0%<br>Guaranteed Total: $0.00",
          "<b>Dru Smith</b><br>Position: SG<br>Season: 2026-27<br>Salary: $0.00<br>Cap %: 0.0%<br>Guaranteed Total: $0.00",
          "<b>Dru Smith</b><br>Position: SG<br>Season: 2027-28<br>Salary: $0.00<br>Cap %: 0.0%<br>Guaranteed Total: $0.00",
          "<b>Dru Smith</b><br>Position: SG<br>Season: 2028-29<br>Salary: $0.00<br>Cap %: 0.0%<br>Guaranteed Total: $0.00",
          "<b>Dru Smith</b><br>Position: SG<br>Season: 2029-30<br>Salary: $0.00<br>Cap %: 0.0%<br>Guaranteed Total: $0.00"
         ],
         "insidetextanchor": "middle",
         "marker": {
          "color": 0,
          "line": {
           "color": "#0d0106",
           "width": 3
          },
          "opacity": [
           1,
           1,
           1,
           1,
           1,
           1
          ],
          "pattern": {
           "shape": [
            "",
            "",
            "",
            "",
            "",
            ""
           ]
          }
         },
         "name": "Dru Smith",
         "showlegend": true,
         "text": "<b><b>",
         "textfont": {
          "color": [
           "#0d0106",
           "#0d0106",
           "#0d0106",
           "#0d0106",
           "#0d0106",
           "#0d0106"
          ],
          "family": "Malgun Gothic",
          "size": 22
         },
         "textposition": "inside",
         "type": "bar",
         "x": [
          "2024-25",
          "2025-26",
          "2026-27",
          "2027-28",
          "2028-29",
          "2029-30"
         ],
         "y": [
          0,
          0,
          0,
          0,
          0,
          0
         ]
        },
        {
         "hoverinfo": "text",
         "hovertext": [
          "<b>Isaiah Stevens</b><br>Position: PG<br>Season: 2024-25<br>Salary: $0.00<br>Cap %: 0.0%<br>Guaranteed Total: $0.00",
          "<b>Isaiah Stevens</b><br>Position: PG<br>Season: 2025-26<br>Salary: $0.00<br>Cap %: 0.0%<br>Guaranteed Total: $0.00",
          "<b>Isaiah Stevens</b><br>Position: PG<br>Season: 2026-27<br>Salary: $0.00<br>Cap %: 0.0%<br>Guaranteed Total: $0.00",
          "<b>Isaiah Stevens</b><br>Position: PG<br>Season: 2027-28<br>Salary: $0.00<br>Cap %: 0.0%<br>Guaranteed Total: $0.00",
          "<b>Isaiah Stevens</b><br>Position: PG<br>Season: 2028-29<br>Salary: $0.00<br>Cap %: 0.0%<br>Guaranteed Total: $0.00",
          "<b>Isaiah Stevens</b><br>Position: PG<br>Season: 2029-30<br>Salary: $0.00<br>Cap %: 0.0%<br>Guaranteed Total: $0.00"
         ],
         "insidetextanchor": "middle",
         "marker": {
          "color": 0,
          "line": {
           "color": "#0d0106",
           "width": 3
          },
          "opacity": [
           1,
           1,
           1,
           1,
           1,
           1
          ],
          "pattern": {
           "shape": [
            "",
            "",
            "",
            "",
            "",
            ""
           ]
          }
         },
         "name": "Isaiah Stevens",
         "showlegend": true,
         "text": "<b><b>",
         "textfont": {
          "color": [
           "#0d0106",
           "#0d0106",
           "#0d0106",
           "#0d0106",
           "#0d0106",
           "#0d0106"
          ],
          "family": "Malgun Gothic",
          "size": 22
         },
         "textposition": "inside",
         "type": "bar",
         "x": [
          "2024-25",
          "2025-26",
          "2026-27",
          "2027-28",
          "2028-29",
          "2029-30"
         ],
         "y": [
          0,
          0,
          0,
          0,
          0,
          0
         ]
        },
        {
         "hoverinfo": "text",
         "hovertext": [
          "<b>Josh Christopher</b><br>Position: SG<br>Season: 2024-25<br>Salary: $0.00<br>Cap %: 0.0%<br>Guaranteed Total: $0.00",
          "<b>Josh Christopher</b><br>Position: SG<br>Season: 2025-26<br>Salary: $0.00<br>Cap %: 0.0%<br>Guaranteed Total: $0.00",
          "<b>Josh Christopher</b><br>Position: SG<br>Season: 2026-27<br>Salary: $0.00<br>Cap %: 0.0%<br>Guaranteed Total: $0.00",
          "<b>Josh Christopher</b><br>Position: SG<br>Season: 2027-28<br>Salary: $0.00<br>Cap %: 0.0%<br>Guaranteed Total: $0.00",
          "<b>Josh Christopher</b><br>Position: SG<br>Season: 2028-29<br>Salary: $0.00<br>Cap %: 0.0%<br>Guaranteed Total: $0.00",
          "<b>Josh Christopher</b><br>Position: SG<br>Season: 2029-30<br>Salary: $0.00<br>Cap %: 0.0%<br>Guaranteed Total: $0.00"
         ],
         "insidetextanchor": "middle",
         "marker": {
          "color": 0,
          "line": {
           "color": "#0d0106",
           "width": 3
          },
          "opacity": [
           1,
           1,
           1,
           1,
           1,
           1
          ],
          "pattern": {
           "shape": [
            "",
            "",
            "",
            "",
            "",
            ""
           ]
          }
         },
         "name": "Josh Christopher",
         "showlegend": true,
         "text": "<b><b>",
         "textfont": {
          "color": [
           "#0d0106",
           "#0d0106",
           "#0d0106",
           "#0d0106",
           "#0d0106",
           "#0d0106"
          ],
          "family": "Malgun Gothic",
          "size": 22
         },
         "textposition": "inside",
         "type": "bar",
         "x": [
          "2024-25",
          "2025-26",
          "2026-27",
          "2027-28",
          "2028-29",
          "2029-30"
         ],
         "y": [
          0,
          0,
          0,
          0,
          0,
          0
         ]
        }
       ],
       "layout": {
        "annotations": [
         {
          "font": {
           "color": "white",
           "size": 20
          },
          "showarrow": false,
          "text": "Sideways Dash = Team Option <br> White Text = Player Option",
          "x": 4.5,
          "xref": "x",
          "y": 60,
          "yref": "y"
         },
         {
          "font": {
           "color": "white",
           "size": 20
          },
          "showarrow": false,
          "text": "Dash = Extension Eligible",
          "x": 4.5,
          "xref": "x",
          "y": 70,
          "yref": "y"
         }
        ],
        "bargap": 0,
        "barmode": "stack",
        "height": 1800,
        "legend": {
         "font": {
          "color": "#e5e5e5",
          "family": "Malgun Gothic",
          "size": 22
         },
         "traceorder": "reversed"
        },
        "paper_bgcolor": "#0d0106",
        "plot_bgcolor": "#0d0106",
        "shapes": [
         {
          "line": {
           "color": "white"
          },
          "opacity": 0.4,
          "type": "line",
          "x0": 0,
          "x1": 1,
          "xref": "x domain",
          "y0": 122,
          "y1": 122,
          "yref": "y"
         },
         {
          "line": {
           "color": "white"
          },
          "type": "line",
          "x0": 0,
          "x1": 1,
          "xref": "x domain",
          "y0": 127,
          "y1": 127,
          "yref": "y"
         },
         {
          "line": {
           "color": "white"
          },
          "type": "line",
          "x0": 0,
          "x1": 1,
          "xref": "x domain",
          "y0": 135,
          "y1": 135,
          "yref": "y"
         }
        ],
        "template": {
         "data": {
          "bar": [
           {
            "error_x": {
             "color": "#2a3f5f"
            },
            "error_y": {
             "color": "#2a3f5f"
            },
            "marker": {
             "line": {
              "color": "#E5ECF6",
              "width": 0.5
             },
             "pattern": {
              "fillmode": "overlay",
              "size": 10,
              "solidity": 0.2
             }
            },
            "type": "bar"
           }
          ],
          "barpolar": [
           {
            "marker": {
             "line": {
              "color": "#E5ECF6",
              "width": 0.5
             },
             "pattern": {
              "fillmode": "overlay",
              "size": 10,
              "solidity": 0.2
             }
            },
            "type": "barpolar"
           }
          ],
          "carpet": [
           {
            "aaxis": {
             "endlinecolor": "#2a3f5f",
             "gridcolor": "white",
             "linecolor": "white",
             "minorgridcolor": "white",
             "startlinecolor": "#2a3f5f"
            },
            "baxis": {
             "endlinecolor": "#2a3f5f",
             "gridcolor": "white",
             "linecolor": "white",
             "minorgridcolor": "white",
             "startlinecolor": "#2a3f5f"
            },
            "type": "carpet"
           }
          ],
          "choropleth": [
           {
            "colorbar": {
             "outlinewidth": 0,
             "ticks": ""
            },
            "type": "choropleth"
           }
          ],
          "contour": [
           {
            "colorbar": {
             "outlinewidth": 0,
             "ticks": ""
            },
            "colorscale": [
             [
              0,
              "#0d0887"
             ],
             [
              0.1111111111111111,
              "#46039f"
             ],
             [
              0.2222222222222222,
              "#7201a8"
             ],
             [
              0.3333333333333333,
              "#9c179e"
             ],
             [
              0.4444444444444444,
              "#bd3786"
             ],
             [
              0.5555555555555556,
              "#d8576b"
             ],
             [
              0.6666666666666666,
              "#ed7953"
             ],
             [
              0.7777777777777778,
              "#fb9f3a"
             ],
             [
              0.8888888888888888,
              "#fdca26"
             ],
             [
              1,
              "#f0f921"
             ]
            ],
            "type": "contour"
           }
          ],
          "contourcarpet": [
           {
            "colorbar": {
             "outlinewidth": 0,
             "ticks": ""
            },
            "type": "contourcarpet"
           }
          ],
          "heatmap": [
           {
            "colorbar": {
             "outlinewidth": 0,
             "ticks": ""
            },
            "colorscale": [
             [
              0,
              "#0d0887"
             ],
             [
              0.1111111111111111,
              "#46039f"
             ],
             [
              0.2222222222222222,
              "#7201a8"
             ],
             [
              0.3333333333333333,
              "#9c179e"
             ],
             [
              0.4444444444444444,
              "#bd3786"
             ],
             [
              0.5555555555555556,
              "#d8576b"
             ],
             [
              0.6666666666666666,
              "#ed7953"
             ],
             [
              0.7777777777777778,
              "#fb9f3a"
             ],
             [
              0.8888888888888888,
              "#fdca26"
             ],
             [
              1,
              "#f0f921"
             ]
            ],
            "type": "heatmap"
           }
          ],
          "heatmapgl": [
           {
            "colorbar": {
             "outlinewidth": 0,
             "ticks": ""
            },
            "colorscale": [
             [
              0,
              "#0d0887"
             ],
             [
              0.1111111111111111,
              "#46039f"
             ],
             [
              0.2222222222222222,
              "#7201a8"
             ],
             [
              0.3333333333333333,
              "#9c179e"
             ],
             [
              0.4444444444444444,
              "#bd3786"
             ],
             [
              0.5555555555555556,
              "#d8576b"
             ],
             [
              0.6666666666666666,
              "#ed7953"
             ],
             [
              0.7777777777777778,
              "#fb9f3a"
             ],
             [
              0.8888888888888888,
              "#fdca26"
             ],
             [
              1,
              "#f0f921"
             ]
            ],
            "type": "heatmapgl"
           }
          ],
          "histogram": [
           {
            "marker": {
             "pattern": {
              "fillmode": "overlay",
              "size": 10,
              "solidity": 0.2
             }
            },
            "type": "histogram"
           }
          ],
          "histogram2d": [
           {
            "colorbar": {
             "outlinewidth": 0,
             "ticks": ""
            },
            "colorscale": [
             [
              0,
              "#0d0887"
             ],
             [
              0.1111111111111111,
              "#46039f"
             ],
             [
              0.2222222222222222,
              "#7201a8"
             ],
             [
              0.3333333333333333,
              "#9c179e"
             ],
             [
              0.4444444444444444,
              "#bd3786"
             ],
             [
              0.5555555555555556,
              "#d8576b"
             ],
             [
              0.6666666666666666,
              "#ed7953"
             ],
             [
              0.7777777777777778,
              "#fb9f3a"
             ],
             [
              0.8888888888888888,
              "#fdca26"
             ],
             [
              1,
              "#f0f921"
             ]
            ],
            "type": "histogram2d"
           }
          ],
          "histogram2dcontour": [
           {
            "colorbar": {
             "outlinewidth": 0,
             "ticks": ""
            },
            "colorscale": [
             [
              0,
              "#0d0887"
             ],
             [
              0.1111111111111111,
              "#46039f"
             ],
             [
              0.2222222222222222,
              "#7201a8"
             ],
             [
              0.3333333333333333,
              "#9c179e"
             ],
             [
              0.4444444444444444,
              "#bd3786"
             ],
             [
              0.5555555555555556,
              "#d8576b"
             ],
             [
              0.6666666666666666,
              "#ed7953"
             ],
             [
              0.7777777777777778,
              "#fb9f3a"
             ],
             [
              0.8888888888888888,
              "#fdca26"
             ],
             [
              1,
              "#f0f921"
             ]
            ],
            "type": "histogram2dcontour"
           }
          ],
          "mesh3d": [
           {
            "colorbar": {
             "outlinewidth": 0,
             "ticks": ""
            },
            "type": "mesh3d"
           }
          ],
          "parcoords": [
           {
            "line": {
             "colorbar": {
              "outlinewidth": 0,
              "ticks": ""
             }
            },
            "type": "parcoords"
           }
          ],
          "pie": [
           {
            "automargin": true,
            "type": "pie"
           }
          ],
          "scatter": [
           {
            "fillpattern": {
             "fillmode": "overlay",
             "size": 10,
             "solidity": 0.2
            },
            "type": "scatter"
           }
          ],
          "scatter3d": [
           {
            "line": {
             "colorbar": {
              "outlinewidth": 0,
              "ticks": ""
             }
            },
            "marker": {
             "colorbar": {
              "outlinewidth": 0,
              "ticks": ""
             }
            },
            "type": "scatter3d"
           }
          ],
          "scattercarpet": [
           {
            "marker": {
             "colorbar": {
              "outlinewidth": 0,
              "ticks": ""
             }
            },
            "type": "scattercarpet"
           }
          ],
          "scattergeo": [
           {
            "marker": {
             "colorbar": {
              "outlinewidth": 0,
              "ticks": ""
             }
            },
            "type": "scattergeo"
           }
          ],
          "scattergl": [
           {
            "marker": {
             "colorbar": {
              "outlinewidth": 0,
              "ticks": ""
             }
            },
            "type": "scattergl"
           }
          ],
          "scattermapbox": [
           {
            "marker": {
             "colorbar": {
              "outlinewidth": 0,
              "ticks": ""
             }
            },
            "type": "scattermapbox"
           }
          ],
          "scatterpolar": [
           {
            "marker": {
             "colorbar": {
              "outlinewidth": 0,
              "ticks": ""
             }
            },
            "type": "scatterpolar"
           }
          ],
          "scatterpolargl": [
           {
            "marker": {
             "colorbar": {
              "outlinewidth": 0,
              "ticks": ""
             }
            },
            "type": "scatterpolargl"
           }
          ],
          "scatterternary": [
           {
            "marker": {
             "colorbar": {
              "outlinewidth": 0,
              "ticks": ""
             }
            },
            "type": "scatterternary"
           }
          ],
          "surface": [
           {
            "colorbar": {
             "outlinewidth": 0,
             "ticks": ""
            },
            "colorscale": [
             [
              0,
              "#0d0887"
             ],
             [
              0.1111111111111111,
              "#46039f"
             ],
             [
              0.2222222222222222,
              "#7201a8"
             ],
             [
              0.3333333333333333,
              "#9c179e"
             ],
             [
              0.4444444444444444,
              "#bd3786"
             ],
             [
              0.5555555555555556,
              "#d8576b"
             ],
             [
              0.6666666666666666,
              "#ed7953"
             ],
             [
              0.7777777777777778,
              "#fb9f3a"
             ],
             [
              0.8888888888888888,
              "#fdca26"
             ],
             [
              1,
              "#f0f921"
             ]
            ],
            "type": "surface"
           }
          ],
          "table": [
           {
            "cells": {
             "fill": {
              "color": "#EBF0F8"
             },
             "line": {
              "color": "white"
             }
            },
            "header": {
             "fill": {
              "color": "#C8D4E3"
             },
             "line": {
              "color": "white"
             }
            },
            "type": "table"
           }
          ]
         },
         "layout": {
          "annotationdefaults": {
           "arrowcolor": "#2a3f5f",
           "arrowhead": 0,
           "arrowwidth": 1
          },
          "autotypenumbers": "strict",
          "coloraxis": {
           "colorbar": {
            "outlinewidth": 0,
            "ticks": ""
           }
          },
          "colorscale": {
           "diverging": [
            [
             0,
             "#8e0152"
            ],
            [
             0.1,
             "#c51b7d"
            ],
            [
             0.2,
             "#de77ae"
            ],
            [
             0.3,
             "#f1b6da"
            ],
            [
             0.4,
             "#fde0ef"
            ],
            [
             0.5,
             "#f7f7f7"
            ],
            [
             0.6,
             "#e6f5d0"
            ],
            [
             0.7,
             "#b8e186"
            ],
            [
             0.8,
             "#7fbc41"
            ],
            [
             0.9,
             "#4d9221"
            ],
            [
             1,
             "#276419"
            ]
           ],
           "sequential": [
            [
             0,
             "#0d0887"
            ],
            [
             0.1111111111111111,
             "#46039f"
            ],
            [
             0.2222222222222222,
             "#7201a8"
            ],
            [
             0.3333333333333333,
             "#9c179e"
            ],
            [
             0.4444444444444444,
             "#bd3786"
            ],
            [
             0.5555555555555556,
             "#d8576b"
            ],
            [
             0.6666666666666666,
             "#ed7953"
            ],
            [
             0.7777777777777778,
             "#fb9f3a"
            ],
            [
             0.8888888888888888,
             "#fdca26"
            ],
            [
             1,
             "#f0f921"
            ]
           ],
           "sequentialminus": [
            [
             0,
             "#0d0887"
            ],
            [
             0.1111111111111111,
             "#46039f"
            ],
            [
             0.2222222222222222,
             "#7201a8"
            ],
            [
             0.3333333333333333,
             "#9c179e"
            ],
            [
             0.4444444444444444,
             "#bd3786"
            ],
            [
             0.5555555555555556,
             "#d8576b"
            ],
            [
             0.6666666666666666,
             "#ed7953"
            ],
            [
             0.7777777777777778,
             "#fb9f3a"
            ],
            [
             0.8888888888888888,
             "#fdca26"
            ],
            [
             1,
             "#f0f921"
            ]
           ]
          },
          "colorway": [
           "#636efa",
           "#EF553B",
           "#00cc96",
           "#ab63fa",
           "#FFA15A",
           "#19d3f3",
           "#FF6692",
           "#B6E880",
           "#FF97FF",
           "#FECB52"
          ],
          "font": {
           "color": "#2a3f5f"
          },
          "geo": {
           "bgcolor": "white",
           "lakecolor": "white",
           "landcolor": "#E5ECF6",
           "showlakes": true,
           "showland": true,
           "subunitcolor": "white"
          },
          "hoverlabel": {
           "align": "left"
          },
          "hovermode": "closest",
          "mapbox": {
           "style": "light"
          },
          "paper_bgcolor": "white",
          "plot_bgcolor": "#E5ECF6",
          "polar": {
           "angularaxis": {
            "gridcolor": "white",
            "linecolor": "white",
            "ticks": ""
           },
           "bgcolor": "#E5ECF6",
           "radialaxis": {
            "gridcolor": "white",
            "linecolor": "white",
            "ticks": ""
           }
          },
          "scene": {
           "xaxis": {
            "backgroundcolor": "#E5ECF6",
            "gridcolor": "white",
            "gridwidth": 2,
            "linecolor": "white",
            "showbackground": true,
            "ticks": "",
            "zerolinecolor": "white"
           },
           "yaxis": {
            "backgroundcolor": "#E5ECF6",
            "gridcolor": "white",
            "gridwidth": 2,
            "linecolor": "white",
            "showbackground": true,
            "ticks": "",
            "zerolinecolor": "white"
           },
           "zaxis": {
            "backgroundcolor": "#E5ECF6",
            "gridcolor": "white",
            "gridwidth": 2,
            "linecolor": "white",
            "showbackground": true,
            "ticks": "",
            "zerolinecolor": "white"
           }
          },
          "shapedefaults": {
           "line": {
            "color": "#2a3f5f"
           }
          },
          "ternary": {
           "aaxis": {
            "gridcolor": "white",
            "linecolor": "white",
            "ticks": ""
           },
           "baxis": {
            "gridcolor": "white",
            "linecolor": "white",
            "ticks": ""
           },
           "bgcolor": "#E5ECF6",
           "caxis": {
            "gridcolor": "white",
            "linecolor": "white",
            "ticks": ""
           }
          },
          "title": {
           "x": 0.05
          },
          "xaxis": {
           "automargin": true,
           "gridcolor": "white",
           "linecolor": "white",
           "ticks": "",
           "title": {
            "standoff": 15
           },
           "zerolinecolor": "white",
           "zerolinewidth": 2
          },
          "yaxis": {
           "automargin": true,
           "gridcolor": "white",
           "linecolor": "white",
           "ticks": "",
           "title": {
            "standoff": 15
           },
           "zerolinecolor": "white",
           "zerolinewidth": 2
          }
         }
        },
        "title": {
         "font": {
          "color": "white",
          "family": "Malgun Gothic",
          "size": 50
         },
         "text": "MIA",
         "x": 0.5
        },
        "width": 1200,
        "xaxis": {
         "autorange": true,
         "range": [
          -0.5,
          5.876936316695353
         ],
         "showgrid": false,
         "tickfont": {
          "color": "#e5e5e5",
          "family": "Malgun Gothic",
          "size": 30
         },
         "ticktext": [
          "2024-25",
          "2025-26",
          "2026-27",
          "2027-28",
          "2028-29",
          "2029-30"
         ],
         "type": "category"
        },
        "yaxis": {
         "range": [
          0,
          150
         ],
         "showgrid": false,
         "tickfont": {
          "color": "#e5e5e5",
          "family": "Malgun Gothic",
          "size": 25
         },
         "tickmode": "array",
         "ticktext": [
          "20% ",
          "40% ",
          "60% ",
          "80% ",
          "100% ",
          "Luxury Tax ",
          "First Apron ",
          "Second Apron ",
          "Floor (90%)"
         ],
         "tickvals": [
          20,
          40,
          60,
          80,
          100,
          122,
          127,
          135,
          90
         ],
         "type": "linear",
         "zeroline": false
        }
       }
      },
      "image/png": "[encoded data removed]",
      "text/html": [
       "<div>                            <div id=\"564cb77e-fca7-4f11-b630-bd469ad490ed\" class=\"plotly-graph-div\" style=\"height:1800px; width:1200px;\"></div>            <script type=\"text/javascript\">                require([\"plotly\"], function(Plotly) {                    window.PLOTLYENV=window.PLOTLYENV || {};                                    if (document.getElementById(\"564cb77e-fca7-4f11-b630-bd469ad490ed\")) {                    Plotly.newPlot(                        \"564cb77e-fca7-4f11-b630-bd469ad490ed\",                        [{\"hoverinfo\":\"text\",\"hovertext\":[\"\\u003cb\\u003eBam Adebayo\\u003c\\u002fb\\u003e\\u003cbr\\u003ePosition: C\\u003cbr\\u003eSeason: 2024-25\\u003cbr\\u003eSalary: $34,848,340.00\\u003cbr\\u003eCap %: 24.8%\\u003cbr\\u003eGuaranteed Total: $237,293,824.00\",\"\\u003cb\\u003eBam Adebayo\\u003c\\u002fb\\u003e\\u003cbr\\u003ePosition: C\\u003cbr\\u003eSeason: 2025-26\\u003cbr\\u003eSalary: $37,096,620.00\\u003cbr\\u003eCap %: 24.0%\\u003cbr\\u003eGuaranteed Total: $237,293,824.00\",\"\\u003cb\\u003eBam Adebayo\\u003c\\u002fb\\u003e\\u003cbr\\u003ePosition: C\\u003cbr\\u003eSeason: 2026-27\\u003cbr\\u003eSalary: $51,033,600.00\\u003cbr\\u003eCap %: 30.0%\\u003cbr\\u003eGuaranteed Total: $237,293,824.00\",\"\\u003cb\\u003eBam Adebayo\\u003c\\u002fb\\u003e\\u003cbr\\u003ePosition: C\\u003cbr\\u003eSeason: 2027-28\\u003cbr\\u003eSalary: $55,116,288.00\\u003cbr\\u003eCap %: 29.5%\\u003cbr\\u003eGuaranteed Total: $237,293,824.00\",\"\\u003cb\\u003eBam Adebayo\\u003c\\u002fb\\u003e\\u003cbr\\u003ePosition: C\\u003cbr\\u003eSeason: 2028-29\\u003cbr\\u003eSalary: $59,198,976.00\\u003cbr\\u003eCap %: 28.8%\\u003cbr\\u003eGuaranteed Total: $237,293,824.00\",\"\\u003cb\\u003eBam Adebayo\\u003c\\u002fb\\u003e\\u003cbr\\u003ePosition: C\\u003cbr\\u003eSeason: 2029-30\\u003cbr\\u003eSalary: $0.00\\u003cbr\\u003eCap %: 0.0%\\u003cbr\\u003eGuaranteed Total: $237,293,824.00\"],\"insidetextanchor\":\"middle\",\"marker\":{\"color\":237293824.0,\"line\":{\"color\":\"#0d0106\",\"width\":3},\"opacity\":[1,1,1,1,1,1],\"pattern\":{\"shape\":[\"\",\"\",\"\",\"-\",\"\",\"\"]}},\"name\":\"Bam Adebayo\",\"showlegend\":false,\"text\":\"\\u003cb\\u003eBam Adebayo\\u003cb\\u003e\",\"textfont\":{\"color\":[\"#0d0106\",\"#0d0106\",\"#0d0106\",\"#0d0106\",\"#e8d8c3\",\"#0d0106\"],\"family\":\"Malgun Gothic\",\"size\":22},\"textposition\":\"inside\",\"x\":[\"2024-25\",\"2025-26\",\"2026-27\",\"2027-28\",\"2028-29\",\"2029-30\"],\"y\":[24.78756366119441,23.987933810549187,30.0,29.454576936026037,28.76040323560133,0.0],\"type\":\"bar\"},{\"hoverinfo\":\"text\",\"hovertext\":[\"\\u003cb\\u003eTyler Herro\\u003c\\u002fb\\u003e\\u003cbr\\u003ePosition: SG\\u003cbr\\u003eSeason: 2024-25\\u003cbr\\u003eSalary: $29,000,000.00\\u003cbr\\u003eCap %: 20.6%\\u003cbr\\u003eGuaranteed Total: $93,000,000.00\",\"\\u003cb\\u003eTyler Herro\\u003c\\u002fb\\u003e\\u003cbr\\u003ePosition: SG\\u003cbr\\u003eSeason: 2025-26\\u003cbr\\u003eSalary: $31,000,000.00\\u003cbr\\u003eCap %: 20.0%\\u003cbr\\u003eGuaranteed Total: $93,000,000.00\",\"\\u003cb\\u003eTyler Herro\\u003c\\u002fb\\u003e\\u003cbr\\u003ePosition: SG\\u003cbr\\u003eSeason: 2026-27\\u003cbr\\u003eSalary: $33,000,000.00\\u003cbr\\u003eCap %: 19.4%\\u003cbr\\u003eGuaranteed Total: $93,000,000.00\",\"\\u003cb\\u003eTyler Herro\\u003c\\u002fb\\u003e\\u003cbr\\u003ePosition: SG\\u003cbr\\u003eSeason: 2027-28\\u003cbr\\u003eSalary: $0.00\\u003cbr\\u003eCap %: 0.0%\\u003cbr\\u003eGuaranteed Total: $93,000,000.00\",\"\\u003cb\\u003eTyler Herro\\u003c\\u002fb\\u003e\\u003cbr\\u003ePosition: SG\\u003cbr\\u003eSeason: 2028-29\\u003cbr\\u003eSalary: $0.00\\u003cbr\\u003eCap %: 0.0%\\u003cbr\\u003eGuaranteed Total: $93,000,000.00\",\"\\u003cb\\u003eTyler Herro\\u003c\\u002fb\\u003e\\u003cbr\\u003ePosition: SG\\u003cbr\\u003eSeason: 2029-30\\u003cbr\\u003eSalary: $0.00\\u003cbr\\u003eCap %: 0.0%\\u003cbr\\u003eGuaranteed Total: $93,000,000.00\"],\"insidetextanchor\":\"middle\",\"marker\":{\"color\":93000000.0,\"line\":{\"color\":\"#0d0106\",\"width\":3},\"opacity\":[1,1,1,1,1,1],\"pattern\":{\"shape\":[\"\",\"-\",\"\",\"\",\"\",\"\"]}},\"name\":\"Tyler Herro\",\"showlegend\":false,\"text\":\"\\u003cb\\u003eTyler Herro\\u003cb\\u003e\",\"textfont\":{\"color\":[\"#0d0106\",\"#0d0106\",\"#0d0106\",\"#0d0106\",\"#0d0106\",\"#0d0106\"],\"family\":\"Malgun Gothic\",\"size\":22},\"textposition\":\"inside\",\"x\":[\"2024-25\",\"2025-26\",\"2026-27\",\"2027-28\",\"2028-29\",\"2029-30\"],\"y\":[20.62764958602441,20.04565235665742,19.398984198645596,0.0,0.0,0.0],\"type\":\"bar\"},{\"hoverinfo\":\"text\",\"hovertext\":[\"\\u003cb\\u003eAndrew Wiggins\\u003c\\u002fb\\u003e\\u003cbr\\u003ePosition: SF\\u003cbr\\u003eSeason: 2024-25\\u003cbr\\u003eSalary: $26,276,786.00\\u003cbr\\u003eCap %: 18.7%\\u003cbr\\u003eGuaranteed Total: $84,669,645.00\",\"\\u003cb\\u003eAndrew Wiggins\\u003c\\u002fb\\u003e\\u003cbr\\u003ePosition: SF\\u003cbr\\u003eSeason: 2025-26\\u003cbr\\u003eSalary: $28,223,215.00\\u003cbr\\u003eCap %: 18.3%\\u003cbr\\u003eGuaranteed Total: $84,669,645.00\",\"\\u003cb\\u003eAndrew Wiggins\\u003c\\u002fb\\u003e\\u003cbr\\u003ePosition: SF\\u003cbr\\u003eSeason: 2026-27\\u003cbr\\u003eSalary: $30,169,644.00\\u003cbr\\u003eCap %: 17.7%\\u003cbr\\u003eGuaranteed Total: $84,669,645.00\",\"\\u003cb\\u003eAndrew Wiggins\\u003c\\u002fb\\u003e\\u003cbr\\u003ePosition: SF\\u003cbr\\u003eSeason: 2027-28\\u003cbr\\u003eSalary: $0.00\\u003cbr\\u003eCap %: 0.0%\\u003cbr\\u003eGuaranteed Total: $84,669,645.00\",\"\\u003cb\\u003eAndrew Wiggins\\u003c\\u002fb\\u003e\\u003cbr\\u003ePosition: SF\\u003cbr\\u003eSeason: 2028-29\\u003cbr\\u003eSalary: $0.00\\u003cbr\\u003eCap %: 0.0%\\u003cbr\\u003eGuaranteed Total: $84,669,645.00\",\"\\u003cb\\u003eAndrew Wiggins\\u003c\\u002fb\\u003e\\u003cbr\\u003ePosition: SF\\u003cbr\\u003eSeason: 2029-30\\u003cbr\\u003eSalary: $0.00\\u003cbr\\u003eCap %: 0.0%\\u003cbr\\u003eGuaranteed Total: $84,669,645.00\"],\"insidetextanchor\":\"middle\",\"marker\":{\"color\":84669645.0,\"line\":{\"color\":\"#0d0106\",\"width\":3},\"opacity\":[1,1,1,1,1,1],\"pattern\":{\"shape\":[\"\",\"-\",\"\",\"\",\"\",\"\"]}},\"name\":\"Andrew Wiggins\",\"showlegend\":false,\"text\":\"\\u003cb\\u003eAndrew Wiggins\\u003cb\\u003e\",\"textfont\":{\"color\":[\"#0d0106\",\"#0d0106\",\"#e8d8c3\",\"#0d0106\",\"#0d0106\",\"#0d0106\"],\"family\":\"Malgun Gothic\",\"size\":22},\"textposition\":\"inside\",\"x\":[\"2024-25\",\"2025-26\",\"2026-27\",\"2027-28\",\"2028-29\",\"2029-30\"],\"y\":[18.6906322018949,18.250088912167712,17.73516506772009,0.0,0.0,0.0],\"type\":\"bar\"},{\"hoverinfo\":\"text\",\"hovertext\":[\"\\u003cb\\u003eTerry Rozier\\u003c\\u002fb\\u003e\\u003cbr\\u003ePosition: PG\\u003cbr\\u003eSeason: 2024-25\\u003cbr\\u003eSalary: $24,924,126.00\\u003cbr\\u003eCap %: 17.7%\\u003cbr\\u003eGuaranteed Total: $51,567,157.00\",\"\\u003cb\\u003eTerry Rozier\\u003c\\u002fb\\u003e\\u003cbr\\u003ePosition: PG\\u003cbr\\u003eSeason: 2025-26\\u003cbr\\u003eSalary: $26,643,031.00\\u003cbr\\u003eCap %: 17.2%\\u003cbr\\u003eGuaranteed Total: $51,567,157.00\",\"\\u003cb\\u003eTerry Rozier\\u003c\\u002fb\\u003e\\u003cbr\\u003ePosition: PG\\u003cbr\\u003eSeason: 2026-27\\u003cbr\\u003eSalary: $0.00\\u003cbr\\u003eCap %: 0.0%\\u003cbr\\u003eGuaranteed Total: $51,567,157.00\",\"\\u003cb\\u003eTerry Rozier\\u003c\\u002fb\\u003e\\u003cbr\\u003ePosition: PG\\u003cbr\\u003eSeason: 2027-28\\u003cbr\\u003eSalary: $0.00\\u003cbr\\u003eCap %: 0.0%\\u003cbr\\u003eGuaranteed Total: $51,567,157.00\",\"\\u003cb\\u003eTerry Rozier\\u003c\\u002fb\\u003e\\u003cbr\\u003ePosition: PG\\u003cbr\\u003eSeason: 2028-29\\u003cbr\\u003eSalary: $0.00\\u003cbr\\u003eCap %: 0.0%\\u003cbr\\u003eGuaranteed Total: $51,567,157.00\",\"\\u003cb\\u003eTerry Rozier\\u003c\\u002fb\\u003e\\u003cbr\\u003ePosition: PG\\u003cbr\\u003eSeason: 2029-30\\u003cbr\\u003eSalary: $0.00\\u003cbr\\u003eCap %: 0.0%\\u003cbr\\u003eGuaranteed Total: $51,567,157.00\"],\"insidetextanchor\":\"middle\",\"marker\":{\"color\":51567157.0,\"line\":{\"color\":\"#0d0106\",\"width\":3},\"opacity\":[1,1,1,1,1,1],\"pattern\":{\"shape\":[\"\",\"\",\"\",\"\",\"\",\"\"]}},\"name\":\"Terry Rozier\",\"showlegend\":false,\"text\":\"\\u003cb\\u003eTerry Rozier\\u003cb\\u003e\",\"textfont\":{\"color\":[\"#0d0106\",\"#0d0106\",\"#0d0106\",\"#0d0106\",\"#0d0106\",\"#0d0106\"],\"family\":\"Malgun Gothic\",\"size\":22},\"textposition\":\"inside\",\"x\":[\"2024-25\",\"2025-26\",\"2026-27\",\"2027-28\",\"2028-29\",\"2029-30\"],\"y\":[17.728487495376562,17.228288295278926,0.0,0.0,0.0,0.0],\"type\":\"bar\"},{\"hoverinfo\":\"text\",\"hovertext\":[\"\\u003cb\\u003eDuncan Robinson\\u003c\\u002fb\\u003e\\u003cbr\\u003ePosition: SF\\u003cbr\\u003eSeason: 2024-25\\u003cbr\\u003eSalary: $19,406,000.00\\u003cbr\\u003eCap %: 13.8%\\u003cbr\\u003eGuaranteed Total: $39,294,000.00\",\"\\u003cb\\u003eDuncan Robinson\\u003c\\u002fb\\u003e\\u003cbr\\u003ePosition: SF\\u003cbr\\u003eSeason: 2025-26\\u003cbr\\u003eSalary: $19,888,000.00\\u003cbr\\u003eCap %: 12.9%\\u003cbr\\u003eGuaranteed Total: $39,294,000.00\",\"\\u003cb\\u003eDuncan Robinson\\u003c\\u002fb\\u003e\\u003cbr\\u003ePosition: SF\\u003cbr\\u003eSeason: 2026-27\\u003cbr\\u003eSalary: $0.00\\u003cbr\\u003eCap %: 0.0%\\u003cbr\\u003eGuaranteed Total: $39,294,000.00\",\"\\u003cb\\u003eDuncan Robinson\\u003c\\u002fb\\u003e\\u003cbr\\u003ePosition: SF\\u003cbr\\u003eSeason: 2027-28\\u003cbr\\u003eSalary: $0.00\\u003cbr\\u003eCap %: 0.0%\\u003cbr\\u003eGuaranteed Total: $39,294,000.00\",\"\\u003cb\\u003eDuncan Robinson\\u003c\\u002fb\\u003e\\u003cbr\\u003ePosition: SF\\u003cbr\\u003eSeason: 2028-29\\u003cbr\\u003eSalary: $0.00\\u003cbr\\u003eCap %: 0.0%\\u003cbr\\u003eGuaranteed Total: $39,294,000.00\",\"\\u003cb\\u003eDuncan Robinson\\u003c\\u002fb\\u003e\\u003cbr\\u003ePosition: SF\\u003cbr\\u003eSeason: 2029-30\\u003cbr\\u003eSalary: $0.00\\u003cbr\\u003eCap %: 0.0%\\u003cbr\\u003eGuaranteed Total: $39,294,000.00\"],\"insidetextanchor\":\"middle\",\"marker\":{\"color\":39294000.0,\"line\":{\"color\":\"#0d0106\",\"width\":3},\"opacity\":[1,1,1,1,1,1],\"pattern\":{\"shape\":[\"\",\"\",\"\",\"\",\"\",\"\"]}},\"name\":\"Duncan Robinson\",\"showlegend\":false,\"text\":\"\\u003cb\\u003eDuncan Robinson\\u003cb\\u003e\",\"textfont\":{\"color\":[\"#0d0106\",\"#e8d8c3\",\"#0d0106\",\"#0d0106\",\"#0d0106\",\"#0d0106\"],\"family\":\"Malgun Gothic\",\"size\":22},\"textposition\":\"inside\",\"x\":[\"2024-25\",\"2025-26\",\"2026-27\",\"2027-28\",\"2028-29\",\"2029-30\"],\"y\":[13.803454064358267,12.860255937716218,0.0,0.0,0.0,0.0],\"type\":\"bar\"},{\"hoverinfo\":\"text\",\"hovertext\":[\"\\u003cb\\u003eKyle Anderson\\u003c\\u002fb\\u003e\\u003cbr\\u003ePosition: PF\\u003cbr\\u003eSeason: 2024-25\\u003cbr\\u003eSalary: $8,780,488.00\\u003cbr\\u003eCap %: 6.2%\\u003cbr\\u003eGuaranteed Total: $27,658,536.00\",\"\\u003cb\\u003eKyle Anderson\\u003c\\u002fb\\u003e\\u003cbr\\u003ePosition: PF\\u003cbr\\u003eSeason: 2025-26\\u003cbr\\u003eSalary: $9,219,512.00\\u003cbr\\u003eCap %: 6.0%\\u003cbr\\u003eGuaranteed Total: $27,658,536.00\",\"\\u003cb\\u003eKyle Anderson\\u003c\\u002fb\\u003e\\u003cbr\\u003ePosition: PF\\u003cbr\\u003eSeason: 2026-27\\u003cbr\\u003eSalary: $9,658,536.00\\u003cbr\\u003eCap %: 5.7%\\u003cbr\\u003eGuaranteed Total: $27,658,536.00\",\"\\u003cb\\u003eKyle Anderson\\u003c\\u002fb\\u003e\\u003cbr\\u003ePosition: PF\\u003cbr\\u003eSeason: 2027-28\\u003cbr\\u003eSalary: $0.00\\u003cbr\\u003eCap %: 0.0%\\u003cbr\\u003eGuaranteed Total: $27,658,536.00\",\"\\u003cb\\u003eKyle Anderson\\u003c\\u002fb\\u003e\\u003cbr\\u003ePosition: PF\\u003cbr\\u003eSeason: 2028-29\\u003cbr\\u003eSalary: $0.00\\u003cbr\\u003eCap %: 0.0%\\u003cbr\\u003eGuaranteed Total: $27,658,536.00\",\"\\u003cb\\u003eKyle Anderson\\u003c\\u002fb\\u003e\\u003cbr\\u003ePosition: PF\\u003cbr\\u003eSeason: 2029-30\\u003cbr\\u003eSalary: $0.00\\u003cbr\\u003eCap %: 0.0%\\u003cbr\\u003eGuaranteed Total: $27,658,536.00\"],\"insidetextanchor\":\"middle\",\"marker\":{\"color\":27658536.0,\"line\":{\"color\":\"#0d0106\",\"width\":3},\"opacity\":[1,1,1,1,1,1],\"pattern\":{\"shape\":[\"\",\"\",\"\",\"\",\"\",\"\"]}},\"name\":\"Kyle Anderson\",\"showlegend\":true,\"text\":\"\\u003cb\\u003e\\u003cb\\u003e\",\"textfont\":{\"color\":[\"#0d0106\",\"#0d0106\",\"#0d0106\",\"#0d0106\",\"#0d0106\",\"#0d0106\"],\"family\":\"Malgun Gothic\",\"size\":22},\"textposition\":\"inside\",\"x\":[\"2024-25\",\"2025-26\",\"2026-27\",\"2027-28\",\"2028-29\",\"2029-30\"],\"y\":[6.245545850285942,5.96164943387198,5.677751128668172,0.0,0.0,0.0],\"type\":\"bar\"},{\"hoverinfo\":\"text\",\"hovertext\":[\"\\u003cb\\u003eJr. Jaime Jaquez Jr.\\u003c\\u002fb\\u003e\\u003cbr\\u003ePosition: SF\\u003cbr\\u003eSeason: 2024-25\\u003cbr\\u003eSalary: $3,685,800.00\\u003cbr\\u003eCap %: 2.6%\\u003cbr\\u003eGuaranteed Total: $13,486,541.00\",\"\\u003cb\\u003eJr. Jaime Jaquez Jr.\\u003c\\u002fb\\u003e\\u003cbr\\u003ePosition: SF\\u003cbr\\u003eSeason: 2025-26\\u003cbr\\u003eSalary: $3,861,600.00\\u003cbr\\u003eCap %: 2.5%\\u003cbr\\u003eGuaranteed Total: $13,486,541.00\",\"\\u003cb\\u003eJr. Jaime Jaquez Jr.\\u003c\\u002fb\\u003e\\u003cbr\\u003ePosition: SF\\u003cbr\\u003eSeason: 2026-27\\u003cbr\\u003eSalary: $5,939,141.00\\u003cbr\\u003eCap %: 3.5%\\u003cbr\\u003eGuaranteed Total: $13,486,541.00\",\"\\u003cb\\u003eJr. Jaime Jaquez Jr.\\u003c\\u002fb\\u003e\\u003cbr\\u003ePosition: SF\\u003cbr\\u003eSeason: 2027-28\\u003cbr\\u003eSalary: $0.00\\u003cbr\\u003eCap %: 0.0%\\u003cbr\\u003eGuaranteed Total: $13,486,541.00\",\"\\u003cb\\u003eJr. Jaime Jaquez Jr.\\u003c\\u002fb\\u003e\\u003cbr\\u003ePosition: SF\\u003cbr\\u003eSeason: 2028-29\\u003cbr\\u003eSalary: $0.00\\u003cbr\\u003eCap %: 0.0%\\u003cbr\\u003eGuaranteed Total: $13,486,541.00\",\"\\u003cb\\u003eJr. Jaime Jaquez Jr.\\u003c\\u002fb\\u003e\\u003cbr\\u003ePosition: SF\\u003cbr\\u003eSeason: 2029-30\\u003cbr\\u003eSalary: $0.00\\u003cbr\\u003eCap %: 0.0%\\u003cbr\\u003eGuaranteed Total: $13,486,541.00\"],\"insidetextanchor\":\"middle\",\"marker\":{\"color\":13486541.0,\"line\":{\"color\":\"#0d0106\",\"width\":3},\"opacity\":[1,1,1,1,1,1],\"pattern\":{\"shape\":[\"\",\"\",\"\",\"\",\"\",\"\"]}},\"name\":\"Jr. Jaime Jaquez Jr.\",\"showlegend\":true,\"text\":\"\\u003cb\\u003e\\u003cb\\u003e\",\"textfont\":{\"color\":[\"#0d0106\",\"#0d0106\",\"#0d0106\",\"#0d0106\",\"#0d0106\",\"#0d0106\"],\"family\":\"Malgun Gothic\",\"size\":22},\"textposition\":\"inside\",\"x\":[\"2024-25\",\"2025-26\",\"2026-27\",\"2027-28\",\"2028-29\",\"2029-30\"],\"y\":[2.621703132557544,2.4970416496925254,3.491312194319037,0.0,0.0,0.0],\"type\":\"bar\"},{\"hoverinfo\":\"text\",\"hovertext\":[\"\\u003cb\\u003eHaywood Highsmith\\u003c\\u002fb\\u003e\\u003cbr\\u003ePosition: F\\u003cbr\\u003eSeason: 2024-25\\u003cbr\\u003eSalary: $5,200,000.00\\u003cbr\\u003eCap %: 3.7%\\u003cbr\\u003eGuaranteed Total: $10,816,000.00\",\"\\u003cb\\u003eHaywood Highsmith\\u003c\\u002fb\\u003e\\u003cbr\\u003ePosition: F\\u003cbr\\u003eSeason: 2025-26\\u003cbr\\u003eSalary: $5,616,000.00\\u003cbr\\u003eCap %: 3.6%\\u003cbr\\u003eGuaranteed Total: $10,816,000.00\",\"\\u003cb\\u003eHaywood Highsmith\\u003c\\u002fb\\u003e\\u003cbr\\u003ePosition: F\\u003cbr\\u003eSeason: 2026-27\\u003cbr\\u003eSalary: $0.00\\u003cbr\\u003eCap %: 0.0%\\u003cbr\\u003eGuaranteed Total: $10,816,000.00\",\"\\u003cb\\u003eHaywood Highsmith\\u003c\\u002fb\\u003e\\u003cbr\\u003ePosition: F\\u003cbr\\u003eSeason: 2027-28\\u003cbr\\u003eSalary: $0.00\\u003cbr\\u003eCap %: 0.0%\\u003cbr\\u003eGuaranteed Total: $10,816,000.00\",\"\\u003cb\\u003eHaywood Highsmith\\u003c\\u002fb\\u003e\\u003cbr\\u003ePosition: F\\u003cbr\\u003eSeason: 2028-29\\u003cbr\\u003eSalary: $0.00\\u003cbr\\u003eCap %: 0.0%\\u003cbr\\u003eGuaranteed Total: $10,816,000.00\",\"\\u003cb\\u003eHaywood Highsmith\\u003c\\u002fb\\u003e\\u003cbr\\u003ePosition: F\\u003cbr\\u003eSeason: 2029-30\\u003cbr\\u003eSalary: $0.00\\u003cbr\\u003eCap %: 0.0%\\u003cbr\\u003eGuaranteed Total: $10,816,000.00\"],\"insidetextanchor\":\"middle\",\"marker\":{\"color\":10816000.0,\"line\":{\"color\":\"#0d0106\",\"width\":3},\"opacity\":[1,1,1,1,1,1],\"pattern\":{\"shape\":[\"\",\"\",\"\",\"\",\"\",\"\"]}},\"name\":\"Haywood Highsmith\",\"showlegend\":true,\"text\":\"\\u003cb\\u003e\\u003cb\\u003e\",\"textfont\":{\"color\":[\"#0d0106\",\"#0d0106\",\"#0d0106\",\"#0d0106\",\"#0d0106\",\"#0d0106\"],\"family\":\"Malgun Gothic\",\"size\":22},\"textposition\":\"inside\",\"x\":[\"2024-25\",\"2025-26\",\"2026-27\",\"2027-28\",\"2028-29\",\"2029-30\"],\"y\":[3.698750960252653,3.6314962462899376,0.0,0.0,0.0,0.0],\"type\":\"bar\"},{\"hoverinfo\":\"text\",\"hovertext\":[\"\\u003cb\\u003eKel'el Ware\\u003c\\u002fb\\u003e\\u003cbr\\u003ePosition: C\\u003cbr\\u003eSeason: 2024-25\\u003cbr\\u003eSalary: $4,231,800.00\\u003cbr\\u003eCap %: 3.0%\\u003cbr\\u003eGuaranteed Total: $8,675,160.00\",\"\\u003cb\\u003eKel'el Ware\\u003c\\u002fb\\u003e\\u003cbr\\u003ePosition: C\\u003cbr\\u003eSeason: 2025-26\\u003cbr\\u003eSalary: $4,443,360.00\\u003cbr\\u003eCap %: 2.9%\\u003cbr\\u003eGuaranteed Total: $8,675,160.00\",\"\\u003cb\\u003eKel'el Ware\\u003c\\u002fb\\u003e\\u003cbr\\u003ePosition: C\\u003cbr\\u003eSeason: 2026-27\\u003cbr\\u003eSalary: $4,654,920.00\\u003cbr\\u003eCap %: 2.7%\\u003cbr\\u003eGuaranteed Total: $8,675,160.00\",\"\\u003cb\\u003eKel'el Ware\\u003c\\u002fb\\u003e\\u003cbr\\u003ePosition: C\\u003cbr\\u003eSeason: 2027-28\\u003cbr\\u003eSalary: $7,135,992.00\\u003cbr\\u003eCap %: 3.8%\\u003cbr\\u003eGuaranteed Total: $8,675,160.00\",\"\\u003cb\\u003eKel'el Ware\\u003c\\u002fb\\u003e\\u003cbr\\u003ePosition: C\\u003cbr\\u003eSeason: 2028-29\\u003cbr\\u003eSalary: $0.00\\u003cbr\\u003eCap %: 0.0%\\u003cbr\\u003eGuaranteed Total: $8,675,160.00\",\"\\u003cb\\u003eKel'el Ware\\u003c\\u002fb\\u003e\\u003cbr\\u003ePosition: C\\u003cbr\\u003eSeason: 2029-30\\u003cbr\\u003eSalary: $0.00\\u003cbr\\u003eCap %: 0.0%\\u003cbr\\u003eGuaranteed Total: $8,675,160.00\"],\"insidetextanchor\":\"middle\",\"marker\":{\"color\":8675160.0,\"line\":{\"color\":\"#0d0106\",\"width\":3},\"opacity\":[1,1,0.35,0.35,1,1],\"pattern\":{\"shape\":[\"\",\"\",\"\\u002f\",\"\\u002f\",\"\",\"\"]}},\"name\":\"Kel'el Ware\",\"showlegend\":true,\"text\":\"\\u003cb\\u003e\\u003cb\\u003e\",\"textfont\":{\"color\":[\"#0d0106\",\"#0d0106\",\"#0d0106\",\"#0d0106\",\"#0d0106\",\"#0d0106\"],\"family\":\"Malgun Gothic\",\"size\":22},\"textposition\":\"inside\",\"x\":[\"2024-25\",\"2025-26\",\"2026-27\",\"2027-28\",\"2028-29\",\"2029-30\"],\"y\":[3.010071983384073,2.8732274146928165,2.736385440180587,3.813530137930666,0.0,0.0],\"type\":\"bar\"},{\"hoverinfo\":\"text\",\"hovertext\":[\"\\u003cb\\u003eKevin Love\\u003c\\u002fb\\u003e\\u003cbr\\u003ePosition: C\\u003cbr\\u003eSeason: 2024-25\\u003cbr\\u003eSalary: $3,850,000.00\\u003cbr\\u003eCap %: 2.7%\\u003cbr\\u003eGuaranteed Total: $8,000,000.00\",\"\\u003cb\\u003eKevin Love\\u003c\\u002fb\\u003e\\u003cbr\\u003ePosition: C\\u003cbr\\u003eSeason: 2025-26\\u003cbr\\u003eSalary: $4,150,000.00\\u003cbr\\u003eCap %: 2.7%\\u003cbr\\u003eGuaranteed Total: $8,000,000.00\",\"\\u003cb\\u003eKevin Love\\u003c\\u002fb\\u003e\\u003cbr\\u003ePosition: C\\u003cbr\\u003eSeason: 2026-27\\u003cbr\\u003eSalary: $0.00\\u003cbr\\u003eCap %: 0.0%\\u003cbr\\u003eGuaranteed Total: $8,000,000.00\",\"\\u003cb\\u003eKevin Love\\u003c\\u002fb\\u003e\\u003cbr\\u003ePosition: C\\u003cbr\\u003eSeason: 2027-28\\u003cbr\\u003eSalary: $0.00\\u003cbr\\u003eCap %: 0.0%\\u003cbr\\u003eGuaranteed Total: $8,000,000.00\",\"\\u003cb\\u003eKevin Love\\u003c\\u002fb\\u003e\\u003cbr\\u003ePosition: C\\u003cbr\\u003eSeason: 2028-29\\u003cbr\\u003eSalary: $0.00\\u003cbr\\u003eCap %: 0.0%\\u003cbr\\u003eGuaranteed Total: $8,000,000.00\",\"\\u003cb\\u003eKevin Love\\u003c\\u002fb\\u003e\\u003cbr\\u003ePosition: C\\u003cbr\\u003eSeason: 2029-30\\u003cbr\\u003eSalary: $0.00\\u003cbr\\u003eCap %: 0.0%\\u003cbr\\u003eGuaranteed Total: $8,000,000.00\"],\"insidetextanchor\":\"middle\",\"marker\":{\"color\":8000000.0,\"line\":{\"color\":\"#0d0106\",\"width\":3},\"opacity\":[1,1,1,1,1,1],\"pattern\":{\"shape\":[\"\",\"\",\"\",\"\",\"\",\"\"]}},\"name\":\"Kevin Love\",\"showlegend\":true,\"text\":\"\\u003cb\\u003e\\u003cb\\u003e\",\"textfont\":{\"color\":[\"#0d0106\",\"#0d0106\",\"#0d0106\",\"#0d0106\",\"#0d0106\",\"#0d0106\"],\"family\":\"Malgun Gothic\",\"size\":22},\"textposition\":\"inside\",\"x\":[\"2024-25\",\"2025-26\",\"2026-27\",\"2027-28\",\"2028-29\",\"2029-30\"],\"y\":[2.7384983071101376,2.6835308800041386,0.0,0.0,0.0,0.0],\"type\":\"bar\"},{\"hoverinfo\":\"text\",\"hovertext\":[\"\\u003cb\\u003eNikola Jovic\\u003c\\u002fb\\u003e\\u003cbr\\u003ePosition: SF\\u003cbr\\u003eSeason: 2024-25\\u003cbr\\u003eSalary: $2,464,200.00\\u003cbr\\u003eCap %: 1.8%\\u003cbr\\u003eGuaranteed Total: $6,909,617.00\",\"\\u003cb\\u003eNikola Jovic\\u003c\\u002fb\\u003e\\u003cbr\\u003ePosition: SF\\u003cbr\\u003eSeason: 2025-26\\u003cbr\\u003eSalary: $4,445,417.00\\u003cbr\\u003eCap %: 2.9%\\u003cbr\\u003eGuaranteed Total: $6,909,617.00\",\"\\u003cb\\u003eNikola Jovic\\u003c\\u002fb\\u003e\\u003cbr\\u003ePosition: SF\\u003cbr\\u003eSeason: 2026-27\\u003cbr\\u003eSalary: $0.00\\u003cbr\\u003eCap %: 0.0%\\u003cbr\\u003eGuaranteed Total: $6,909,617.00\",\"\\u003cb\\u003eNikola Jovic\\u003c\\u002fb\\u003e\\u003cbr\\u003ePosition: SF\\u003cbr\\u003eSeason: 2027-28\\u003cbr\\u003eSalary: $0.00\\u003cbr\\u003eCap %: 0.0%\\u003cbr\\u003eGuaranteed Total: $6,909,617.00\",\"\\u003cb\\u003eNikola Jovic\\u003c\\u002fb\\u003e\\u003cbr\\u003ePosition: SF\\u003cbr\\u003eSeason: 2028-29\\u003cbr\\u003eSalary: $0.00\\u003cbr\\u003eCap %: 0.0%\\u003cbr\\u003eGuaranteed Total: $6,909,617.00\",\"\\u003cb\\u003eNikola Jovic\\u003c\\u002fb\\u003e\\u003cbr\\u003ePosition: SF\\u003cbr\\u003eSeason: 2029-30\\u003cbr\\u003eSalary: $0.00\\u003cbr\\u003eCap %: 0.0%\\u003cbr\\u003eGuaranteed Total: $6,909,617.00\"],\"insidetextanchor\":\"middle\",\"marker\":{\"color\":6909617.0,\"line\":{\"color\":\"#0d0106\",\"width\":3},\"opacity\":[1,1,1,1,1,1],\"pattern\":{\"shape\":[\"\",\"-\",\"\",\"\",\"\",\"\"]}},\"name\":\"Nikola Jovic\",\"showlegend\":true,\"text\":\"\\u003cb\\u003e\\u003cb\\u003e\",\"textfont\":{\"color\":[\"#0d0106\",\"#0d0106\",\"#0d0106\",\"#0d0106\",\"#0d0106\",\"#0d0106\"],\"family\":\"Malgun Gothic\",\"size\":22},\"textposition\":\"inside\",\"x\":[\"2024-25\",\"2025-26\",\"2026-27\",\"2027-28\",\"2028-29\",\"2029-30\"],\"y\":[1.7527811762028054,2.874557540721773,0.0,0.0,0.0,0.0],\"type\":\"bar\"},{\"hoverinfo\":\"text\",\"hovertext\":[\"\\u003cb\\u003eDavion Mitchell\\u003c\\u002fb\\u003e\\u003cbr\\u003ePosition: PG\\u003cbr\\u003eSeason: 2024-25\\u003cbr\\u003eSalary: $6,451,077.00\\u003cbr\\u003eCap %: 4.6%\\u003cbr\\u003eGuaranteed Total: $6,451,077.00\",\"\\u003cb\\u003eDavion Mitchell\\u003c\\u002fb\\u003e\\u003cbr\\u003ePosition: PG\\u003cbr\\u003eSeason: 2025-26\\u003cbr\\u003eSalary: $0.00\\u003cbr\\u003eCap %: 0.0%\\u003cbr\\u003eGuaranteed Total: $6,451,077.00\",\"\\u003cb\\u003eDavion Mitchell\\u003c\\u002fb\\u003e\\u003cbr\\u003ePosition: PG\\u003cbr\\u003eSeason: 2026-27\\u003cbr\\u003eSalary: $0.00\\u003cbr\\u003eCap %: 0.0%\\u003cbr\\u003eGuaranteed Total: $6,451,077.00\",\"\\u003cb\\u003eDavion Mitchell\\u003c\\u002fb\\u003e\\u003cbr\\u003ePosition: PG\\u003cbr\\u003eSeason: 2027-28\\u003cbr\\u003eSalary: $0.00\\u003cbr\\u003eCap %: 0.0%\\u003cbr\\u003eGuaranteed Total: $6,451,077.00\",\"\\u003cb\\u003eDavion Mitchell\\u003c\\u002fb\\u003e\\u003cbr\\u003ePosition: PG\\u003cbr\\u003eSeason: 2028-29\\u003cbr\\u003eSalary: $0.00\\u003cbr\\u003eCap %: 0.0%\\u003cbr\\u003eGuaranteed Total: $6,451,077.00\",\"\\u003cb\\u003eDavion Mitchell\\u003c\\u002fb\\u003e\\u003cbr\\u003ePosition: PG\\u003cbr\\u003eSeason: 2029-30\\u003cbr\\u003eSalary: $0.00\\u003cbr\\u003eCap %: 0.0%\\u003cbr\\u003eGuaranteed Total: $6,451,077.00\"],\"insidetextanchor\":\"middle\",\"marker\":{\"color\":6451077.0,\"line\":{\"color\":\"#0d0106\",\"width\":3},\"opacity\":[1,1,1,1,1,1],\"pattern\":{\"shape\":[\"\",\"\",\"\",\"\",\"\",\"\"]}},\"name\":\"Davion Mitchell\",\"showlegend\":true,\"text\":\"\\u003cb\\u003e\\u003cb\\u003e\",\"textfont\":{\"color\":[\"#0d0106\",\"#0d0106\",\"#0d0106\",\"#0d0106\",\"#0d0106\",\"#0d0106\"],\"family\":\"Malgun Gothic\",\"size\":22},\"textposition\":\"inside\",\"x\":[\"2024-25\",\"2025-26\",\"2026-27\",\"2027-28\",\"2028-29\",\"2029-30\"],\"y\":[4.588639855464193,0.0,0.0,0.0,0.0,0.0],\"type\":\"bar\"},{\"hoverinfo\":\"text\",\"hovertext\":[\"\\u003cb\\u003ePelle Larsson\\u003c\\u002fb\\u003e\\u003cbr\\u003ePosition: SG\\u003cbr\\u003eSeason: 2024-25\\u003cbr\\u003eSalary: $1,157,153.00\\u003cbr\\u003eCap %: 0.8%\\u003cbr\\u003eGuaranteed Total: $3,112,531.00\",\"\\u003cb\\u003ePelle Larsson\\u003c\\u002fb\\u003e\\u003cbr\\u003ePosition: SG\\u003cbr\\u003eSeason: 2025-26\\u003cbr\\u003eSalary: $1,955,378.00\\u003cbr\\u003eCap %: 1.3%\\u003cbr\\u003eGuaranteed Total: $3,112,531.00\",\"\\u003cb\\u003ePelle Larsson\\u003c\\u002fb\\u003e\\u003cbr\\u003ePosition: SG\\u003cbr\\u003eSeason: 2026-27\\u003cbr\\u003eSalary: $2,296,271.00\\u003cbr\\u003eCap %: 1.3%\\u003cbr\\u003eGuaranteed Total: $3,112,531.00\",\"\\u003cb\\u003ePelle Larsson\\u003c\\u002fb\\u003e\\u003cbr\\u003ePosition: SG\\u003cbr\\u003eSeason: 2027-28\\u003cbr\\u003eSalary: $0.00\\u003cbr\\u003eCap %: 0.0%\\u003cbr\\u003eGuaranteed Total: $3,112,531.00\",\"\\u003cb\\u003ePelle Larsson\\u003c\\u002fb\\u003e\\u003cbr\\u003ePosition: SG\\u003cbr\\u003eSeason: 2028-29\\u003cbr\\u003eSalary: $0.00\\u003cbr\\u003eCap %: 0.0%\\u003cbr\\u003eGuaranteed Total: $3,112,531.00\",\"\\u003cb\\u003ePelle Larsson\\u003c\\u002fb\\u003e\\u003cbr\\u003ePosition: SG\\u003cbr\\u003eSeason: 2029-30\\u003cbr\\u003eSalary: $0.00\\u003cbr\\u003eCap %: 0.0%\\u003cbr\\u003eGuaranteed Total: $3,112,531.00\"],\"insidetextanchor\":\"middle\",\"marker\":{\"color\":3112531.0,\"line\":{\"color\":\"#0d0106\",\"width\":3},\"opacity\":[1,1,0.35,1,1,1],\"pattern\":{\"shape\":[\"\",\"\",\"\\u002f\",\"\",\"\",\"\"]}},\"name\":\"Pelle Larsson\",\"showlegend\":true,\"text\":\"\\u003cb\\u003e\\u003cb\\u003e\",\"textfont\":{\"color\":[\"#0d0106\",\"#0d0106\",\"#0d0106\",\"#0d0106\",\"#0d0106\",\"#0d0106\"],\"family\":\"Malgun Gothic\",\"size\":22},\"textposition\":\"inside\",\"x\":[\"2024-25\",\"2025-26\",\"2026-27\",\"2027-28\",\"2028-29\",\"2029-30\"],\"y\":[0.8230809172902381,1.2644137939953572,1.3498583286305492,0.0,0.0,0.0],\"type\":\"bar\"},{\"hoverinfo\":\"text\",\"hovertext\":[\"\\u003cb\\u003eAlec Burks\\u003c\\u002fb\\u003e\\u003cbr\\u003ePosition: SG\\u003cbr\\u003eSeason: 2024-25\\u003cbr\\u003eSalary: $2,087,519.00\\u003cbr\\u003eCap %: 1.5%\\u003cbr\\u003eGuaranteed Total: $2,087,519.00\",\"\\u003cb\\u003eAlec Burks\\u003c\\u002fb\\u003e\\u003cbr\\u003ePosition: SG\\u003cbr\\u003eSeason: 2025-26\\u003cbr\\u003eSalary: $0.00\\u003cbr\\u003eCap %: 0.0%\\u003cbr\\u003eGuaranteed Total: $2,087,519.00\",\"\\u003cb\\u003eAlec Burks\\u003c\\u002fb\\u003e\\u003cbr\\u003ePosition: SG\\u003cbr\\u003eSeason: 2026-27\\u003cbr\\u003eSalary: $0.00\\u003cbr\\u003eCap %: 0.0%\\u003cbr\\u003eGuaranteed Total: $2,087,519.00\",\"\\u003cb\\u003eAlec Burks\\u003c\\u002fb\\u003e\\u003cbr\\u003ePosition: SG\\u003cbr\\u003eSeason: 2027-28\\u003cbr\\u003eSalary: $0.00\\u003cbr\\u003eCap %: 0.0%\\u003cbr\\u003eGuaranteed Total: $2,087,519.00\",\"\\u003cb\\u003eAlec Burks\\u003c\\u002fb\\u003e\\u003cbr\\u003ePosition: SG\\u003cbr\\u003eSeason: 2028-29\\u003cbr\\u003eSalary: $0.00\\u003cbr\\u003eCap %: 0.0%\\u003cbr\\u003eGuaranteed Total: $2,087,519.00\",\"\\u003cb\\u003eAlec Burks\\u003c\\u002fb\\u003e\\u003cbr\\u003ePosition: SG\\u003cbr\\u003eSeason: 2029-30\\u003cbr\\u003eSalary: $0.00\\u003cbr\\u003eCap %: 0.0%\\u003cbr\\u003eGuaranteed Total: $2,087,519.00\"],\"insidetextanchor\":\"middle\",\"marker\":{\"color\":2087519.0,\"line\":{\"color\":\"#0d0106\",\"width\":3},\"opacity\":[1,1,1,1,1,1],\"pattern\":{\"shape\":[\"\",\"\",\"\",\"\",\"\",\"\"]}},\"name\":\"Alec Burks\",\"showlegend\":true,\"text\":\"\\u003cb\\u003e\\u003cb\\u003e\",\"textfont\":{\"color\":[\"#0d0106\",\"#0d0106\",\"#0d0106\",\"#0d0106\",\"#0d0106\",\"#0d0106\"],\"family\":\"Malgun Gothic\",\"size\":22},\"textposition\":\"inside\",\"x\":[\"2024-25\",\"2025-26\",\"2026-27\",\"2027-28\",\"2028-29\",\"2029-30\"],\"y\":[1.4848486357299342,0.0,0.0,0.0,0.0,0.0],\"type\":\"bar\"},{\"hoverinfo\":\"text\",\"hovertext\":[\"\\u003cb\\u003eKeshad Johnson\\u003c\\u002fb\\u003e\\u003cbr\\u003ePosition: PF\\u003cbr\\u003eSeason: 2024-25\\u003cbr\\u003eSalary: $724,883.00\\u003cbr\\u003eCap %: 0.5%\\u003cbr\\u003eGuaranteed Total: $724,883.00\",\"\\u003cb\\u003eKeshad Johnson\\u003c\\u002fb\\u003e\\u003cbr\\u003ePosition: PF\\u003cbr\\u003eSeason: 2025-26\\u003cbr\\u003eSalary: $1,955,377.00\\u003cbr\\u003eCap %: 1.3%\\u003cbr\\u003eGuaranteed Total: $724,883.00\",\"\\u003cb\\u003eKeshad Johnson\\u003c\\u002fb\\u003e\\u003cbr\\u003ePosition: PF\\u003cbr\\u003eSeason: 2026-27\\u003cbr\\u003eSalary: $0.00\\u003cbr\\u003eCap %: 0.0%\\u003cbr\\u003eGuaranteed Total: $724,883.00\",\"\\u003cb\\u003eKeshad Johnson\\u003c\\u002fb\\u003e\\u003cbr\\u003ePosition: PF\\u003cbr\\u003eSeason: 2027-28\\u003cbr\\u003eSalary: $0.00\\u003cbr\\u003eCap %: 0.0%\\u003cbr\\u003eGuaranteed Total: $724,883.00\",\"\\u003cb\\u003eKeshad Johnson\\u003c\\u002fb\\u003e\\u003cbr\\u003ePosition: PF\\u003cbr\\u003eSeason: 2028-29\\u003cbr\\u003eSalary: $0.00\\u003cbr\\u003eCap %: 0.0%\\u003cbr\\u003eGuaranteed Total: $724,883.00\",\"\\u003cb\\u003eKeshad Johnson\\u003c\\u002fb\\u003e\\u003cbr\\u003ePosition: PF\\u003cbr\\u003eSeason: 2029-30\\u003cbr\\u003eSalary: $0.00\\u003cbr\\u003eCap %: 0.0%\\u003cbr\\u003eGuaranteed Total: $724,883.00\"],\"insidetextanchor\":\"middle\",\"marker\":{\"color\":724883.0,\"line\":{\"color\":\"#0d0106\",\"width\":3},\"opacity\":[1,0.35,1,1,1,1],\"pattern\":{\"shape\":[\"\",\"\\u002f\",\"\",\"\",\"\",\"\"]}},\"name\":\"Keshad Johnson\",\"showlegend\":true,\"text\":\"\\u003cb\\u003e\\u003cb\\u003e\",\"textfont\":{\"color\":[\"#0d0106\",\"#0d0106\",\"#0d0106\",\"#0d0106\",\"#0d0106\",\"#0d0106\"],\"family\":\"Malgun Gothic\",\"size\":22},\"textposition\":\"inside\",\"x\":[\"2024-25\",\"2025-26\",\"2026-27\",\"2027-28\",\"2028-29\",\"2029-30\"],\"y\":[0.5156080177540046,1.2644131473614102,0.0,0.0,0.0,0.0],\"type\":\"bar\"},{\"hoverinfo\":\"text\",\"hovertext\":[\"\\u003cb\\u003eDru Smith\\u003c\\u002fb\\u003e\\u003cbr\\u003ePosition: SG\\u003cbr\\u003eSeason: 2024-25\\u003cbr\\u003eSalary: $0.00\\u003cbr\\u003eCap %: 0.0%\\u003cbr\\u003eGuaranteed Total: $0.00\",\"\\u003cb\\u003eDru Smith\\u003c\\u002fb\\u003e\\u003cbr\\u003ePosition: SG\\u003cbr\\u003eSeason: 2025-26\\u003cbr\\u003eSalary: $0.00\\u003cbr\\u003eCap %: 0.0%\\u003cbr\\u003eGuaranteed Total: $0.00\",\"\\u003cb\\u003eDru Smith\\u003c\\u002fb\\u003e\\u003cbr\\u003ePosition: SG\\u003cbr\\u003eSeason: 2026-27\\u003cbr\\u003eSalary: $0.00\\u003cbr\\u003eCap %: 0.0%\\u003cbr\\u003eGuaranteed Total: $0.00\",\"\\u003cb\\u003eDru Smith\\u003c\\u002fb\\u003e\\u003cbr\\u003ePosition: SG\\u003cbr\\u003eSeason: 2027-28\\u003cbr\\u003eSalary: $0.00\\u003cbr\\u003eCap %: 0.0%\\u003cbr\\u003eGuaranteed Total: $0.00\",\"\\u003cb\\u003eDru Smith\\u003c\\u002fb\\u003e\\u003cbr\\u003ePosition: SG\\u003cbr\\u003eSeason: 2028-29\\u003cbr\\u003eSalary: $0.00\\u003cbr\\u003eCap %: 0.0%\\u003cbr\\u003eGuaranteed Total: $0.00\",\"\\u003cb\\u003eDru Smith\\u003c\\u002fb\\u003e\\u003cbr\\u003ePosition: SG\\u003cbr\\u003eSeason: 2029-30\\u003cbr\\u003eSalary: $0.00\\u003cbr\\u003eCap %: 0.0%\\u003cbr\\u003eGuaranteed Total: $0.00\"],\"insidetextanchor\":\"middle\",\"marker\":{\"color\":0.0,\"line\":{\"color\":\"#0d0106\",\"width\":3},\"opacity\":[1,1,1,1,1,1],\"pattern\":{\"shape\":[\"\",\"\",\"\",\"\",\"\",\"\"]}},\"name\":\"Dru Smith\",\"showlegend\":true,\"text\":\"\\u003cb\\u003e\\u003cb\\u003e\",\"textfont\":{\"color\":[\"#0d0106\",\"#0d0106\",\"#0d0106\",\"#0d0106\",\"#0d0106\",\"#0d0106\"],\"family\":\"Malgun Gothic\",\"size\":22},\"textposition\":\"inside\",\"x\":[\"2024-25\",\"2025-26\",\"2026-27\",\"2027-28\",\"2028-29\",\"2029-30\"],\"y\":[0.0,0.0,0.0,0.0,0.0,0.0],\"type\":\"bar\"},{\"hoverinfo\":\"text\",\"hovertext\":[\"\\u003cb\\u003eIsaiah Stevens\\u003c\\u002fb\\u003e\\u003cbr\\u003ePosition: PG\\u003cbr\\u003eSeason: 2024-25\\u003cbr\\u003eSalary: $0.00\\u003cbr\\u003eCap %: 0.0%\\u003cbr\\u003eGuaranteed Total: $0.00\",\"\\u003cb\\u003eIsaiah Stevens\\u003c\\u002fb\\u003e\\u003cbr\\u003ePosition: PG\\u003cbr\\u003eSeason: 2025-26\\u003cbr\\u003eSalary: $0.00\\u003cbr\\u003eCap %: 0.0%\\u003cbr\\u003eGuaranteed Total: $0.00\",\"\\u003cb\\u003eIsaiah Stevens\\u003c\\u002fb\\u003e\\u003cbr\\u003ePosition: PG\\u003cbr\\u003eSeason: 2026-27\\u003cbr\\u003eSalary: $0.00\\u003cbr\\u003eCap %: 0.0%\\u003cbr\\u003eGuaranteed Total: $0.00\",\"\\u003cb\\u003eIsaiah Stevens\\u003c\\u002fb\\u003e\\u003cbr\\u003ePosition: PG\\u003cbr\\u003eSeason: 2027-28\\u003cbr\\u003eSalary: $0.00\\u003cbr\\u003eCap %: 0.0%\\u003cbr\\u003eGuaranteed Total: $0.00\",\"\\u003cb\\u003eIsaiah Stevens\\u003c\\u002fb\\u003e\\u003cbr\\u003ePosition: PG\\u003cbr\\u003eSeason: 2028-29\\u003cbr\\u003eSalary: $0.00\\u003cbr\\u003eCap %: 0.0%\\u003cbr\\u003eGuaranteed Total: $0.00\",\"\\u003cb\\u003eIsaiah Stevens\\u003c\\u002fb\\u003e\\u003cbr\\u003ePosition: PG\\u003cbr\\u003eSeason: 2029-30\\u003cbr\\u003eSalary: $0.00\\u003cbr\\u003eCap %: 0.0%\\u003cbr\\u003eGuaranteed Total: $0.00\"],\"insidetextanchor\":\"middle\",\"marker\":{\"color\":0.0,\"line\":{\"color\":\"#0d0106\",\"width\":3},\"opacity\":[1,1,1,1,1,1],\"pattern\":{\"shape\":[\"\",\"\",\"\",\"\",\"\",\"\"]}},\"name\":\"Isaiah Stevens\",\"showlegend\":true,\"text\":\"\\u003cb\\u003e\\u003cb\\u003e\",\"textfont\":{\"color\":[\"#0d0106\",\"#0d0106\",\"#0d0106\",\"#0d0106\",\"#0d0106\",\"#0d0106\"],\"family\":\"Malgun Gothic\",\"size\":22},\"textposition\":\"inside\",\"x\":[\"2024-25\",\"2025-26\",\"2026-27\",\"2027-28\",\"2028-29\",\"2029-30\"],\"y\":[0.0,0.0,0.0,0.0,0.0,0.0],\"type\":\"bar\"},{\"hoverinfo\":\"text\",\"hovertext\":[\"\\u003cb\\u003eJosh Christopher\\u003c\\u002fb\\u003e\\u003cbr\\u003ePosition: SG\\u003cbr\\u003eSeason: 2024-25\\u003cbr\\u003eSalary: $0.00\\u003cbr\\u003eCap %: 0.0%\\u003cbr\\u003eGuaranteed Total: $0.00\",\"\\u003cb\\u003eJosh Christopher\\u003c\\u002fb\\u003e\\u003cbr\\u003ePosition: SG\\u003cbr\\u003eSeason: 2025-26\\u003cbr\\u003eSalary: $0.00\\u003cbr\\u003eCap %: 0.0%\\u003cbr\\u003eGuaranteed Total: $0.00\",\"\\u003cb\\u003eJosh Christopher\\u003c\\u002fb\\u003e\\u003cbr\\u003ePosition: SG\\u003cbr\\u003eSeason: 2026-27\\u003cbr\\u003eSalary: $0.00\\u003cbr\\u003eCap %: 0.0%\\u003cbr\\u003eGuaranteed Total: $0.00\",\"\\u003cb\\u003eJosh Christopher\\u003c\\u002fb\\u003e\\u003cbr\\u003ePosition: SG\\u003cbr\\u003eSeason: 2027-28\\u003cbr\\u003eSalary: $0.00\\u003cbr\\u003eCap %: 0.0%\\u003cbr\\u003eGuaranteed Total: $0.00\",\"\\u003cb\\u003eJosh Christopher\\u003c\\u002fb\\u003e\\u003cbr\\u003ePosition: SG\\u003cbr\\u003eSeason: 2028-29\\u003cbr\\u003eSalary: $0.00\\u003cbr\\u003eCap %: 0.0%\\u003cbr\\u003eGuaranteed Total: $0.00\",\"\\u003cb\\u003eJosh Christopher\\u003c\\u002fb\\u003e\\u003cbr\\u003ePosition: SG\\u003cbr\\u003eSeason: 2029-30\\u003cbr\\u003eSalary: $0.00\\u003cbr\\u003eCap %: 0.0%\\u003cbr\\u003eGuaranteed Total: $0.00\"],\"insidetextanchor\":\"middle\",\"marker\":{\"color\":0.0,\"line\":{\"color\":\"#0d0106\",\"width\":3},\"opacity\":[1,1,1,1,1,1],\"pattern\":{\"shape\":[\"\",\"\",\"\",\"\",\"\",\"\"]}},\"name\":\"Josh Christopher\",\"showlegend\":true,\"text\":\"\\u003cb\\u003e\\u003cb\\u003e\",\"textfont\":{\"color\":[\"#0d0106\",\"#0d0106\",\"#0d0106\",\"#0d0106\",\"#0d0106\",\"#0d0106\"],\"family\":\"Malgun Gothic\",\"size\":22},\"textposition\":\"inside\",\"x\":[\"2024-25\",\"2025-26\",\"2026-27\",\"2027-28\",\"2028-29\",\"2029-30\"],\"y\":[0.0,0.0,0.0,0.0,0.0,0.0],\"type\":\"bar\"}],                        {\"template\":{\"data\":{\"histogram2dcontour\":[{\"type\":\"histogram2dcontour\",\"colorbar\":{\"outlinewidth\":0,\"ticks\":\"\"},\"colorscale\":[[0.0,\"#0d0887\"],[0.1111111111111111,\"#46039f\"],[0.2222222222222222,\"#7201a8\"],[0.3333333333333333,\"#9c179e\"],[0.4444444444444444,\"#bd3786\"],[0.5555555555555556,\"#d8576b\"],[0.6666666666666666,\"#ed7953\"],[0.7777777777777778,\"#fb9f3a\"],[0.8888888888888888,\"#fdca26\"],[1.0,\"#f0f921\"]]}],\"choropleth\":[{\"type\":\"choropleth\",\"colorbar\":{\"outlinewidth\":0,\"ticks\":\"\"}}],\"histogram2d\":[{\"type\":\"histogram2d\",\"colorbar\":{\"outlinewidth\":0,\"ticks\":\"\"},\"colorscale\":[[0.0,\"#0d0887\"],[0.1111111111111111,\"#46039f\"],[0.2222222222222222,\"#7201a8\"],[0.3333333333333333,\"#9c179e\"],[0.4444444444444444,\"#bd3786\"],[0.5555555555555556,\"#d8576b\"],[0.6666666666666666,\"#ed7953\"],[0.7777777777777778,\"#fb9f3a\"],[0.8888888888888888,\"#fdca26\"],[1.0,\"#f0f921\"]]}],\"heatmap\":[{\"type\":\"heatmap\",\"colorbar\":{\"outlinewidth\":0,\"ticks\":\"\"},\"colorscale\":[[0.0,\"#0d0887\"],[0.1111111111111111,\"#46039f\"],[0.2222222222222222,\"#7201a8\"],[0.3333333333333333,\"#9c179e\"],[0.4444444444444444,\"#bd3786\"],[0.5555555555555556,\"#d8576b\"],[0.6666666666666666,\"#ed7953\"],[0.7777777777777778,\"#fb9f3a\"],[0.8888888888888888,\"#fdca26\"],[1.0,\"#f0f921\"]]}],\"heatmapgl\":[{\"type\":\"heatmapgl\",\"colorbar\":{\"outlinewidth\":0,\"ticks\":\"\"},\"colorscale\":[[0.0,\"#0d0887\"],[0.1111111111111111,\"#46039f\"],[0.2222222222222222,\"#7201a8\"],[0.3333333333333333,\"#9c179e\"],[0.4444444444444444,\"#bd3786\"],[0.5555555555555556,\"#d8576b\"],[0.6666666666666666,\"#ed7953\"],[0.7777777777777778,\"#fb9f3a\"],[0.8888888888888888,\"#fdca26\"],[1.0,\"#f0f921\"]]}],\"contourcarpet\":[{\"type\":\"contourcarpet\",\"colorbar\":{\"outlinewidth\":0,\"ticks\":\"\"}}],\"contour\":[{\"type\":\"contour\",\"colorbar\":{\"outlinewidth\":0,\"ticks\":\"\"},\"colorscale\":[[0.0,\"#0d0887\"],[0.1111111111111111,\"#46039f\"],[0.2222222222222222,\"#7201a8\"],[0.3333333333333333,\"#9c179e\"],[0.4444444444444444,\"#bd3786\"],[0.5555555555555556,\"#d8576b\"],[0.6666666666666666,\"#ed7953\"],[0.7777777777777778,\"#fb9f3a\"],[0.8888888888888888,\"#fdca26\"],[1.0,\"#f0f921\"]]}],\"surface\":[{\"type\":\"surface\",\"colorbar\":{\"outlinewidth\":0,\"ticks\":\"\"},\"colorscale\":[[0.0,\"#0d0887\"],[0.1111111111111111,\"#46039f\"],[0.2222222222222222,\"#7201a8\"],[0.3333333333333333,\"#9c179e\"],[0.4444444444444444,\"#bd3786\"],[0.5555555555555556,\"#d8576b\"],[0.6666666666666666,\"#ed7953\"],[0.7777777777777778,\"#fb9f3a\"],[0.8888888888888888,\"#fdca26\"],[1.0,\"#f0f921\"]]}],\"mesh3d\":[{\"type\":\"mesh3d\",\"colorbar\":{\"outlinewidth\":0,\"ticks\":\"\"}}],\"scatter\":[{\"fillpattern\":{\"fillmode\":\"overlay\",\"size\":10,\"solidity\":0.2},\"type\":\"scatter\"}],\"parcoords\":[{\"type\":\"parcoords\",\"line\":{\"colorbar\":{\"outlinewidth\":0,\"ticks\":\"\"}}}],\"scatterpolargl\":[{\"type\":\"scatterpolargl\",\"marker\":{\"colorbar\":{\"outlinewidth\":0,\"ticks\":\"\"}}}],\"bar\":[{\"error_x\":{\"color\":\"#2a3f5f\"},\"error_y\":{\"color\":\"#2a3f5f\"},\"marker\":{\"line\":{\"color\":\"#E5ECF6\",\"width\":0.5},\"pattern\":{\"fillmode\":\"overlay\",\"size\":10,\"solidity\":0.2}},\"type\":\"bar\"}],\"scattergeo\":[{\"type\":\"scattergeo\",\"marker\":{\"colorbar\":{\"outlinewidth\":0,\"ticks\":\"\"}}}],\"scatterpolar\":[{\"type\":\"scatterpolar\",\"marker\":{\"colorbar\":{\"outlinewidth\":0,\"ticks\":\"\"}}}],\"histogram\":[{\"marker\":{\"pattern\":{\"fillmode\":\"overlay\",\"size\":10,\"solidity\":0.2}},\"type\":\"histogram\"}],\"scattergl\":[{\"type\":\"scattergl\",\"marker\":{\"colorbar\":{\"outlinewidth\":0,\"ticks\":\"\"}}}],\"scatter3d\":[{\"type\":\"scatter3d\",\"line\":{\"colorbar\":{\"outlinewidth\":0,\"ticks\":\"\"}},\"marker\":{\"colorbar\":{\"outlinewidth\":0,\"ticks\":\"\"}}}],\"scattermapbox\":[{\"type\":\"scattermapbox\",\"marker\":{\"colorbar\":{\"outlinewidth\":0,\"ticks\":\"\"}}}],\"scatterternary\":[{\"type\":\"scatterternary\",\"marker\":{\"colorbar\":{\"outlinewidth\":0,\"ticks\":\"\"}}}],\"scattercarpet\":[{\"type\":\"scattercarpet\",\"marker\":{\"colorbar\":{\"outlinewidth\":0,\"ticks\":\"\"}}}],\"carpet\":[{\"aaxis\":{\"endlinecolor\":\"#2a3f5f\",\"gridcolor\":\"white\",\"linecolor\":\"white\",\"minorgridcolor\":\"white\",\"startlinecolor\":\"#2a3f5f\"},\"baxis\":{\"endlinecolor\":\"#2a3f5f\",\"gridcolor\":\"white\",\"linecolor\":\"white\",\"minorgridcolor\":\"white\",\"startlinecolor\":\"#2a3f5f\"},\"type\":\"carpet\"}],\"table\":[{\"cells\":{\"fill\":{\"color\":\"#EBF0F8\"},\"line\":{\"color\":\"white\"}},\"header\":{\"fill\":{\"color\":\"#C8D4E3\"},\"line\":{\"color\":\"white\"}},\"type\":\"table\"}],\"barpolar\":[{\"marker\":{\"line\":{\"color\":\"#E5ECF6\",\"width\":0.5},\"pattern\":{\"fillmode\":\"overlay\",\"size\":10,\"solidity\":0.2}},\"type\":\"barpolar\"}],\"pie\":[{\"automargin\":true,\"type\":\"pie\"}]},\"layout\":{\"autotypenumbers\":\"strict\",\"colorway\":[\"#636efa\",\"#EF553B\",\"#00cc96\",\"#ab63fa\",\"#FFA15A\",\"#19d3f3\",\"#FF6692\",\"#B6E880\",\"#FF97FF\",\"#FECB52\"],\"font\":{\"color\":\"#2a3f5f\"},\"hovermode\":\"closest\",\"hoverlabel\":{\"align\":\"left\"},\"paper_bgcolor\":\"white\",\"plot_bgcolor\":\"#E5ECF6\",\"polar\":{\"bgcolor\":\"#E5ECF6\",\"angularaxis\":{\"gridcolor\":\"white\",\"linecolor\":\"white\",\"ticks\":\"\"},\"radialaxis\":{\"gridcolor\":\"white\",\"linecolor\":\"white\",\"ticks\":\"\"}},\"ternary\":{\"bgcolor\":\"#E5ECF6\",\"aaxis\":{\"gridcolor\":\"white\",\"linecolor\":\"white\",\"ticks\":\"\"},\"baxis\":{\"gridcolor\":\"white\",\"linecolor\":\"white\",\"ticks\":\"\"},\"caxis\":{\"gridcolor\":\"white\",\"linecolor\":\"white\",\"ticks\":\"\"}},\"coloraxis\":{\"colorbar\":{\"outlinewidth\":0,\"ticks\":\"\"}},\"colorscale\":{\"sequential\":[[0.0,\"#0d0887\"],[0.1111111111111111,\"#46039f\"],[0.2222222222222222,\"#7201a8\"],[0.3333333333333333,\"#9c179e\"],[0.4444444444444444,\"#bd3786\"],[0.5555555555555556,\"#d8576b\"],[0.6666666666666666,\"#ed7953\"],[0.7777777777777778,\"#fb9f3a\"],[0.8888888888888888,\"#fdca26\"],[1.0,\"#f0f921\"]],\"sequentialminus\":[[0.0,\"#0d0887\"],[0.1111111111111111,\"#46039f\"],[0.2222222222222222,\"#7201a8\"],[0.3333333333333333,\"#9c179e\"],[0.4444444444444444,\"#bd3786\"],[0.5555555555555556,\"#d8576b\"],[0.6666666666666666,\"#ed7953\"],[0.7777777777777778,\"#fb9f3a\"],[0.8888888888888888,\"#fdca26\"],[1.0,\"#f0f921\"]],\"diverging\":[[0,\"#8e0152\"],[0.1,\"#c51b7d\"],[0.2,\"#de77ae\"],[0.3,\"#f1b6da\"],[0.4,\"#fde0ef\"],[0.5,\"#f7f7f7\"],[0.6,\"#e6f5d0\"],[0.7,\"#b8e186\"],[0.8,\"#7fbc41\"],[0.9,\"#4d9221\"],[1,\"#276419\"]]},\"xaxis\":{\"gridcolor\":\"white\",\"linecolor\":\"white\",\"ticks\":\"\",\"title\":{\"standoff\":15},\"zerolinecolor\":\"white\",\"automargin\":true,\"zerolinewidth\":2},\"yaxis\":{\"gridcolor\":\"white\",\"linecolor\":\"white\",\"ticks\":\"\",\"title\":{\"standoff\":15},\"zerolinecolor\":\"white\",\"automargin\":true,\"zerolinewidth\":2},\"scene\":{\"xaxis\":{\"backgroundcolor\":\"#E5ECF6\",\"gridcolor\":\"white\",\"linecolor\":\"white\",\"showbackground\":true,\"ticks\":\"\",\"zerolinecolor\":\"white\",\"gridwidth\":2},\"yaxis\":{\"backgroundcolor\":\"#E5ECF6\",\"gridcolor\":\"white\",\"linecolor\":\"white\",\"showbackground\":true,\"ticks\":\"\",\"zerolinecolor\":\"white\",\"gridwidth\":2},\"zaxis\":{\"backgroundcolor\":\"#E5ECF6\",\"gridcolor\":\"white\",\"linecolor\":\"white\",\"showbackground\":true,\"ticks\":\"\",\"zerolinecolor\":\"white\",\"gridwidth\":2}},\"shapedefaults\":{\"line\":{\"color\":\"#2a3f5f\"}},\"annotationdefaults\":{\"arrowcolor\":\"#2a3f5f\",\"arrowhead\":0,\"arrowwidth\":1},\"geo\":{\"bgcolor\":\"white\",\"landcolor\":\"#E5ECF6\",\"subunitcolor\":\"white\",\"showland\":true,\"showlakes\":true,\"lakecolor\":\"white\"},\"title\":{\"x\":0.05},\"mapbox\":{\"style\":\"light\"}}},\"shapes\":[{\"line\":{\"color\":\"white\"},\"opacity\":0.4,\"type\":\"line\",\"x0\":0,\"x1\":1,\"xref\":\"x domain\",\"y0\":122,\"y1\":122,\"yref\":\"y\"},{\"line\":{\"color\":\"white\"},\"type\":\"line\",\"x0\":0,\"x1\":1,\"xref\":\"x domain\",\"y0\":127,\"y1\":127,\"yref\":\"y\"},{\"line\":{\"color\":\"white\"},\"type\":\"line\",\"x0\":0,\"x1\":1,\"xref\":\"x domain\",\"y0\":135,\"y1\":135,\"yref\":\"y\"}],\"title\":{\"text\":\"MIA\",\"x\":0.5,\"font\":{\"color\":\"white\",\"size\":50,\"family\":\"Malgun Gothic\"}},\"legend\":{\"font\":{\"color\":\"#e5e5e5\",\"size\":22,\"family\":\"Malgun Gothic\"},\"traceorder\":\"reversed\"},\"yaxis\":{\"range\":[0,150],\"tickmode\":\"array\",\"tickvals\":[20,40,60,80,100,122,127,135,90],\"ticktext\":[\"20% \",\"40% \",\"60% \",\"80% \",\"100% \",\"Luxury Tax \",\"First Apron \",\"Second Apron \",\"Floor (90%)\"],\"tickfont\":{\"color\":\"#e5e5e5\",\"size\":25,\"family\":\"Malgun Gothic\"},\"showgrid\":false,\"zeroline\":false},\"xaxis\":{\"ticktext\":[\"2024-25\",\"2025-26\",\"2026-27\",\"2027-28\",\"2028-29\",\"2029-30\"],\"tickfont\":{\"color\":\"#e5e5e5\",\"size\":30,\"family\":\"Malgun Gothic\"},\"showgrid\":false},\"barmode\":\"stack\",\"bargap\":0,\"width\":1200,\"height\":1800,\"annotations\":[{\"font\":{\"color\":\"white\",\"size\":20},\"showarrow\":false,\"text\":\"Sideways Dash = Team Option \\u003cbr\\u003e White Text = Player Option\",\"x\":4.5,\"xref\":\"x\",\"y\":60,\"yref\":\"y\"},{\"font\":{\"color\":\"white\",\"size\":20},\"showarrow\":false,\"text\":\"Dash = Extension Eligible\",\"x\":4.5,\"xref\":\"x\",\"y\":70,\"yref\":\"y\"}],\"paper_bgcolor\":\"#0d0106\",\"plot_bgcolor\":\"#0d0106\"},                        {\"responsive\": true}                    ).then(function(){\n",
       "                            \n",
       "var gd = document.getElementById('564cb77e-fca7-4f11-b630-bd469ad490ed');\n",
       "var x = new MutationObserver(function (mutations, observer) {{\n",
       "        var display = window.getComputedStyle(gd).display;\n",
       "        if (!display || display === 'none') {{\n",
       "            console.log([gd, 'removed!']);\n",
       "            Plotly.purge(gd);\n",
       "            observer.disconnect();\n",
       "        }}\n",
       "}});\n",
       "\n",
       "// Listen for the removal of the full notebook cells\n",
       "var notebookContainer = gd.closest('#notebook-container');\n",
       "if (notebookContainer) {{\n",
       "    x.observe(notebookContainer, {childList: true});\n",
       "}}\n",
       "\n",
       "// Listen for the clearing of the current output cell\n",
       "var outputEl = gd.closest('.output');\n",
       "if (outputEl) {{\n",
       "    x.observe(outputEl, {childList: true});\n",
       "}}\n",
       "\n",
       "                        })                };                });            </script>        </div>"
      ]
     },
     "metadata": {},
     "output_type": "display_data"
    }
   ],
   "source": [
    "import plotly\n",
    "import plotly.graph_objects as go\n",
    "import numpy as np\n",
    "\n",
    "import pandas as pd\n",
    "\n",
    "import requests\n",
    "\n",
    "from plotly.subplots import make_subplots\n",
    "\n",
    "from nba_api.stats.static import players,teams\n",
    "\n",
    "\n",
    "def graph_payroll(team):\n",
    "    cap = pd.read_csv('cap.csv')\n",
    "    df = pd.read_csv('salary.csv')\n",
    "    options = pd.read_csv('option.csv')\n",
    "    df = df[df.Team.str.upper()==team.upper()]\n",
    "    options = options[options.Team.str.upper()==team.upper()]\n",
    "    \n",
    "    salary = dict(zip(cap['Season'],cap['Salary Cap']))\n",
    "    df = df.sort_values(by='Guaranteed',ascending = False)\n",
    "    \n",
    "    players = df['Player'].tolist()\n",
    "    fig = go.Figure()\n",
    "    x = ['2024-2025','2025-2026','2026-2027','2027-2028','2028-2029','2029-2030']\n",
    "    seasons=['2024-25','2025-26','2026-27','2027-28','2028-29','2029-30']\n",
    "    teamname = team\n",
    "    print(df['2024-25'].sum())\n",
    "    for player in players:\n",
    "        perc_salaries = []\n",
    "        \n",
    "        p_df = df[df.Player==player].iloc[0]\n",
    "        o_df = options[options.Player==player].iloc[0]\n",
    "        legend = False\n",
    "        \n",
    "        player_salaries = df[df.Player==player].iloc[0][seasons].tolist()\n",
    "        player_options = options[options.Player==player].iloc[0][seasons].tolist()\n",
    "        marker_shapes=[]\n",
    "        line_colors= []\n",
    "        option_positions=[]\n",
    "        option_count = 0\n",
    "        \n",
    "        for year in player_options:\n",
    "            if year == 'T':\n",
    "                line_colors.append('#0d0106')\n",
    "                marker_shapes.append('/')\n",
    "            elif year == 'P':\n",
    "                line_colors.append('#e8d8c3')\n",
    "                marker_shapes.append('')\n",
    "            elif year =='EE':\n",
    "                line_colors.append('#0d0106')\n",
    "                marker_shapes.append('-')\n",
    "            else:\n",
    "                line_colors.append('#0d0106')\n",
    "                marker_shapes.append('')\n",
    "            option_count+=1\n",
    "        \n",
    "        player_options = options[options.Player==player].iloc[0][seasons].tolist()\n",
    "        team_options = [x =='T' or x=='UFA' for x in player_options]\n",
    "        player_options = [x =='P' for x in player_options]\n",
    "        \n",
    "        opacities = []\n",
    "        for year in team_options:\n",
    "            if year ==True:\n",
    "                opacities.append(.35)\n",
    "            else:\n",
    "                opacities.append(1)\n",
    "                \n",
    "        i = 0\n",
    "        for payment in player_salaries:\n",
    "            perc_salaries.append(100*payment/salary[x[i]])\n",
    "            i+=1\n",
    "        \n",
    "        to_average = [x for x in perc_salaries if pd.isna(x)==False]\n",
    "        \n",
    "        player_name=player\n",
    "        if np.average(to_average)<3:\n",
    "            legend=True\n",
    "            player_name=''\n",
    "            \n",
    "        # Create hover text with formatted information\n",
    "        hover_text = []\n",
    "        for i, salary_val in enumerate(player_salaries):\n",
    "            if pd.isna(salary_val):\n",
    "                hover_text.append(\"\")\n",
    "            else:\n",
    "                hover_info = f\"<b>{player}</b><br>\" + \\\n",
    "                            f\"Position: {p_df['Pos']}<br>\" + \\\n",
    "                            f\"Season: {seasons[i]}<br>\" + \\\n",
    "                            f\"Salary: ${salary_val:,.2f}<br>\" + \\\n",
    "                            f\"Cap %: {perc_salaries[i]:.1f}%<br>\" + \\\n",
    "                            f\"Guaranteed Total: ${p_df['Guaranteed']:,.2f}\"\n",
    "                hover_text.append(hover_info)\n",
    "        \n",
    "        fig.add_trace(go.Bar(\n",
    "            x=seasons, \n",
    "            y=perc_salaries, \n",
    "            name=player,\n",
    "            marker_color=p_df['Guaranteed'], \n",
    "            textposition='inside',\n",
    "            insidetextanchor='middle',\n",
    "            showlegend=legend,\n",
    "            marker_opacity=opacities,\n",
    "            marker_pattern_shape=marker_shapes,\n",
    "            marker_line_width=3, \n",
    "            marker_line_color='#0d0106',\n",
    "            text='<b>'+player_name+'<b>',\n",
    "            textfont=dict(size=22,family='Malgun Gothic',color=line_colors),\n",
    "            hovertext=hover_text,\n",
    "            hoverinfo='text'\n",
    "        ))\n",
    "    \n",
    "    tickvals = [i * 20 for i in range(1,6)]\n",
    "    ticktext = [str(i)+'% ' for i in tickvals]\n",
    "    tickvals.append(122)\n",
    "    tickvals.append(127)\n",
    "    tickvals.append(135)\n",
    "    fig.add_hline(y=122,line_color=\"white\",opacity=.4)\n",
    "    fig.add_hline(y=127,line_color=\"white\")\n",
    "    fig.add_hline(y=135,line_color=\"white\")\n",
    "    \n",
    "    ticktext.append('Luxury Tax ')\n",
    "    ticktext.append('First Apron ')\n",
    "    ticktext.append('Second Apron ')\n",
    "    tickvals.append(90)\n",
    "    ticktext.append('Floor (90%)')\n",
    "\n",
    "    fig.update_layout(\n",
    "        barmode='stack',\n",
    "        bargap=0,\n",
    "        width=1200,\n",
    "        height=1800,\n",
    "        annotations=[\n",
    "            go.layout.Annotation(\n",
    "                showarrow=False,\n",
    "                text='Sideways Dash = Team Option <br> White Text = Player Option',\n",
    "                font=dict(size=20, color=\"white\"),\n",
    "                y=60,\n",
    "                x=4.5,\n",
    "                xref='x',\n",
    "                yref='y'\n",
    "            ),\n",
    "            go.layout.Annotation(\n",
    "                showarrow=False,\n",
    "                text='Dash = Extension Eligible',\n",
    "                font=dict(size=20, color=\"white\"),\n",
    "                y=70,\n",
    "                x=4.5,\n",
    "                xref='x',\n",
    "                yref='y'\n",
    "            ),\n",
    "        ],\n",
    "        paper_bgcolor='#0d0106',\n",
    "        plot_bgcolor='#0d0106',\n",
    "        title=teamname,\n",
    "        title_x=.5,\n",
    "        title_font=dict(color='white', size=50,family=\"Malgun Gothic\"),\n",
    "        legend={'traceorder':'reversed','font':dict(color='#e5e5e5', size=22,family=\"Malgun Gothic\")},\n",
    "        yaxis=dict(\n",
    "            range=(0,150),\n",
    "            tickmode='array',\n",
    "            tickvals=tickvals,\n",
    "            ticktext=ticktext,\n",
    "        ),\n",
    "        xaxis=dict(\n",
    "            ticktext=seasons,\n",
    "        )\n",
    "    )\n",
    "    \n",
    "    fig.update_yaxes(\n",
    "        tickfont=dict(color='#e5e5e5', size=25,family=\"Malgun Gothic\"),\n",
    "        showgrid=False,\n",
    "        zeroline=False\n",
    "    )\n",
    "    \n",
    "    fig.update_xaxes(\n",
    "        showgrid=False,\n",
    "        tickfont=dict(color='#e5e5e5', size=30,family=\"Malgun Gothic\")\n",
    "    )\n",
    "\n",
    "    return fig\n",
    "\n",
    "fig=graph_payroll('MIA')\n",
    "fig.show()"
   ]
  },
  {
   "cell_type": "code",
   "execution_count": null,
   "id": "12a51457-b67a-40e4-af88-4d8e78e3b0f7",
   "metadata": {},
   "outputs": [],
   "source": []
  },
  {
   "cell_type": "code",
   "execution_count": null,
   "id": "5a3465eb-c4d9-4fb2-986f-10c1b1c42665",
   "metadata": {},
   "outputs": [],
   "source": []
  },
  {
   "cell_type": "code",
   "execution_count": null,
   "id": "0c55234e-c94b-4efd-b890-f74f3e6f75fa",
   "metadata": {},
   "outputs": [],
   "source": []
  }
 ],
 "metadata": {
  "kernelspec": {
   "display_name": "Python 3 (ipykernel)",
   "language": "python",
   "name": "python3"
  },
  "language_info": {
   "codemirror_mode": {
    "name": "ipython",
    "version": 3
   },
   "file_extension": ".py",
   "mimetype": "text/x-python",
   "name": "python",
   "nbconvert_exporter": "python",
   "pygments_lexer": "ipython3",
   "version": "3.10.12"
  }
 },
 "nbformat": 4,
 "nbformat_minor": 5
}
