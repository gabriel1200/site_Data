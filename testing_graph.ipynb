{
 "cells": [
  {
   "cell_type": "code",
   "execution_count": 14,
   "id": "03c258bd-0f24-4d9e-9b0d-f22735c3615b",
   "metadata": {},
   "outputs": [
    {
     "name": "stdout",
     "output_type": "stream",
     "text": [
      "165034408.0\n"
     ]
    },
    {
     "data": {
      "application/vnd.plotly.v1+json": {
       "config": {
        "plotlyServerURL": "https://plot.ly"
       },
       "data": [
        {
         "hoverinfo": "text",
         "hovertext": [
          "<b>Shai Gilgeous-Alexander</b><br>Position: PG<br>Season: 2024-25<br>Salary: $35,859,950.00<br>Cap %: 25.5%<br>Guaranteed Total: $114,999,150.00",
          "<b>Shai Gilgeous-Alexander</b><br>Position: PG<br>Season: 2025-26<br>Salary: $38,333,050.00<br>Cap %: 24.8%<br>Guaranteed Total: $114,999,150.00",
          "<b>Shai Gilgeous-Alexander</b><br>Position: PG<br>Season: 2026-27<br>Salary: $40,806,150.00<br>Cap %: 24.0%<br>Guaranteed Total: $114,999,150.00",
          "<b>Shai Gilgeous-Alexander</b><br>Position: PG<br>Season: 2027-28<br>Salary: $0.00<br>Cap %: 0.0%<br>Guaranteed Total: $114,999,150.00",
          "<b>Shai Gilgeous-Alexander</b><br>Position: PG<br>Season: 2028-29<br>Salary: $0.00<br>Cap %: 0.0%<br>Guaranteed Total: $114,999,150.00",
          "<b>Shai Gilgeous-Alexander</b><br>Position: PG<br>Season: 2029-30<br>Salary: $0.00<br>Cap %: 0.0%<br>Guaranteed Total: $114,999,150.00"
         ],
         "insidetextanchor": "middle",
         "marker": {
          "color": 114999150,
          "line": {
           "color": "#0d0106",
           "width": 3
          },
          "opacity": [
           1,
           1,
           1,
           1,
           1,
           1
          ],
          "pattern": {
           "shape": [
            "",
            "-",
            "",
            "",
            "",
            ""
           ]
          }
         },
         "name": "Shai Gilgeous-Alexander",
         "showlegend": false,
         "text": "<b>Shai Gilgeous-Alexander<b>",
         "textfont": {
          "color": [
           "#0d0106",
           "#0d0106",
           "#0d0106",
           "#0d0106",
           "#0d0106",
           "#0d0106"
          ],
          "family": "Malgun Gothic",
          "size": 22
         },
         "textposition": "inside",
         "type": "bar",
         "x": [
          "2024-25",
          "2025-26",
          "2026-27",
          "2027-28",
          "2028-29",
          "2029-30"
         ],
         "y": [
          25.507120095598488,
          24.787451421624734,
          23.987813910835214,
          0,
          0,
          0
         ]
        },
        {
         "hoverinfo": "text",
         "hovertext": [
          "<b>Alex Caruso</b><br>Position: SG<br>Season: 2024-25<br>Salary: $9,890,000.00<br>Cap %: 7.0%<br>Guaranteed Total: $90,986,960.00",
          "<b>Alex Caruso</b><br>Position: SG<br>Season: 2025-26<br>Salary: $18,102,000.00<br>Cap %: 11.7%<br>Guaranteed Total: $90,986,960.00",
          "<b>Alex Caruso</b><br>Position: SG<br>Season: 2026-27<br>Salary: $19,550,160.00<br>Cap %: 11.5%<br>Guaranteed Total: $90,986,960.00",
          "<b>Alex Caruso</b><br>Position: SG<br>Season: 2027-28<br>Salary: $20,998,320.00<br>Cap %: 11.2%<br>Guaranteed Total: $90,986,960.00",
          "<b>Alex Caruso</b><br>Position: SG<br>Season: 2028-29<br>Salary: $22,446,480.00<br>Cap %: 10.9%<br>Guaranteed Total: $90,986,960.00",
          "<b>Alex Caruso</b><br>Position: SG<br>Season: 2029-30<br>Salary: $0.00<br>Cap %: 0.0%<br>Guaranteed Total: $90,986,960.00"
         ],
         "insidetextanchor": "middle",
         "marker": {
          "color": 90986960,
          "line": {
           "color": "#0d0106",
           "width": 3
          },
          "opacity": [
           1,
           1,
           1,
           1,
           1,
           1
          ],
          "pattern": {
           "shape": [
            "",
            "",
            "",
            "-",
            "",
            ""
           ]
          }
         },
         "name": "Alex Caruso",
         "showlegend": false,
         "text": "<b>Alex Caruso<b>",
         "textfont": {
          "color": [
           "#0d0106",
           "#0d0106",
           "#0d0106",
           "#0d0106",
           "#0d0106",
           "#0d0106"
          ],
          "family": "Malgun Gothic",
          "size": 22
         },
         "textposition": "inside",
         "type": "bar",
         "x": [
          "2024-25",
          "2025-26",
          "2026-27",
          "2027-28",
          "2028-29",
          "2029-30"
         ],
         "y": [
          7.034739807095911,
          11.705367708393956,
          11.49252257336343,
          11.221667031845364,
          10.905084169358952,
          0
         ]
        },
        {
         "hoverinfo": "text",
         "hovertext": [
          "<b>Isaiah Hartenstein</b><br>Position: C<br>Season: 2024-25<br>Salary: $30,000,000.00<br>Cap %: 21.3%<br>Guaranteed Total: $58,500,000.00",
          "<b>Isaiah Hartenstein</b><br>Position: C<br>Season: 2025-26<br>Salary: $28,500,000.00<br>Cap %: 18.4%<br>Guaranteed Total: $58,500,000.00",
          "<b>Isaiah Hartenstein</b><br>Position: C<br>Season: 2026-27<br>Salary: $28,500,000.00<br>Cap %: 16.8%<br>Guaranteed Total: $58,500,000.00",
          "<b>Isaiah Hartenstein</b><br>Position: C<br>Season: 2027-28<br>Salary: $0.00<br>Cap %: 0.0%<br>Guaranteed Total: $58,500,000.00",
          "<b>Isaiah Hartenstein</b><br>Position: C<br>Season: 2028-29<br>Salary: $0.00<br>Cap %: 0.0%<br>Guaranteed Total: $58,500,000.00",
          "<b>Isaiah Hartenstein</b><br>Position: C<br>Season: 2029-30<br>Salary: $0.00<br>Cap %: 0.0%<br>Guaranteed Total: $58,500,000.00"
         ],
         "insidetextanchor": "middle",
         "marker": {
          "color": 58500000,
          "line": {
           "color": "#0d0106",
           "width": 3
          },
          "opacity": [
           1,
           1,
           0.35,
           1,
           1,
           1
          ],
          "pattern": {
           "shape": [
            "",
            "",
            "/",
            "",
            "",
            ""
           ]
          }
         },
         "name": "Isaiah Hartenstein",
         "showlegend": false,
         "text": "<b>Isaiah Hartenstein<b>",
         "textfont": {
          "color": [
           "#0d0106",
           "#0d0106",
           "#0d0106",
           "#0d0106",
           "#0d0106",
           "#0d0106"
          ],
          "family": "Malgun Gothic",
          "size": 22
         },
         "textposition": "inside",
         "type": "bar",
         "x": [
          "2024-25",
          "2025-26",
          "2026-27",
          "2027-28",
          "2028-29",
          "2029-30"
         ],
         "y": [
          21.33894784761146,
          18.429067489185048,
          16.75366817155756,
          0,
          0,
          0
         ]
        },
        {
         "hoverinfo": "text",
         "hovertext": [
          "<b>Aaron Wiggins</b><br>Position: SG<br>Season: 2024-25<br>Salary: $10,514,017.00<br>Cap %: 7.5%<br>Guaranteed Total: $45,000,000.00",
          "<b>Aaron Wiggins</b><br>Position: SG<br>Season: 2025-26<br>Salary: $9,672,897.00<br>Cap %: 6.3%<br>Guaranteed Total: $45,000,000.00",
          "<b>Aaron Wiggins</b><br>Position: SG<br>Season: 2026-27<br>Salary: $8,831,776.00<br>Cap %: 5.2%<br>Guaranteed Total: $45,000,000.00",
          "<b>Aaron Wiggins</b><br>Position: SG<br>Season: 2027-28<br>Salary: $7,990,655.00<br>Cap %: 4.3%<br>Guaranteed Total: $45,000,000.00",
          "<b>Aaron Wiggins</b><br>Position: SG<br>Season: 2028-29<br>Salary: $7,990,655.00<br>Cap %: 3.9%<br>Guaranteed Total: $45,000,000.00",
          "<b>Aaron Wiggins</b><br>Position: SG<br>Season: 2029-30<br>Salary: $0.00<br>Cap %: 0.0%<br>Guaranteed Total: $45,000,000.00"
         ],
         "insidetextanchor": "middle",
         "marker": {
          "color": 45000000,
          "line": {
           "color": "#0d0106",
           "width": 3
          },
          "opacity": [
           1,
           1,
           1,
           1,
           1,
           1
          ],
          "pattern": {
           "shape": [
            "",
            "",
            "",
            "-",
            "",
            ""
           ]
          }
         },
         "name": "Aaron Wiggins",
         "showlegend": false,
         "text": "<b>Aaron Wiggins<b>",
         "textfont": {
          "color": [
           "#0d0106",
           "#0d0106",
           "#0d0106",
           "#0d0106",
           "#0d0106",
           "#0d0106"
          ],
          "family": "Malgun Gothic",
          "size": 22
         },
         "textposition": "inside",
         "type": "bar",
         "x": [
          "2024-25",
          "2025-26",
          "2026-27",
          "2027-28",
          "2028-29",
          "2029-30"
         ],
         "y": [
          7.478602014396677,
          6.254823565927564,
          5.191741911211437,
          4.270268753707454,
          3.882068161391406,
          0
         ]
        },
        {
         "hoverinfo": "text",
         "hovertext": [
          "<b>Isaiah Joe</b><br>Position: SG<br>Season: 2024-25<br>Salary: $12,991,650.00<br>Cap %: 9.2%<br>Guaranteed Total: $36,676,994.00",
          "<b>Isaiah Joe</b><br>Position: SG<br>Season: 2025-26<br>Salary: $12,362,338.00<br>Cap %: 8.0%<br>Guaranteed Total: $36,676,994.00",
          "<b>Isaiah Joe</b><br>Position: SG<br>Season: 2026-27<br>Salary: $11,323,006.00<br>Cap %: 6.7%<br>Guaranteed Total: $36,676,994.00",
          "<b>Isaiah Joe</b><br>Position: SG<br>Season: 2027-28<br>Salary: $11,323,006.00<br>Cap %: 6.1%<br>Guaranteed Total: $36,676,994.00",
          "<b>Isaiah Joe</b><br>Position: SG<br>Season: 2028-29<br>Salary: $0.00<br>Cap %: 0.0%<br>Guaranteed Total: $36,676,994.00",
          "<b>Isaiah Joe</b><br>Position: SG<br>Season: 2029-30<br>Salary: $0.00<br>Cap %: 0.0%<br>Guaranteed Total: $36,676,994.00"
         ],
         "insidetextanchor": "middle",
         "marker": {
          "color": 36676994,
          "line": {
           "color": "#0d0106",
           "width": 3
          },
          "opacity": [
           1,
           1,
           1,
           0.35,
           1,
           1
          ],
          "pattern": {
           "shape": [
            "",
            "",
            "-",
            "/",
            "",
            ""
           ]
          }
         },
         "name": "Isaiah Joe",
         "showlegend": false,
         "text": "<b>Isaiah Joe<b>",
         "textfont": {
          "color": [
           "#0d0106",
           "#0d0106",
           "#0d0106",
           "#0d0106",
           "#0d0106",
           "#0d0106"
          ],
          "family": "Malgun Gothic",
          "size": 22
         },
         "textposition": "inside",
         "type": "bar",
         "x": [
          "2024-25",
          "2025-26",
          "2026-27",
          "2027-28",
          "2028-29",
          "2029-30"
         ],
         "y": [
          9.24093806014738,
          7.99390741495147,
          6.6562064992475545,
          6.05110328500505,
          0,
          0
         ]
        },
        {
         "hoverinfo": "text",
         "hovertext": [
          "<b>Luguentz Dort</b><br>Position: SG<br>Season: 2024-25<br>Salary: $16,500,000.00<br>Cap %: 11.7%<br>Guaranteed Total: $34,222,222.00",
          "<b>Luguentz Dort</b><br>Position: SG<br>Season: 2025-26<br>Salary: $17,722,222.00<br>Cap %: 11.5%<br>Guaranteed Total: $34,222,222.00",
          "<b>Luguentz Dort</b><br>Position: SG<br>Season: 2026-27<br>Salary: $17,722,222.00<br>Cap %: 10.4%<br>Guaranteed Total: $34,222,222.00",
          "<b>Luguentz Dort</b><br>Position: SG<br>Season: 2027-28<br>Salary: $0.00<br>Cap %: 0.0%<br>Guaranteed Total: $34,222,222.00",
          "<b>Luguentz Dort</b><br>Position: SG<br>Season: 2028-29<br>Salary: $0.00<br>Cap %: 0.0%<br>Guaranteed Total: $34,222,222.00",
          "<b>Luguentz Dort</b><br>Position: SG<br>Season: 2029-30<br>Salary: $0.00<br>Cap %: 0.0%<br>Guaranteed Total: $34,222,222.00"
         ],
         "insidetextanchor": "middle",
         "marker": {
          "color": 34222222,
          "line": {
           "color": "#0d0106",
           "width": 3
          },
          "opacity": [
           1,
           1,
           0.35,
           1,
           1,
           1
          ],
          "pattern": {
           "shape": [
            "",
            "-",
            "/",
            "",
            "",
            ""
           ]
          }
         },
         "name": "Luguentz Dort",
         "showlegend": false,
         "text": "<b>Luguentz Dort<b>",
         "textfont": {
          "color": [
           "#0d0106",
           "#0d0106",
           "#0d0106",
           "#0d0106",
           "#0d0106",
           "#0d0106"
          ],
          "family": "Malgun Gothic",
          "size": 22
         },
         "textposition": "inside",
         "type": "bar",
         "x": [
          "2024-25",
          "2025-26",
          "2026-27",
          "2027-28",
          "2028-29",
          "2029-30"
         ],
         "y": [
          11.736421316186304,
          11.459790361274386,
          10.417972864936042,
          0,
          0,
          0
         ]
        },
        {
         "hoverinfo": "text",
         "hovertext": [
          "<b>Chet Holmgren</b><br>Position: C<br>Season: 2024-25<br>Salary: $10,880,640.00<br>Cap %: 7.7%<br>Guaranteed Total: $24,612,008.00",
          "<b>Chet Holmgren</b><br>Position: C<br>Season: 2025-26<br>Salary: $13,731,368.00<br>Cap %: 8.9%<br>Guaranteed Total: $24,612,008.00",
          "<b>Chet Holmgren</b><br>Position: C<br>Season: 2026-27<br>Salary: $0.00<br>Cap %: 0.0%<br>Guaranteed Total: $24,612,008.00",
          "<b>Chet Holmgren</b><br>Position: C<br>Season: 2027-28<br>Salary: $0.00<br>Cap %: 0.0%<br>Guaranteed Total: $24,612,008.00",
          "<b>Chet Holmgren</b><br>Position: C<br>Season: 2028-29<br>Salary: $0.00<br>Cap %: 0.0%<br>Guaranteed Total: $24,612,008.00",
          "<b>Chet Holmgren</b><br>Position: C<br>Season: 2029-30<br>Salary: $0.00<br>Cap %: 0.0%<br>Guaranteed Total: $24,612,008.00"
         ],
         "insidetextanchor": "middle",
         "marker": {
          "color": 24612008,
          "line": {
           "color": "#0d0106",
           "width": 3
          },
          "opacity": [
           1,
           1,
           1,
           1,
           1,
           1
          ],
          "pattern": {
           "shape": [
            "",
            "-",
            "",
            "",
            "",
            ""
           ]
          }
         },
         "name": "Chet Holmgren",
         "showlegend": true,
         "text": "<b><b>",
         "textfont": {
          "color": [
           "#0d0106",
           "#0d0106",
           "#0d0106",
           "#0d0106",
           "#0d0106",
           "#0d0106"
          ],
          "family": "Malgun Gothic",
          "size": 22
         },
         "textposition": "inside",
         "type": "bar",
         "x": [
          "2024-25",
          "2025-26",
          "2026-27",
          "2027-28",
          "2028-29",
          "2029-30"
         ],
         "y": [
          7.739380316954505,
          8.879168687397751,
          0,
          0,
          0,
          0
         ]
        },
        {
         "hoverinfo": "text",
         "hovertext": [
          "<b>Kenrich Williams</b><br>Position: PF<br>Season: 2024-25<br>Salary: $6,669,000.00<br>Cap %: 4.7%<br>Guaranteed Total: $13,832,000.00",
          "<b>Kenrich Williams</b><br>Position: PF<br>Season: 2025-26<br>Salary: $7,163,000.00<br>Cap %: 4.6%<br>Guaranteed Total: $13,832,000.00",
          "<b>Kenrich Williams</b><br>Position: PF<br>Season: 2026-27<br>Salary: $7,163,000.00<br>Cap %: 4.2%<br>Guaranteed Total: $13,832,000.00",
          "<b>Kenrich Williams</b><br>Position: PF<br>Season: 2027-28<br>Salary: $0.00<br>Cap %: 0.0%<br>Guaranteed Total: $13,832,000.00",
          "<b>Kenrich Williams</b><br>Position: PF<br>Season: 2028-29<br>Salary: $0.00<br>Cap %: 0.0%<br>Guaranteed Total: $13,832,000.00",
          "<b>Kenrich Williams</b><br>Position: PF<br>Season: 2029-30<br>Salary: $0.00<br>Cap %: 0.0%<br>Guaranteed Total: $13,832,000.00"
         ],
         "insidetextanchor": "middle",
         "marker": {
          "color": 13832000,
          "line": {
           "color": "#0d0106",
           "width": 3
          },
          "opacity": [
           1,
           1,
           0.35,
           1,
           1,
           1
          ],
          "pattern": {
           "shape": [
            "",
            "-",
            "/",
            "",
            "",
            ""
           ]
          }
         },
         "name": "Kenrich Williams",
         "showlegend": true,
         "text": "<b><b>",
         "textfont": {
          "color": [
           "#0d0106",
           "#0d0106",
           "#0d0106",
           "#0d0106",
           "#0d0106",
           "#0d0106"
          ],
          "family": "Malgun Gothic",
          "size": 22
         },
         "textposition": "inside",
         "type": "bar",
         "x": [
          "2024-25",
          "2025-26",
          "2026-27",
          "2027-28",
          "2028-29",
          "2029-30"
         ],
         "y": [
          4.743648106524027,
          4.631838962281842,
          4.210755267118134,
          0,
          0,
          0
         ]
        },
        {
         "hoverinfo": "text",
         "hovertext": [
          "<b>Ousmane Dieng</b><br>Position: SF<br>Season: 2024-25<br>Salary: $5,027,040.00<br>Cap %: 3.6%<br>Guaranteed Total: $11,697,922.00",
          "<b>Ousmane Dieng</b><br>Position: SF<br>Season: 2025-26<br>Salary: $6,670,882.00<br>Cap %: 4.3%<br>Guaranteed Total: $11,697,922.00",
          "<b>Ousmane Dieng</b><br>Position: SF<br>Season: 2026-27<br>Salary: $0.00<br>Cap %: 0.0%<br>Guaranteed Total: $11,697,922.00",
          "<b>Ousmane Dieng</b><br>Position: SF<br>Season: 2027-28<br>Salary: $0.00<br>Cap %: 0.0%<br>Guaranteed Total: $11,697,922.00",
          "<b>Ousmane Dieng</b><br>Position: SF<br>Season: 2028-29<br>Salary: $0.00<br>Cap %: 0.0%<br>Guaranteed Total: $11,697,922.00",
          "<b>Ousmane Dieng</b><br>Position: SF<br>Season: 2029-30<br>Salary: $0.00<br>Cap %: 0.0%<br>Guaranteed Total: $11,697,922.00"
         ],
         "insidetextanchor": "middle",
         "marker": {
          "color": 11697922,
          "line": {
           "color": "#0d0106",
           "width": 3
          },
          "opacity": [
           1,
           1,
           0.35,
           1,
           1,
           1
          ],
          "pattern": {
           "shape": [
            "",
            "-",
            "/",
            "",
            "",
            ""
           ]
          }
         },
         "name": "Ousmane Dieng",
         "showlegend": true,
         "text": "<b><b>",
         "textfont": {
          "color": [
           "#0d0106",
           "#0d0106",
           "#0d0106",
           "#0d0106",
           "#0d0106",
           "#0d0106"
          ],
          "family": "Malgun Gothic",
          "size": 22
         },
         "textposition": "inside",
         "type": "bar",
         "x": [
          "2024-25",
          "2025-26",
          "2026-27",
          "2027-28",
          "2028-29",
          "2029-30"
         ],
         "y": [
          3.575724812928557,
          4.313618757557534,
          0,
          0,
          0,
          0
         ]
        },
        {
         "hoverinfo": "text",
         "hovertext": [
          "<b>Cason Wallace</b><br>Position: PG<br>Season: 2024-25<br>Salary: $5,555,880.00<br>Cap %: 4.0%<br>Guaranteed Total: $11,376,120.00",
          "<b>Cason Wallace</b><br>Position: PG<br>Season: 2025-26<br>Salary: $5,820,240.00<br>Cap %: 3.8%<br>Guaranteed Total: $11,376,120.00",
          "<b>Cason Wallace</b><br>Position: PG<br>Season: 2026-27<br>Salary: $7,420,806.00<br>Cap %: 4.4%<br>Guaranteed Total: $11,376,120.00",
          "<b>Cason Wallace</b><br>Position: PG<br>Season: 2027-28<br>Salary: $0.00<br>Cap %: 0.0%<br>Guaranteed Total: $11,376,120.00",
          "<b>Cason Wallace</b><br>Position: PG<br>Season: 2028-29<br>Salary: $0.00<br>Cap %: 0.0%<br>Guaranteed Total: $11,376,120.00",
          "<b>Cason Wallace</b><br>Position: PG<br>Season: 2029-30<br>Salary: $0.00<br>Cap %: 0.0%<br>Guaranteed Total: $11,376,120.00"
         ],
         "insidetextanchor": "middle",
         "marker": {
          "color": 11376120,
          "line": {
           "color": "#0d0106",
           "width": 3
          },
          "opacity": [
           1,
           1,
           0.35,
           1,
           1,
           1
          ],
          "pattern": {
           "shape": [
            "",
            "",
            "/",
            "",
            "",
            ""
           ]
          }
         },
         "name": "Cason Wallace",
         "showlegend": true,
         "text": "<b><b>",
         "textfont": {
          "color": [
           "#0d0106",
           "#0d0106",
           "#0d0106",
           "#0d0106",
           "#0d0106",
           "#0d0106"
          ],
          "family": "Malgun Gothic",
          "size": 22
         },
         "textposition": "inside",
         "type": "bar",
         "x": [
          "2024-25",
          "2025-26",
          "2026-27",
          "2027-28",
          "2028-29",
          "2029-30"
         ],
         "y": [
          3.951887785586252,
          3.7635647636229606,
          4.362306010158013,
          0,
          0,
          0
         ]
        },
        {
         "hoverinfo": "text",
         "hovertext": [
          "<b>Jalen Williams</b><br>Position: SF<br>Season: 2024-25<br>Salary: $4,775,760.00<br>Cap %: 3.4%<br>Guaranteed Total: $11,356,757.00",
          "<b>Jalen Williams</b><br>Position: SF<br>Season: 2025-26<br>Salary: $6,580,997.00<br>Cap %: 4.3%<br>Guaranteed Total: $11,356,757.00",
          "<b>Jalen Williams</b><br>Position: SF<br>Season: 2026-27<br>Salary: $0.00<br>Cap %: 0.0%<br>Guaranteed Total: $11,356,757.00",
          "<b>Jalen Williams</b><br>Position: SF<br>Season: 2027-28<br>Salary: $0.00<br>Cap %: 0.0%<br>Guaranteed Total: $11,356,757.00",
          "<b>Jalen Williams</b><br>Position: SF<br>Season: 2028-29<br>Salary: $0.00<br>Cap %: 0.0%<br>Guaranteed Total: $11,356,757.00",
          "<b>Jalen Williams</b><br>Position: SF<br>Season: 2029-30<br>Salary: $0.00<br>Cap %: 0.0%<br>Guaranteed Total: $11,356,757.00"
         ],
         "insidetextanchor": "middle",
         "marker": {
          "color": 11356757,
          "line": {
           "color": "#0d0106",
           "width": 3
          },
          "opacity": [
           1,
           1,
           1,
           1,
           1,
           1
          ],
          "pattern": {
           "shape": [
            "",
            "-",
            "",
            "",
            "",
            ""
           ]
          }
         },
         "name": "Jalen Williams",
         "showlegend": true,
         "text": "<b><b>",
         "textfont": {
          "color": [
           "#0d0106",
           "#0d0106",
           "#0d0106",
           "#0d0106",
           "#0d0106",
           "#0d0106"
          ],
          "family": "Malgun Gothic",
          "size": 22
         },
         "textposition": "inside",
         "type": "bar",
         "x": [
          "2024-25",
          "2025-26",
          "2026-27",
          "2027-28",
          "2028-29",
          "2029-30"
         ],
         "y": [
          3.3969897857569635,
          4.255496065232433,
          0,
          0,
          0,
          0
         ]
        },
        {
         "hoverinfo": "text",
         "hovertext": [
          "<b>Nikola Topic</b><br>Position: PG<br>Season: 2024-25<br>Salary: $4,935,960.00<br>Cap %: 3.5%<br>Guaranteed Total: $10,118,880.00",
          "<b>Nikola Topic</b><br>Position: PG<br>Season: 2025-26<br>Salary: $5,182,920.00<br>Cap %: 3.4%<br>Guaranteed Total: $10,118,880.00",
          "<b>Nikola Topic</b><br>Position: PG<br>Season: 2026-27<br>Salary: $5,429,760.00<br>Cap %: 3.2%<br>Guaranteed Total: $10,118,880.00",
          "<b>Nikola Topic</b><br>Position: PG<br>Season: 2027-28<br>Salary: $7,482,210.00<br>Cap %: 4.0%<br>Guaranteed Total: $10,118,880.00",
          "<b>Nikola Topic</b><br>Position: PG<br>Season: 2028-29<br>Salary: $0.00<br>Cap %: 0.0%<br>Guaranteed Total: $10,118,880.00",
          "<b>Nikola Topic</b><br>Position: PG<br>Season: 2029-30<br>Salary: $0.00<br>Cap %: 0.0%<br>Guaranteed Total: $10,118,880.00"
         ],
         "insidetextanchor": "middle",
         "marker": {
          "color": 10118880,
          "line": {
           "color": "#0d0106",
           "width": 3
          },
          "opacity": [
           1,
           1,
           0.35,
           0.35,
           1,
           1
          ],
          "pattern": {
           "shape": [
            "",
            "",
            "/",
            "/",
            "",
            ""
           ]
          }
         },
         "name": "Nikola Topic",
         "showlegend": true,
         "text": "<b><b>",
         "textfont": {
          "color": [
           "#0d0106",
           "#0d0106",
           "#0d0106",
           "#0d0106",
           "#0d0106",
           "#0d0106"
          ],
          "family": "Malgun Gothic",
          "size": 22
         },
         "textposition": "inside",
         "type": "bar",
         "x": [
          "2024-25",
          "2025-26",
          "2026-27",
          "2027-28",
          "2028-29",
          "2029-30"
         ],
         "y": [
          3.510939767263209,
          3.3514520165279635,
          3.1918735891647856,
          3.9985517547281733,
          0,
          0
         ]
        },
        {
         "hoverinfo": "text",
         "hovertext": [
          "<b>Dillon Jones</b><br>Position: SF<br>Season: 2024-25<br>Salary: $2,622,360.00<br>Cap %: 1.9%<br>Guaranteed Total: $5,375,640.00",
          "<b>Dillon Jones</b><br>Position: SF<br>Season: 2025-26<br>Salary: $2,753,280.00<br>Cap %: 1.8%<br>Guaranteed Total: $5,375,640.00",
          "<b>Dillon Jones</b><br>Position: SF<br>Season: 2026-27<br>Salary: $2,884,440.00<br>Cap %: 1.7%<br>Guaranteed Total: $5,375,640.00",
          "<b>Dillon Jones</b><br>Position: SF<br>Season: 2027-28<br>Salary: $5,200,646.00<br>Cap %: 2.8%<br>Guaranteed Total: $5,375,640.00",
          "<b>Dillon Jones</b><br>Position: SF<br>Season: 2028-29<br>Salary: $0.00<br>Cap %: 0.0%<br>Guaranteed Total: $5,375,640.00",
          "<b>Dillon Jones</b><br>Position: SF<br>Season: 2029-30<br>Salary: $0.00<br>Cap %: 0.0%<br>Guaranteed Total: $5,375,640.00"
         ],
         "insidetextanchor": "middle",
         "marker": {
          "color": 5375640,
          "line": {
           "color": "#0d0106",
           "width": 3
          },
          "opacity": [
           1,
           1,
           0.35,
           0.35,
           1,
           1
          ],
          "pattern": {
           "shape": [
            "",
            "",
            "/",
            "/",
            "",
            ""
           ]
          }
         },
         "name": "Dillon Jones",
         "showlegend": true,
         "text": "<b><b>",
         "textfont": {
          "color": [
           "#0d0106",
           "#0d0106",
           "#0d0106",
           "#0d0106",
           "#0d0106",
           "#0d0106"
          ],
          "family": "Malgun Gothic",
          "size": 22
         },
         "textposition": "inside",
         "type": "bar",
         "x": [
          "2024-25",
          "2025-26",
          "2026-27",
          "2027-28",
          "2028-29",
          "2029-30"
         ],
         "y": [
          1.865280109255413,
          1.7803643135657337,
          1.69561230248307,
          2.779266044259658,
          0,
          0
         ]
        },
        {
         "hoverinfo": "text",
         "hovertext": [
          "<b>Jaylin Williams</b><br>Position: C<br>Season: 2024-25<br>Salary: $2,019,699.00<br>Cap %: 1.4%<br>Guaranteed Total: $4,207,398.00",
          "<b>Jaylin Williams</b><br>Position: C<br>Season: 2025-26<br>Salary: $2,187,699.00<br>Cap %: 1.4%<br>Guaranteed Total: $4,207,398.00",
          "<b>Jaylin Williams</b><br>Position: C<br>Season: 2026-27<br>Salary: $0.00<br>Cap %: 0.0%<br>Guaranteed Total: $4,207,398.00",
          "<b>Jaylin Williams</b><br>Position: C<br>Season: 2027-28<br>Salary: $0.00<br>Cap %: 0.0%<br>Guaranteed Total: $4,207,398.00",
          "<b>Jaylin Williams</b><br>Position: C<br>Season: 2028-29<br>Salary: $0.00<br>Cap %: 0.0%<br>Guaranteed Total: $4,207,398.00",
          "<b>Jaylin Williams</b><br>Position: C<br>Season: 2029-30<br>Salary: $0.00<br>Cap %: 0.0%<br>Guaranteed Total: $4,207,398.00"
         ],
         "insidetextanchor": "middle",
         "marker": {
          "color": 4207398,
          "line": {
           "color": "#0d0106",
           "width": 3
          },
          "opacity": [
           1,
           1,
           1,
           1,
           1,
           1
          ],
          "pattern": {
           "shape": [
            "",
            "",
            "",
            "",
            "",
            ""
           ]
          }
         },
         "name": "Jaylin Williams",
         "showlegend": true,
         "text": "<b><b>",
         "textfont": {
          "color": [
           "#0d0106",
           "#0d0106",
           "#0d0106",
           "#0d0106",
           "#0d0106",
           "#0d0106"
          ],
          "family": "Malgun Gothic",
          "size": 22
         },
         "textposition": "inside",
         "type": "bar",
         "x": [
          "2024-25",
          "2025-26",
          "2026-27",
          "2027-28",
          "2028-29",
          "2029-30"
         ],
         "y": [
          1.4366083876291007,
          1.4146404391937768,
          0,
          0,
          0,
          0
         ]
        },
        {
         "hoverinfo": "text",
         "hovertext": [
          "<b>Ajay Mitchell</b><br>Position: PG<br>Season: 2024-25<br>Salary: $3,000,000.00<br>Cap %: 2.1%<br>Guaranteed Total: $3,000,000.00",
          "<b>Ajay Mitchell</b><br>Position: PG<br>Season: 2025-26<br>Salary: $3,000,000.00<br>Cap %: 1.9%<br>Guaranteed Total: $3,000,000.00",
          "<b>Ajay Mitchell</b><br>Position: PG<br>Season: 2026-27<br>Salary: $0.00<br>Cap %: 0.0%<br>Guaranteed Total: $3,000,000.00",
          "<b>Ajay Mitchell</b><br>Position: PG<br>Season: 2027-28<br>Salary: $0.00<br>Cap %: 0.0%<br>Guaranteed Total: $3,000,000.00",
          "<b>Ajay Mitchell</b><br>Position: PG<br>Season: 2028-29<br>Salary: $0.00<br>Cap %: 0.0%<br>Guaranteed Total: $3,000,000.00",
          "<b>Ajay Mitchell</b><br>Position: PG<br>Season: 2029-30<br>Salary: $0.00<br>Cap %: 0.0%<br>Guaranteed Total: $3,000,000.00"
         ],
         "insidetextanchor": "middle",
         "marker": {
          "color": 3000000,
          "line": {
           "color": "#0d0106",
           "width": 3
          },
          "opacity": [
           1,
           0.35,
           1,
           1,
           1,
           1
          ],
          "pattern": {
           "shape": [
            "",
            "/",
            "",
            "",
            "",
            ""
           ]
          }
         },
         "name": "Ajay Mitchell",
         "showlegend": true,
         "text": "<b><b>",
         "textfont": {
          "color": [
           "#0d0106",
           "#0d0106",
           "#0d0106",
           "#0d0106",
           "#0d0106",
           "#0d0106"
          ],
          "family": "Malgun Gothic",
          "size": 22
         },
         "textposition": "inside",
         "type": "bar",
         "x": [
          "2024-25",
          "2025-26",
          "2026-27",
          "2027-28",
          "2028-29",
          "2029-30"
         ],
         "y": [
          2.133894784761146,
          1.9399018409668471,
          0,
          0,
          0,
          0
         ]
        },
        {
         "hoverinfo": "text",
         "hovertext": [
          "<b>Dead Cap</b><br>Position: nan<br>Season: 2024-25<br>Salary: $3,792,452.00<br>Cap %: 2.7%<br>Guaranteed Total: $553,591.00",
          "<b>Dead Cap</b><br>Position: nan<br>Season: 2025-26<br>Salary: $0.00<br>Cap %: 0.0%<br>Guaranteed Total: $553,591.00",
          "<b>Dead Cap</b><br>Position: nan<br>Season: 2026-27<br>Salary: $0.00<br>Cap %: 0.0%<br>Guaranteed Total: $553,591.00",
          "<b>Dead Cap</b><br>Position: nan<br>Season: 2027-28<br>Salary: $0.00<br>Cap %: 0.0%<br>Guaranteed Total: $553,591.00",
          "<b>Dead Cap</b><br>Position: nan<br>Season: 2028-29<br>Salary: $0.00<br>Cap %: 0.0%<br>Guaranteed Total: $553,591.00",
          "<b>Dead Cap</b><br>Position: nan<br>Season: 2029-30<br>Salary: $0.00<br>Cap %: 0.0%<br>Guaranteed Total: $553,591.00"
         ],
         "insidetextanchor": "middle",
         "marker": {
          "color": 553591,
          "line": {
           "color": "#0d0106",
           "width": 3
          },
          "opacity": [
           1,
           1,
           1,
           1,
           1,
           1
          ],
          "pattern": {
           "shape": [
            "",
            "",
            "",
            "",
            "",
            ""
           ]
          }
         },
         "name": "Dead Cap",
         "showlegend": true,
         "text": "<b><b>",
         "textfont": {
          "color": [
           "#0d0106",
           "#0d0106",
           "#0d0106",
           "#0d0106",
           "#0d0106",
           "#0d0106"
          ],
          "family": "Malgun Gothic",
          "size": 22
         },
         "textposition": "inside",
         "type": "bar",
         "x": [
          "2024-25",
          "2025-26",
          "2026-27",
          "2027-28",
          "2028-29",
          "2029-30"
         ],
         "y": [
          2.697564514752326,
          0,
          0,
          0,
          0,
          0
         ]
        },
        {
         "hoverinfo": "text",
         "hovertext": [
          "<b>Alex Ducas</b><br>Position: G<br>Season: 2024-25<br>Salary: $0.00<br>Cap %: 0.0%<br>Guaranteed Total: $0.00",
          "<b>Alex Ducas</b><br>Position: G<br>Season: 2025-26<br>Salary: $0.00<br>Cap %: 0.0%<br>Guaranteed Total: $0.00",
          "<b>Alex Ducas</b><br>Position: G<br>Season: 2026-27<br>Salary: $0.00<br>Cap %: 0.0%<br>Guaranteed Total: $0.00",
          "<b>Alex Ducas</b><br>Position: G<br>Season: 2027-28<br>Salary: $0.00<br>Cap %: 0.0%<br>Guaranteed Total: $0.00",
          "<b>Alex Ducas</b><br>Position: G<br>Season: 2028-29<br>Salary: $0.00<br>Cap %: 0.0%<br>Guaranteed Total: $0.00",
          "<b>Alex Ducas</b><br>Position: G<br>Season: 2029-30<br>Salary: $0.00<br>Cap %: 0.0%<br>Guaranteed Total: $0.00"
         ],
         "insidetextanchor": "middle",
         "marker": {
          "color": 0,
          "line": {
           "color": "#0d0106",
           "width": 3
          },
          "opacity": [
           1,
           1,
           1,
           1,
           1,
           1
          ],
          "pattern": {
           "shape": [
            "",
            "",
            "",
            "",
            "",
            ""
           ]
          }
         },
         "name": "Alex Ducas",
         "showlegend": true,
         "text": "<b><b>",
         "textfont": {
          "color": [
           "#0d0106",
           "#0d0106",
           "#0d0106",
           "#0d0106",
           "#0d0106",
           "#0d0106"
          ],
          "family": "Malgun Gothic",
          "size": 22
         },
         "textposition": "inside",
         "type": "bar",
         "x": [
          "2024-25",
          "2025-26",
          "2026-27",
          "2027-28",
          "2028-29",
          "2029-30"
         ],
         "y": [
          0,
          0,
          0,
          0,
          0,
          0
         ]
        },
        {
         "hoverinfo": "text",
         "hovertext": [
          "<b>Adam Flagler</b><br>Position: G<br>Season: 2024-25<br>Salary: $0.00<br>Cap %: 0.0%<br>Guaranteed Total: $0.00",
          "<b>Adam Flagler</b><br>Position: G<br>Season: 2025-26<br>Salary: $0.00<br>Cap %: 0.0%<br>Guaranteed Total: $0.00",
          "<b>Adam Flagler</b><br>Position: G<br>Season: 2026-27<br>Salary: $0.00<br>Cap %: 0.0%<br>Guaranteed Total: $0.00",
          "<b>Adam Flagler</b><br>Position: G<br>Season: 2027-28<br>Salary: $0.00<br>Cap %: 0.0%<br>Guaranteed Total: $0.00",
          "<b>Adam Flagler</b><br>Position: G<br>Season: 2028-29<br>Salary: $0.00<br>Cap %: 0.0%<br>Guaranteed Total: $0.00",
          "<b>Adam Flagler</b><br>Position: G<br>Season: 2029-30<br>Salary: $0.00<br>Cap %: 0.0%<br>Guaranteed Total: $0.00"
         ],
         "insidetextanchor": "middle",
         "marker": {
          "color": 0,
          "line": {
           "color": "#0d0106",
           "width": 3
          },
          "opacity": [
           1,
           1,
           1,
           1,
           1,
           1
          ],
          "pattern": {
           "shape": [
            "",
            "",
            "",
            "",
            "",
            ""
           ]
          }
         },
         "name": "Adam Flagler",
         "showlegend": true,
         "text": "<b><b>",
         "textfont": {
          "color": [
           "#0d0106",
           "#0d0106",
           "#0d0106",
           "#0d0106",
           "#0d0106",
           "#0d0106"
          ],
          "family": "Malgun Gothic",
          "size": 22
         },
         "textposition": "inside",
         "type": "bar",
         "x": [
          "2024-25",
          "2025-26",
          "2026-27",
          "2027-28",
          "2028-29",
          "2029-30"
         ],
         "y": [
          0,
          0,
          0,
          0,
          0,
          0
         ]
        },
        {
         "hoverinfo": "text",
         "hovertext": [
          "<b>Branden Carlson</b><br>Position: C<br>Season: 2024-25<br>Salary: $0.00<br>Cap %: 0.0%<br>Guaranteed Total: $0.00",
          "<b>Branden Carlson</b><br>Position: C<br>Season: 2025-26<br>Salary: $0.00<br>Cap %: 0.0%<br>Guaranteed Total: $0.00",
          "<b>Branden Carlson</b><br>Position: C<br>Season: 2026-27<br>Salary: $0.00<br>Cap %: 0.0%<br>Guaranteed Total: $0.00",
          "<b>Branden Carlson</b><br>Position: C<br>Season: 2027-28<br>Salary: $0.00<br>Cap %: 0.0%<br>Guaranteed Total: $0.00",
          "<b>Branden Carlson</b><br>Position: C<br>Season: 2028-29<br>Salary: $0.00<br>Cap %: 0.0%<br>Guaranteed Total: $0.00",
          "<b>Branden Carlson</b><br>Position: C<br>Season: 2029-30<br>Salary: $0.00<br>Cap %: 0.0%<br>Guaranteed Total: $0.00"
         ],
         "insidetextanchor": "middle",
         "marker": {
          "color": 0,
          "line": {
           "color": "#0d0106",
           "width": 3
          },
          "opacity": [
           1,
           1,
           1,
           1,
           1,
           1
          ],
          "pattern": {
           "shape": [
            "",
            "",
            "",
            "",
            "",
            ""
           ]
          }
         },
         "name": "Branden Carlson",
         "showlegend": true,
         "text": "<b><b>",
         "textfont": {
          "color": [
           "#0d0106",
           "#0d0106",
           "#0d0106",
           "#0d0106",
           "#0d0106",
           "#0d0106"
          ],
          "family": "Malgun Gothic",
          "size": 22
         },
         "textposition": "inside",
         "type": "bar",
         "x": [
          "2024-25",
          "2025-26",
          "2026-27",
          "2027-28",
          "2028-29",
          "2029-30"
         ],
         "y": [
          0,
          0,
          0,
          0,
          0,
          0
         ]
        }
       ],
       "layout": {
        "annotations": [
         {
          "font": {
           "color": "white",
           "size": 20
          },
          "showarrow": false,
          "text": "Sideways Dash = Team Option <br> White Text = Player Option",
          "x": 4.5,
          "xref": "x",
          "y": 60,
          "yref": "y"
         },
         {
          "font": {
           "color": "white",
           "size": 20
          },
          "showarrow": false,
          "text": "Dash = Extension Eligible",
          "x": 4.5,
          "xref": "x",
          "y": 70,
          "yref": "y"
         }
        ],
        "bargap": 0,
        "barmode": "stack",
        "height": 1800,
        "legend": {
         "font": {
          "color": "#e5e5e5",
          "family": "Malgun Gothic",
          "size": 22
         },
         "traceorder": "reversed"
        },
        "paper_bgcolor": "#0d0106",
        "plot_bgcolor": "#0d0106",
        "shapes": [
         {
          "line": {
           "color": "white"
          },
          "opacity": 0.4,
          "type": "line",
          "x0": 0,
          "x1": 1,
          "xref": "x domain",
          "y0": 122,
          "y1": 122,
          "yref": "y"
         },
         {
          "line": {
           "color": "white"
          },
          "type": "line",
          "x0": 0,
          "x1": 1,
          "xref": "x domain",
          "y0": 127,
          "y1": 127,
          "yref": "y"
         },
         {
          "line": {
           "color": "white"
          },
          "type": "line",
          "x0": 0,
          "x1": 1,
          "xref": "x domain",
          "y0": 135,
          "y1": 135,
          "yref": "y"
         }
        ],
        "template": {
         "data": {
          "bar": [
           {
            "error_x": {
             "color": "#2a3f5f"
            },
            "error_y": {
             "color": "#2a3f5f"
            },
            "marker": {
             "line": {
              "color": "#E5ECF6",
              "width": 0.5
             },
             "pattern": {
              "fillmode": "overlay",
              "size": 10,
              "solidity": 0.2
             }
            },
            "type": "bar"
           }
          ],
          "barpolar": [
           {
            "marker": {
             "line": {
              "color": "#E5ECF6",
              "width": 0.5
             },
             "pattern": {
              "fillmode": "overlay",
              "size": 10,
              "solidity": 0.2
             }
            },
            "type": "barpolar"
           }
          ],
          "carpet": [
           {
            "aaxis": {
             "endlinecolor": "#2a3f5f",
             "gridcolor": "white",
             "linecolor": "white",
             "minorgridcolor": "white",
             "startlinecolor": "#2a3f5f"
            },
            "baxis": {
             "endlinecolor": "#2a3f5f",
             "gridcolor": "white",
             "linecolor": "white",
             "minorgridcolor": "white",
             "startlinecolor": "#2a3f5f"
            },
            "type": "carpet"
           }
          ],
          "choropleth": [
           {
            "colorbar": {
             "outlinewidth": 0,
             "ticks": ""
            },
            "type": "choropleth"
           }
          ],
          "contour": [
           {
            "colorbar": {
             "outlinewidth": 0,
             "ticks": ""
            },
            "colorscale": [
             [
              0,
              "#0d0887"
             ],
             [
              0.1111111111111111,
              "#46039f"
             ],
             [
              0.2222222222222222,
              "#7201a8"
             ],
             [
              0.3333333333333333,
              "#9c179e"
             ],
             [
              0.4444444444444444,
              "#bd3786"
             ],
             [
              0.5555555555555556,
              "#d8576b"
             ],
             [
              0.6666666666666666,
              "#ed7953"
             ],
             [
              0.7777777777777778,
              "#fb9f3a"
             ],
             [
              0.8888888888888888,
              "#fdca26"
             ],
             [
              1,
              "#f0f921"
             ]
            ],
            "type": "contour"
           }
          ],
          "contourcarpet": [
           {
            "colorbar": {
             "outlinewidth": 0,
             "ticks": ""
            },
            "type": "contourcarpet"
           }
          ],
          "heatmap": [
           {
            "colorbar": {
             "outlinewidth": 0,
             "ticks": ""
            },
            "colorscale": [
             [
              0,
              "#0d0887"
             ],
             [
              0.1111111111111111,
              "#46039f"
             ],
             [
              0.2222222222222222,
              "#7201a8"
             ],
             [
              0.3333333333333333,
              "#9c179e"
             ],
             [
              0.4444444444444444,
              "#bd3786"
             ],
             [
              0.5555555555555556,
              "#d8576b"
             ],
             [
              0.6666666666666666,
              "#ed7953"
             ],
             [
              0.7777777777777778,
              "#fb9f3a"
             ],
             [
              0.8888888888888888,
              "#fdca26"
             ],
             [
              1,
              "#f0f921"
             ]
            ],
            "type": "heatmap"
           }
          ],
          "heatmapgl": [
           {
            "colorbar": {
             "outlinewidth": 0,
             "ticks": ""
            },
            "colorscale": [
             [
              0,
              "#0d0887"
             ],
             [
              0.1111111111111111,
              "#46039f"
             ],
             [
              0.2222222222222222,
              "#7201a8"
             ],
             [
              0.3333333333333333,
              "#9c179e"
             ],
             [
              0.4444444444444444,
              "#bd3786"
             ],
             [
              0.5555555555555556,
              "#d8576b"
             ],
             [
              0.6666666666666666,
              "#ed7953"
             ],
             [
              0.7777777777777778,
              "#fb9f3a"
             ],
             [
              0.8888888888888888,
              "#fdca26"
             ],
             [
              1,
              "#f0f921"
             ]
            ],
            "type": "heatmapgl"
           }
          ],
          "histogram": [
           {
            "marker": {
             "pattern": {
              "fillmode": "overlay",
              "size": 10,
              "solidity": 0.2
             }
            },
            "type": "histogram"
           }
          ],
          "histogram2d": [
           {
            "colorbar": {
             "outlinewidth": 0,
             "ticks": ""
            },
            "colorscale": [
             [
              0,
              "#0d0887"
             ],
             [
              0.1111111111111111,
              "#46039f"
             ],
             [
              0.2222222222222222,
              "#7201a8"
             ],
             [
              0.3333333333333333,
              "#9c179e"
             ],
             [
              0.4444444444444444,
              "#bd3786"
             ],
             [
              0.5555555555555556,
              "#d8576b"
             ],
             [
              0.6666666666666666,
              "#ed7953"
             ],
             [
              0.7777777777777778,
              "#fb9f3a"
             ],
             [
              0.8888888888888888,
              "#fdca26"
             ],
             [
              1,
              "#f0f921"
             ]
            ],
            "type": "histogram2d"
           }
          ],
          "histogram2dcontour": [
           {
            "colorbar": {
             "outlinewidth": 0,
             "ticks": ""
            },
            "colorscale": [
             [
              0,
              "#0d0887"
             ],
             [
              0.1111111111111111,
              "#46039f"
             ],
             [
              0.2222222222222222,
              "#7201a8"
             ],
             [
              0.3333333333333333,
              "#9c179e"
             ],
             [
              0.4444444444444444,
              "#bd3786"
             ],
             [
              0.5555555555555556,
              "#d8576b"
             ],
             [
              0.6666666666666666,
              "#ed7953"
             ],
             [
              0.7777777777777778,
              "#fb9f3a"
             ],
             [
              0.8888888888888888,
              "#fdca26"
             ],
             [
              1,
              "#f0f921"
             ]
            ],
            "type": "histogram2dcontour"
           }
          ],
          "mesh3d": [
           {
            "colorbar": {
             "outlinewidth": 0,
             "ticks": ""
            },
            "type": "mesh3d"
           }
          ],
          "parcoords": [
           {
            "line": {
             "colorbar": {
              "outlinewidth": 0,
              "ticks": ""
             }
            },
            "type": "parcoords"
           }
          ],
          "pie": [
           {
            "automargin": true,
            "type": "pie"
           }
          ],
          "scatter": [
           {
            "fillpattern": {
             "fillmode": "overlay",
             "size": 10,
             "solidity": 0.2
            },
            "type": "scatter"
           }
          ],
          "scatter3d": [
           {
            "line": {
             "colorbar": {
              "outlinewidth": 0,
              "ticks": ""
             }
            },
            "marker": {
             "colorbar": {
              "outlinewidth": 0,
              "ticks": ""
             }
            },
            "type": "scatter3d"
           }
          ],
          "scattercarpet": [
           {
            "marker": {
             "colorbar": {
              "outlinewidth": 0,
              "ticks": ""
             }
            },
            "type": "scattercarpet"
           }
          ],
          "scattergeo": [
           {
            "marker": {
             "colorbar": {
              "outlinewidth": 0,
              "ticks": ""
             }
            },
            "type": "scattergeo"
           }
          ],
          "scattergl": [
           {
            "marker": {
             "colorbar": {
              "outlinewidth": 0,
              "ticks": ""
             }
            },
            "type": "scattergl"
           }
          ],
          "scattermapbox": [
           {
            "marker": {
             "colorbar": {
              "outlinewidth": 0,
              "ticks": ""
             }
            },
            "type": "scattermapbox"
           }
          ],
          "scatterpolar": [
           {
            "marker": {
             "colorbar": {
              "outlinewidth": 0,
              "ticks": ""
             }
            },
            "type": "scatterpolar"
           }
          ],
          "scatterpolargl": [
           {
            "marker": {
             "colorbar": {
              "outlinewidth": 0,
              "ticks": ""
             }
            },
            "type": "scatterpolargl"
           }
          ],
          "scatterternary": [
           {
            "marker": {
             "colorbar": {
              "outlinewidth": 0,
              "ticks": ""
             }
            },
            "type": "scatterternary"
           }
          ],
          "surface": [
           {
            "colorbar": {
             "outlinewidth": 0,
             "ticks": ""
            },
            "colorscale": [
             [
              0,
              "#0d0887"
             ],
             [
              0.1111111111111111,
              "#46039f"
             ],
             [
              0.2222222222222222,
              "#7201a8"
             ],
             [
              0.3333333333333333,
              "#9c179e"
             ],
             [
              0.4444444444444444,
              "#bd3786"
             ],
             [
              0.5555555555555556,
              "#d8576b"
             ],
             [
              0.6666666666666666,
              "#ed7953"
             ],
             [
              0.7777777777777778,
              "#fb9f3a"
             ],
             [
              0.8888888888888888,
              "#fdca26"
             ],
             [
              1,
              "#f0f921"
             ]
            ],
            "type": "surface"
           }
          ],
          "table": [
           {
            "cells": {
             "fill": {
              "color": "#EBF0F8"
             },
             "line": {
              "color": "white"
             }
            },
            "header": {
             "fill": {
              "color": "#C8D4E3"
             },
             "line": {
              "color": "white"
             }
            },
            "type": "table"
           }
          ]
         },
         "layout": {
          "annotationdefaults": {
           "arrowcolor": "#2a3f5f",
           "arrowhead": 0,
           "arrowwidth": 1
          },
          "autotypenumbers": "strict",
          "coloraxis": {
           "colorbar": {
            "outlinewidth": 0,
            "ticks": ""
           }
          },
          "colorscale": {
           "diverging": [
            [
             0,
             "#8e0152"
            ],
            [
             0.1,
             "#c51b7d"
            ],
            [
             0.2,
             "#de77ae"
            ],
            [
             0.3,
             "#f1b6da"
            ],
            [
             0.4,
             "#fde0ef"
            ],
            [
             0.5,
             "#f7f7f7"
            ],
            [
             0.6,
             "#e6f5d0"
            ],
            [
             0.7,
             "#b8e186"
            ],
            [
             0.8,
             "#7fbc41"
            ],
            [
             0.9,
             "#4d9221"
            ],
            [
             1,
             "#276419"
            ]
           ],
           "sequential": [
            [
             0,
             "#0d0887"
            ],
            [
             0.1111111111111111,
             "#46039f"
            ],
            [
             0.2222222222222222,
             "#7201a8"
            ],
            [
             0.3333333333333333,
             "#9c179e"
            ],
            [
             0.4444444444444444,
             "#bd3786"
            ],
            [
             0.5555555555555556,
             "#d8576b"
            ],
            [
             0.6666666666666666,
             "#ed7953"
            ],
            [
             0.7777777777777778,
             "#fb9f3a"
            ],
            [
             0.8888888888888888,
             "#fdca26"
            ],
            [
             1,
             "#f0f921"
            ]
           ],
           "sequentialminus": [
            [
             0,
             "#0d0887"
            ],
            [
             0.1111111111111111,
             "#46039f"
            ],
            [
             0.2222222222222222,
             "#7201a8"
            ],
            [
             0.3333333333333333,
             "#9c179e"
            ],
            [
             0.4444444444444444,
             "#bd3786"
            ],
            [
             0.5555555555555556,
             "#d8576b"
            ],
            [
             0.6666666666666666,
             "#ed7953"
            ],
            [
             0.7777777777777778,
             "#fb9f3a"
            ],
            [
             0.8888888888888888,
             "#fdca26"
            ],
            [
             1,
             "#f0f921"
            ]
           ]
          },
          "colorway": [
           "#636efa",
           "#EF553B",
           "#00cc96",
           "#ab63fa",
           "#FFA15A",
           "#19d3f3",
           "#FF6692",
           "#B6E880",
           "#FF97FF",
           "#FECB52"
          ],
          "font": {
           "color": "#2a3f5f"
          },
          "geo": {
           "bgcolor": "white",
           "lakecolor": "white",
           "landcolor": "#E5ECF6",
           "showlakes": true,
           "showland": true,
           "subunitcolor": "white"
          },
          "hoverlabel": {
           "align": "left"
          },
          "hovermode": "closest",
          "mapbox": {
           "style": "light"
          },
          "paper_bgcolor": "white",
          "plot_bgcolor": "#E5ECF6",
          "polar": {
           "angularaxis": {
            "gridcolor": "white",
            "linecolor": "white",
            "ticks": ""
           },
           "bgcolor": "#E5ECF6",
           "radialaxis": {
            "gridcolor": "white",
            "linecolor": "white",
            "ticks": ""
           }
          },
          "scene": {
           "xaxis": {
            "backgroundcolor": "#E5ECF6",
            "gridcolor": "white",
            "gridwidth": 2,
            "linecolor": "white",
            "showbackground": true,
            "ticks": "",
            "zerolinecolor": "white"
           },
           "yaxis": {
            "backgroundcolor": "#E5ECF6",
            "gridcolor": "white",
            "gridwidth": 2,
            "linecolor": "white",
            "showbackground": true,
            "ticks": "",
            "zerolinecolor": "white"
           },
           "zaxis": {
            "backgroundcolor": "#E5ECF6",
            "gridcolor": "white",
            "gridwidth": 2,
            "linecolor": "white",
            "showbackground": true,
            "ticks": "",
            "zerolinecolor": "white"
           }
          },
          "shapedefaults": {
           "line": {
            "color": "#2a3f5f"
           }
          },
          "ternary": {
           "aaxis": {
            "gridcolor": "white",
            "linecolor": "white",
            "ticks": ""
           },
           "baxis": {
            "gridcolor": "white",
            "linecolor": "white",
            "ticks": ""
           },
           "bgcolor": "#E5ECF6",
           "caxis": {
            "gridcolor": "white",
            "linecolor": "white",
            "ticks": ""
           }
          },
          "title": {
           "x": 0.05
          },
          "xaxis": {
           "automargin": true,
           "gridcolor": "white",
           "linecolor": "white",
           "ticks": "",
           "title": {
            "standoff": 15
           },
           "zerolinecolor": "white",
           "zerolinewidth": 2
          },
          "yaxis": {
           "automargin": true,
           "gridcolor": "white",
           "linecolor": "white",
           "ticks": "",
           "title": {
            "standoff": 15
           },
           "zerolinecolor": "white",
           "zerolinewidth": 2
          }
         }
        },
        "title": {
         "font": {
          "color": "white",
          "family": "Malgun Gothic",
          "size": 50
         },
         "text": "OKC",
         "x": 0.5
        },
        "width": 1200,
        "xaxis": {
         "autorange": true,
         "range": [
          -0.5,
          5.792407108239095
         ],
         "showgrid": false,
         "tickfont": {
          "color": "#e5e5e5",
          "family": "Malgun Gothic",
          "size": 30
         },
         "ticktext": [
          "2024-25",
          "2025-26",
          "2026-27",
          "2027-28",
          "2028-29",
          "2029-30"
         ],
         "type": "category"
        },
        "yaxis": {
         "range": [
          0,
          150
         ],
         "showgrid": false,
         "tickfont": {
          "color": "#e5e5e5",
          "family": "Malgun Gothic",
          "size": 25
         },
         "tickmode": "array",
         "ticktext": [
          "20% ",
          "40% ",
          "60% ",
          "80% ",
          "100% ",
          "Luxury Tax ",
          "First Apron ",
          "Second Apron ",
          "Floor (90%)"
         ],
         "tickvals": [
          20,
          40,
          60,
          80,
          100,
          122,
          127,
          135,
          90
         ],
         "type": "linear",
         "zeroline": false
        }
       }
      },
      "image/png": "[encoded data removed]",
      "text/html": [
       "<div>                            <div id=\"a74066fb-b6fe-49c1-b35c-ea95acef40ff\" class=\"plotly-graph-div\" style=\"height:1800px; width:1200px;\"></div>            <script type=\"text/javascript\">                require([\"plotly\"], function(Plotly) {                    window.PLOTLYENV=window.PLOTLYENV || {};                                    if (document.getElementById(\"a74066fb-b6fe-49c1-b35c-ea95acef40ff\")) {                    Plotly.newPlot(                        \"a74066fb-b6fe-49c1-b35c-ea95acef40ff\",                        [{\"hoverinfo\":\"text\",\"hovertext\":[\"\\u003cb\\u003eShai Gilgeous-Alexander\\u003c\\u002fb\\u003e\\u003cbr\\u003ePosition: PG\\u003cbr\\u003eSeason: 2024-25\\u003cbr\\u003eSalary: $35,859,950.00\\u003cbr\\u003eCap %: 25.5%\\u003cbr\\u003eGuaranteed Total: $114,999,150.00\",\"\\u003cb\\u003eShai Gilgeous-Alexander\\u003c\\u002fb\\u003e\\u003cbr\\u003ePosition: PG\\u003cbr\\u003eSeason: 2025-26\\u003cbr\\u003eSalary: $38,333,050.00\\u003cbr\\u003eCap %: 24.8%\\u003cbr\\u003eGuaranteed Total: $114,999,150.00\",\"\\u003cb\\u003eShai Gilgeous-Alexander\\u003c\\u002fb\\u003e\\u003cbr\\u003ePosition: PG\\u003cbr\\u003eSeason: 2026-27\\u003cbr\\u003eSalary: $40,806,150.00\\u003cbr\\u003eCap %: 24.0%\\u003cbr\\u003eGuaranteed Total: $114,999,150.00\",\"\\u003cb\\u003eShai Gilgeous-Alexander\\u003c\\u002fb\\u003e\\u003cbr\\u003ePosition: PG\\u003cbr\\u003eSeason: 2027-28\\u003cbr\\u003eSalary: $0.00\\u003cbr\\u003eCap %: 0.0%\\u003cbr\\u003eGuaranteed Total: $114,999,150.00\",\"\\u003cb\\u003eShai Gilgeous-Alexander\\u003c\\u002fb\\u003e\\u003cbr\\u003ePosition: PG\\u003cbr\\u003eSeason: 2028-29\\u003cbr\\u003eSalary: $0.00\\u003cbr\\u003eCap %: 0.0%\\u003cbr\\u003eGuaranteed Total: $114,999,150.00\",\"\\u003cb\\u003eShai Gilgeous-Alexander\\u003c\\u002fb\\u003e\\u003cbr\\u003ePosition: PG\\u003cbr\\u003eSeason: 2029-30\\u003cbr\\u003eSalary: $0.00\\u003cbr\\u003eCap %: 0.0%\\u003cbr\\u003eGuaranteed Total: $114,999,150.00\"],\"insidetextanchor\":\"middle\",\"marker\":{\"color\":114999150.0,\"line\":{\"color\":\"#0d0106\",\"width\":3},\"opacity\":[1,1,1,1,1,1],\"pattern\":{\"shape\":[\"\",\"-\",\"\",\"\",\"\",\"\"]}},\"name\":\"Shai Gilgeous-Alexander\",\"showlegend\":false,\"text\":\"\\u003cb\\u003eShai Gilgeous-Alexander\\u003cb\\u003e\",\"textfont\":{\"color\":[\"#0d0106\",\"#0d0106\",\"#0d0106\",\"#0d0106\",\"#0d0106\",\"#0d0106\"],\"family\":\"Malgun Gothic\",\"size\":22},\"textposition\":\"inside\",\"x\":[\"2024-25\",\"2025-26\",\"2026-27\",\"2027-28\",\"2028-29\",\"2029-30\"],\"y\":[25.507120095598488,24.787451421624734,23.987813910835214,0.0,0.0,0.0],\"type\":\"bar\"},{\"hoverinfo\":\"text\",\"hovertext\":[\"\\u003cb\\u003eAlex Caruso\\u003c\\u002fb\\u003e\\u003cbr\\u003ePosition: SG\\u003cbr\\u003eSeason: 2024-25\\u003cbr\\u003eSalary: $9,890,000.00\\u003cbr\\u003eCap %: 7.0%\\u003cbr\\u003eGuaranteed Total: $90,986,960.00\",\"\\u003cb\\u003eAlex Caruso\\u003c\\u002fb\\u003e\\u003cbr\\u003ePosition: SG\\u003cbr\\u003eSeason: 2025-26\\u003cbr\\u003eSalary: $18,102,000.00\\u003cbr\\u003eCap %: 11.7%\\u003cbr\\u003eGuaranteed Total: $90,986,960.00\",\"\\u003cb\\u003eAlex Caruso\\u003c\\u002fb\\u003e\\u003cbr\\u003ePosition: SG\\u003cbr\\u003eSeason: 2026-27\\u003cbr\\u003eSalary: $19,550,160.00\\u003cbr\\u003eCap %: 11.5%\\u003cbr\\u003eGuaranteed Total: $90,986,960.00\",\"\\u003cb\\u003eAlex Caruso\\u003c\\u002fb\\u003e\\u003cbr\\u003ePosition: SG\\u003cbr\\u003eSeason: 2027-28\\u003cbr\\u003eSalary: $20,998,320.00\\u003cbr\\u003eCap %: 11.2%\\u003cbr\\u003eGuaranteed Total: $90,986,960.00\",\"\\u003cb\\u003eAlex Caruso\\u003c\\u002fb\\u003e\\u003cbr\\u003ePosition: SG\\u003cbr\\u003eSeason: 2028-29\\u003cbr\\u003eSalary: $22,446,480.00\\u003cbr\\u003eCap %: 10.9%\\u003cbr\\u003eGuaranteed Total: $90,986,960.00\",\"\\u003cb\\u003eAlex Caruso\\u003c\\u002fb\\u003e\\u003cbr\\u003ePosition: SG\\u003cbr\\u003eSeason: 2029-30\\u003cbr\\u003eSalary: $0.00\\u003cbr\\u003eCap %: 0.0%\\u003cbr\\u003eGuaranteed Total: $90,986,960.00\"],\"insidetextanchor\":\"middle\",\"marker\":{\"color\":90986960.0,\"line\":{\"color\":\"#0d0106\",\"width\":3},\"opacity\":[1,1,1,1,1,1],\"pattern\":{\"shape\":[\"\",\"\",\"\",\"-\",\"\",\"\"]}},\"name\":\"Alex Caruso\",\"showlegend\":false,\"text\":\"\\u003cb\\u003eAlex Caruso\\u003cb\\u003e\",\"textfont\":{\"color\":[\"#0d0106\",\"#0d0106\",\"#0d0106\",\"#0d0106\",\"#0d0106\",\"#0d0106\"],\"family\":\"Malgun Gothic\",\"size\":22},\"textposition\":\"inside\",\"x\":[\"2024-25\",\"2025-26\",\"2026-27\",\"2027-28\",\"2028-29\",\"2029-30\"],\"y\":[7.034739807095911,11.705367708393956,11.49252257336343,11.221667031845364,10.905084169358952,0.0],\"type\":\"bar\"},{\"hoverinfo\":\"text\",\"hovertext\":[\"\\u003cb\\u003eIsaiah Hartenstein\\u003c\\u002fb\\u003e\\u003cbr\\u003ePosition: C\\u003cbr\\u003eSeason: 2024-25\\u003cbr\\u003eSalary: $30,000,000.00\\u003cbr\\u003eCap %: 21.3%\\u003cbr\\u003eGuaranteed Total: $58,500,000.00\",\"\\u003cb\\u003eIsaiah Hartenstein\\u003c\\u002fb\\u003e\\u003cbr\\u003ePosition: C\\u003cbr\\u003eSeason: 2025-26\\u003cbr\\u003eSalary: $28,500,000.00\\u003cbr\\u003eCap %: 18.4%\\u003cbr\\u003eGuaranteed Total: $58,500,000.00\",\"\\u003cb\\u003eIsaiah Hartenstein\\u003c\\u002fb\\u003e\\u003cbr\\u003ePosition: C\\u003cbr\\u003eSeason: 2026-27\\u003cbr\\u003eSalary: $28,500,000.00\\u003cbr\\u003eCap %: 16.8%\\u003cbr\\u003eGuaranteed Total: $58,500,000.00\",\"\\u003cb\\u003eIsaiah Hartenstein\\u003c\\u002fb\\u003e\\u003cbr\\u003ePosition: C\\u003cbr\\u003eSeason: 2027-28\\u003cbr\\u003eSalary: $0.00\\u003cbr\\u003eCap %: 0.0%\\u003cbr\\u003eGuaranteed Total: $58,500,000.00\",\"\\u003cb\\u003eIsaiah Hartenstein\\u003c\\u002fb\\u003e\\u003cbr\\u003ePosition: C\\u003cbr\\u003eSeason: 2028-29\\u003cbr\\u003eSalary: $0.00\\u003cbr\\u003eCap %: 0.0%\\u003cbr\\u003eGuaranteed Total: $58,500,000.00\",\"\\u003cb\\u003eIsaiah Hartenstein\\u003c\\u002fb\\u003e\\u003cbr\\u003ePosition: C\\u003cbr\\u003eSeason: 2029-30\\u003cbr\\u003eSalary: $0.00\\u003cbr\\u003eCap %: 0.0%\\u003cbr\\u003eGuaranteed Total: $58,500,000.00\"],\"insidetextanchor\":\"middle\",\"marker\":{\"color\":58500000.0,\"line\":{\"color\":\"#0d0106\",\"width\":3},\"opacity\":[1,1,0.35,1,1,1],\"pattern\":{\"shape\":[\"\",\"\",\"\\u002f\",\"\",\"\",\"\"]}},\"name\":\"Isaiah Hartenstein\",\"showlegend\":false,\"text\":\"\\u003cb\\u003eIsaiah Hartenstein\\u003cb\\u003e\",\"textfont\":{\"color\":[\"#0d0106\",\"#0d0106\",\"#0d0106\",\"#0d0106\",\"#0d0106\",\"#0d0106\"],\"family\":\"Malgun Gothic\",\"size\":22},\"textposition\":\"inside\",\"x\":[\"2024-25\",\"2025-26\",\"2026-27\",\"2027-28\",\"2028-29\",\"2029-30\"],\"y\":[21.33894784761146,18.429067489185048,16.75366817155756,0.0,0.0,0.0],\"type\":\"bar\"},{\"hoverinfo\":\"text\",\"hovertext\":[\"\\u003cb\\u003eAaron Wiggins\\u003c\\u002fb\\u003e\\u003cbr\\u003ePosition: SG\\u003cbr\\u003eSeason: 2024-25\\u003cbr\\u003eSalary: $10,514,017.00\\u003cbr\\u003eCap %: 7.5%\\u003cbr\\u003eGuaranteed Total: $45,000,000.00\",\"\\u003cb\\u003eAaron Wiggins\\u003c\\u002fb\\u003e\\u003cbr\\u003ePosition: SG\\u003cbr\\u003eSeason: 2025-26\\u003cbr\\u003eSalary: $9,672,897.00\\u003cbr\\u003eCap %: 6.3%\\u003cbr\\u003eGuaranteed Total: $45,000,000.00\",\"\\u003cb\\u003eAaron Wiggins\\u003c\\u002fb\\u003e\\u003cbr\\u003ePosition: SG\\u003cbr\\u003eSeason: 2026-27\\u003cbr\\u003eSalary: $8,831,776.00\\u003cbr\\u003eCap %: 5.2%\\u003cbr\\u003eGuaranteed Total: $45,000,000.00\",\"\\u003cb\\u003eAaron Wiggins\\u003c\\u002fb\\u003e\\u003cbr\\u003ePosition: SG\\u003cbr\\u003eSeason: 2027-28\\u003cbr\\u003eSalary: $7,990,655.00\\u003cbr\\u003eCap %: 4.3%\\u003cbr\\u003eGuaranteed Total: $45,000,000.00\",\"\\u003cb\\u003eAaron Wiggins\\u003c\\u002fb\\u003e\\u003cbr\\u003ePosition: SG\\u003cbr\\u003eSeason: 2028-29\\u003cbr\\u003eSalary: $7,990,655.00\\u003cbr\\u003eCap %: 3.9%\\u003cbr\\u003eGuaranteed Total: $45,000,000.00\",\"\\u003cb\\u003eAaron Wiggins\\u003c\\u002fb\\u003e\\u003cbr\\u003ePosition: SG\\u003cbr\\u003eSeason: 2029-30\\u003cbr\\u003eSalary: $0.00\\u003cbr\\u003eCap %: 0.0%\\u003cbr\\u003eGuaranteed Total: $45,000,000.00\"],\"insidetextanchor\":\"middle\",\"marker\":{\"color\":45000000.0,\"line\":{\"color\":\"#0d0106\",\"width\":3},\"opacity\":[1,1,1,1,1,1],\"pattern\":{\"shape\":[\"\",\"\",\"\",\"-\",\"\",\"\"]}},\"name\":\"Aaron Wiggins\",\"showlegend\":false,\"text\":\"\\u003cb\\u003eAaron Wiggins\\u003cb\\u003e\",\"textfont\":{\"color\":[\"#0d0106\",\"#0d0106\",\"#0d0106\",\"#0d0106\",\"#0d0106\",\"#0d0106\"],\"family\":\"Malgun Gothic\",\"size\":22},\"textposition\":\"inside\",\"x\":[\"2024-25\",\"2025-26\",\"2026-27\",\"2027-28\",\"2028-29\",\"2029-30\"],\"y\":[7.478602014396677,6.254823565927564,5.191741911211437,4.270268753707454,3.882068161391406,0.0],\"type\":\"bar\"},{\"hoverinfo\":\"text\",\"hovertext\":[\"\\u003cb\\u003eIsaiah Joe\\u003c\\u002fb\\u003e\\u003cbr\\u003ePosition: SG\\u003cbr\\u003eSeason: 2024-25\\u003cbr\\u003eSalary: $12,991,650.00\\u003cbr\\u003eCap %: 9.2%\\u003cbr\\u003eGuaranteed Total: $36,676,994.00\",\"\\u003cb\\u003eIsaiah Joe\\u003c\\u002fb\\u003e\\u003cbr\\u003ePosition: SG\\u003cbr\\u003eSeason: 2025-26\\u003cbr\\u003eSalary: $12,362,338.00\\u003cbr\\u003eCap %: 8.0%\\u003cbr\\u003eGuaranteed Total: $36,676,994.00\",\"\\u003cb\\u003eIsaiah Joe\\u003c\\u002fb\\u003e\\u003cbr\\u003ePosition: SG\\u003cbr\\u003eSeason: 2026-27\\u003cbr\\u003eSalary: $11,323,006.00\\u003cbr\\u003eCap %: 6.7%\\u003cbr\\u003eGuaranteed Total: $36,676,994.00\",\"\\u003cb\\u003eIsaiah Joe\\u003c\\u002fb\\u003e\\u003cbr\\u003ePosition: SG\\u003cbr\\u003eSeason: 2027-28\\u003cbr\\u003eSalary: $11,323,006.00\\u003cbr\\u003eCap %: 6.1%\\u003cbr\\u003eGuaranteed Total: $36,676,994.00\",\"\\u003cb\\u003eIsaiah Joe\\u003c\\u002fb\\u003e\\u003cbr\\u003ePosition: SG\\u003cbr\\u003eSeason: 2028-29\\u003cbr\\u003eSalary: $0.00\\u003cbr\\u003eCap %: 0.0%\\u003cbr\\u003eGuaranteed Total: $36,676,994.00\",\"\\u003cb\\u003eIsaiah Joe\\u003c\\u002fb\\u003e\\u003cbr\\u003ePosition: SG\\u003cbr\\u003eSeason: 2029-30\\u003cbr\\u003eSalary: $0.00\\u003cbr\\u003eCap %: 0.0%\\u003cbr\\u003eGuaranteed Total: $36,676,994.00\"],\"insidetextanchor\":\"middle\",\"marker\":{\"color\":36676994.0,\"line\":{\"color\":\"#0d0106\",\"width\":3},\"opacity\":[1,1,1,0.35,1,1],\"pattern\":{\"shape\":[\"\",\"\",\"-\",\"\\u002f\",\"\",\"\"]}},\"name\":\"Isaiah Joe\",\"showlegend\":false,\"text\":\"\\u003cb\\u003eIsaiah Joe\\u003cb\\u003e\",\"textfont\":{\"color\":[\"#0d0106\",\"#0d0106\",\"#0d0106\",\"#0d0106\",\"#0d0106\",\"#0d0106\"],\"family\":\"Malgun Gothic\",\"size\":22},\"textposition\":\"inside\",\"x\":[\"2024-25\",\"2025-26\",\"2026-27\",\"2027-28\",\"2028-29\",\"2029-30\"],\"y\":[9.24093806014738,7.99390741495147,6.6562064992475545,6.05110328500505,0.0,0.0],\"type\":\"bar\"},{\"hoverinfo\":\"text\",\"hovertext\":[\"\\u003cb\\u003eLuguentz Dort\\u003c\\u002fb\\u003e\\u003cbr\\u003ePosition: SG\\u003cbr\\u003eSeason: 2024-25\\u003cbr\\u003eSalary: $16,500,000.00\\u003cbr\\u003eCap %: 11.7%\\u003cbr\\u003eGuaranteed Total: $34,222,222.00\",\"\\u003cb\\u003eLuguentz Dort\\u003c\\u002fb\\u003e\\u003cbr\\u003ePosition: SG\\u003cbr\\u003eSeason: 2025-26\\u003cbr\\u003eSalary: $17,722,222.00\\u003cbr\\u003eCap %: 11.5%\\u003cbr\\u003eGuaranteed Total: $34,222,222.00\",\"\\u003cb\\u003eLuguentz Dort\\u003c\\u002fb\\u003e\\u003cbr\\u003ePosition: SG\\u003cbr\\u003eSeason: 2026-27\\u003cbr\\u003eSalary: $17,722,222.00\\u003cbr\\u003eCap %: 10.4%\\u003cbr\\u003eGuaranteed Total: $34,222,222.00\",\"\\u003cb\\u003eLuguentz Dort\\u003c\\u002fb\\u003e\\u003cbr\\u003ePosition: SG\\u003cbr\\u003eSeason: 2027-28\\u003cbr\\u003eSalary: $0.00\\u003cbr\\u003eCap %: 0.0%\\u003cbr\\u003eGuaranteed Total: $34,222,222.00\",\"\\u003cb\\u003eLuguentz Dort\\u003c\\u002fb\\u003e\\u003cbr\\u003ePosition: SG\\u003cbr\\u003eSeason: 2028-29\\u003cbr\\u003eSalary: $0.00\\u003cbr\\u003eCap %: 0.0%\\u003cbr\\u003eGuaranteed Total: $34,222,222.00\",\"\\u003cb\\u003eLuguentz Dort\\u003c\\u002fb\\u003e\\u003cbr\\u003ePosition: SG\\u003cbr\\u003eSeason: 2029-30\\u003cbr\\u003eSalary: $0.00\\u003cbr\\u003eCap %: 0.0%\\u003cbr\\u003eGuaranteed Total: $34,222,222.00\"],\"insidetextanchor\":\"middle\",\"marker\":{\"color\":34222222.0,\"line\":{\"color\":\"#0d0106\",\"width\":3},\"opacity\":[1,1,0.35,1,1,1],\"pattern\":{\"shape\":[\"\",\"-\",\"\\u002f\",\"\",\"\",\"\"]}},\"name\":\"Luguentz Dort\",\"showlegend\":false,\"text\":\"\\u003cb\\u003eLuguentz Dort\\u003cb\\u003e\",\"textfont\":{\"color\":[\"#0d0106\",\"#0d0106\",\"#0d0106\",\"#0d0106\",\"#0d0106\",\"#0d0106\"],\"family\":\"Malgun Gothic\",\"size\":22},\"textposition\":\"inside\",\"x\":[\"2024-25\",\"2025-26\",\"2026-27\",\"2027-28\",\"2028-29\",\"2029-30\"],\"y\":[11.736421316186304,11.459790361274386,10.417972864936042,0.0,0.0,0.0],\"type\":\"bar\"},{\"hoverinfo\":\"text\",\"hovertext\":[\"\\u003cb\\u003eChet Holmgren\\u003c\\u002fb\\u003e\\u003cbr\\u003ePosition: C\\u003cbr\\u003eSeason: 2024-25\\u003cbr\\u003eSalary: $10,880,640.00\\u003cbr\\u003eCap %: 7.7%\\u003cbr\\u003eGuaranteed Total: $24,612,008.00\",\"\\u003cb\\u003eChet Holmgren\\u003c\\u002fb\\u003e\\u003cbr\\u003ePosition: C\\u003cbr\\u003eSeason: 2025-26\\u003cbr\\u003eSalary: $13,731,368.00\\u003cbr\\u003eCap %: 8.9%\\u003cbr\\u003eGuaranteed Total: $24,612,008.00\",\"\\u003cb\\u003eChet Holmgren\\u003c\\u002fb\\u003e\\u003cbr\\u003ePosition: C\\u003cbr\\u003eSeason: 2026-27\\u003cbr\\u003eSalary: $0.00\\u003cbr\\u003eCap %: 0.0%\\u003cbr\\u003eGuaranteed Total: $24,612,008.00\",\"\\u003cb\\u003eChet Holmgren\\u003c\\u002fb\\u003e\\u003cbr\\u003ePosition: C\\u003cbr\\u003eSeason: 2027-28\\u003cbr\\u003eSalary: $0.00\\u003cbr\\u003eCap %: 0.0%\\u003cbr\\u003eGuaranteed Total: $24,612,008.00\",\"\\u003cb\\u003eChet Holmgren\\u003c\\u002fb\\u003e\\u003cbr\\u003ePosition: C\\u003cbr\\u003eSeason: 2028-29\\u003cbr\\u003eSalary: $0.00\\u003cbr\\u003eCap %: 0.0%\\u003cbr\\u003eGuaranteed Total: $24,612,008.00\",\"\\u003cb\\u003eChet Holmgren\\u003c\\u002fb\\u003e\\u003cbr\\u003ePosition: C\\u003cbr\\u003eSeason: 2029-30\\u003cbr\\u003eSalary: $0.00\\u003cbr\\u003eCap %: 0.0%\\u003cbr\\u003eGuaranteed Total: $24,612,008.00\"],\"insidetextanchor\":\"middle\",\"marker\":{\"color\":24612008.0,\"line\":{\"color\":\"#0d0106\",\"width\":3},\"opacity\":[1,1,1,1,1,1],\"pattern\":{\"shape\":[\"\",\"-\",\"\",\"\",\"\",\"\"]}},\"name\":\"Chet Holmgren\",\"showlegend\":true,\"text\":\"\\u003cb\\u003e\\u003cb\\u003e\",\"textfont\":{\"color\":[\"#0d0106\",\"#0d0106\",\"#0d0106\",\"#0d0106\",\"#0d0106\",\"#0d0106\"],\"family\":\"Malgun Gothic\",\"size\":22},\"textposition\":\"inside\",\"x\":[\"2024-25\",\"2025-26\",\"2026-27\",\"2027-28\",\"2028-29\",\"2029-30\"],\"y\":[7.739380316954505,8.879168687397751,0.0,0.0,0.0,0.0],\"type\":\"bar\"},{\"hoverinfo\":\"text\",\"hovertext\":[\"\\u003cb\\u003eKenrich Williams\\u003c\\u002fb\\u003e\\u003cbr\\u003ePosition: PF\\u003cbr\\u003eSeason: 2024-25\\u003cbr\\u003eSalary: $6,669,000.00\\u003cbr\\u003eCap %: 4.7%\\u003cbr\\u003eGuaranteed Total: $13,832,000.00\",\"\\u003cb\\u003eKenrich Williams\\u003c\\u002fb\\u003e\\u003cbr\\u003ePosition: PF\\u003cbr\\u003eSeason: 2025-26\\u003cbr\\u003eSalary: $7,163,000.00\\u003cbr\\u003eCap %: 4.6%\\u003cbr\\u003eGuaranteed Total: $13,832,000.00\",\"\\u003cb\\u003eKenrich Williams\\u003c\\u002fb\\u003e\\u003cbr\\u003ePosition: PF\\u003cbr\\u003eSeason: 2026-27\\u003cbr\\u003eSalary: $7,163,000.00\\u003cbr\\u003eCap %: 4.2%\\u003cbr\\u003eGuaranteed Total: $13,832,000.00\",\"\\u003cb\\u003eKenrich Williams\\u003c\\u002fb\\u003e\\u003cbr\\u003ePosition: PF\\u003cbr\\u003eSeason: 2027-28\\u003cbr\\u003eSalary: $0.00\\u003cbr\\u003eCap %: 0.0%\\u003cbr\\u003eGuaranteed Total: $13,832,000.00\",\"\\u003cb\\u003eKenrich Williams\\u003c\\u002fb\\u003e\\u003cbr\\u003ePosition: PF\\u003cbr\\u003eSeason: 2028-29\\u003cbr\\u003eSalary: $0.00\\u003cbr\\u003eCap %: 0.0%\\u003cbr\\u003eGuaranteed Total: $13,832,000.00\",\"\\u003cb\\u003eKenrich Williams\\u003c\\u002fb\\u003e\\u003cbr\\u003ePosition: PF\\u003cbr\\u003eSeason: 2029-30\\u003cbr\\u003eSalary: $0.00\\u003cbr\\u003eCap %: 0.0%\\u003cbr\\u003eGuaranteed Total: $13,832,000.00\"],\"insidetextanchor\":\"middle\",\"marker\":{\"color\":13832000.0,\"line\":{\"color\":\"#0d0106\",\"width\":3},\"opacity\":[1,1,0.35,1,1,1],\"pattern\":{\"shape\":[\"\",\"-\",\"\\u002f\",\"\",\"\",\"\"]}},\"name\":\"Kenrich Williams\",\"showlegend\":true,\"text\":\"\\u003cb\\u003e\\u003cb\\u003e\",\"textfont\":{\"color\":[\"#0d0106\",\"#0d0106\",\"#0d0106\",\"#0d0106\",\"#0d0106\",\"#0d0106\"],\"family\":\"Malgun Gothic\",\"size\":22},\"textposition\":\"inside\",\"x\":[\"2024-25\",\"2025-26\",\"2026-27\",\"2027-28\",\"2028-29\",\"2029-30\"],\"y\":[4.743648106524027,4.631838962281842,4.210755267118134,0.0,0.0,0.0],\"type\":\"bar\"},{\"hoverinfo\":\"text\",\"hovertext\":[\"\\u003cb\\u003eOusmane Dieng\\u003c\\u002fb\\u003e\\u003cbr\\u003ePosition: SF\\u003cbr\\u003eSeason: 2024-25\\u003cbr\\u003eSalary: $5,027,040.00\\u003cbr\\u003eCap %: 3.6%\\u003cbr\\u003eGuaranteed Total: $11,697,922.00\",\"\\u003cb\\u003eOusmane Dieng\\u003c\\u002fb\\u003e\\u003cbr\\u003ePosition: SF\\u003cbr\\u003eSeason: 2025-26\\u003cbr\\u003eSalary: $6,670,882.00\\u003cbr\\u003eCap %: 4.3%\\u003cbr\\u003eGuaranteed Total: $11,697,922.00\",\"\\u003cb\\u003eOusmane Dieng\\u003c\\u002fb\\u003e\\u003cbr\\u003ePosition: SF\\u003cbr\\u003eSeason: 2026-27\\u003cbr\\u003eSalary: $0.00\\u003cbr\\u003eCap %: 0.0%\\u003cbr\\u003eGuaranteed Total: $11,697,922.00\",\"\\u003cb\\u003eOusmane Dieng\\u003c\\u002fb\\u003e\\u003cbr\\u003ePosition: SF\\u003cbr\\u003eSeason: 2027-28\\u003cbr\\u003eSalary: $0.00\\u003cbr\\u003eCap %: 0.0%\\u003cbr\\u003eGuaranteed Total: $11,697,922.00\",\"\\u003cb\\u003eOusmane Dieng\\u003c\\u002fb\\u003e\\u003cbr\\u003ePosition: SF\\u003cbr\\u003eSeason: 2028-29\\u003cbr\\u003eSalary: $0.00\\u003cbr\\u003eCap %: 0.0%\\u003cbr\\u003eGuaranteed Total: $11,697,922.00\",\"\\u003cb\\u003eOusmane Dieng\\u003c\\u002fb\\u003e\\u003cbr\\u003ePosition: SF\\u003cbr\\u003eSeason: 2029-30\\u003cbr\\u003eSalary: $0.00\\u003cbr\\u003eCap %: 0.0%\\u003cbr\\u003eGuaranteed Total: $11,697,922.00\"],\"insidetextanchor\":\"middle\",\"marker\":{\"color\":11697922.0,\"line\":{\"color\":\"#0d0106\",\"width\":3},\"opacity\":[1,1,0.35,1,1,1],\"pattern\":{\"shape\":[\"\",\"-\",\"\\u002f\",\"\",\"\",\"\"]}},\"name\":\"Ousmane Dieng\",\"showlegend\":true,\"text\":\"\\u003cb\\u003e\\u003cb\\u003e\",\"textfont\":{\"color\":[\"#0d0106\",\"#0d0106\",\"#0d0106\",\"#0d0106\",\"#0d0106\",\"#0d0106\"],\"family\":\"Malgun Gothic\",\"size\":22},\"textposition\":\"inside\",\"x\":[\"2024-25\",\"2025-26\",\"2026-27\",\"2027-28\",\"2028-29\",\"2029-30\"],\"y\":[3.575724812928557,4.313618757557534,0.0,0.0,0.0,0.0],\"type\":\"bar\"},{\"hoverinfo\":\"text\",\"hovertext\":[\"\\u003cb\\u003eCason Wallace\\u003c\\u002fb\\u003e\\u003cbr\\u003ePosition: PG\\u003cbr\\u003eSeason: 2024-25\\u003cbr\\u003eSalary: $5,555,880.00\\u003cbr\\u003eCap %: 4.0%\\u003cbr\\u003eGuaranteed Total: $11,376,120.00\",\"\\u003cb\\u003eCason Wallace\\u003c\\u002fb\\u003e\\u003cbr\\u003ePosition: PG\\u003cbr\\u003eSeason: 2025-26\\u003cbr\\u003eSalary: $5,820,240.00\\u003cbr\\u003eCap %: 3.8%\\u003cbr\\u003eGuaranteed Total: $11,376,120.00\",\"\\u003cb\\u003eCason Wallace\\u003c\\u002fb\\u003e\\u003cbr\\u003ePosition: PG\\u003cbr\\u003eSeason: 2026-27\\u003cbr\\u003eSalary: $7,420,806.00\\u003cbr\\u003eCap %: 4.4%\\u003cbr\\u003eGuaranteed Total: $11,376,120.00\",\"\\u003cb\\u003eCason Wallace\\u003c\\u002fb\\u003e\\u003cbr\\u003ePosition: PG\\u003cbr\\u003eSeason: 2027-28\\u003cbr\\u003eSalary: $0.00\\u003cbr\\u003eCap %: 0.0%\\u003cbr\\u003eGuaranteed Total: $11,376,120.00\",\"\\u003cb\\u003eCason Wallace\\u003c\\u002fb\\u003e\\u003cbr\\u003ePosition: PG\\u003cbr\\u003eSeason: 2028-29\\u003cbr\\u003eSalary: $0.00\\u003cbr\\u003eCap %: 0.0%\\u003cbr\\u003eGuaranteed Total: $11,376,120.00\",\"\\u003cb\\u003eCason Wallace\\u003c\\u002fb\\u003e\\u003cbr\\u003ePosition: PG\\u003cbr\\u003eSeason: 2029-30\\u003cbr\\u003eSalary: $0.00\\u003cbr\\u003eCap %: 0.0%\\u003cbr\\u003eGuaranteed Total: $11,376,120.00\"],\"insidetextanchor\":\"middle\",\"marker\":{\"color\":11376120.0,\"line\":{\"color\":\"#0d0106\",\"width\":3},\"opacity\":[1,1,0.35,1,1,1],\"pattern\":{\"shape\":[\"\",\"\",\"\\u002f\",\"\",\"\",\"\"]}},\"name\":\"Cason Wallace\",\"showlegend\":true,\"text\":\"\\u003cb\\u003e\\u003cb\\u003e\",\"textfont\":{\"color\":[\"#0d0106\",\"#0d0106\",\"#0d0106\",\"#0d0106\",\"#0d0106\",\"#0d0106\"],\"family\":\"Malgun Gothic\",\"size\":22},\"textposition\":\"inside\",\"x\":[\"2024-25\",\"2025-26\",\"2026-27\",\"2027-28\",\"2028-29\",\"2029-30\"],\"y\":[3.951887785586252,3.7635647636229606,4.362306010158013,0.0,0.0,0.0],\"type\":\"bar\"},{\"hoverinfo\":\"text\",\"hovertext\":[\"\\u003cb\\u003eJalen Williams\\u003c\\u002fb\\u003e\\u003cbr\\u003ePosition: SF\\u003cbr\\u003eSeason: 2024-25\\u003cbr\\u003eSalary: $4,775,760.00\\u003cbr\\u003eCap %: 3.4%\\u003cbr\\u003eGuaranteed Total: $11,356,757.00\",\"\\u003cb\\u003eJalen Williams\\u003c\\u002fb\\u003e\\u003cbr\\u003ePosition: SF\\u003cbr\\u003eSeason: 2025-26\\u003cbr\\u003eSalary: $6,580,997.00\\u003cbr\\u003eCap %: 4.3%\\u003cbr\\u003eGuaranteed Total: $11,356,757.00\",\"\\u003cb\\u003eJalen Williams\\u003c\\u002fb\\u003e\\u003cbr\\u003ePosition: SF\\u003cbr\\u003eSeason: 2026-27\\u003cbr\\u003eSalary: $0.00\\u003cbr\\u003eCap %: 0.0%\\u003cbr\\u003eGuaranteed Total: $11,356,757.00\",\"\\u003cb\\u003eJalen Williams\\u003c\\u002fb\\u003e\\u003cbr\\u003ePosition: SF\\u003cbr\\u003eSeason: 2027-28\\u003cbr\\u003eSalary: $0.00\\u003cbr\\u003eCap %: 0.0%\\u003cbr\\u003eGuaranteed Total: $11,356,757.00\",\"\\u003cb\\u003eJalen Williams\\u003c\\u002fb\\u003e\\u003cbr\\u003ePosition: SF\\u003cbr\\u003eSeason: 2028-29\\u003cbr\\u003eSalary: $0.00\\u003cbr\\u003eCap %: 0.0%\\u003cbr\\u003eGuaranteed Total: $11,356,757.00\",\"\\u003cb\\u003eJalen Williams\\u003c\\u002fb\\u003e\\u003cbr\\u003ePosition: SF\\u003cbr\\u003eSeason: 2029-30\\u003cbr\\u003eSalary: $0.00\\u003cbr\\u003eCap %: 0.0%\\u003cbr\\u003eGuaranteed Total: $11,356,757.00\"],\"insidetextanchor\":\"middle\",\"marker\":{\"color\":11356757.0,\"line\":{\"color\":\"#0d0106\",\"width\":3},\"opacity\":[1,1,1,1,1,1],\"pattern\":{\"shape\":[\"\",\"-\",\"\",\"\",\"\",\"\"]}},\"name\":\"Jalen Williams\",\"showlegend\":true,\"text\":\"\\u003cb\\u003e\\u003cb\\u003e\",\"textfont\":{\"color\":[\"#0d0106\",\"#0d0106\",\"#0d0106\",\"#0d0106\",\"#0d0106\",\"#0d0106\"],\"family\":\"Malgun Gothic\",\"size\":22},\"textposition\":\"inside\",\"x\":[\"2024-25\",\"2025-26\",\"2026-27\",\"2027-28\",\"2028-29\",\"2029-30\"],\"y\":[3.3969897857569635,4.255496065232433,0.0,0.0,0.0,0.0],\"type\":\"bar\"},{\"hoverinfo\":\"text\",\"hovertext\":[\"\\u003cb\\u003eNikola Topic\\u003c\\u002fb\\u003e\\u003cbr\\u003ePosition: PG\\u003cbr\\u003eSeason: 2024-25\\u003cbr\\u003eSalary: $4,935,960.00\\u003cbr\\u003eCap %: 3.5%\\u003cbr\\u003eGuaranteed Total: $10,118,880.00\",\"\\u003cb\\u003eNikola Topic\\u003c\\u002fb\\u003e\\u003cbr\\u003ePosition: PG\\u003cbr\\u003eSeason: 2025-26\\u003cbr\\u003eSalary: $5,182,920.00\\u003cbr\\u003eCap %: 3.4%\\u003cbr\\u003eGuaranteed Total: $10,118,880.00\",\"\\u003cb\\u003eNikola Topic\\u003c\\u002fb\\u003e\\u003cbr\\u003ePosition: PG\\u003cbr\\u003eSeason: 2026-27\\u003cbr\\u003eSalary: $5,429,760.00\\u003cbr\\u003eCap %: 3.2%\\u003cbr\\u003eGuaranteed Total: $10,118,880.00\",\"\\u003cb\\u003eNikola Topic\\u003c\\u002fb\\u003e\\u003cbr\\u003ePosition: PG\\u003cbr\\u003eSeason: 2027-28\\u003cbr\\u003eSalary: $7,482,210.00\\u003cbr\\u003eCap %: 4.0%\\u003cbr\\u003eGuaranteed Total: $10,118,880.00\",\"\\u003cb\\u003eNikola Topic\\u003c\\u002fb\\u003e\\u003cbr\\u003ePosition: PG\\u003cbr\\u003eSeason: 2028-29\\u003cbr\\u003eSalary: $0.00\\u003cbr\\u003eCap %: 0.0%\\u003cbr\\u003eGuaranteed Total: $10,118,880.00\",\"\\u003cb\\u003eNikola Topic\\u003c\\u002fb\\u003e\\u003cbr\\u003ePosition: PG\\u003cbr\\u003eSeason: 2029-30\\u003cbr\\u003eSalary: $0.00\\u003cbr\\u003eCap %: 0.0%\\u003cbr\\u003eGuaranteed Total: $10,118,880.00\"],\"insidetextanchor\":\"middle\",\"marker\":{\"color\":10118880.0,\"line\":{\"color\":\"#0d0106\",\"width\":3},\"opacity\":[1,1,0.35,0.35,1,1],\"pattern\":{\"shape\":[\"\",\"\",\"\\u002f\",\"\\u002f\",\"\",\"\"]}},\"name\":\"Nikola Topic\",\"showlegend\":true,\"text\":\"\\u003cb\\u003e\\u003cb\\u003e\",\"textfont\":{\"color\":[\"#0d0106\",\"#0d0106\",\"#0d0106\",\"#0d0106\",\"#0d0106\",\"#0d0106\"],\"family\":\"Malgun Gothic\",\"size\":22},\"textposition\":\"inside\",\"x\":[\"2024-25\",\"2025-26\",\"2026-27\",\"2027-28\",\"2028-29\",\"2029-30\"],\"y\":[3.510939767263209,3.3514520165279635,3.1918735891647856,3.9985517547281733,0.0,0.0],\"type\":\"bar\"},{\"hoverinfo\":\"text\",\"hovertext\":[\"\\u003cb\\u003eDillon Jones\\u003c\\u002fb\\u003e\\u003cbr\\u003ePosition: SF\\u003cbr\\u003eSeason: 2024-25\\u003cbr\\u003eSalary: $2,622,360.00\\u003cbr\\u003eCap %: 1.9%\\u003cbr\\u003eGuaranteed Total: $5,375,640.00\",\"\\u003cb\\u003eDillon Jones\\u003c\\u002fb\\u003e\\u003cbr\\u003ePosition: SF\\u003cbr\\u003eSeason: 2025-26\\u003cbr\\u003eSalary: $2,753,280.00\\u003cbr\\u003eCap %: 1.8%\\u003cbr\\u003eGuaranteed Total: $5,375,640.00\",\"\\u003cb\\u003eDillon Jones\\u003c\\u002fb\\u003e\\u003cbr\\u003ePosition: SF\\u003cbr\\u003eSeason: 2026-27\\u003cbr\\u003eSalary: $2,884,440.00\\u003cbr\\u003eCap %: 1.7%\\u003cbr\\u003eGuaranteed Total: $5,375,640.00\",\"\\u003cb\\u003eDillon Jones\\u003c\\u002fb\\u003e\\u003cbr\\u003ePosition: SF\\u003cbr\\u003eSeason: 2027-28\\u003cbr\\u003eSalary: $5,200,646.00\\u003cbr\\u003eCap %: 2.8%\\u003cbr\\u003eGuaranteed Total: $5,375,640.00\",\"\\u003cb\\u003eDillon Jones\\u003c\\u002fb\\u003e\\u003cbr\\u003ePosition: SF\\u003cbr\\u003eSeason: 2028-29\\u003cbr\\u003eSalary: $0.00\\u003cbr\\u003eCap %: 0.0%\\u003cbr\\u003eGuaranteed Total: $5,375,640.00\",\"\\u003cb\\u003eDillon Jones\\u003c\\u002fb\\u003e\\u003cbr\\u003ePosition: SF\\u003cbr\\u003eSeason: 2029-30\\u003cbr\\u003eSalary: $0.00\\u003cbr\\u003eCap %: 0.0%\\u003cbr\\u003eGuaranteed Total: $5,375,640.00\"],\"insidetextanchor\":\"middle\",\"marker\":{\"color\":5375640.0,\"line\":{\"color\":\"#0d0106\",\"width\":3},\"opacity\":[1,1,0.35,0.35,1,1],\"pattern\":{\"shape\":[\"\",\"\",\"\\u002f\",\"\\u002f\",\"\",\"\"]}},\"name\":\"Dillon Jones\",\"showlegend\":true,\"text\":\"\\u003cb\\u003e\\u003cb\\u003e\",\"textfont\":{\"color\":[\"#0d0106\",\"#0d0106\",\"#0d0106\",\"#0d0106\",\"#0d0106\",\"#0d0106\"],\"family\":\"Malgun Gothic\",\"size\":22},\"textposition\":\"inside\",\"x\":[\"2024-25\",\"2025-26\",\"2026-27\",\"2027-28\",\"2028-29\",\"2029-30\"],\"y\":[1.865280109255413,1.7803643135657337,1.69561230248307,2.779266044259658,0.0,0.0],\"type\":\"bar\"},{\"hoverinfo\":\"text\",\"hovertext\":[\"\\u003cb\\u003eJaylin Williams\\u003c\\u002fb\\u003e\\u003cbr\\u003ePosition: C\\u003cbr\\u003eSeason: 2024-25\\u003cbr\\u003eSalary: $2,019,699.00\\u003cbr\\u003eCap %: 1.4%\\u003cbr\\u003eGuaranteed Total: $4,207,398.00\",\"\\u003cb\\u003eJaylin Williams\\u003c\\u002fb\\u003e\\u003cbr\\u003ePosition: C\\u003cbr\\u003eSeason: 2025-26\\u003cbr\\u003eSalary: $2,187,699.00\\u003cbr\\u003eCap %: 1.4%\\u003cbr\\u003eGuaranteed Total: $4,207,398.00\",\"\\u003cb\\u003eJaylin Williams\\u003c\\u002fb\\u003e\\u003cbr\\u003ePosition: C\\u003cbr\\u003eSeason: 2026-27\\u003cbr\\u003eSalary: $0.00\\u003cbr\\u003eCap %: 0.0%\\u003cbr\\u003eGuaranteed Total: $4,207,398.00\",\"\\u003cb\\u003eJaylin Williams\\u003c\\u002fb\\u003e\\u003cbr\\u003ePosition: C\\u003cbr\\u003eSeason: 2027-28\\u003cbr\\u003eSalary: $0.00\\u003cbr\\u003eCap %: 0.0%\\u003cbr\\u003eGuaranteed Total: $4,207,398.00\",\"\\u003cb\\u003eJaylin Williams\\u003c\\u002fb\\u003e\\u003cbr\\u003ePosition: C\\u003cbr\\u003eSeason: 2028-29\\u003cbr\\u003eSalary: $0.00\\u003cbr\\u003eCap %: 0.0%\\u003cbr\\u003eGuaranteed Total: $4,207,398.00\",\"\\u003cb\\u003eJaylin Williams\\u003c\\u002fb\\u003e\\u003cbr\\u003ePosition: C\\u003cbr\\u003eSeason: 2029-30\\u003cbr\\u003eSalary: $0.00\\u003cbr\\u003eCap %: 0.0%\\u003cbr\\u003eGuaranteed Total: $4,207,398.00\"],\"insidetextanchor\":\"middle\",\"marker\":{\"color\":4207398.0,\"line\":{\"color\":\"#0d0106\",\"width\":3},\"opacity\":[1,1,1,1,1,1],\"pattern\":{\"shape\":[\"\",\"\",\"\",\"\",\"\",\"\"]}},\"name\":\"Jaylin Williams\",\"showlegend\":true,\"text\":\"\\u003cb\\u003e\\u003cb\\u003e\",\"textfont\":{\"color\":[\"#0d0106\",\"#0d0106\",\"#0d0106\",\"#0d0106\",\"#0d0106\",\"#0d0106\"],\"family\":\"Malgun Gothic\",\"size\":22},\"textposition\":\"inside\",\"x\":[\"2024-25\",\"2025-26\",\"2026-27\",\"2027-28\",\"2028-29\",\"2029-30\"],\"y\":[1.4366083876291007,1.4146404391937768,0.0,0.0,0.0,0.0],\"type\":\"bar\"},{\"hoverinfo\":\"text\",\"hovertext\":[\"\\u003cb\\u003eAjay Mitchell\\u003c\\u002fb\\u003e\\u003cbr\\u003ePosition: PG\\u003cbr\\u003eSeason: 2024-25\\u003cbr\\u003eSalary: $3,000,000.00\\u003cbr\\u003eCap %: 2.1%\\u003cbr\\u003eGuaranteed Total: $3,000,000.00\",\"\\u003cb\\u003eAjay Mitchell\\u003c\\u002fb\\u003e\\u003cbr\\u003ePosition: PG\\u003cbr\\u003eSeason: 2025-26\\u003cbr\\u003eSalary: $3,000,000.00\\u003cbr\\u003eCap %: 1.9%\\u003cbr\\u003eGuaranteed Total: $3,000,000.00\",\"\\u003cb\\u003eAjay Mitchell\\u003c\\u002fb\\u003e\\u003cbr\\u003ePosition: PG\\u003cbr\\u003eSeason: 2026-27\\u003cbr\\u003eSalary: $0.00\\u003cbr\\u003eCap %: 0.0%\\u003cbr\\u003eGuaranteed Total: $3,000,000.00\",\"\\u003cb\\u003eAjay Mitchell\\u003c\\u002fb\\u003e\\u003cbr\\u003ePosition: PG\\u003cbr\\u003eSeason: 2027-28\\u003cbr\\u003eSalary: $0.00\\u003cbr\\u003eCap %: 0.0%\\u003cbr\\u003eGuaranteed Total: $3,000,000.00\",\"\\u003cb\\u003eAjay Mitchell\\u003c\\u002fb\\u003e\\u003cbr\\u003ePosition: PG\\u003cbr\\u003eSeason: 2028-29\\u003cbr\\u003eSalary: $0.00\\u003cbr\\u003eCap %: 0.0%\\u003cbr\\u003eGuaranteed Total: $3,000,000.00\",\"\\u003cb\\u003eAjay Mitchell\\u003c\\u002fb\\u003e\\u003cbr\\u003ePosition: PG\\u003cbr\\u003eSeason: 2029-30\\u003cbr\\u003eSalary: $0.00\\u003cbr\\u003eCap %: 0.0%\\u003cbr\\u003eGuaranteed Total: $3,000,000.00\"],\"insidetextanchor\":\"middle\",\"marker\":{\"color\":3000000.0,\"line\":{\"color\":\"#0d0106\",\"width\":3},\"opacity\":[1,0.35,1,1,1,1],\"pattern\":{\"shape\":[\"\",\"\\u002f\",\"\",\"\",\"\",\"\"]}},\"name\":\"Ajay Mitchell\",\"showlegend\":true,\"text\":\"\\u003cb\\u003e\\u003cb\\u003e\",\"textfont\":{\"color\":[\"#0d0106\",\"#0d0106\",\"#0d0106\",\"#0d0106\",\"#0d0106\",\"#0d0106\"],\"family\":\"Malgun Gothic\",\"size\":22},\"textposition\":\"inside\",\"x\":[\"2024-25\",\"2025-26\",\"2026-27\",\"2027-28\",\"2028-29\",\"2029-30\"],\"y\":[2.133894784761146,1.9399018409668471,0.0,0.0,0.0,0.0],\"type\":\"bar\"},{\"hoverinfo\":\"text\",\"hovertext\":[\"\\u003cb\\u003eDead Cap\\u003c\\u002fb\\u003e\\u003cbr\\u003ePosition: nan\\u003cbr\\u003eSeason: 2024-25\\u003cbr\\u003eSalary: $3,792,452.00\\u003cbr\\u003eCap %: 2.7%\\u003cbr\\u003eGuaranteed Total: $553,591.00\",\"\\u003cb\\u003eDead Cap\\u003c\\u002fb\\u003e\\u003cbr\\u003ePosition: nan\\u003cbr\\u003eSeason: 2025-26\\u003cbr\\u003eSalary: $0.00\\u003cbr\\u003eCap %: 0.0%\\u003cbr\\u003eGuaranteed Total: $553,591.00\",\"\\u003cb\\u003eDead Cap\\u003c\\u002fb\\u003e\\u003cbr\\u003ePosition: nan\\u003cbr\\u003eSeason: 2026-27\\u003cbr\\u003eSalary: $0.00\\u003cbr\\u003eCap %: 0.0%\\u003cbr\\u003eGuaranteed Total: $553,591.00\",\"\\u003cb\\u003eDead Cap\\u003c\\u002fb\\u003e\\u003cbr\\u003ePosition: nan\\u003cbr\\u003eSeason: 2027-28\\u003cbr\\u003eSalary: $0.00\\u003cbr\\u003eCap %: 0.0%\\u003cbr\\u003eGuaranteed Total: $553,591.00\",\"\\u003cb\\u003eDead Cap\\u003c\\u002fb\\u003e\\u003cbr\\u003ePosition: nan\\u003cbr\\u003eSeason: 2028-29\\u003cbr\\u003eSalary: $0.00\\u003cbr\\u003eCap %: 0.0%\\u003cbr\\u003eGuaranteed Total: $553,591.00\",\"\\u003cb\\u003eDead Cap\\u003c\\u002fb\\u003e\\u003cbr\\u003ePosition: nan\\u003cbr\\u003eSeason: 2029-30\\u003cbr\\u003eSalary: $0.00\\u003cbr\\u003eCap %: 0.0%\\u003cbr\\u003eGuaranteed Total: $553,591.00\"],\"insidetextanchor\":\"middle\",\"marker\":{\"color\":553591.0,\"line\":{\"color\":\"#0d0106\",\"width\":3},\"opacity\":[1,1,1,1,1,1],\"pattern\":{\"shape\":[\"\",\"\",\"\",\"\",\"\",\"\"]}},\"name\":\"Dead Cap\",\"showlegend\":true,\"text\":\"\\u003cb\\u003e\\u003cb\\u003e\",\"textfont\":{\"color\":[\"#0d0106\",\"#0d0106\",\"#0d0106\",\"#0d0106\",\"#0d0106\",\"#0d0106\"],\"family\":\"Malgun Gothic\",\"size\":22},\"textposition\":\"inside\",\"x\":[\"2024-25\",\"2025-26\",\"2026-27\",\"2027-28\",\"2028-29\",\"2029-30\"],\"y\":[2.697564514752326,0.0,0.0,0.0,0.0,0.0],\"type\":\"bar\"},{\"hoverinfo\":\"text\",\"hovertext\":[\"\\u003cb\\u003eAlex Ducas\\u003c\\u002fb\\u003e\\u003cbr\\u003ePosition: G\\u003cbr\\u003eSeason: 2024-25\\u003cbr\\u003eSalary: $0.00\\u003cbr\\u003eCap %: 0.0%\\u003cbr\\u003eGuaranteed Total: $0.00\",\"\\u003cb\\u003eAlex Ducas\\u003c\\u002fb\\u003e\\u003cbr\\u003ePosition: G\\u003cbr\\u003eSeason: 2025-26\\u003cbr\\u003eSalary: $0.00\\u003cbr\\u003eCap %: 0.0%\\u003cbr\\u003eGuaranteed Total: $0.00\",\"\\u003cb\\u003eAlex Ducas\\u003c\\u002fb\\u003e\\u003cbr\\u003ePosition: G\\u003cbr\\u003eSeason: 2026-27\\u003cbr\\u003eSalary: $0.00\\u003cbr\\u003eCap %: 0.0%\\u003cbr\\u003eGuaranteed Total: $0.00\",\"\\u003cb\\u003eAlex Ducas\\u003c\\u002fb\\u003e\\u003cbr\\u003ePosition: G\\u003cbr\\u003eSeason: 2027-28\\u003cbr\\u003eSalary: $0.00\\u003cbr\\u003eCap %: 0.0%\\u003cbr\\u003eGuaranteed Total: $0.00\",\"\\u003cb\\u003eAlex Ducas\\u003c\\u002fb\\u003e\\u003cbr\\u003ePosition: G\\u003cbr\\u003eSeason: 2028-29\\u003cbr\\u003eSalary: $0.00\\u003cbr\\u003eCap %: 0.0%\\u003cbr\\u003eGuaranteed Total: $0.00\",\"\\u003cb\\u003eAlex Ducas\\u003c\\u002fb\\u003e\\u003cbr\\u003ePosition: G\\u003cbr\\u003eSeason: 2029-30\\u003cbr\\u003eSalary: $0.00\\u003cbr\\u003eCap %: 0.0%\\u003cbr\\u003eGuaranteed Total: $0.00\"],\"insidetextanchor\":\"middle\",\"marker\":{\"color\":0.0,\"line\":{\"color\":\"#0d0106\",\"width\":3},\"opacity\":[1,1,1,1,1,1],\"pattern\":{\"shape\":[\"\",\"\",\"\",\"\",\"\",\"\"]}},\"name\":\"Alex Ducas\",\"showlegend\":true,\"text\":\"\\u003cb\\u003e\\u003cb\\u003e\",\"textfont\":{\"color\":[\"#0d0106\",\"#0d0106\",\"#0d0106\",\"#0d0106\",\"#0d0106\",\"#0d0106\"],\"family\":\"Malgun Gothic\",\"size\":22},\"textposition\":\"inside\",\"x\":[\"2024-25\",\"2025-26\",\"2026-27\",\"2027-28\",\"2028-29\",\"2029-30\"],\"y\":[0.0,0.0,0.0,0.0,0.0,0.0],\"type\":\"bar\"},{\"hoverinfo\":\"text\",\"hovertext\":[\"\\u003cb\\u003eAdam Flagler\\u003c\\u002fb\\u003e\\u003cbr\\u003ePosition: G\\u003cbr\\u003eSeason: 2024-25\\u003cbr\\u003eSalary: $0.00\\u003cbr\\u003eCap %: 0.0%\\u003cbr\\u003eGuaranteed Total: $0.00\",\"\\u003cb\\u003eAdam Flagler\\u003c\\u002fb\\u003e\\u003cbr\\u003ePosition: G\\u003cbr\\u003eSeason: 2025-26\\u003cbr\\u003eSalary: $0.00\\u003cbr\\u003eCap %: 0.0%\\u003cbr\\u003eGuaranteed Total: $0.00\",\"\\u003cb\\u003eAdam Flagler\\u003c\\u002fb\\u003e\\u003cbr\\u003ePosition: G\\u003cbr\\u003eSeason: 2026-27\\u003cbr\\u003eSalary: $0.00\\u003cbr\\u003eCap %: 0.0%\\u003cbr\\u003eGuaranteed Total: $0.00\",\"\\u003cb\\u003eAdam Flagler\\u003c\\u002fb\\u003e\\u003cbr\\u003ePosition: G\\u003cbr\\u003eSeason: 2027-28\\u003cbr\\u003eSalary: $0.00\\u003cbr\\u003eCap %: 0.0%\\u003cbr\\u003eGuaranteed Total: $0.00\",\"\\u003cb\\u003eAdam Flagler\\u003c\\u002fb\\u003e\\u003cbr\\u003ePosition: G\\u003cbr\\u003eSeason: 2028-29\\u003cbr\\u003eSalary: $0.00\\u003cbr\\u003eCap %: 0.0%\\u003cbr\\u003eGuaranteed Total: $0.00\",\"\\u003cb\\u003eAdam Flagler\\u003c\\u002fb\\u003e\\u003cbr\\u003ePosition: G\\u003cbr\\u003eSeason: 2029-30\\u003cbr\\u003eSalary: $0.00\\u003cbr\\u003eCap %: 0.0%\\u003cbr\\u003eGuaranteed Total: $0.00\"],\"insidetextanchor\":\"middle\",\"marker\":{\"color\":0.0,\"line\":{\"color\":\"#0d0106\",\"width\":3},\"opacity\":[1,1,1,1,1,1],\"pattern\":{\"shape\":[\"\",\"\",\"\",\"\",\"\",\"\"]}},\"name\":\"Adam Flagler\",\"showlegend\":true,\"text\":\"\\u003cb\\u003e\\u003cb\\u003e\",\"textfont\":{\"color\":[\"#0d0106\",\"#0d0106\",\"#0d0106\",\"#0d0106\",\"#0d0106\",\"#0d0106\"],\"family\":\"Malgun Gothic\",\"size\":22},\"textposition\":\"inside\",\"x\":[\"2024-25\",\"2025-26\",\"2026-27\",\"2027-28\",\"2028-29\",\"2029-30\"],\"y\":[0.0,0.0,0.0,0.0,0.0,0.0],\"type\":\"bar\"},{\"hoverinfo\":\"text\",\"hovertext\":[\"\\u003cb\\u003eBranden Carlson\\u003c\\u002fb\\u003e\\u003cbr\\u003ePosition: C\\u003cbr\\u003eSeason: 2024-25\\u003cbr\\u003eSalary: $0.00\\u003cbr\\u003eCap %: 0.0%\\u003cbr\\u003eGuaranteed Total: $0.00\",\"\\u003cb\\u003eBranden Carlson\\u003c\\u002fb\\u003e\\u003cbr\\u003ePosition: C\\u003cbr\\u003eSeason: 2025-26\\u003cbr\\u003eSalary: $0.00\\u003cbr\\u003eCap %: 0.0%\\u003cbr\\u003eGuaranteed Total: $0.00\",\"\\u003cb\\u003eBranden Carlson\\u003c\\u002fb\\u003e\\u003cbr\\u003ePosition: C\\u003cbr\\u003eSeason: 2026-27\\u003cbr\\u003eSalary: $0.00\\u003cbr\\u003eCap %: 0.0%\\u003cbr\\u003eGuaranteed Total: $0.00\",\"\\u003cb\\u003eBranden Carlson\\u003c\\u002fb\\u003e\\u003cbr\\u003ePosition: C\\u003cbr\\u003eSeason: 2027-28\\u003cbr\\u003eSalary: $0.00\\u003cbr\\u003eCap %: 0.0%\\u003cbr\\u003eGuaranteed Total: $0.00\",\"\\u003cb\\u003eBranden Carlson\\u003c\\u002fb\\u003e\\u003cbr\\u003ePosition: C\\u003cbr\\u003eSeason: 2028-29\\u003cbr\\u003eSalary: $0.00\\u003cbr\\u003eCap %: 0.0%\\u003cbr\\u003eGuaranteed Total: $0.00\",\"\\u003cb\\u003eBranden Carlson\\u003c\\u002fb\\u003e\\u003cbr\\u003ePosition: C\\u003cbr\\u003eSeason: 2029-30\\u003cbr\\u003eSalary: $0.00\\u003cbr\\u003eCap %: 0.0%\\u003cbr\\u003eGuaranteed Total: $0.00\"],\"insidetextanchor\":\"middle\",\"marker\":{\"color\":0.0,\"line\":{\"color\":\"#0d0106\",\"width\":3},\"opacity\":[1,1,1,1,1,1],\"pattern\":{\"shape\":[\"\",\"\",\"\",\"\",\"\",\"\"]}},\"name\":\"Branden Carlson\",\"showlegend\":true,\"text\":\"\\u003cb\\u003e\\u003cb\\u003e\",\"textfont\":{\"color\":[\"#0d0106\",\"#0d0106\",\"#0d0106\",\"#0d0106\",\"#0d0106\",\"#0d0106\"],\"family\":\"Malgun Gothic\",\"size\":22},\"textposition\":\"inside\",\"x\":[\"2024-25\",\"2025-26\",\"2026-27\",\"2027-28\",\"2028-29\",\"2029-30\"],\"y\":[0.0,0.0,0.0,0.0,0.0,0.0],\"type\":\"bar\"}],                        {\"template\":{\"data\":{\"histogram2dcontour\":[{\"type\":\"histogram2dcontour\",\"colorbar\":{\"outlinewidth\":0,\"ticks\":\"\"},\"colorscale\":[[0.0,\"#0d0887\"],[0.1111111111111111,\"#46039f\"],[0.2222222222222222,\"#7201a8\"],[0.3333333333333333,\"#9c179e\"],[0.4444444444444444,\"#bd3786\"],[0.5555555555555556,\"#d8576b\"],[0.6666666666666666,\"#ed7953\"],[0.7777777777777778,\"#fb9f3a\"],[0.8888888888888888,\"#fdca26\"],[1.0,\"#f0f921\"]]}],\"choropleth\":[{\"type\":\"choropleth\",\"colorbar\":{\"outlinewidth\":0,\"ticks\":\"\"}}],\"histogram2d\":[{\"type\":\"histogram2d\",\"colorbar\":{\"outlinewidth\":0,\"ticks\":\"\"},\"colorscale\":[[0.0,\"#0d0887\"],[0.1111111111111111,\"#46039f\"],[0.2222222222222222,\"#7201a8\"],[0.3333333333333333,\"#9c179e\"],[0.4444444444444444,\"#bd3786\"],[0.5555555555555556,\"#d8576b\"],[0.6666666666666666,\"#ed7953\"],[0.7777777777777778,\"#fb9f3a\"],[0.8888888888888888,\"#fdca26\"],[1.0,\"#f0f921\"]]}],\"heatmap\":[{\"type\":\"heatmap\",\"colorbar\":{\"outlinewidth\":0,\"ticks\":\"\"},\"colorscale\":[[0.0,\"#0d0887\"],[0.1111111111111111,\"#46039f\"],[0.2222222222222222,\"#7201a8\"],[0.3333333333333333,\"#9c179e\"],[0.4444444444444444,\"#bd3786\"],[0.5555555555555556,\"#d8576b\"],[0.6666666666666666,\"#ed7953\"],[0.7777777777777778,\"#fb9f3a\"],[0.8888888888888888,\"#fdca26\"],[1.0,\"#f0f921\"]]}],\"heatmapgl\":[{\"type\":\"heatmapgl\",\"colorbar\":{\"outlinewidth\":0,\"ticks\":\"\"},\"colorscale\":[[0.0,\"#0d0887\"],[0.1111111111111111,\"#46039f\"],[0.2222222222222222,\"#7201a8\"],[0.3333333333333333,\"#9c179e\"],[0.4444444444444444,\"#bd3786\"],[0.5555555555555556,\"#d8576b\"],[0.6666666666666666,\"#ed7953\"],[0.7777777777777778,\"#fb9f3a\"],[0.8888888888888888,\"#fdca26\"],[1.0,\"#f0f921\"]]}],\"contourcarpet\":[{\"type\":\"contourcarpet\",\"colorbar\":{\"outlinewidth\":0,\"ticks\":\"\"}}],\"contour\":[{\"type\":\"contour\",\"colorbar\":{\"outlinewidth\":0,\"ticks\":\"\"},\"colorscale\":[[0.0,\"#0d0887\"],[0.1111111111111111,\"#46039f\"],[0.2222222222222222,\"#7201a8\"],[0.3333333333333333,\"#9c179e\"],[0.4444444444444444,\"#bd3786\"],[0.5555555555555556,\"#d8576b\"],[0.6666666666666666,\"#ed7953\"],[0.7777777777777778,\"#fb9f3a\"],[0.8888888888888888,\"#fdca26\"],[1.0,\"#f0f921\"]]}],\"surface\":[{\"type\":\"surface\",\"colorbar\":{\"outlinewidth\":0,\"ticks\":\"\"},\"colorscale\":[[0.0,\"#0d0887\"],[0.1111111111111111,\"#46039f\"],[0.2222222222222222,\"#7201a8\"],[0.3333333333333333,\"#9c179e\"],[0.4444444444444444,\"#bd3786\"],[0.5555555555555556,\"#d8576b\"],[0.6666666666666666,\"#ed7953\"],[0.7777777777777778,\"#fb9f3a\"],[0.8888888888888888,\"#fdca26\"],[1.0,\"#f0f921\"]]}],\"mesh3d\":[{\"type\":\"mesh3d\",\"colorbar\":{\"outlinewidth\":0,\"ticks\":\"\"}}],\"scatter\":[{\"fillpattern\":{\"fillmode\":\"overlay\",\"size\":10,\"solidity\":0.2},\"type\":\"scatter\"}],\"parcoords\":[{\"type\":\"parcoords\",\"line\":{\"colorbar\":{\"outlinewidth\":0,\"ticks\":\"\"}}}],\"scatterpolargl\":[{\"type\":\"scatterpolargl\",\"marker\":{\"colorbar\":{\"outlinewidth\":0,\"ticks\":\"\"}}}],\"bar\":[{\"error_x\":{\"color\":\"#2a3f5f\"},\"error_y\":{\"color\":\"#2a3f5f\"},\"marker\":{\"line\":{\"color\":\"#E5ECF6\",\"width\":0.5},\"pattern\":{\"fillmode\":\"overlay\",\"size\":10,\"solidity\":0.2}},\"type\":\"bar\"}],\"scattergeo\":[{\"type\":\"scattergeo\",\"marker\":{\"colorbar\":{\"outlinewidth\":0,\"ticks\":\"\"}}}],\"scatterpolar\":[{\"type\":\"scatterpolar\",\"marker\":{\"colorbar\":{\"outlinewidth\":0,\"ticks\":\"\"}}}],\"histogram\":[{\"marker\":{\"pattern\":{\"fillmode\":\"overlay\",\"size\":10,\"solidity\":0.2}},\"type\":\"histogram\"}],\"scattergl\":[{\"type\":\"scattergl\",\"marker\":{\"colorbar\":{\"outlinewidth\":0,\"ticks\":\"\"}}}],\"scatter3d\":[{\"type\":\"scatter3d\",\"line\":{\"colorbar\":{\"outlinewidth\":0,\"ticks\":\"\"}},\"marker\":{\"colorbar\":{\"outlinewidth\":0,\"ticks\":\"\"}}}],\"scattermapbox\":[{\"type\":\"scattermapbox\",\"marker\":{\"colorbar\":{\"outlinewidth\":0,\"ticks\":\"\"}}}],\"scatterternary\":[{\"type\":\"scatterternary\",\"marker\":{\"colorbar\":{\"outlinewidth\":0,\"ticks\":\"\"}}}],\"scattercarpet\":[{\"type\":\"scattercarpet\",\"marker\":{\"colorbar\":{\"outlinewidth\":0,\"ticks\":\"\"}}}],\"carpet\":[{\"aaxis\":{\"endlinecolor\":\"#2a3f5f\",\"gridcolor\":\"white\",\"linecolor\":\"white\",\"minorgridcolor\":\"white\",\"startlinecolor\":\"#2a3f5f\"},\"baxis\":{\"endlinecolor\":\"#2a3f5f\",\"gridcolor\":\"white\",\"linecolor\":\"white\",\"minorgridcolor\":\"white\",\"startlinecolor\":\"#2a3f5f\"},\"type\":\"carpet\"}],\"table\":[{\"cells\":{\"fill\":{\"color\":\"#EBF0F8\"},\"line\":{\"color\":\"white\"}},\"header\":{\"fill\":{\"color\":\"#C8D4E3\"},\"line\":{\"color\":\"white\"}},\"type\":\"table\"}],\"barpolar\":[{\"marker\":{\"line\":{\"color\":\"#E5ECF6\",\"width\":0.5},\"pattern\":{\"fillmode\":\"overlay\",\"size\":10,\"solidity\":0.2}},\"type\":\"barpolar\"}],\"pie\":[{\"automargin\":true,\"type\":\"pie\"}]},\"layout\":{\"autotypenumbers\":\"strict\",\"colorway\":[\"#636efa\",\"#EF553B\",\"#00cc96\",\"#ab63fa\",\"#FFA15A\",\"#19d3f3\",\"#FF6692\",\"#B6E880\",\"#FF97FF\",\"#FECB52\"],\"font\":{\"color\":\"#2a3f5f\"},\"hovermode\":\"closest\",\"hoverlabel\":{\"align\":\"left\"},\"paper_bgcolor\":\"white\",\"plot_bgcolor\":\"#E5ECF6\",\"polar\":{\"bgcolor\":\"#E5ECF6\",\"angularaxis\":{\"gridcolor\":\"white\",\"linecolor\":\"white\",\"ticks\":\"\"},\"radialaxis\":{\"gridcolor\":\"white\",\"linecolor\":\"white\",\"ticks\":\"\"}},\"ternary\":{\"bgcolor\":\"#E5ECF6\",\"aaxis\":{\"gridcolor\":\"white\",\"linecolor\":\"white\",\"ticks\":\"\"},\"baxis\":{\"gridcolor\":\"white\",\"linecolor\":\"white\",\"ticks\":\"\"},\"caxis\":{\"gridcolor\":\"white\",\"linecolor\":\"white\",\"ticks\":\"\"}},\"coloraxis\":{\"colorbar\":{\"outlinewidth\":0,\"ticks\":\"\"}},\"colorscale\":{\"sequential\":[[0.0,\"#0d0887\"],[0.1111111111111111,\"#46039f\"],[0.2222222222222222,\"#7201a8\"],[0.3333333333333333,\"#9c179e\"],[0.4444444444444444,\"#bd3786\"],[0.5555555555555556,\"#d8576b\"],[0.6666666666666666,\"#ed7953\"],[0.7777777777777778,\"#fb9f3a\"],[0.8888888888888888,\"#fdca26\"],[1.0,\"#f0f921\"]],\"sequentialminus\":[[0.0,\"#0d0887\"],[0.1111111111111111,\"#46039f\"],[0.2222222222222222,\"#7201a8\"],[0.3333333333333333,\"#9c179e\"],[0.4444444444444444,\"#bd3786\"],[0.5555555555555556,\"#d8576b\"],[0.6666666666666666,\"#ed7953\"],[0.7777777777777778,\"#fb9f3a\"],[0.8888888888888888,\"#fdca26\"],[1.0,\"#f0f921\"]],\"diverging\":[[0,\"#8e0152\"],[0.1,\"#c51b7d\"],[0.2,\"#de77ae\"],[0.3,\"#f1b6da\"],[0.4,\"#fde0ef\"],[0.5,\"#f7f7f7\"],[0.6,\"#e6f5d0\"],[0.7,\"#b8e186\"],[0.8,\"#7fbc41\"],[0.9,\"#4d9221\"],[1,\"#276419\"]]},\"xaxis\":{\"gridcolor\":\"white\",\"linecolor\":\"white\",\"ticks\":\"\",\"title\":{\"standoff\":15},\"zerolinecolor\":\"white\",\"automargin\":true,\"zerolinewidth\":2},\"yaxis\":{\"gridcolor\":\"white\",\"linecolor\":\"white\",\"ticks\":\"\",\"title\":{\"standoff\":15},\"zerolinecolor\":\"white\",\"automargin\":true,\"zerolinewidth\":2},\"scene\":{\"xaxis\":{\"backgroundcolor\":\"#E5ECF6\",\"gridcolor\":\"white\",\"linecolor\":\"white\",\"showbackground\":true,\"ticks\":\"\",\"zerolinecolor\":\"white\",\"gridwidth\":2},\"yaxis\":{\"backgroundcolor\":\"#E5ECF6\",\"gridcolor\":\"white\",\"linecolor\":\"white\",\"showbackground\":true,\"ticks\":\"\",\"zerolinecolor\":\"white\",\"gridwidth\":2},\"zaxis\":{\"backgroundcolor\":\"#E5ECF6\",\"gridcolor\":\"white\",\"linecolor\":\"white\",\"showbackground\":true,\"ticks\":\"\",\"zerolinecolor\":\"white\",\"gridwidth\":2}},\"shapedefaults\":{\"line\":{\"color\":\"#2a3f5f\"}},\"annotationdefaults\":{\"arrowcolor\":\"#2a3f5f\",\"arrowhead\":0,\"arrowwidth\":1},\"geo\":{\"bgcolor\":\"white\",\"landcolor\":\"#E5ECF6\",\"subunitcolor\":\"white\",\"showland\":true,\"showlakes\":true,\"lakecolor\":\"white\"},\"title\":{\"x\":0.05},\"mapbox\":{\"style\":\"light\"}}},\"shapes\":[{\"line\":{\"color\":\"white\"},\"opacity\":0.4,\"type\":\"line\",\"x0\":0,\"x1\":1,\"xref\":\"x domain\",\"y0\":122,\"y1\":122,\"yref\":\"y\"},{\"line\":{\"color\":\"white\"},\"type\":\"line\",\"x0\":0,\"x1\":1,\"xref\":\"x domain\",\"y0\":127,\"y1\":127,\"yref\":\"y\"},{\"line\":{\"color\":\"white\"},\"type\":\"line\",\"x0\":0,\"x1\":1,\"xref\":\"x domain\",\"y0\":135,\"y1\":135,\"yref\":\"y\"}],\"title\":{\"text\":\"OKC\",\"x\":0.5,\"font\":{\"color\":\"white\",\"size\":50,\"family\":\"Malgun Gothic\"}},\"legend\":{\"font\":{\"color\":\"#e5e5e5\",\"size\":22,\"family\":\"Malgun Gothic\"},\"traceorder\":\"reversed\"},\"yaxis\":{\"range\":[0,150],\"tickmode\":\"array\",\"tickvals\":[20,40,60,80,100,122,127,135,90],\"ticktext\":[\"20% \",\"40% \",\"60% \",\"80% \",\"100% \",\"Luxury Tax \",\"First Apron \",\"Second Apron \",\"Floor (90%)\"],\"tickfont\":{\"color\":\"#e5e5e5\",\"size\":25,\"family\":\"Malgun Gothic\"},\"showgrid\":false,\"zeroline\":false},\"xaxis\":{\"ticktext\":[\"2024-25\",\"2025-26\",\"2026-27\",\"2027-28\",\"2028-29\",\"2029-30\"],\"tickfont\":{\"color\":\"#e5e5e5\",\"size\":30,\"family\":\"Malgun Gothic\"},\"showgrid\":false},\"barmode\":\"stack\",\"bargap\":0,\"width\":1200,\"height\":1800,\"annotations\":[{\"font\":{\"color\":\"white\",\"size\":20},\"showarrow\":false,\"text\":\"Sideways Dash = Team Option \\u003cbr\\u003e White Text = Player Option\",\"x\":4.5,\"xref\":\"x\",\"y\":60,\"yref\":\"y\"},{\"font\":{\"color\":\"white\",\"size\":20},\"showarrow\":false,\"text\":\"Dash = Extension Eligible\",\"x\":4.5,\"xref\":\"x\",\"y\":70,\"yref\":\"y\"}],\"paper_bgcolor\":\"#0d0106\",\"plot_bgcolor\":\"#0d0106\"},                        {\"responsive\": true}                    ).then(function(){\n",
       "                            \n",
       "var gd = document.getElementById('a74066fb-b6fe-49c1-b35c-ea95acef40ff');\n",
       "var x = new MutationObserver(function (mutations, observer) {{\n",
       "        var display = window.getComputedStyle(gd).display;\n",
       "        if (!display || display === 'none') {{\n",
       "            console.log([gd, 'removed!']);\n",
       "            Plotly.purge(gd);\n",
       "            observer.disconnect();\n",
       "        }}\n",
       "}});\n",
       "\n",
       "// Listen for the removal of the full notebook cells\n",
       "var notebookContainer = gd.closest('#notebook-container');\n",
       "if (notebookContainer) {{\n",
       "    x.observe(notebookContainer, {childList: true});\n",
       "}}\n",
       "\n",
       "// Listen for the clearing of the current output cell\n",
       "var outputEl = gd.closest('.output');\n",
       "if (outputEl) {{\n",
       "    x.observe(outputEl, {childList: true});\n",
       "}}\n",
       "\n",
       "                        })                };                });            </script>        </div>"
      ]
     },
     "metadata": {},
     "output_type": "display_data"
    }
   ],
   "source": [
    "import plotly\n",
    "import plotly.graph_objects as go\n",
    "import numpy as np\n",
    "\n",
    "import pandas as pd\n",
    "\n",
    "import requests\n",
    "\n",
    "from plotly.subplots import make_subplots\n",
    "\n",
    "from nba_api.stats.static import players,teams\n",
    "\n",
    "\n",
    "def graph_payroll(team):\n",
    "    cap = pd.read_csv('cap.csv')\n",
    "    df = pd.read_csv('salary.csv')\n",
    "    options = pd.read_csv('option.csv')\n",
    "    df = df[df.Team.str.upper()==team.upper()]\n",
    "    options = options[options.Team.str.upper()==team.upper()]\n",
    "    \n",
    "    salary = dict(zip(cap['Season'],cap['Salary Cap']))\n",
    "    df = df.sort_values(by='Guaranteed',ascending = False)\n",
    "    \n",
    "    players = df['Player'].tolist()\n",
    "    fig = go.Figure()\n",
    "    x = ['2024-2025','2025-2026','2026-2027','2027-2028','2028-2029','2029-2030']\n",
    "    seasons=['2024-25','2025-26','2026-27','2027-28','2028-29','2029-30']\n",
    "    teamname = team\n",
    "    print(df['2024-25'].sum())\n",
    "    for player in players:\n",
    "        perc_salaries = []\n",
    "        \n",
    "        p_df = df[df.Player==player].iloc[0]\n",
    "        o_df = options[options.Player==player].iloc[0]\n",
    "        legend = False\n",
    "        \n",
    "        player_salaries = df[df.Player==player].iloc[0][seasons].tolist()\n",
    "        player_options = options[options.Player==player].iloc[0][seasons].tolist()\n",
    "        marker_shapes=[]\n",
    "        line_colors= []\n",
    "        option_positions=[]\n",
    "        option_count = 0\n",
    "        \n",
    "        for year in player_options:\n",
    "            if year == 'T':\n",
    "                line_colors.append('#0d0106')\n",
    "                marker_shapes.append('/')\n",
    "            elif year == 'P':\n",
    "                line_colors.append('#e8d8c3')\n",
    "                marker_shapes.append('')\n",
    "            elif year =='EE':\n",
    "                line_colors.append('#0d0106')\n",
    "                marker_shapes.append('-')\n",
    "            else:\n",
    "                line_colors.append('#0d0106')\n",
    "                marker_shapes.append('')\n",
    "            option_count+=1\n",
    "        \n",
    "        player_options = options[options.Player==player].iloc[0][seasons].tolist()\n",
    "        team_options = [x =='T' or x=='UFA' for x in player_options]\n",
    "        player_options = [x =='P' for x in player_options]\n",
    "        \n",
    "        opacities = []\n",
    "        for year in team_options:\n",
    "            if year ==True:\n",
    "                opacities.append(.35)\n",
    "            else:\n",
    "                opacities.append(1)\n",
    "                \n",
    "        i = 0\n",
    "        for payment in player_salaries:\n",
    "            perc_salaries.append(100*payment/salary[x[i]])\n",
    "            i+=1\n",
    "        \n",
    "        to_average = [x for x in perc_salaries if pd.isna(x)==False]\n",
    "        \n",
    "        player_name=player\n",
    "        if np.average(to_average)<3:\n",
    "            legend=True\n",
    "            player_name=''\n",
    "            \n",
    "        # Create hover text with formatted information\n",
    "        hover_text = []\n",
    "        for i, salary_val in enumerate(player_salaries):\n",
    "            if pd.isna(salary_val):\n",
    "                hover_text.append(\"\")\n",
    "            else:\n",
    "                hover_info = f\"<b>{player}</b><br>\" + \\\n",
    "                            f\"Position: {p_df['Pos']}<br>\" + \\\n",
    "                            f\"Season: {seasons[i]}<br>\" + \\\n",
    "                            f\"Salary: ${salary_val:,.2f}<br>\" + \\\n",
    "                            f\"Cap %: {perc_salaries[i]:.1f}%<br>\" + \\\n",
    "                            f\"Guaranteed Total: ${p_df['Guaranteed']:,.2f}\"\n",
    "                hover_text.append(hover_info)\n",
    "        \n",
    "        fig.add_trace(go.Bar(\n",
    "            x=seasons, \n",
    "            y=perc_salaries, \n",
    "            name=player,\n",
    "            marker_color=p_df['Guaranteed'], \n",
    "            textposition='inside',\n",
    "            insidetextanchor='middle',\n",
    "            showlegend=legend,\n",
    "            marker_opacity=opacities,\n",
    "            marker_pattern_shape=marker_shapes,\n",
    "            marker_line_width=3, \n",
    "            marker_line_color='#0d0106',\n",
    "            text='<b>'+player_name+'<b>',\n",
    "            textfont=dict(size=22,family='Malgun Gothic',color=line_colors),\n",
    "            hovertext=hover_text,\n",
    "            hoverinfo='text'\n",
    "        ))\n",
    "    \n",
    "    tickvals = [i * 20 for i in range(1,6)]\n",
    "    ticktext = [str(i)+'% ' for i in tickvals]\n",
    "    tickvals.append(122)\n",
    "    tickvals.append(127)\n",
    "    tickvals.append(135)\n",
    "    fig.add_hline(y=122,line_color=\"white\",opacity=.4)\n",
    "    fig.add_hline(y=127,line_color=\"white\")\n",
    "    fig.add_hline(y=135,line_color=\"white\")\n",
    "    \n",
    "    ticktext.append('Luxury Tax ')\n",
    "    ticktext.append('First Apron ')\n",
    "    ticktext.append('Second Apron ')\n",
    "    tickvals.append(90)\n",
    "    ticktext.append('Floor (90%)')\n",
    "\n",
    "    fig.update_layout(\n",
    "        barmode='stack',\n",
    "        bargap=0,\n",
    "        width=1200,\n",
    "        height=1800,\n",
    "        annotations=[\n",
    "            go.layout.Annotation(\n",
    "                showarrow=False,\n",
    "                text='Sideways Dash = Team Option <br> White Text = Player Option',\n",
    "                font=dict(size=20, color=\"white\"),\n",
    "                y=60,\n",
    "                x=4.5,\n",
    "                xref='x',\n",
    "                yref='y'\n",
    "            ),\n",
    "            go.layout.Annotation(\n",
    "                showarrow=False,\n",
    "                text='Dash = Extension Eligible',\n",
    "                font=dict(size=20, color=\"white\"),\n",
    "                y=70,\n",
    "                x=4.5,\n",
    "                xref='x',\n",
    "                yref='y'\n",
    "            ),\n",
    "        ],\n",
    "        paper_bgcolor='#0d0106',\n",
    "        plot_bgcolor='#0d0106',\n",
    "        title=teamname,\n",
    "        title_x=.5,\n",
    "        title_font=dict(color='white', size=50,family=\"Malgun Gothic\"),\n",
    "        legend={'traceorder':'reversed','font':dict(color='#e5e5e5', size=22,family=\"Malgun Gothic\")},\n",
    "        yaxis=dict(\n",
    "            range=(0,150),\n",
    "            tickmode='array',\n",
    "            tickvals=tickvals,\n",
    "            ticktext=ticktext,\n",
    "        ),\n",
    "        xaxis=dict(\n",
    "            ticktext=seasons,\n",
    "        )\n",
    "    )\n",
    "    \n",
    "    fig.update_yaxes(\n",
    "        tickfont=dict(color='#e5e5e5', size=25,family=\"Malgun Gothic\"),\n",
    "        showgrid=False,\n",
    "        zeroline=False\n",
    "    )\n",
    "    \n",
    "    fig.update_xaxes(\n",
    "        showgrid=False,\n",
    "        tickfont=dict(color='#e5e5e5', size=30,family=\"Malgun Gothic\")\n",
    "    )\n",
    "\n",
    "    return fig\n",
    "\n",
    "fig=graph_payroll('OKC')\n",
    "fig.show()"
   ]
  },
  {
   "cell_type": "code",
   "execution_count": null,
   "id": "12a51457-b67a-40e4-af88-4d8e78e3b0f7",
   "metadata": {},
   "outputs": [],
   "source": []
  },
  {
   "cell_type": "code",
   "execution_count": null,
   "id": "5a3465eb-c4d9-4fb2-986f-10c1b1c42665",
   "metadata": {},
   "outputs": [],
   "source": []
  },
  {
   "cell_type": "code",
   "execution_count": null,
   "id": "0c55234e-c94b-4efd-b890-f74f3e6f75fa",
   "metadata": {},
   "outputs": [],
   "source": []
  }
 ],
 "metadata": {
  "kernelspec": {
   "display_name": "Python 3 (ipykernel)",
   "language": "python",
   "name": "python3"
  },
  "language_info": {
   "codemirror_mode": {
    "name": "ipython",
    "version": 3
   },
   "file_extension": ".py",
   "mimetype": "text/x-python",
   "name": "python",
   "nbconvert_exporter": "python",
   "pygments_lexer": "ipython3",
   "version": "3.10.12"
  }
 },
 "nbformat": 4,
 "nbformat_minor": 5
}
