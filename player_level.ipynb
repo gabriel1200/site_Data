{
 "cells": [
  {
   "cell_type": "code",
   "execution_count": 62,
   "id": "564531cf-4d50-43fe-abb3-37f13dd73ab9",
   "metadata": {},
   "outputs": [],
   "source": [
    "import pandas as pd\n",
    "from selenium import webdriver\n",
    "from bs4 import BeautifulSoup\n",
    "\n",
    "from selenium.webdriver.common.by import By\n",
    "from selenium.common.exceptions import NoSuchElementException\n",
    "from selenium.common.exceptions import ElementNotInteractableException \n",
    "\n",
    "# Step 1: Create a session and load the page\n",
    "'''\n",
    "url1 = 'https://www.nba.com/stats/players/pullup?PerMode=Totals'\n",
    "url2 = 'https://www.nba.com/stats/players/catch-shoot?PerMode=Totals'\n",
    "url3 = 'https://www.nba.com/stats/players/defense-dash-lt6?PerMode=Totals'\n",
    "url4 = 'https://www.nba.com/stats/teams/isolation?PerMode=Totals'\n",
    "url5 = 'https://www.nba.com/stats/players/transition?PerMode=Totals&dir=D&sort=POSS'\n",
    "'''\n",
    "cs ='https://www.nba.com/stats/players/catch-shoot?PerMode=Totals'\n",
    "pullup ='https://www.nba.com/stats/players/pullup?PerMode=Totals'"
   ]
  },
  {
   "cell_type": "code",
   "execution_count": 63,
   "id": "5a9fc2da-2f8e-493b-bf5d-d01238af9aad",
   "metadata": {},
   "outputs": [],
   "source": [
    "#url_list = [cs,pullup]\n",
    "from selenium.webdriver.support.select import Select\n",
    "\n",
    "def check_exists_by_xpath(driver, xpath):\n",
    "    try:\n",
    "        driver.find_element(By.XPATH, xpath)\n",
    "    except NoSuchElementException:\n",
    "        return False\n",
    "    return True\n",
    "\n",
    "\n",
    "def get_ptables(url_list,path_list):\n",
    "    data = []\n",
    "    for i in range(len(url_list)):\n",
    "        url = url_list[i]\n",
    "        xpath = path_list[i]\n",
    "        print(url)\n",
    "        driver = webdriver.Chrome()\n",
    "        driver.get(url)\n",
    "\n",
    "        # Wait for the page to fully load\n",
    "        driver.implicitly_wait(8)\n",
    "        '''if check_exists_by_xpath(driver, \"//a[contains(text(),'>')]/preceding-sibling::a[1]\"):\n",
    "            number_of_pages = int(driver.find_element(By.XPATH, \"//a[contains(text(),'>')]/preceding-sibling::a[1]\").text)\n",
    "            print(number_of_pages)'''\n",
    "        \n",
    "        dropdown1 = Select(driver.find_element(By.XPATH, xpath))\n",
    "        dropdown1.select_by_index(0)\n",
    "\n",
    "        # Step 2: Parse HTML code and grab tables with Beautiful Soup\n",
    "        \n",
    "        soup = BeautifulSoup(driver.page_source, 'lxml')\n",
    "\n",
    "        tables = soup.find_all('table')\n",
    "        \n",
    "\n",
    "        # Step 3: Read tables with Pandas read_html()\n",
    "        dfs = pd.read_html(str(tables))\n",
    "        #print(dfs)\n",
    "\n",
    "        #print(f'Total tables: {len(dfs)}')\n",
    "        #print(dfs[2].head())\n",
    "    \n",
    "        driver.close()\n",
    "        #return dfs\n",
    "        df= dfs[-1]\n",
    "        #drop = ['Unnamed: 16_level_1', 'Unnamed: 17_level_1', 'Unnamed: 18_level_1']\n",
    "        #df.columns = df.columns.droplevel()\n",
    "        #df = df.drop(columns = drop)\n",
    "       \n",
    "        data.append(df)\n",
    "    return data"
   ]
  },
  {
   "cell_type": "code",
   "execution_count": 64,
   "id": "f0395f57-b1ae-4b45-b599-32d28315ef38",
   "metadata": {},
   "outputs": [],
   "source": [
    "cs ='https://www.nba.com/stats/players/catch-shoot?PerMode=Totals'\n",
    "pullup ='https://www.nba.com/stats/players/pullup?PerMode=Totals'\n",
    "\n",
    "url_list = [pullup,cs]\n",
    "xpath1 = '//*[@id=\"__next\"]/div[2]/div[2]/div[3]/section[2]/div/div[2]/div[2]/div[1]/div[3]/div/label/div/select'\n",
    "xpath2 = '//*[@id=\"__next\"]/div[2]/div[2]/div[3]/section[2]/div/div[2]/div[2]/div[1]/div[3]/div/label/div/select'\n",
    "path_list = [xpath1,xpath2]"
   ]
  },
  {
   "cell_type": "code",
   "execution_count": 65,
   "id": "9f84e255-4535-4407-95b9-3d69805aeac2",
   "metadata": {},
   "outputs": [
    {
     "name": "stdout",
     "output_type": "stream",
     "text": [
      "https://www.nba.com/stats/players/pullup?PerMode=Totals\n",
      "https://www.nba.com/stats/players/catch-shoot?PerMode=Totals\n"
     ]
    },
    {
     "data": {
      "text/plain": [
       "[              PLAYER TEAM  GP   W   L  MIN  PTS  FGM  FGA   FG% 3PM 3PA   3P%  \\\n",
       " 0        A.J. Lawson  MIN   1   1   0    2    0    0    0     -   -   -     -   \n",
       " 1           AJ Green  MIL   6   6   0   23    0    0    1   0.0   0   1   0.0   \n",
       " 2         AJ Griffin  ATL  18   8  10  321   48   21   48  43.8   6  18  33.3   \n",
       " 3       Aaron Gordon  DEN  17  12   5  485   30   12   27  44.4   6  15  40.0   \n",
       " 4      Aaron Holiday  ATL  20  12   8  340   24   11   24  45.8   2   4  50.0   \n",
       " ..               ...  ...  ..  ..  ..  ...  ...  ...  ...   ...  ..  ..   ...   \n",
       " 471    Yuta Watanabe  BKN  14   5   9  255    0    0    1   0.0   0   0     -   \n",
       " 472     Zach Collins  SAS  12   5   7  226    0    0    4   0.0   0   1   0.0   \n",
       " 473      Zach LaVine  CHI  16   8   8  546  108   42  118  35.6  24  66  36.4   \n",
       " 474       Zeke Nnaji  DEN  15   9   6  162    0    0    0     -   0   0     -   \n",
       " 475  Zion Williamson  NOP  16  10   6  507    6    3   11  27.3   0   2   0.0   \n",
       " \n",
       "      eFG%  \n",
       " 0       -  \n",
       " 1     0.0  \n",
       " 2    50.0  \n",
       " 3    55.6  \n",
       " 4    50.0  \n",
       " ..    ...  \n",
       " 471   0.0  \n",
       " 472   0.0  \n",
       " 473  45.8  \n",
       " 474     -  \n",
       " 475  27.3  \n",
       " \n",
       " [476 rows x 14 columns],\n",
       "               PLAYER TEAM  GP  MIN  PTS  FGM  FGA   FG% 3PM 3PA   3P%  eFG%\n",
       " 0        A.J. Lawson  MIN   1    2    0    0    0     -   -   -     -     -\n",
       " 1           AJ Green  MIL   6   23    3    1    4  25.0   1   4  25.0  37.5\n",
       " 2         AJ Griffin  ATL  18  321   55   19   49  38.8  17  46  37.0  56.1\n",
       " 3       Aaron Gordon  DEN  18  516   38   13   34  38.2  12  31  38.7  55.9\n",
       " 4      Aaron Holiday  ATL  20  340   30   10   22  45.5  10  22  45.5  68.2\n",
       " ..               ...  ...  ..  ...  ...  ...  ...   ...  ..  ..   ...   ...\n",
       " 471    Yuta Watanabe  BKN  14  255   69   23   40  57.5  23  40  57.5  86.3\n",
       " 472     Zach Collins  SAS  12  226   35   13   30  43.3   9  22  40.9  58.3\n",
       " 473      Zach LaVine  CHI  16  546   71   24   66  36.4  23  63  36.5  53.8\n",
       " 474       Zeke Nnaji  DEN  16  165    9    3   13  23.1   3  13  23.1  34.6\n",
       " 475  Zion Williamson  NOP  16  507    9    3    7  42.9   3   7  42.9  64.3\n",
       " \n",
       " [476 rows x 12 columns]]"
      ]
     },
     "execution_count": 65,
     "metadata": {},
     "output_type": "execute_result"
    }
   ],
   "source": [
    "tables= get_ptables(url_list,path_list)\n",
    "tables"
   ]
  },
  {
   "cell_type": "code",
   "execution_count": 66,
   "id": "2e9e7b03-070e-4d56-9740-596e29102a13",
   "metadata": {},
   "outputs": [],
   "source": [
    "tables[0].to_csv('player_tracking/pullup.csv',index = False)\n",
    "tables[1].to_csv('player_tracking/cs.csv',index = False)"
   ]
  },
  {
   "cell_type": "code",
   "execution_count": null,
   "id": "a6b7baaa-3ede-44da-954e-480376efc67f",
   "metadata": {},
   "outputs": [],
   "source": []
  }
 ],
 "metadata": {
  "kernelspec": {
   "display_name": "Python 3",
   "language": "python",
   "name": "python3"
  },
  "language_info": {
   "codemirror_mode": {
    "name": "ipython",
    "version": 3
   },
   "file_extension": ".py",
   "mimetype": "text/x-python",
   "name": "python",
   "nbconvert_exporter": "python",
   "pygments_lexer": "ipython3",
   "version": "3.8.8"
  }
 },
 "nbformat": 4,
 "nbformat_minor": 5
}
