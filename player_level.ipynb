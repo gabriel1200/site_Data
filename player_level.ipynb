{
 "cells": [
  {
   "cell_type": "code",
   "execution_count": 9,
   "id": "564531cf-4d50-43fe-abb3-37f13dd73ab9",
   "metadata": {},
   "outputs": [
    {
     "data": {
      "text/plain": [
       "\"\\nurl1 = 'https://www.nba.com/stats/players/pullup?PerMode=Totals'\\nurl2 = 'https://www.nba.com/stats/players/catch-shoot?PerMode=Totals'\\nurl3 = 'https://www.nba.com/stats/players/defense-dash-lt6?PerMode=Totals'\\nurl4 = 'https://www.nba.com/stats/teams/isolation?PerMode=Totals'\\nurl5 = 'https://www.nba.com/stats/players/transition?PerMode=Totals&dir=D&sort=POSS'\\n\""
      ]
     },
     "execution_count": 9,
     "metadata": {},
     "output_type": "execute_result"
    }
   ],
   "source": [
    "import pandas as pd\n",
    "from selenium import webdriver\n",
    "from bs4 import BeautifulSoup\n",
    "from pathlib import Path\n",
    "import time\n",
    "\n",
    "\n",
    "from selenium.webdriver.support.ui import WebDriverWait\n",
    "from selenium.webdriver.support import expected_conditions as EC\n",
    "from selenium.webdriver.common.by import By\n",
    "from selenium.common.exceptions import NoSuchElementException\n",
    "from selenium.common.exceptions import ElementNotInteractableException \n",
    "from selenium.webdriver.support.select import Select\n",
    "\n",
    "# Step 1: Create a session and load the page\n",
    "'''\n",
    "url1 = 'https://www.nba.com/stats/players/pullup?PerMode=Totals'\n",
    "url2 = 'https://www.nba.com/stats/players/catch-shoot?PerMode=Totals'\n",
    "url3 = 'https://www.nba.com/stats/players/defense-dash-lt6?PerMode=Totals'\n",
    "url4 = 'https://www.nba.com/stats/teams/isolation?PerMode=Totals'\n",
    "url5 = 'https://www.nba.com/stats/players/transition?PerMode=Totals&dir=D&sort=POSS'\n",
    "'''\n",
    "\n"
   ]
  },
  {
   "cell_type": "code",
   "execution_count": 15,
   "id": "5a9fc2da-2f8e-493b-bf5d-d01238af9aad",
   "metadata": {},
   "outputs": [],
   "source": [
    "#url_list = [cs,pullup]\n",
    "\n",
    "def check_exists_by_xpath(driver, xpath):\n",
    "    try:\n",
    "        driver.find_element(By.XPATH, xpath)\n",
    "    except NoSuchElementException:\n",
    "        return False\n",
    "    return True\n",
    "def save_tables(tables,year, playoffs= False):\n",
    "    if playoffs == True:\n",
    "        path = str(year)+'/playoffs/player_tracking/'\n",
    "    else:\n",
    "        path = str(year)+'/player_tracking/'\n",
    "    temp = tables[1]\n",
    "    temp.columns = temp.columns.droplevel() \n",
    "    #temp = temp.drop(columns = ['Unnamed: 18_level_1','Unnamed: 19_level_1','Unnamed: 20_level_1', 'Unnamed: 21_level_1','Unnamed: 22_level_1'])\n",
    "    #temp\n",
    "    temp = temp.drop(columns = ['Unnamed: 18_level_1','Unnamed: 19_level_1','Unnamed: 20_level_1', 'Unnamed: 21_level_1','Unnamed: 22_level_1'])\n",
    "    tables[1] = temp\n",
    "\n",
    "    tables[1] = temp\n",
    "    #print(tables)\n",
    "    for i in range(len(name_list)):\n",
    "        #tables[i].to_csv('player_tracking/'+name_list[i]+'.csv',index = False)\n",
    "        tables[i].to_csv(path+name_list[i]+'.csv',index = False)\n",
    "\n",
    "def get_ptables(url_list,path_list):\n",
    "    data = []\n",
    "    options = webdriver.FirefoxOptions()\n",
    "    driver = webdriver.Firefox(options=options)\n",
    "    cookie_check = False\n",
    "    for i in range(len(url_list)):\n",
    "        url = url_list[i]\n",
    "        xpath = path_list[i]\n",
    "        print(url)\n",
    "        \n",
    "        driver.get(url)\n",
    "        accept_path = '//*[@id=\"onetrust-accept-btn-handler\"]'\n",
    "\n",
    "        if EC.presence_of_element_located((By.XPATH, accept_path)) and cookie_check == False:\n",
    "            driver.find_element(By.XPATH, accept_path).click() \n",
    "            cookie_check = True\n",
    "            time.sleep(1)\n",
    "        \n",
    "\n",
    "        element = WebDriverWait(driver, 20).until(\n",
    "        EC.presence_of_element_located((By.XPATH, xpath)))\n",
    "        # Wait for the page to fully load\n",
    "        #time.sleep(5)\n",
    "        '''if check_exists_by_xpath(driver, \"//a[contains(text(),'>')]/preceding-sibling::a[1]\"):\n",
    "            number_of_pages = int(driver.find_element(By.XPATH, \"//a[contains(text(),'>')]/preceding-sibling::a[1]\").text)\n",
    "            print(number_of_pages)'''\n",
    "        \n",
    "        dropdown1 = Select(driver.find_element(By.XPATH, xpath))\n",
    "        dropdown1.select_by_index(0)\n",
    "\n",
    "        # Step 2: Parse HTML code and grab tables with Beautiful Soup\n",
    "        \n",
    "        soup = BeautifulSoup(driver.page_source, 'lxml')\n",
    "\n",
    "        tables = soup.find_all('table')\n",
    "        \n",
    "\n",
    "        # Step 3: Read tables with Pandas read_html()\n",
    "        dfs = pd.read_html(str(tables))\n",
    "        #needed table is at the end\n",
    "        df= dfs[-1]\n",
    "\n",
    "       \n",
    "        data.append(df)\n",
    "    driver.close()\n",
    "    return data"
   ]
  },
  {
   "cell_type": "code",
   "execution_count": 16,
   "id": "c34b88aa-85bb-49ba-81c5-94706e87ab91",
   "metadata": {},
   "outputs": [],
   "source": [
    "def get_multi(url_list,path_list,ps =False):\n",
    "    for i in range(2023,2024):\n",
    "        \n",
    "        season = '&Season='+str(i)+'-'+str(i+1 - 2000)\n",
    "        year_url = [url+season for url in url_list]\n",
    "        tables = get_ptables(year_url,path_list)\n",
    "        year =i+1\n",
    "        save_tables(tables,year,playoffs = ps)\n",
    "       \n",
    "        "
   ]
  },
  {
   "cell_type": "code",
   "execution_count": 17,
   "id": "f0395f57-b1ae-4b45-b599-32d28315ef38",
   "metadata": {},
   "outputs": [],
   "source": [
    "\n",
    "cs ='https://www.nba.com/stats/players/catch-shoot?PerMode=Totals'\n",
    "pullup ='https://www.nba.com/stats/players/pullup?PerMode=Totals'\n",
    "\n",
    "touches = 'https://www.nba.com/stats/players/touches?PerMode=Totals'\n",
    "drives = 'https://www.nba.com/stats/players/drives?PerMode=Totals'\n",
    "\n",
    "wide_open = 'https://www.nba.com/stats/players/shots-closest-defender?CloseDefDistRange=6%2B+Feet+-+Wide+Open&PerMode=Totals'\n",
    "close = 'https://www.nba.com/stats/players/defense-dash-lt6?PerMode=Totals&dir=D&sort=PLUSMINUS'\n",
    "passing = 'https://www.nba.com/stats/players/passing?PerMode=Totals'\n",
    "paint = 'https://www.nba.com/stats/players/paint-touch?PerMode=Totals'\n",
    "elbow = 'https://www.nba.com/stats/players/elbow-touch?PerMode=Totals'\n",
    "oreb = 'https://www.nba.com/stats/players/offensive-rebounding?PerMode=Totals'\n",
    "dreb = 'https://www.nba.com/stats/players/defensive-rebounding?PerMode=Totals'\n",
    "shoot_ef = 'https://www.nba.com/stats/players/shooting-efficiency?'\n",
    "post_up = 'https://www.nba.com/stats/players/tracking-post-ups?PerMode=Totals'\n",
    "url_list = [drives,wide_open,close,touches,cs,pullup,passing,paint,elbow,oreb,dreb,shoot_ef,post_up]\n",
    "#url_list =[url +'&SeasonType=Playoffs' for url in url_list]\n",
    "#url_list =[url +'&SeasonType=Regular+Season'for url in url_list]\n",
    "\n",
    "name_list = ['drives','wide_open','close_6','touches','cs','pullup','passing',\\\n",
    "            'paint','elbow','oreb','dreb','shoot_ef','post_up']\n",
    "xpath = '//*[@id=\"__next\"]/div[2]/div[2]/div[3]/section[2]/div/div[2]/div[2]/div[1]/div[3]/div/label/div/select'\n",
    "#xpath2 = '//*[@id=\"__next\"]/div[2]/div[2]/div[3]/section[2]/div/div[2]/div[2]/div[1]/div[3]/div/label/div/select'\n",
    "path_list = [xpath for i in range(len(url_list))]\n",
    "ps = True"
   ]
  },
  {
   "cell_type": "code",
   "execution_count": 18,
   "id": "2a7c9d36-7109-4c3b-a7b6-d06c2079353e",
   "metadata": {},
   "outputs": [
    {
     "data": {
      "text/plain": [
       "['https://www.nba.com/stats/players/drives?PerMode=Totals',\n",
       " 'https://www.nba.com/stats/players/shots-closest-defender?CloseDefDistRange=6%2B+Feet+-+Wide+Open&PerMode=Totals',\n",
       " 'https://www.nba.com/stats/players/defense-dash-lt6?PerMode=Totals&dir=D&sort=PLUSMINUS',\n",
       " 'https://www.nba.com/stats/players/touches?PerMode=Totals',\n",
       " 'https://www.nba.com/stats/players/catch-shoot?PerMode=Totals',\n",
       " 'https://www.nba.com/stats/players/pullup?PerMode=Totals',\n",
       " 'https://www.nba.com/stats/players/passing?PerMode=Totals',\n",
       " 'https://www.nba.com/stats/players/paint-touch?PerMode=Totals',\n",
       " 'https://www.nba.com/stats/players/elbow-touch?PerMode=Totals',\n",
       " 'https://www.nba.com/stats/players/offensive-rebounding?PerMode=Totals',\n",
       " 'https://www.nba.com/stats/players/defensive-rebounding?PerMode=Totals',\n",
       " 'https://www.nba.com/stats/players/shooting-efficiency?',\n",
       " 'https://www.nba.com/stats/players/tracking-post-ups?PerMode=Totals']"
      ]
     },
     "execution_count": 18,
     "metadata": {},
     "output_type": "execute_result"
    }
   ],
   "source": [
    "url_list"
   ]
  },
  {
   "cell_type": "code",
   "execution_count": 19,
   "id": "e3ec1983-aad8-4970-8e0d-18ca05075f03",
   "metadata": {},
   "outputs": [
    {
     "name": "stdout",
     "output_type": "stream",
     "text": [
      "https://www.nba.com/stats/players/drives?PerMode=Totals&Season=2023-24\n",
      "https://www.nba.com/stats/players/shots-closest-defender?CloseDefDistRange=6%2B+Feet+-+Wide+Open&PerMode=Totals&Season=2023-24\n",
      "https://www.nba.com/stats/players/defense-dash-lt6?PerMode=Totals&dir=D&sort=PLUSMINUS&Season=2023-24\n",
      "https://www.nba.com/stats/players/touches?PerMode=Totals&Season=2023-24\n",
      "https://www.nba.com/stats/players/catch-shoot?PerMode=Totals&Season=2023-24\n",
      "https://www.nba.com/stats/players/pullup?PerMode=Totals&Season=2023-24\n",
      "https://www.nba.com/stats/players/passing?PerMode=Totals&Season=2023-24\n",
      "https://www.nba.com/stats/players/paint-touch?PerMode=Totals&Season=2023-24\n",
      "https://www.nba.com/stats/players/elbow-touch?PerMode=Totals&Season=2023-24\n",
      "https://www.nba.com/stats/players/offensive-rebounding?PerMode=Totals&Season=2023-24\n",
      "https://www.nba.com/stats/players/defensive-rebounding?PerMode=Totals&Season=2023-24\n",
      "https://www.nba.com/stats/players/shooting-efficiency?&Season=2023-24\n",
      "https://www.nba.com/stats/players/tracking-post-ups?PerMode=Totals&Season=2023-24\n"
     ]
    }
   ],
   "source": [
    "get_multi(url_list,path_list,ps = False)"
   ]
  },
  {
   "cell_type": "code",
   "execution_count": null,
   "id": "a6b7baaa-3ede-44da-954e-480376efc67f",
   "metadata": {},
   "outputs": [],
   "source": []
  },
  {
   "cell_type": "code",
   "execution_count": null,
   "id": "8a10af27-2f50-4a5a-8aaa-86e73c71ca8c",
   "metadata": {},
   "outputs": [],
   "source": []
  }
 ],
 "metadata": {
  "kernelspec": {
   "display_name": "Python 3 (ipykernel)",
   "language": "python",
   "name": "python3"
  },
  "language_info": {
   "codemirror_mode": {
    "name": "ipython",
    "version": 3
   },
   "file_extension": ".py",
   "mimetype": "text/x-python",
   "name": "python",
   "nbconvert_exporter": "python",
   "pygments_lexer": "ipython3",
   "version": "3.10.11"
  }
 },
 "nbformat": 4,
 "nbformat_minor": 5
}
