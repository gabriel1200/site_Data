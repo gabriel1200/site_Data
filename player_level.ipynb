{
 "cells": [
  {
   "cell_type": "code",
   "execution_count": 31,
   "id": "564531cf-4d50-43fe-abb3-37f13dd73ab9",
   "metadata": {},
   "outputs": [
    {
     "data": {
      "text/plain": [
       "\"\\nurl1 = 'https://www.nba.com/stats/players/pullup?PerMode=Totals'\\nurl2 = 'https://www.nba.com/stats/players/catch-shoot?PerMode=Totals'\\nurl3 = 'https://www.nba.com/stats/players/defense-dash-lt6?PerMode=Totals'\\nurl4 = 'https://www.nba.com/stats/teams/isolation?PerMode=Totals'\\nurl5 = 'https://www.nba.com/stats/players/transition?PerMode=Totals&dir=D&sort=POSS'\\n\""
      ]
     },
     "execution_count": 31,
     "metadata": {},
     "output_type": "execute_result"
    }
   ],
   "source": [
    "import pandas as pd\n",
    "from selenium import webdriver\n",
    "from bs4 import BeautifulSoup\n",
    "from pathlib import Path\n",
    "\n",
    "\n",
    "from selenium.webdriver.support.ui import WebDriverWait\n",
    "from selenium.webdriver.support import expected_conditions as EC\n",
    "from selenium.webdriver.common.by import By\n",
    "from selenium.common.exceptions import NoSuchElementException\n",
    "from selenium.common.exceptions import ElementNotInteractableException \n",
    "\n",
    "# Step 1: Create a session and load the page\n",
    "'''\n",
    "url1 = 'https://www.nba.com/stats/players/pullup?PerMode=Totals'\n",
    "url2 = 'https://www.nba.com/stats/players/catch-shoot?PerMode=Totals'\n",
    "url3 = 'https://www.nba.com/stats/players/defense-dash-lt6?PerMode=Totals'\n",
    "url4 = 'https://www.nba.com/stats/teams/isolation?PerMode=Totals'\n",
    "url5 = 'https://www.nba.com/stats/players/transition?PerMode=Totals&dir=D&sort=POSS'\n",
    "'''\n",
    "\n"
   ]
  },
  {
   "cell_type": "code",
   "execution_count": 32,
   "id": "5a9fc2da-2f8e-493b-bf5d-d01238af9aad",
   "metadata": {},
   "outputs": [],
   "source": [
    "#url_list = [cs,pullup]\n",
    "from selenium.webdriver.support.select import Select\n",
    "\n",
    "def check_exists_by_xpath(driver, xpath):\n",
    "    try:\n",
    "        driver.find_element(By.XPATH, xpath)\n",
    "    except NoSuchElementException:\n",
    "        return False\n",
    "    return True\n",
    "\n",
    "\n",
    "def get_ptables(url_list,path_list):\n",
    "    data = []\n",
    "    driver = webdriver.Chrome()\n",
    "    for i in range(len(url_list)):\n",
    "        url = url_list[i]\n",
    "        xpath = path_list[i]\n",
    "        print(url)\n",
    "        \n",
    "        driver.get(url)\n",
    "        element = WebDriverWait(driver, 12).until(\n",
    "        EC.presence_of_element_located((By.XPATH, xpath)))\n",
    "        # Wait for the page to fully load\n",
    "        driver.implicitly_wait(10)\n",
    "        '''if check_exists_by_xpath(driver, \"//a[contains(text(),'>')]/preceding-sibling::a[1]\"):\n",
    "            number_of_pages = int(driver.find_element(By.XPATH, \"//a[contains(text(),'>')]/preceding-sibling::a[1]\").text)\n",
    "            print(number_of_pages)'''\n",
    "        \n",
    "        dropdown1 = Select(driver.find_element(By.XPATH, xpath))\n",
    "        dropdown1.select_by_index(0)\n",
    "\n",
    "        # Step 2: Parse HTML code and grab tables with Beautiful Soup\n",
    "        \n",
    "        soup = BeautifulSoup(driver.page_source, 'lxml')\n",
    "\n",
    "        tables = soup.find_all('table')\n",
    "        \n",
    "\n",
    "        # Step 3: Read tables with Pandas read_html()\n",
    "        dfs = pd.read_html(str(tables))\n",
    "        #print(dfs)\n",
    "\n",
    "        #print(f'Total tables: {len(dfs)}')\n",
    "        #print(dfs[2].head())\n",
    "    \n",
    "        \n",
    "        #return dfs\n",
    "        df= dfs[-1]\n",
    "        #drop = ['Unnamed: 16_level_1', 'Unnamed: 17_level_1', 'Unnamed: 18_level_1']\n",
    "        #df.columns = df.columns.droplevel()\n",
    "        #df = df.drop(columns = drop)\n",
    "       \n",
    "        data.append(df)\n",
    "    driver.close()\n",
    "    return data"
   ]
  },
  {
   "cell_type": "code",
   "execution_count": 36,
   "id": "c34b88aa-85bb-49ba-81c5-94706e87ab91",
   "metadata": {},
   "outputs": [],
   "source": [
    "def get_multi(url_list,path_list):\n",
    "    for i in range(2018,2022):\n",
    "        \n",
    "        season = '&Season='+str(i)+'-'+str(i+1 - 2000)\n",
    "        year_url = [url+season for url in url_list]\n",
    "        tables = get_ptables(year_url,path_list)\n",
    "        temp = tables[1]\n",
    "        temp.columns = temp.columns.droplevel() \n",
    "        #temp = temp.drop(columns = ['Unnamed: 18_level_1','Unnamed: 19_level_1','Unnamed: 20_level_1', 'Unnamed: 21_level_1','Unnamed: 22_level_1'])\n",
    "        #temp\n",
    "        temp = temp.drop(columns = ['Unnamed: 18_level_1','Unnamed: 19_level_1','Unnamed: 20_level_1', 'Unnamed: 21_level_1','Unnamed: 22_level_1'])\n",
    "        tables[1] = temp\n",
    "\n",
    "        tables[1] = temp\n",
    "        path = str(i+1)+'/player_tracking/'\n",
    "        output_dir = Path(path)\n",
    "        output_dir.mkdir(parents=True, exist_ok=True)\n",
    "        name_list = ['drives','wide_open','close_6','touches','cs','pullup','passing']\n",
    "        for i in range(len(name_list)):\n",
    "            tables[i].to_csv(path+name_list[i]+'.csv',index = False)\n",
    "        \n",
    "        "
   ]
  },
  {
   "cell_type": "code",
   "execution_count": 37,
   "id": "f0395f57-b1ae-4b45-b599-32d28315ef38",
   "metadata": {},
   "outputs": [],
   "source": [
    "\n",
    "cs ='https://www.nba.com/stats/players/catch-shoot?PerMode=Totals'\n",
    "pullup ='https://www.nba.com/stats/players/pullup?PerMode=Totals'\n",
    "\n",
    "touches = 'https://www.nba.com/stats/players/touches?PerMode=Totals'\n",
    "drives = 'https://www.nba.com/stats/players/drives?PerMode=Totals'\n",
    "\n",
    "wide_open = 'https://www.nba.com/stats/players/shots-closest-defender?CloseDefDistRange=6%2B+Feet+-+Wide+Open&PerMode=Totals'\n",
    "close = 'https://www.nba.com/stats/players/defense-dash-lt6?PerMode=Totals&dir=D&sort=PLUSMINUS'\n",
    "passing = 'https://www.nba.com/stats/players/passing?PerMode=Totals'\n",
    "url_list = [drives,wide_open,close,touches,cs,pullup,passing]\n",
    "name_list = ['drives','wide_open','close_6','touches','cs','pullup','passing']\n",
    "xpath = '//*[@id=\"__next\"]/div[2]/div[2]/div[3]/section[2]/div/div[2]/div[2]/div[1]/div[3]/div/label/div/select'\n",
    "#xpath2 = '//*[@id=\"__next\"]/div[2]/div[2]/div[3]/section[2]/div/div[2]/div[2]/div[1]/div[3]/div/label/div/select'\n",
    "path_list = [xpath for i in range(len(url_list))]"
   ]
  },
  {
   "cell_type": "code",
   "execution_count": 38,
   "id": "e3ec1983-aad8-4970-8e0d-18ca05075f03",
   "metadata": {},
   "outputs": [
    {
     "name": "stdout",
     "output_type": "stream",
     "text": [
      "https://www.nba.com/stats/players/drives?PerMode=Totals&Season=2018-19\n",
      "https://www.nba.com/stats/players/shots-closest-defender?CloseDefDistRange=6%2B+Feet+-+Wide+Open&PerMode=Totals&Season=2018-19\n",
      "https://www.nba.com/stats/players/defense-dash-lt6?PerMode=Totals&dir=D&sort=PLUSMINUS&Season=2018-19\n",
      "https://www.nba.com/stats/players/touches?PerMode=Totals&Season=2018-19\n",
      "https://www.nba.com/stats/players/catch-shoot?PerMode=Totals&Season=2018-19\n",
      "https://www.nba.com/stats/players/pullup?PerMode=Totals&Season=2018-19\n",
      "https://www.nba.com/stats/players/passing?PerMode=Totals&Season=2018-19\n",
      "https://www.nba.com/stats/players/drives?PerMode=Totals&Season=2019-20\n",
      "https://www.nba.com/stats/players/shots-closest-defender?CloseDefDistRange=6%2B+Feet+-+Wide+Open&PerMode=Totals&Season=2019-20\n",
      "https://www.nba.com/stats/players/defense-dash-lt6?PerMode=Totals&dir=D&sort=PLUSMINUS&Season=2019-20\n",
      "https://www.nba.com/stats/players/touches?PerMode=Totals&Season=2019-20\n",
      "https://www.nba.com/stats/players/catch-shoot?PerMode=Totals&Season=2019-20\n",
      "https://www.nba.com/stats/players/pullup?PerMode=Totals&Season=2019-20\n",
      "https://www.nba.com/stats/players/passing?PerMode=Totals&Season=2019-20\n",
      "https://www.nba.com/stats/players/drives?PerMode=Totals&Season=2020-21\n",
      "https://www.nba.com/stats/players/shots-closest-defender?CloseDefDistRange=6%2B+Feet+-+Wide+Open&PerMode=Totals&Season=2020-21\n",
      "https://www.nba.com/stats/players/defense-dash-lt6?PerMode=Totals&dir=D&sort=PLUSMINUS&Season=2020-21\n",
      "https://www.nba.com/stats/players/touches?PerMode=Totals&Season=2020-21\n",
      "https://www.nba.com/stats/players/catch-shoot?PerMode=Totals&Season=2020-21\n",
      "https://www.nba.com/stats/players/pullup?PerMode=Totals&Season=2020-21\n",
      "https://www.nba.com/stats/players/passing?PerMode=Totals&Season=2020-21\n",
      "https://www.nba.com/stats/players/drives?PerMode=Totals&Season=2021-22\n",
      "https://www.nba.com/stats/players/shots-closest-defender?CloseDefDistRange=6%2B+Feet+-+Wide+Open&PerMode=Totals&Season=2021-22\n",
      "https://www.nba.com/stats/players/defense-dash-lt6?PerMode=Totals&dir=D&sort=PLUSMINUS&Season=2021-22\n",
      "https://www.nba.com/stats/players/touches?PerMode=Totals&Season=2021-22\n",
      "https://www.nba.com/stats/players/catch-shoot?PerMode=Totals&Season=2021-22\n",
      "https://www.nba.com/stats/players/pullup?PerMode=Totals&Season=2021-22\n",
      "https://www.nba.com/stats/players/passing?PerMode=Totals&Season=2021-22\n"
     ]
    }
   ],
   "source": [
    "#get_multi(url_list,path_list)"
   ]
  },
  {
   "cell_type": "code",
   "execution_count": null,
   "id": "9f84e255-4535-4407-95b9-3d69805aeac2",
   "metadata": {},
   "outputs": [],
   "source": [
    "tables= get_ptables(url_list,path_list)\n"
   ]
  },
  {
   "cell_type": "code",
   "execution_count": null,
   "id": "81ef0c7c-31ce-49ce-8755-d6ee2cce9f64",
   "metadata": {
    "tags": []
   },
   "outputs": [],
   "source": [
    "temp = tables[1]\n",
    "temp.columns = temp.columns.droplevel() \n",
    "#temp = temp.drop(columns = ['Unnamed: 18_level_1','Unnamed: 19_level_1','Unnamed: 20_level_1', 'Unnamed: 21_level_1','Unnamed: 22_level_1'])\n",
    "#temp\n",
    "temp = temp.drop(columns = ['Unnamed: 18_level_1','Unnamed: 19_level_1','Unnamed: 20_level_1', 'Unnamed: 21_level_1','Unnamed: 22_level_1'])\n",
    "tables[1] = temp\n",
    "\n",
    "tables[1] = temp\n",
    "for i in range(len(name_list)):\n",
    "    tables[i].to_csv('player_tracking/'+name_list[i]+'.csv',index = False)"
   ]
  },
  {
   "cell_type": "code",
   "execution_count": null,
   "id": "0cb0c4d4-e655-4dda-8477-55883a0952fd",
   "metadata": {},
   "outputs": [],
   "source": []
  },
  {
   "cell_type": "code",
   "execution_count": null,
   "id": "a6b7baaa-3ede-44da-954e-480376efc67f",
   "metadata": {},
   "outputs": [],
   "source": []
  }
 ],
 "metadata": {
  "kernelspec": {
   "display_name": "Python 3",
   "language": "python",
   "name": "python3"
  },
  "language_info": {
   "codemirror_mode": {
    "name": "ipython",
    "version": 3
   },
   "file_extension": ".py",
   "mimetype": "text/x-python",
   "name": "python",
   "nbconvert_exporter": "python",
   "pygments_lexer": "ipython3",
   "version": "3.8.8"
  }
 },
 "nbformat": 4,
 "nbformat_minor": 5
}
