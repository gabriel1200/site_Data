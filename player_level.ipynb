{
 "cells": [
  {
   "cell_type": "code",
   "execution_count": 1,
   "id": "564531cf-4d50-43fe-abb3-37f13dd73ab9",
   "metadata": {},
   "outputs": [
    {
     "data": {
      "text/plain": [
       "\"\\nurl1 = 'https://www.nba.com/stats/players/pullup?PerMode=Totals'\\nurl2 = 'https://www.nba.com/stats/players/catch-shoot?PerMode=Totals'\\nurl3 = 'https://www.nba.com/stats/players/defense-dash-lt6?PerMode=Totals'\\nurl4 = 'https://www.nba.com/stats/teams/isolation?PerMode=Totals'\\nurl5 = 'https://www.nba.com/stats/players/transition?PerMode=Totals&dir=D&sort=POSS'\\n\""
      ]
     },
     "execution_count": 1,
     "metadata": {},
     "output_type": "execute_result"
    }
   ],
   "source": [
    "import pandas as pd\n",
    "from selenium import webdriver\n",
    "from bs4 import BeautifulSoup\n",
    "from pathlib import Path\n",
    "\n",
    "\n",
    "from selenium.webdriver.support.ui import WebDriverWait\n",
    "from selenium.webdriver.support import expected_conditions as EC\n",
    "from selenium.webdriver.common.by import By\n",
    "from selenium.common.exceptions import NoSuchElementException\n",
    "from selenium.common.exceptions import ElementNotInteractableException \n",
    "from selenium.webdriver.support.select import Select\n",
    "\n",
    "# Step 1: Create a session and load the page\n",
    "'''\n",
    "url1 = 'https://www.nba.com/stats/players/pullup?PerMode=Totals'\n",
    "url2 = 'https://www.nba.com/stats/players/catch-shoot?PerMode=Totals'\n",
    "url3 = 'https://www.nba.com/stats/players/defense-dash-lt6?PerMode=Totals'\n",
    "url4 = 'https://www.nba.com/stats/teams/isolation?PerMode=Totals'\n",
    "url5 = 'https://www.nba.com/stats/players/transition?PerMode=Totals&dir=D&sort=POSS'\n",
    "'''\n",
    "\n"
   ]
  },
  {
   "cell_type": "code",
   "execution_count": 2,
   "id": "5a9fc2da-2f8e-493b-bf5d-d01238af9aad",
   "metadata": {},
   "outputs": [],
   "source": [
    "#url_list = [cs,pullup]\n",
    "\n",
    "def check_exists_by_xpath(driver, xpath):\n",
    "    try:\n",
    "        driver.find_element(By.XPATH, xpath)\n",
    "    except NoSuchElementException:\n",
    "        return False\n",
    "    return True\n",
    "def save_tables(tables,year, playoffs= False):\n",
    "    if playoffs == True:\n",
    "        path = str(year)+'/playoffs/player_tracking/'\n",
    "    else:\n",
    "        path = str(year)+'/player_tracking/'\n",
    "    temp = tables[1]\n",
    "    temp.columns = temp.columns.droplevel() \n",
    "    #temp = temp.drop(columns = ['Unnamed: 18_level_1','Unnamed: 19_level_1','Unnamed: 20_level_1', 'Unnamed: 21_level_1','Unnamed: 22_level_1'])\n",
    "    #temp\n",
    "    temp = temp.drop(columns = ['Unnamed: 18_level_1','Unnamed: 19_level_1','Unnamed: 20_level_1', 'Unnamed: 21_level_1','Unnamed: 22_level_1'])\n",
    "    tables[1] = temp\n",
    "\n",
    "    tables[1] = temp\n",
    "    for i in range(len(name_list)):\n",
    "        #tables[i].to_csv('player_tracking/'+name_list[i]+'.csv',index = False)\n",
    "        tables[i].to_csv(path+name_list[i]+'.csv',index = False)\n",
    "\n",
    "def get_ptables(url_list,path_list):\n",
    "    data = []\n",
    "    driver = webdriver.Chrome()\n",
    "    for i in range(len(url_list)):\n",
    "        url = url_list[i]\n",
    "        xpath = path_list[i]\n",
    "        print(url)\n",
    "        \n",
    "        driver.get(url)\n",
    "        element = WebDriverWait(driver, 30).until(\n",
    "        EC.presence_of_element_located((By.XPATH, xpath)))\n",
    "        # Wait for the page to fully load\n",
    "        driver.implicitly_wait(10)\n",
    "        '''if check_exists_by_xpath(driver, \"//a[contains(text(),'>')]/preceding-sibling::a[1]\"):\n",
    "            number_of_pages = int(driver.find_element(By.XPATH, \"//a[contains(text(),'>')]/preceding-sibling::a[1]\").text)\n",
    "            print(number_of_pages)'''\n",
    "        \n",
    "        dropdown1 = Select(driver.find_element(By.XPATH, xpath))\n",
    "        dropdown1.select_by_index(0)\n",
    "\n",
    "        # Step 2: Parse HTML code and grab tables with Beautiful Soup\n",
    "        \n",
    "        soup = BeautifulSoup(driver.page_source, 'lxml')\n",
    "\n",
    "        tables = soup.find_all('table')\n",
    "        \n",
    "\n",
    "        # Step 3: Read tables with Pandas read_html()\n",
    "        dfs = pd.read_html(str(tables))\n",
    "        #print(dfs)\n",
    "\n",
    "        #print(f'Total tables: {len(dfs)}')\n",
    "        #print(dfs[2].head())\n",
    "    \n",
    "        \n",
    "        #return dfs\n",
    "        df= dfs[-1]\n",
    "        #drop = ['Unnamed: 16_level_1', 'Unnamed: 17_level_1', 'Unnamed: 18_level_1']\n",
    "        #df.columns = df.columns.droplevel()\n",
    "        #df = df.drop(columns = drop)\n",
    "       \n",
    "        data.append(df)\n",
    "    driver.close()\n",
    "    return data"
   ]
  },
  {
   "cell_type": "code",
   "execution_count": 3,
   "id": "c34b88aa-85bb-49ba-81c5-94706e87ab91",
   "metadata": {},
   "outputs": [],
   "source": [
    "def get_multi(url_list,path_list,ps =False):\n",
    "    for i in range(2022,2023):\n",
    "        \n",
    "        season = '&Season='+str(i)+'-'+str(i+1 - 2000)\n",
    "        year_url = [url+season for url in url_list]\n",
    "        tables = get_ptables(year_url,path_list)\n",
    "        year =i+1\n",
    "        save_tables(tables,year,playoffs = ps)\n",
    "        "
   ]
  },
  {
   "cell_type": "code",
   "execution_count": 4,
   "id": "f0395f57-b1ae-4b45-b599-32d28315ef38",
   "metadata": {},
   "outputs": [],
   "source": [
    "\n",
    "cs ='https://www.nba.com/stats/players/catch-shoot?PerMode=Totals'\n",
    "pullup ='https://www.nba.com/stats/players/pullup?PerMode=Totals'\n",
    "\n",
    "touches = 'https://www.nba.com/stats/players/touches?PerMode=Totals'\n",
    "drives = 'https://www.nba.com/stats/players/drives?PerMode=Totals'\n",
    "\n",
    "wide_open = 'https://www.nba.com/stats/players/shots-closest-defender?CloseDefDistRange=6%2B+Feet+-+Wide+Open&PerMode=Totals'\n",
    "close = 'https://www.nba.com/stats/players/defense-dash-lt6?PerMode=Totals&dir=D&sort=PLUSMINUS'\n",
    "passing = 'https://www.nba.com/stats/players/passing?PerMode=Totals'\n",
    "paint = 'https://www.nba.com/stats/players/paint-touch?PerMode=Totals'\n",
    "elbow = 'https://www.nba.com/stats/players/elbow-touch?PerMode=Totals'\n",
    "oreb = 'https://www.nba.com/stats/players/offensive-rebounding?PerMode=Totals'\n",
    "dreb = 'https://www.nba.com/stats/players/defensive-rebounding?PerMode=Totals'\n",
    "shoot_ef = 'https://www.nba.com/stats/players/shooting-efficiency?'\n",
    "post_up = 'https://www.nba.com/stats/players/tracking-post-ups?PerMode=Totals'\n",
    "url_list = [drives,wide_open,close,touches,cs,pullup,passing,paint,elbow,oreb,dreb,shoot_ef,post_up]\n",
    "url_list =[url +'&SeasonType=Playoffs' for url in url_list]\n",
    "#url_list =[url +'&SeasonType=Regular+Season'for url in url_list]\n",
    "\n",
    "name_list = ['drives','wide_open','close_6','touches','cs','pullup','passing',\\\n",
    "            'paint','elbow','oreb','dreb','shoot_ef','post_up']\n",
    "xpath = '//*[@id=\"__next\"]/div[2]/div[2]/div[3]/section[2]/div/div[2]/div[2]/div[1]/div[3]/div/label/div/select'\n",
    "#xpath2 = '//*[@id=\"__next\"]/div[2]/div[2]/div[3]/section[2]/div/div[2]/div[2]/div[1]/div[3]/div/label/div/select'\n",
    "path_list = [xpath for i in range(len(url_list))]\n",
    "ps = True"
   ]
  },
  {
   "cell_type": "code",
   "execution_count": 5,
   "id": "2a7c9d36-7109-4c3b-a7b6-d06c2079353e",
   "metadata": {},
   "outputs": [
    {
     "data": {
      "text/plain": [
       "['https://www.nba.com/stats/players/drives?PerMode=Totals&SeasonType=Playoffs',\n",
       " 'https://www.nba.com/stats/players/shots-closest-defender?CloseDefDistRange=6%2B+Feet+-+Wide+Open&PerMode=Totals&SeasonType=Playoffs',\n",
       " 'https://www.nba.com/stats/players/defense-dash-lt6?PerMode=Totals&dir=D&sort=PLUSMINUS&SeasonType=Playoffs',\n",
       " 'https://www.nba.com/stats/players/touches?PerMode=Totals&SeasonType=Playoffs',\n",
       " 'https://www.nba.com/stats/players/catch-shoot?PerMode=Totals&SeasonType=Playoffs',\n",
       " 'https://www.nba.com/stats/players/pullup?PerMode=Totals&SeasonType=Playoffs',\n",
       " 'https://www.nba.com/stats/players/passing?PerMode=Totals&SeasonType=Playoffs',\n",
       " 'https://www.nba.com/stats/players/paint-touch?PerMode=Totals&SeasonType=Playoffs',\n",
       " 'https://www.nba.com/stats/players/elbow-touch?PerMode=Totals&SeasonType=Playoffs',\n",
       " 'https://www.nba.com/stats/players/offensive-rebounding?PerMode=Totals&SeasonType=Playoffs',\n",
       " 'https://www.nba.com/stats/players/defensive-rebounding?PerMode=Totals&SeasonType=Playoffs',\n",
       " 'https://www.nba.com/stats/players/shooting-efficiency?&SeasonType=Playoffs',\n",
       " 'https://www.nba.com/stats/players/tracking-post-ups?PerMode=Totals&SeasonType=Playoffs']"
      ]
     },
     "execution_count": 5,
     "metadata": {},
     "output_type": "execute_result"
    }
   ],
   "source": [
    "url_list"
   ]
  },
  {
   "cell_type": "code",
   "execution_count": 6,
   "id": "e3ec1983-aad8-4970-8e0d-18ca05075f03",
   "metadata": {},
   "outputs": [
    {
     "name": "stdout",
     "output_type": "stream",
     "text": [
      "https://www.nba.com/stats/players/drives?PerMode=Totals&SeasonType=Playoffs&Season=2022-23\n",
      "https://www.nba.com/stats/players/shots-closest-defender?CloseDefDistRange=6%2B+Feet+-+Wide+Open&PerMode=Totals&SeasonType=Playoffs&Season=2022-23\n",
      "https://www.nba.com/stats/players/defense-dash-lt6?PerMode=Totals&dir=D&sort=PLUSMINUS&SeasonType=Playoffs&Season=2022-23\n",
      "https://www.nba.com/stats/players/touches?PerMode=Totals&SeasonType=Playoffs&Season=2022-23\n",
      "https://www.nba.com/stats/players/catch-shoot?PerMode=Totals&SeasonType=Playoffs&Season=2022-23\n",
      "https://www.nba.com/stats/players/pullup?PerMode=Totals&SeasonType=Playoffs&Season=2022-23\n",
      "https://www.nba.com/stats/players/passing?PerMode=Totals&SeasonType=Playoffs&Season=2022-23\n",
      "https://www.nba.com/stats/players/paint-touch?PerMode=Totals&SeasonType=Playoffs&Season=2022-23\n",
      "https://www.nba.com/stats/players/elbow-touch?PerMode=Totals&SeasonType=Playoffs&Season=2022-23\n",
      "https://www.nba.com/stats/players/offensive-rebounding?PerMode=Totals&SeasonType=Playoffs&Season=2022-23\n",
      "https://www.nba.com/stats/players/defensive-rebounding?PerMode=Totals&SeasonType=Playoffs&Season=2022-23\n",
      "https://www.nba.com/stats/players/shooting-efficiency?&SeasonType=Playoffs&Season=2022-23\n",
      "https://www.nba.com/stats/players/tracking-post-ups?PerMode=Totals&SeasonType=Playoffs&Season=2022-23\n"
     ]
    },
    {
     "ename": "WebDriverException",
     "evalue": "Message: disconnected: not connected to DevTools\n  (failed to check if window was closed: disconnected: not connected to DevTools)\n  (Session info: chrome=113.0.5672.127)\nStacktrace:\nBacktrace:\n\tGetHandleVerifier [0x00768893+48451]\n\t(No symbol) [0x006FB8A1]\n\t(No symbol) [0x00605058]\n\t(No symbol) [0x005F6F0B]\n\t(No symbol) [0x005F75CA]\n\t(No symbol) [0x005F7568]\n\t(No symbol) [0x005EC0BA]\n\t(No symbol) [0x005EC917]\n\t(No symbol) [0x006522F8]\n\t(No symbol) [0x0064A283]\n\t(No symbol) [0x00627E08]\n\t(No symbol) [0x00628F2D]\n\tGetHandleVerifier [0x009C8E3A+2540266]\n\tGetHandleVerifier [0x00A08959+2801161]\n\tGetHandleVerifier [0x00A0295C+2776588]\n\tGetHandleVerifier [0x007F2280+612144]\n\t(No symbol) [0x00704F6C]\n\t(No symbol) [0x007011D8]\n\t(No symbol) [0x007012BB]\n\t(No symbol) [0x006F4857]\n\tBaseThreadInitThunk [0x75C97D59+25]\n\tRtlInitializeExceptionChain [0x77B5B74B+107]\n\tRtlClearBits [0x77B5B6CF+191]\n",
     "output_type": "error",
     "traceback": [
      "\u001b[1;31m---------------------------------------------------------------------------\u001b[0m",
      "\u001b[1;31mWebDriverException\u001b[0m                        Traceback (most recent call last)",
      "Cell \u001b[1;32mIn[6], line 1\u001b[0m\n\u001b[1;32m----> 1\u001b[0m \u001b[43mget_multi\u001b[49m\u001b[43m(\u001b[49m\u001b[43murl_list\u001b[49m\u001b[43m,\u001b[49m\u001b[43mpath_list\u001b[49m\u001b[43m,\u001b[49m\u001b[43mps\u001b[49m\u001b[43m \u001b[49m\u001b[38;5;241;43m=\u001b[39;49m\u001b[43m \u001b[49m\u001b[43mps\u001b[49m\u001b[43m)\u001b[49m\n",
      "Cell \u001b[1;32mIn[3], line 6\u001b[0m, in \u001b[0;36mget_multi\u001b[1;34m(url_list, path_list, ps)\u001b[0m\n\u001b[0;32m      4\u001b[0m season \u001b[38;5;241m=\u001b[39m \u001b[38;5;124m'\u001b[39m\u001b[38;5;124m&Season=\u001b[39m\u001b[38;5;124m'\u001b[39m\u001b[38;5;241m+\u001b[39m\u001b[38;5;28mstr\u001b[39m(i)\u001b[38;5;241m+\u001b[39m\u001b[38;5;124m'\u001b[39m\u001b[38;5;124m-\u001b[39m\u001b[38;5;124m'\u001b[39m\u001b[38;5;241m+\u001b[39m\u001b[38;5;28mstr\u001b[39m(i\u001b[38;5;241m+\u001b[39m\u001b[38;5;241m1\u001b[39m \u001b[38;5;241m-\u001b[39m \u001b[38;5;241m2000\u001b[39m)\n\u001b[0;32m      5\u001b[0m year_url \u001b[38;5;241m=\u001b[39m [url\u001b[38;5;241m+\u001b[39mseason \u001b[38;5;28;01mfor\u001b[39;00m url \u001b[38;5;129;01min\u001b[39;00m url_list]\n\u001b[1;32m----> 6\u001b[0m tables \u001b[38;5;241m=\u001b[39m \u001b[43mget_ptables\u001b[49m\u001b[43m(\u001b[49m\u001b[43myear_url\u001b[49m\u001b[43m,\u001b[49m\u001b[43mpath_list\u001b[49m\u001b[43m)\u001b[49m\n\u001b[0;32m      7\u001b[0m year \u001b[38;5;241m=\u001b[39mi\u001b[38;5;241m+\u001b[39m\u001b[38;5;241m1\u001b[39m\n\u001b[0;32m      8\u001b[0m save_tables(tables,year,playoffs \u001b[38;5;241m=\u001b[39m ps)\n",
      "Cell \u001b[1;32mIn[2], line 69\u001b[0m, in \u001b[0;36mget_ptables\u001b[1;34m(url_list, path_list)\u001b[0m\n\u001b[0;32m     64\u001b[0m     \u001b[38;5;66;03m#drop = ['Unnamed: 16_level_1', 'Unnamed: 17_level_1', 'Unnamed: 18_level_1']\u001b[39;00m\n\u001b[0;32m     65\u001b[0m     \u001b[38;5;66;03m#df.columns = df.columns.droplevel()\u001b[39;00m\n\u001b[0;32m     66\u001b[0m     \u001b[38;5;66;03m#df = df.drop(columns = drop)\u001b[39;00m\n\u001b[0;32m     68\u001b[0m     data\u001b[38;5;241m.\u001b[39mappend(df)\n\u001b[1;32m---> 69\u001b[0m \u001b[43mdriver\u001b[49m\u001b[38;5;241;43m.\u001b[39;49m\u001b[43mclose\u001b[49m\u001b[43m(\u001b[49m\u001b[43m)\u001b[49m\n\u001b[0;32m     70\u001b[0m \u001b[38;5;28;01mreturn\u001b[39;00m data\n",
      "File \u001b[1;32m~\\anaconda3\\envs\\myenvpython310\\lib\\site-packages\\selenium\\webdriver\\remote\\webdriver.py:551\u001b[0m, in \u001b[0;36mWebDriver.close\u001b[1;34m(self)\u001b[0m\n\u001b[0;32m    543\u001b[0m \u001b[38;5;28;01mdef\u001b[39;00m \u001b[38;5;21mclose\u001b[39m(\u001b[38;5;28mself\u001b[39m) \u001b[38;5;241m-\u001b[39m\u001b[38;5;241m>\u001b[39m \u001b[38;5;28;01mNone\u001b[39;00m:\n\u001b[0;32m    544\u001b[0m \u001b[38;5;250m    \u001b[39m\u001b[38;5;124;03m\"\"\"Closes the current window.\u001b[39;00m\n\u001b[0;32m    545\u001b[0m \n\u001b[0;32m    546\u001b[0m \u001b[38;5;124;03m    :Usage:\u001b[39;00m\n\u001b[1;32m   (...)\u001b[0m\n\u001b[0;32m    549\u001b[0m \u001b[38;5;124;03m            driver.close()\u001b[39;00m\n\u001b[0;32m    550\u001b[0m \u001b[38;5;124;03m    \"\"\"\u001b[39;00m\n\u001b[1;32m--> 551\u001b[0m     \u001b[38;5;28;43mself\u001b[39;49m\u001b[38;5;241;43m.\u001b[39;49m\u001b[43mexecute\u001b[49m\u001b[43m(\u001b[49m\u001b[43mCommand\u001b[49m\u001b[38;5;241;43m.\u001b[39;49m\u001b[43mCLOSE\u001b[49m\u001b[43m)\u001b[49m\n",
      "File \u001b[1;32m~\\anaconda3\\envs\\myenvpython310\\lib\\site-packages\\selenium\\webdriver\\remote\\webdriver.py:440\u001b[0m, in \u001b[0;36mWebDriver.execute\u001b[1;34m(self, driver_command, params)\u001b[0m\n\u001b[0;32m    438\u001b[0m response \u001b[38;5;241m=\u001b[39m \u001b[38;5;28mself\u001b[39m\u001b[38;5;241m.\u001b[39mcommand_executor\u001b[38;5;241m.\u001b[39mexecute(driver_command, params)\n\u001b[0;32m    439\u001b[0m \u001b[38;5;28;01mif\u001b[39;00m response:\n\u001b[1;32m--> 440\u001b[0m     \u001b[38;5;28;43mself\u001b[39;49m\u001b[38;5;241;43m.\u001b[39;49m\u001b[43merror_handler\u001b[49m\u001b[38;5;241;43m.\u001b[39;49m\u001b[43mcheck_response\u001b[49m\u001b[43m(\u001b[49m\u001b[43mresponse\u001b[49m\u001b[43m)\u001b[49m\n\u001b[0;32m    441\u001b[0m     response[\u001b[38;5;124m\"\u001b[39m\u001b[38;5;124mvalue\u001b[39m\u001b[38;5;124m\"\u001b[39m] \u001b[38;5;241m=\u001b[39m \u001b[38;5;28mself\u001b[39m\u001b[38;5;241m.\u001b[39m_unwrap_value(response\u001b[38;5;241m.\u001b[39mget(\u001b[38;5;124m\"\u001b[39m\u001b[38;5;124mvalue\u001b[39m\u001b[38;5;124m\"\u001b[39m, \u001b[38;5;28;01mNone\u001b[39;00m))\n\u001b[0;32m    442\u001b[0m     \u001b[38;5;28;01mreturn\u001b[39;00m response\n",
      "File \u001b[1;32m~\\anaconda3\\envs\\myenvpython310\\lib\\site-packages\\selenium\\webdriver\\remote\\errorhandler.py:245\u001b[0m, in \u001b[0;36mErrorHandler.check_response\u001b[1;34m(self, response)\u001b[0m\n\u001b[0;32m    243\u001b[0m         alert_text \u001b[38;5;241m=\u001b[39m value[\u001b[38;5;124m\"\u001b[39m\u001b[38;5;124malert\u001b[39m\u001b[38;5;124m\"\u001b[39m]\u001b[38;5;241m.\u001b[39mget(\u001b[38;5;124m\"\u001b[39m\u001b[38;5;124mtext\u001b[39m\u001b[38;5;124m\"\u001b[39m)\n\u001b[0;32m    244\u001b[0m     \u001b[38;5;28;01mraise\u001b[39;00m exception_class(message, screen, stacktrace, alert_text)  \u001b[38;5;66;03m# type: ignore[call-arg]  # mypy is not smart enough here\u001b[39;00m\n\u001b[1;32m--> 245\u001b[0m \u001b[38;5;28;01mraise\u001b[39;00m exception_class(message, screen, stacktrace)\n",
      "\u001b[1;31mWebDriverException\u001b[0m: Message: disconnected: not connected to DevTools\n  (failed to check if window was closed: disconnected: not connected to DevTools)\n  (Session info: chrome=113.0.5672.127)\nStacktrace:\nBacktrace:\n\tGetHandleVerifier [0x00768893+48451]\n\t(No symbol) [0x006FB8A1]\n\t(No symbol) [0x00605058]\n\t(No symbol) [0x005F6F0B]\n\t(No symbol) [0x005F75CA]\n\t(No symbol) [0x005F7568]\n\t(No symbol) [0x005EC0BA]\n\t(No symbol) [0x005EC917]\n\t(No symbol) [0x006522F8]\n\t(No symbol) [0x0064A283]\n\t(No symbol) [0x00627E08]\n\t(No symbol) [0x00628F2D]\n\tGetHandleVerifier [0x009C8E3A+2540266]\n\tGetHandleVerifier [0x00A08959+2801161]\n\tGetHandleVerifier [0x00A0295C+2776588]\n\tGetHandleVerifier [0x007F2280+612144]\n\t(No symbol) [0x00704F6C]\n\t(No symbol) [0x007011D8]\n\t(No symbol) [0x007012BB]\n\t(No symbol) [0x006F4857]\n\tBaseThreadInitThunk [0x75C97D59+25]\n\tRtlInitializeExceptionChain [0x77B5B74B+107]\n\tRtlClearBits [0x77B5B6CF+191]\n"
     ]
    }
   ],
   "source": [
    "get_multi(url_list,path_list,ps = ps)"
   ]
  },
  {
   "cell_type": "code",
   "execution_count": null,
   "id": "9f84e255-4535-4407-95b9-3d69805aeac2",
   "metadata": {},
   "outputs": [
    {
     "name": "stdout",
     "output_type": "stream",
     "text": [
      "https://www.nba.com/stats/players/drives?PerMode=Totals&SeasonType=Playoffs\n",
      "https://www.nba.com/stats/players/shots-closest-defender?CloseDefDistRange=6%2B+Feet+-+Wide+Open&PerMode=Totals&SeasonType=Playoffs\n",
      "https://www.nba.com/stats/players/defense-dash-lt6?PerMode=Totals&dir=D&sort=PLUSMINUS&SeasonType=Playoffs\n"
     ]
    }
   ],
   "source": [
    "tables= get_ptables(url_list,path_list)\n"
   ]
  },
  {
   "cell_type": "code",
   "execution_count": null,
   "id": "81ef0c7c-31ce-49ce-8755-d6ee2cce9f64",
   "metadata": {
    "tags": []
   },
   "outputs": [],
   "source": [
    "year = 2023\n",
    "\n",
    "save_tables(tables,year,playoffs = True)"
   ]
  },
  {
   "cell_type": "code",
   "execution_count": null,
   "id": "a6b7baaa-3ede-44da-954e-480376efc67f",
   "metadata": {},
   "outputs": [],
   "source": []
  }
 ],
 "metadata": {
  "kernelspec": {
   "display_name": "Python 3 (ipykernel)",
   "language": "python",
   "name": "python3"
  },
  "language_info": {
   "codemirror_mode": {
    "name": "ipython",
    "version": 3
   },
   "file_extension": ".py",
   "mimetype": "text/x-python",
   "name": "python",
   "nbconvert_exporter": "python",
   "pygments_lexer": "ipython3",
   "version": "3.10.11"
  }
 },
 "nbformat": 4,
 "nbformat_minor": 5
}
