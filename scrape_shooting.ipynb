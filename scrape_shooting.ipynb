{
 "cells": [
  {
   "cell_type": "code",
   "execution_count": 1,
   "id": "024bccd8-ed26-4b17-99e9-02591825138d",
   "metadata": {
    "tags": []
   },
   "outputs": [],
   "source": [
    "import pandas as pd\n",
    "from selenium import webdriver\n",
    "from bs4 import BeautifulSoup\n",
    "\n",
    "# Step 1: Create a session and load the page\n",
    "url1 = 'https://www.nba.com/stats/teams/opponent-shots-closest-defender?CloseDefDistRange=0-2+Feet+-+Very+Tight&PerMode=Totals'\n",
    "url2 = 'https://www.nba.com/stats/teams/opponent-shots-closest-defender?CloseDefDistRange=2-4+Feet+-+Tight&PerMode=Totals'\n",
    "url3 = 'https://www.nba.com/stats/teams/opponent-shots-closest-defender?CloseDefDistRange=4-6+Feet+-+Open&PerMode=Totals'\n",
    "url4 = 'https://www.nba.com/stats/teams/opponent-shots-closest-defender?CloseDefDistRange=6%2B+Feet+-+Wide+Open&PerMode=Totals'\n",
    "url_list = [url1,url2,url3,url4]\n",
    "def get_tables(url_list):\n",
    "    data = []\n",
    "    for url in url_list:\n",
    "        driver = webdriver.Chrome()\n",
    "        driver.get(url)\n",
    "\n",
    "        # Wait for the page to fully load\n",
    "        driver.implicitly_wait(10)\n",
    "\n",
    "        # Step 2: Parse HTML code and grab tables with Beautiful Soup\n",
    "        soup = BeautifulSoup(driver.page_source, 'lxml')\n",
    "\n",
    "        tables = soup.find_all('table')\n",
    "\n",
    "        # Step 3: Read tables with Pandas read_html()\n",
    "        dfs = pd.read_html(str(tables))\n",
    "\n",
    "        #print(f'Total tables: {len(dfs)}')\n",
    "        #print(dfs[2].head())\n",
    "\n",
    "        driver.close()\n",
    "        df= dfs[-1]\n",
    "        drop = ['Unnamed: 16_level_1', 'Unnamed: 17_level_1', 'Unnamed: 18_level_1']\n",
    "        df.columns = df.columns.droplevel()\n",
    "        df = df.drop(columns = drop)\n",
    "        data.append(df)\n",
    "    return data"
   ]
  },
  {
   "cell_type": "code",
   "execution_count": 2,
   "id": "9b2e52c0-235c-4f9c-8707-eca0883ea73b",
   "metadata": {},
   "outputs": [],
   "source": [
    "tables = get_tables(url_list)\n",
    "terms = ['opp_shooting/very_tight.csv','opp_shooting/tight.csv','opp_shooting/open.csv','opp_shooting/wide_open.csv']\n",
    "jsons =  ['opp_shooting/very_tight.json','opp_shooting/tight.json','opp_shooting/open.json','opp_shooting/wide_open.json']\n",
    "for i in range(len(terms)):\n",
    "    df = tables[i]\n",
    "    df.to_csv(terms[i],index = False)\n",
    "    df.to_json(jsons[i])\n"
   ]
  },
  {
   "cell_type": "code",
   "execution_count": 3,
   "id": "a83c9152-4999-4816-86a7-3f21a4b29272",
   "metadata": {},
   "outputs": [
    {
     "data": {
      "text/plain": [
       "'[{\"TEAM\":\"Utah Jazz\",\"GP\":39,\"G\":39,\"Freq%\":9.0,\"FGM\":164,\"FGA\":314,\"FG%\":52.2,\"eFG%\":52.5,\"2FG Freq%\":8.9,\"2FGM\":162,\"2FGA\":310,\"2FG%\":52.3,\"3FG Freq%\":0.1,\"3PM\":2,\"3PA\":4,\"3P%\":\"50.0\"},{\"TEAM\":\"Los Angeles Lakers\",\"GP\":37,\"G\":37,\"Freq%\":8.3,\"FGM\":139,\"FGA\":286,\"FG%\":48.6,\"eFG%\":49.1,\"2FG Freq%\":8.0,\"2FGM\":136,\"2FGA\":277,\"2FG%\":49.1,\"3FG Freq%\":0.3,\"3PM\":3,\"3PA\":9,\"3P%\":\"33.3\"},{\"TEAM\":\"Brooklyn Nets\",\"GP\":37,\"G\":37,\"Freq%\":8.8,\"FGM\":123,\"FGA\":284,\"FG%\":43.3,\"eFG%\":43.7,\"2FG Freq%\":8.7,\"2FGM\":121,\"2FGA\":281,\"2FG%\":43.1,\"3FG Freq%\":0.1,\"3PM\":2,\"3PA\":3,\"3P%\":\"66.7\"},{\"TEAM\":\"Oklahoma City Thunder\",\"GP\":36,\"G\":36,\"Freq%\":8.7,\"FGM\":136,\"FGA\":283,\"FG%\":48.1,\"eFG%\":48.1,\"2FG Freq%\":8.7,\"2FGM\":136,\"2FGA\":283,\"2FG%\":48.1,\"3FG Freq%\":0.0,\"3PM\":0,\"3PA\":0,\"3P%\":\"-\"},{\"TEAM\":\"Atlanta Hawks\",\"GP\":37,\"G\":36,\"Freq%\":8.2,\"FGM\":141,\"FGA\":274,\"FG%\":51.5,\"eFG%\":51.5,\"2FG Freq%\":8.1,\"2FGM\":141,\"2FGA\":269,\"2FG%\":52.4,\"3FG Freq%\":0.2,\"3PM\":0,\"3PA\":5,\"3P%\":\"0.0\"},{\"TEAM\":\"Washington Wizards\",\"GP\":38,\"G\":38,\"Freq%\":8.1,\"FGM\":118,\"FGA\":273,\"FG%\":43.2,\"eFG%\":43.2,\"2FG Freq%\":8.0,\"2FGM\":118,\"2FGA\":271,\"2FG%\":43.5,\"3FG Freq%\":0.1,\"3PM\":0,\"3PA\":2,\"3P%\":\"0.0\"},{\"TEAM\":\"Charlotte Hornets\",\"GP\":38,\"G\":38,\"Freq%\":8.0,\"FGM\":129,\"FGA\":271,\"FG%\":47.6,\"eFG%\":48.0,\"2FG Freq%\":7.8,\"2FGM\":127,\"2FGA\":264,\"2FG%\":48.1,\"3FG Freq%\":0.2,\"3PM\":2,\"3PA\":7,\"3P%\":\"28.6\"},{\"TEAM\":\"San Antonio Spurs\",\"GP\":37,\"G\":36,\"Freq%\":8.1,\"FGM\":135,\"FGA\":266,\"FG%\":50.8,\"eFG%\":51.1,\"2FG Freq%\":7.7,\"2FGM\":133,\"2FGA\":255,\"2FG%\":52.2,\"3FG Freq%\":0.3,\"3PM\":2,\"3PA\":11,\"3P%\":\"18.2\"},{\"TEAM\":\"Minnesota Timberwolves\",\"GP\":38,\"G\":37,\"Freq%\":7.6,\"FGM\":134,\"FGA\":261,\"FG%\":51.3,\"eFG%\":51.9,\"2FG Freq%\":7.4,\"2FGM\":131,\"2FGA\":252,\"2FG%\":52.0,\"3FG Freq%\":0.3,\"3PM\":3,\"3PA\":9,\"3P%\":\"33.3\"},{\"TEAM\":\"Phoenix Suns\",\"GP\":38,\"G\":38,\"Freq%\":7.9,\"FGM\":127,\"FGA\":256,\"FG%\":49.6,\"eFG%\":49.6,\"2FG Freq%\":7.9,\"2FGM\":127,\"2FGA\":256,\"2FG%\":49.6,\"3FG Freq%\":0.0,\"3PM\":0,\"3PA\":0,\"3P%\":\"-\"},{\"TEAM\":\"Golden State Warriors\",\"GP\":38,\"G\":38,\"Freq%\":7.5,\"FGM\":118,\"FGA\":256,\"FG%\":46.1,\"eFG%\":46.7,\"2FG Freq%\":7.4,\"2FGM\":115,\"2FGA\":252,\"2FG%\":45.6,\"3FG Freq%\":0.1,\"3PM\":3,\"3PA\":4,\"3P%\":\"75.0\"},{\"TEAM\":\"LA Clippers\",\"GP\":39,\"G\":39,\"Freq%\":7.3,\"FGM\":117,\"FGA\":254,\"FG%\":46.1,\"eFG%\":46.7,\"2FG Freq%\":7.1,\"2FGM\":114,\"2FGA\":246,\"2FG%\":46.3,\"3FG Freq%\":0.2,\"3PM\":3,\"3PA\":8,\"3P%\":\"37.5\"},{\"TEAM\":\"Portland Trail Blazers\",\"GP\":36,\"G\":36,\"Freq%\":8.0,\"FGM\":131,\"FGA\":252,\"FG%\":52.0,\"eFG%\":52.0,\"2FG Freq%\":7.9,\"2FGM\":131,\"2FGA\":249,\"2FG%\":52.6,\"3FG Freq%\":0.1,\"3PM\":0,\"3PA\":3,\"3P%\":\"0.0\"},{\"TEAM\":\"Sacramento Kings\",\"GP\":35,\"G\":35,\"Freq%\":8.0,\"FGM\":114,\"FGA\":248,\"FG%\":46.0,\"eFG%\":47.0,\"2FG Freq%\":7.8,\"2FGM\":109,\"2FGA\":240,\"2FG%\":45.4,\"3FG Freq%\":0.3,\"3PM\":5,\"3PA\":8,\"3P%\":\"62.5\"},{\"TEAM\":\"Dallas Mavericks\",\"GP\":38,\"G\":38,\"Freq%\":7.4,\"FGM\":116,\"FGA\":235,\"FG%\":49.4,\"eFG%\":49.6,\"2FG Freq%\":7.1,\"2FGM\":115,\"2FGA\":226,\"2FG%\":50.9,\"3FG Freq%\":0.3,\"3PM\":1,\"3PA\":9,\"3P%\":\"11.1\"},{\"TEAM\":\"Indiana Pacers\",\"GP\":38,\"G\":38,\"Freq%\":7.0,\"FGM\":98,\"FGA\":234,\"FG%\":41.9,\"eFG%\":42.5,\"2FG Freq%\":6.8,\"2FGM\":95,\"2FGA\":226,\"2FG%\":42.0,\"3FG Freq%\":0.2,\"3PM\":3,\"3PA\":8,\"3P%\":\"37.5\"},{\"TEAM\":\"Memphis Grizzlies\",\"GP\":36,\"G\":36,\"Freq%\":7.2,\"FGM\":88,\"FGA\":233,\"FG%\":37.8,\"eFG%\":38.4,\"2FG Freq%\":7.0,\"2FGM\":85,\"2FGA\":226,\"2FG%\":37.6,\"3FG Freq%\":0.2,\"3PM\":3,\"3PA\":7,\"3P%\":\"42.9\"},{\"TEAM\":\"Houston Rockets\",\"GP\":37,\"G\":37,\"Freq%\":6.9,\"FGM\":112,\"FGA\":225,\"FG%\":49.8,\"eFG%\":49.8,\"2FG Freq%\":6.8,\"2FGM\":112,\"2FGA\":221,\"2FG%\":50.7,\"3FG Freq%\":0.1,\"3PM\":0,\"3PA\":4,\"3P%\":\"0.0\"},{\"TEAM\":\"Miami Heat\",\"GP\":38,\"G\":38,\"Freq%\":7.0,\"FGM\":105,\"FGA\":223,\"FG%\":47.1,\"eFG%\":47.8,\"2FG Freq%\":6.7,\"2FGM\":102,\"2FGA\":214,\"2FG%\":47.7,\"3FG Freq%\":0.3,\"3PM\":3,\"3PA\":9,\"3P%\":\"33.3\"},{\"TEAM\":\"Orlando Magic\",\"GP\":37,\"G\":36,\"Freq%\":6.7,\"FGM\":109,\"FGA\":218,\"FG%\":50.0,\"eFG%\":50.0,\"2FG Freq%\":6.7,\"2FGM\":109,\"2FGA\":217,\"2FG%\":50.2,\"3FG Freq%\":0.0,\"3PM\":0,\"3PA\":1,\"3P%\":\"0.0\"},{\"TEAM\":\"Cleveland Cavaliers\",\"GP\":38,\"G\":38,\"Freq%\":6.8,\"FGM\":105,\"FGA\":218,\"FG%\":48.2,\"eFG%\":48.6,\"2FG Freq%\":6.6,\"2FGM\":103,\"2FGA\":213,\"2FG%\":48.4,\"3FG Freq%\":0.2,\"3PM\":2,\"3PA\":5,\"3P%\":\"40.0\"},{\"TEAM\":\"Chicago Bulls\",\"GP\":37,\"G\":37,\"Freq%\":6.7,\"FGM\":91,\"FGA\":218,\"FG%\":41.7,\"eFG%\":42.2,\"2FG Freq%\":6.5,\"2FGM\":89,\"2FGA\":212,\"2FG%\":42.0,\"3FG Freq%\":0.2,\"3PM\":2,\"3PA\":6,\"3P%\":\"33.3\"},{\"TEAM\":\"Boston Celtics\",\"GP\":37,\"G\":37,\"Freq%\":6.5,\"FGM\":100,\"FGA\":217,\"FG%\":46.1,\"eFG%\":46.3,\"2FG Freq%\":6.4,\"2FGM\":99,\"2FGA\":212,\"2FG%\":46.7,\"3FG Freq%\":0.2,\"3PM\":1,\"3PA\":5,\"3P%\":\"20.0\"},{\"TEAM\":\"Denver Nuggets\",\"GP\":37,\"G\":37,\"Freq%\":6.5,\"FGM\":102,\"FGA\":209,\"FG%\":48.8,\"eFG%\":48.8,\"2FG Freq%\":6.3,\"2FGM\":102,\"2FGA\":203,\"2FG%\":50.2,\"3FG Freq%\":0.2,\"3PM\":0,\"3PA\":6,\"3P%\":\"0.0\"},{\"TEAM\":\"Milwaukee Bucks\",\"GP\":36,\"G\":36,\"Freq%\":6.3,\"FGM\":107,\"FGA\":206,\"FG%\":51.9,\"eFG%\":52.4,\"2FG Freq%\":6.1,\"2FGM\":105,\"2FGA\":199,\"2FG%\":52.8,\"3FG Freq%\":0.2,\"3PM\":2,\"3PA\":7,\"3P%\":\"28.6\"},{\"TEAM\":\"New Orleans Pelicans\",\"GP\":37,\"G\":35,\"Freq%\":6.2,\"FGM\":108,\"FGA\":204,\"FG%\":52.9,\"eFG%\":52.9,\"2FG Freq%\":6.2,\"2FGM\":108,\"2FGA\":202,\"2FG%\":53.5,\"3FG Freq%\":0.1,\"3PM\":0,\"3PA\":2,\"3P%\":\"0.0\"},{\"TEAM\":\"Toronto Raptors\",\"GP\":37,\"G\":37,\"Freq%\":6.6,\"FGM\":103,\"FGA\":202,\"FG%\":51.0,\"eFG%\":51.5,\"2FG Freq%\":6.4,\"2FGM\":101,\"2FGA\":195,\"2FG%\":51.8,\"3FG Freq%\":0.2,\"3PM\":2,\"3PA\":7,\"3P%\":\"28.6\"},{\"TEAM\":\"New York Knicks\",\"GP\":38,\"G\":38,\"Freq%\":5.8,\"FGM\":93,\"FGA\":195,\"FG%\":47.7,\"eFG%\":47.7,\"2FG Freq%\":5.7,\"2FGM\":93,\"2FGA\":193,\"2FG%\":48.2,\"3FG Freq%\":0.1,\"3PM\":0,\"3PA\":2,\"3P%\":\"0.0\"},{\"TEAM\":\"Detroit Pistons\",\"GP\":40,\"G\":40,\"Freq%\":5.3,\"FGM\":105,\"FGA\":187,\"FG%\":56.1,\"eFG%\":56.1,\"2FG Freq%\":5.3,\"2FGM\":105,\"2FGA\":186,\"2FG%\":56.5,\"3FG Freq%\":0.0,\"3PM\":0,\"3PA\":1,\"3P%\":\"0.0\"},{\"TEAM\":\"Philadelphia 76ers\",\"GP\":36,\"G\":36,\"Freq%\":6.1,\"FGM\":86,\"FGA\":187,\"FG%\":46.0,\"eFG%\":46.5,\"2FG Freq%\":5.8,\"2FGM\":84,\"2FGA\":179,\"2FG%\":46.9,\"3FG Freq%\":0.3,\"3PM\":2,\"3PA\":8,\"3P%\":\"25.0\"}]'"
      ]
     },
     "execution_count": 3,
     "metadata": {},
     "output_type": "execute_result"
    }
   ],
   "source": [
    "tables[0].to_json(orient=\"records\")"
   ]
  },
  {
   "cell_type": "code",
   "execution_count": null,
   "id": "6ad86c66-123b-4978-a016-34f46fd831b3",
   "metadata": {},
   "outputs": [],
   "source": []
  },
  {
   "cell_type": "code",
   "execution_count": 11,
   "id": "48e397df-137b-4e65-b531-7e96fda540cf",
   "metadata": {},
   "outputs": [
    {
     "data": {
      "text/plain": [
       "4"
      ]
     },
     "execution_count": 11,
     "metadata": {},
     "output_type": "execute_result"
    }
   ],
   "source": [
    "len(tables)"
   ]
  },
  {
   "cell_type": "code",
   "execution_count": null,
   "id": "c082936e-d1fb-469e-bf04-f97faed1e3ce",
   "metadata": {},
   "outputs": [],
   "source": [
    "tables[1]"
   ]
  },
  {
   "cell_type": "code",
   "execution_count": null,
   "id": "9ae3237e-c7aa-4c77-9365-6581fb1cb276",
   "metadata": {},
   "outputs": [],
   "source": []
  }
 ],
 "metadata": {
  "kernelspec": {
   "display_name": "Python 3",
   "language": "python",
   "name": "python3"
  },
  "language_info": {
   "codemirror_mode": {
    "name": "ipython",
    "version": 3
   },
   "file_extension": ".py",
   "mimetype": "text/x-python",
   "name": "python",
   "nbconvert_exporter": "python",
   "pygments_lexer": "ipython3",
   "version": "3.8.8"
  }
 },
 "nbformat": 4,
 "nbformat_minor": 5
}
