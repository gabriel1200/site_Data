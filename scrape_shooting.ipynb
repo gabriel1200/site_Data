{
 "cells": [
  {
   "cell_type": "code",
   "execution_count": 1,
   "id": "024bccd8-ed26-4b17-99e9-02591825138d",
   "metadata": {},
   "outputs": [],
   "source": [
    "import pandas as pd\n",
    "from selenium import webdriver\n",
    "from bs4 import BeautifulSoup\n",
    "\n",
    "# Step 1: Create a session and load the page\n",
    "url1 = 'https://www.nba.com/stats/teams/opponent-shots-closest-defender?CloseDefDistRange=0-2+Feet+-+Very+Tight'\n",
    "url2 = 'https://www.nba.com/stats/teams/opponent-shots-closest-defender?CloseDefDistRange=2-4+Feet+-+Tight'\n",
    "url3 = 'https://www.nba.com/stats/teams/opponent-shots-closest-defender?CloseDefDistRange=4-6+Feet+-+Open'\n",
    "url4 = 'https://www.nba.com/stats/teams/opponent-shots-closest-defender?CloseDefDistRange=6%2B+Feet+-+Wide+Open'\n",
    "url_list = [url1,url2,url3,url4]\n",
    "def get_tables(url_list):\n",
    "    data = []\n",
    "    for url in url_list:\n",
    "        driver = webdriver.Chrome()\n",
    "        driver.get(url)\n",
    "\n",
    "        # Wait for the page to fully load\n",
    "        driver.implicitly_wait(4)\n",
    "\n",
    "        # Step 2: Parse HTML code and grab tables with Beautiful Soup\n",
    "        soup = BeautifulSoup(driver.page_source, 'lxml')\n",
    "\n",
    "        tables = soup.find_all('table')\n",
    "\n",
    "        # Step 3: Read tables with Pandas read_html()\n",
    "        dfs = pd.read_html(str(tables))\n",
    "\n",
    "        #print(f'Total tables: {len(dfs)}')\n",
    "        #print(dfs[2].head())\n",
    "\n",
    "        driver.close()\n",
    "        df= dfs[2]\n",
    "        drop = ['Unnamed: 16_level_1', 'Unnamed: 17_level_1', 'Unnamed: 18_level_1']\n",
    "        df.columns = df.columns.droplevel()\n",
    "        df = df.drop(columns = drop)\n",
    "        data.append(df)\n",
    "    return data"
   ]
  },
  {
   "cell_type": "code",
   "execution_count": 8,
   "id": "9b2e52c0-235c-4f9c-8707-eca0883ea73b",
   "metadata": {},
   "outputs": [],
   "source": [
    "tables = get_tables(url_list)\n",
    "terms = ['opp_shooting/very_tight.csv','opp_shooting/tight.csv','opp_shooting/open.csv','opp_shooting/wide_open.csv']\n",
    "jsons =  ['opp_shooting/very_tight.json','opp_shooting/tight.json','opp_shooting/open.json','opp_shooting/wide_open.json']\n",
    "for i in range(len(terms)):\n",
    "    df = tables[i]\n",
    "    df.to_csv(terms[i],index = False)\n",
    "    df.to_json(jsons[i])\n"
   ]
  },
  {
   "cell_type": "code",
   "execution_count": 7,
   "id": "9783b617-298a-483d-a78c-b8c40116a167",
   "metadata": {},
   "outputs": [
    {
     "data": {
      "text/plain": [
       "'[{\"TEAM\":\"Los Angeles Lakers\",\"GP\":10,\"G\":10,\"Freq%\":9.3,\"FGM\":3.5,\"FGA\":8.7,\"FG%\":40.2,\"eFG%\":40.8,\"2FG Freq%\":9.0,\"2FGM\":3.4,\"2FGA\":8.4,\"2FG%\":40.5,\"3FG Freq%\":0.3,\"3PM\":0.1,\"3PA\":0.3,\"3P%\":\"33.3\"},{\"TEAM\":\"Atlanta Hawks\",\"GP\":10,\"G\":10,\"Freq%\":9.3,\"FGM\":4.7,\"FGA\":8.5,\"FG%\":55.3,\"eFG%\":55.3,\"2FG Freq%\":9.2,\"2FGM\":4.7,\"2FGA\":8.4,\"2FG%\":56.0,\"3FG Freq%\":0.1,\"3PM\":0.0,\"3PA\":0.1,\"3P%\":\"0.0\"},{\"TEAM\":\"San Antonio Spurs\",\"GP\":11,\"G\":11,\"Freq%\":8.6,\"FGM\":4.0,\"FGA\":7.9,\"FG%\":50.6,\"eFG%\":51.1,\"2FG Freq%\":8.4,\"2FGM\":3.9,\"2FGA\":7.7,\"2FG%\":50.6,\"3FG Freq%\":0.2,\"3PM\":0.1,\"3PA\":0.2,\"3P%\":\"50.0\"},{\"TEAM\":\"Phoenix Suns\",\"GP\":10,\"G\":10,\"Freq%\":9.2,\"FGM\":3.3,\"FGA\":7.7,\"FG%\":42.9,\"eFG%\":42.9,\"2FG Freq%\":9.2,\"2FGM\":3.3,\"2FGA\":7.7,\"2FG%\":42.9,\"3FG Freq%\":0.0,\"3PM\":0.0,\"3PA\":0.0,\"3P%\":\"-\"},{\"TEAM\":\"Oklahoma City Thunder\",\"GP\":10,\"G\":10,\"Freq%\":8.6,\"FGM\":3.8,\"FGA\":7.6,\"FG%\":50.0,\"eFG%\":50.0,\"2FG Freq%\":8.6,\"2FGM\":3.8,\"2FGA\":7.6,\"2FG%\":50.0,\"3FG Freq%\":0.0,\"3PM\":0.0,\"3PA\":0.0,\"3P%\":\"-\"},{\"TEAM\":\"Utah Jazz\",\"GP\":12,\"G\":12,\"Freq%\":8.4,\"FGM\":3.9,\"FGA\":7.5,\"FG%\":52.2,\"eFG%\":52.8,\"2FG Freq%\":8.2,\"2FGM\":3.8,\"2FGA\":7.3,\"2FG%\":52.3,\"3FG Freq%\":0.2,\"3PM\":0.1,\"3PA\":0.2,\"3P%\":\"50.0\"},{\"TEAM\":\"Charlotte Hornets\",\"GP\":11,\"G\":11,\"Freq%\":8.1,\"FGM\":3.3,\"FGA\":7.2,\"FG%\":45.6,\"eFG%\":45.6,\"2FG Freq%\":8.0,\"2FGM\":3.3,\"2FGA\":7.1,\"2FG%\":46.2,\"3FG Freq%\":0.1,\"3PM\":0.0,\"3PA\":0.1,\"3P%\":\"0.0\"},{\"TEAM\":\"Minnesota Timberwolves\",\"GP\":11,\"G\":10,\"Freq%\":7.5,\"FGM\":3.8,\"FGA\":7.0,\"FG%\":54.5,\"eFG%\":55.2,\"2FG Freq%\":7.4,\"2FGM\":3.7,\"2FGA\":6.9,\"2FG%\":53.9,\"3FG Freq%\":0.1,\"3PM\":0.1,\"3PA\":0.1,\"3P%\":\"100\"},{\"TEAM\":\"Orlando Magic\",\"GP\":11,\"G\":11,\"Freq%\":7.7,\"FGM\":3.1,\"FGA\":6.9,\"FG%\":44.7,\"eFG%\":44.7,\"2FG Freq%\":7.7,\"2FGM\":3.1,\"2FGA\":6.9,\"2FG%\":44.7,\"3FG Freq%\":0.0,\"3PM\":0.0,\"3PA\":0.0,\"3P%\":\"-\"},{\"TEAM\":\"Sacramento Kings\",\"GP\":9,\"G\":9,\"Freq%\":7.7,\"FGM\":3.3,\"FGA\":6.8,\"FG%\":49.2,\"eFG%\":51.6,\"2FG Freq%\":7.2,\"2FGM\":3.0,\"2FGA\":6.3,\"2FG%\":47.4,\"3FG Freq%\":0.5,\"3PM\":0.3,\"3PA\":0.4,\"3P%\":\"75.0\"},{\"TEAM\":\"Memphis Grizzlies\",\"GP\":11,\"G\":11,\"Freq%\":7.5,\"FGM\":2.8,\"FGA\":6.7,\"FG%\":41.9,\"eFG%\":43.2,\"2FG Freq%\":7.1,\"2FGM\":2.6,\"2FGA\":6.4,\"2FG%\":41.4,\"3FG Freq%\":0.4,\"3PM\":0.2,\"3PA\":0.4,\"3P%\":\"50.0\"},{\"TEAM\":\"Brooklyn Nets\",\"GP\":11,\"G\":11,\"Freq%\":8.0,\"FGM\":2.5,\"FGA\":6.7,\"FG%\":37.8,\"eFG%\":37.8,\"2FG Freq%\":8.0,\"2FGM\":2.5,\"2FGA\":6.7,\"2FG%\":37.8,\"3FG Freq%\":0.0,\"3PM\":0.0,\"3PA\":0.0,\"3P%\":\"-\"},{\"TEAM\":\"LA Clippers\",\"GP\":11,\"G\":11,\"Freq%\":7.4,\"FGM\":3.1,\"FGA\":6.6,\"FG%\":46.6,\"eFG%\":47.3,\"2FG Freq%\":7.2,\"2FGM\":3.0,\"2FGA\":6.5,\"2FG%\":46.5,\"3FG Freq%\":0.2,\"3PM\":0.1,\"3PA\":0.2,\"3P%\":\"50.0\"},{\"TEAM\":\"Portland Trail Blazers\",\"GP\":10,\"G\":10,\"Freq%\":7.5,\"FGM\":3.5,\"FGA\":6.6,\"FG%\":53.0,\"eFG%\":53.0,\"2FG Freq%\":7.4,\"2FGM\":3.5,\"2FGA\":6.5,\"2FG%\":53.8,\"3FG Freq%\":0.1,\"3PM\":0.0,\"3PA\":0.1,\"3P%\":\"0.0\"},{\"TEAM\":\"Chicago Bulls\",\"GP\":12,\"G\":12,\"Freq%\":7.6,\"FGM\":2.8,\"FGA\":6.5,\"FG%\":42.3,\"eFG%\":42.3,\"2FG Freq%\":7.4,\"2FGM\":2.8,\"2FGA\":6.3,\"2FG%\":43.4,\"3FG Freq%\":0.2,\"3PM\":0.0,\"3PA\":0.2,\"3P%\":\"0.0\"},{\"TEAM\":\"Denver Nuggets\",\"GP\":10,\"G\":10,\"Freq%\":7.2,\"FGM\":3.1,\"FGA\":6.3,\"FG%\":49.2,\"eFG%\":49.2,\"2FG Freq%\":7.1,\"2FGM\":3.1,\"2FGA\":6.2,\"2FG%\":50.0,\"3FG Freq%\":0.1,\"3PM\":0.0,\"3PA\":0.1,\"3P%\":\"0.0\"},{\"TEAM\":\"Golden State Warriors\",\"GP\":11,\"G\":11,\"Freq%\":7.0,\"FGM\":3.5,\"FGA\":6.3,\"FG%\":56.5,\"eFG%\":57.2,\"2FG Freq%\":6.9,\"2FGM\":3.5,\"2FGA\":6.2,\"2FG%\":55.9,\"3FG Freq%\":0.1,\"3PM\":0.1,\"3PA\":0.1,\"3P%\":\"100\"},{\"TEAM\":\"Miami Heat\",\"GP\":11,\"G\":11,\"Freq%\":7.6,\"FGM\":3.4,\"FGA\":6.3,\"FG%\":53.6,\"eFG%\":55.1,\"2FG Freq%\":6.9,\"2FGM\":3.2,\"2FGA\":5.7,\"2FG%\":55.6,\"3FG Freq%\":0.7,\"3PM\":0.2,\"3PA\":0.6,\"3P%\":\"33.3\"},{\"TEAM\":\"Washington Wizards\",\"GP\":11,\"G\":11,\"Freq%\":7.1,\"FGM\":2.9,\"FGA\":6.3,\"FG%\":46.4,\"eFG%\":46.4,\"2FG Freq%\":7.1,\"2FGM\":2.9,\"2FGA\":6.3,\"2FG%\":46.4,\"3FG Freq%\":0.0,\"3PM\":0.0,\"3PA\":0.0,\"3P%\":\"-\"},{\"TEAM\":\"Houston Rockets\",\"GP\":11,\"G\":11,\"Freq%\":7.0,\"FGM\":2.9,\"FGA\":6.1,\"FG%\":47.8,\"eFG%\":47.8,\"2FG Freq%\":6.9,\"2FGM\":2.9,\"2FGA\":6.0,\"2FG%\":48.5,\"3FG Freq%\":0.1,\"3PM\":0.0,\"3PA\":0.1,\"3P%\":\"0.0\"},{\"TEAM\":\"Dallas Mavericks\",\"GP\":9,\"G\":9,\"Freq%\":7.2,\"FGM\":3.1,\"FGA\":6.0,\"FG%\":51.9,\"eFG%\":51.9,\"2FG Freq%\":7.0,\"2FGM\":3.1,\"2FGA\":5.9,\"2FG%\":52.8,\"3FG Freq%\":0.1,\"3PM\":0.0,\"3PA\":0.1,\"3P%\":\"0.0\"},{\"TEAM\":\"Milwaukee Bucks\",\"GP\":10,\"G\":10,\"Freq%\":6.4,\"FGM\":2.9,\"FGA\":5.7,\"FG%\":50.9,\"eFG%\":51.8,\"2FG Freq%\":6.1,\"2FGM\":2.8,\"2FGA\":5.5,\"2FG%\":50.9,\"3FG Freq%\":0.2,\"3PM\":0.1,\"3PA\":0.2,\"3P%\":\"50.0\"},{\"TEAM\":\"Cleveland Cavaliers\",\"GP\":10,\"G\":10,\"Freq%\":6.7,\"FGM\":2.4,\"FGA\":5.7,\"FG%\":42.1,\"eFG%\":42.1,\"2FG Freq%\":6.7,\"2FGM\":2.4,\"2FGA\":5.7,\"2FG%\":42.1,\"3FG Freq%\":0.0,\"3PM\":0.0,\"3PA\":0.0,\"3P%\":\"-\"},{\"TEAM\":\"New Orleans Pelicans\",\"GP\":10,\"G\":10,\"Freq%\":5.8,\"FGM\":2.8,\"FGA\":5.2,\"FG%\":53.8,\"eFG%\":53.8,\"2FG Freq%\":5.8,\"2FGM\":2.8,\"2FGA\":5.2,\"2FG%\":53.8,\"3FG Freq%\":0.0,\"3PM\":0.0,\"3PA\":0.0,\"3P%\":\"-\"},{\"TEAM\":\"New York Knicks\",\"GP\":10,\"G\":10,\"Freq%\":5.4,\"FGM\":1.9,\"FGA\":5.2,\"FG%\":36.5,\"eFG%\":36.5,\"2FG Freq%\":5.3,\"2FGM\":1.9,\"2FGA\":5.1,\"2FG%\":37.3,\"3FG Freq%\":0.1,\"3PM\":0.0,\"3PA\":0.1,\"3P%\":\"0.0\"},{\"TEAM\":\"Boston Celtics\",\"GP\":10,\"G\":10,\"Freq%\":5.8,\"FGM\":1.8,\"FGA\":5.2,\"FG%\":34.6,\"eFG%\":34.6,\"2FG Freq%\":5.6,\"2FGM\":1.8,\"2FGA\":5.1,\"2FG%\":35.3,\"3FG Freq%\":0.1,\"3PM\":0.0,\"3PA\":0.1,\"3P%\":\"0.0\"},{\"TEAM\":\"Toronto Raptors\",\"GP\":11,\"G\":11,\"Freq%\":6.3,\"FGM\":3.0,\"FGA\":5.2,\"FG%\":57.9,\"eFG%\":57.9,\"2FG Freq%\":6.3,\"2FGM\":3.0,\"2FGA\":5.2,\"2FG%\":57.9,\"3FG Freq%\":0.0,\"3PM\":0.0,\"3PA\":0.0,\"3P%\":\"-\"},{\"TEAM\":\"Philadelphia 76ers\",\"GP\":11,\"G\":11,\"Freq%\":6.2,\"FGM\":2.4,\"FGA\":5.1,\"FG%\":46.4,\"eFG%\":46.4,\"2FG Freq%\":6.1,\"2FGM\":2.4,\"2FGA\":5.0,\"2FG%\":47.3,\"3FG Freq%\":0.1,\"3PM\":0.0,\"3PA\":0.1,\"3P%\":\"0.0\"},{\"TEAM\":\"Indiana Pacers\",\"GP\":10,\"G\":10,\"Freq%\":5.5,\"FGM\":1.6,\"FGA\":4.7,\"FG%\":34.0,\"eFG%\":35.1,\"2FG Freq%\":5.3,\"2FGM\":1.5,\"2FGA\":4.6,\"2FG%\":32.6,\"3FG Freq%\":0.1,\"3PM\":0.1,\"3PA\":0.1,\"3P%\":\"100\"},{\"TEAM\":\"Detroit Pistons\",\"GP\":11,\"G\":11,\"Freq%\":4.9,\"FGM\":2.4,\"FGA\":4.5,\"FG%\":52.0,\"eFG%\":52.0,\"2FG Freq%\":4.9,\"2FGM\":2.4,\"2FGA\":4.5,\"2FG%\":52.0,\"3FG Freq%\":0.0,\"3PM\":0.0,\"3PA\":0.0,\"3P%\":\"-\"}]'"
      ]
     },
     "execution_count": 7,
     "metadata": {},
     "output_type": "execute_result"
    }
   ],
   "source": [
    "tables[0].to_json(orient=\"index\")"
   ]
  },
  {
   "cell_type": "code",
   "execution_count": null,
   "id": "a83c9152-4999-4816-86a7-3f21a4b29272",
   "metadata": {},
   "outputs": [],
   "source": [
    "tables[0].to_json(orient=\"records\")"
   ]
  },
  {
   "cell_type": "code",
   "execution_count": null,
   "id": "6ad86c66-123b-4978-a016-34f46fd831b3",
   "metadata": {},
   "outputs": [],
   "source": []
  },
  {
   "cell_type": "code",
   "execution_count": null,
   "id": "48e397df-137b-4e65-b531-7e96fda540cf",
   "metadata": {},
   "outputs": [],
   "source": [
    "len(tables)"
   ]
  },
  {
   "cell_type": "code",
   "execution_count": null,
   "id": "c082936e-d1fb-469e-bf04-f97faed1e3ce",
   "metadata": {},
   "outputs": [],
   "source": [
    "tables[1]"
   ]
  },
  {
   "cell_type": "code",
   "execution_count": null,
   "id": "9ae3237e-c7aa-4c77-9365-6581fb1cb276",
   "metadata": {},
   "outputs": [],
   "source": []
  }
 ],
 "metadata": {
  "kernelspec": {
   "display_name": "Python 3",
   "language": "python",
   "name": "python3"
  },
  "language_info": {
   "codemirror_mode": {
    "name": "ipython",
    "version": 3
   },
   "file_extension": ".py",
   "mimetype": "text/x-python",
   "name": "python",
   "nbconvert_exporter": "python",
   "pygments_lexer": "ipython3",
   "version": "3.8.8"
  }
 },
 "nbformat": 4,
 "nbformat_minor": 5
}
