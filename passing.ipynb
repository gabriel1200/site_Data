{
 "cells": [
  {
   "cell_type": "code",
   "execution_count": 3,
   "id": "6de58d4f-0088-40b2-9d91-611907dd5751",
   "metadata": {},
   "outputs": [
    {
     "name": "stdout",
     "output_type": "stream",
     "text": [
      "2025\n",
      "Season done 2025\n",
      "Index(['nba_id', 'Name', 'Points', 'on-ball-time%', 'on-ball-time', 'UAPTS',\n",
      "       'TSA', 'OffPoss', 'Potential Assists', 'Travels',\n",
      "       ...\n",
      "       'TIME_OF_POSS', 'ELBOW_TOUCHES', 'POST_TOUCHES', 'PAINT_TOUCHES',\n",
      "       'PTS_PER_ELBOW_TOUCH', 'PTS_PER_POST_TOUCH', 'PTS_PER_PAINT_TOUCH',\n",
      "       'Season_y', 'year_y', 'Points Unassisted'],\n",
      "      dtype='object', length=299)\n"
     ]
    }
   ],
   "source": [
    "import pandas as pd\n",
    "import unicodedata\n",
    "import requests\n",
    "import json\n",
    "import math\n",
    "import time\n",
    "import sys\n",
    "#df = pd.read_csv('../../league_wide/wowy/player_large.csv')\n",
    "def passing_data(ps=False, update=True):\n",
    "    url = 'https://api.pbpstats.com/get-totals/nba'\n",
    "    stype = 'Regular Season'\n",
    "    folder = 'tracking'\n",
    "    \n",
    "    if ps:\n",
    "        stype = 'Playoffs'\n",
    "        folder = 'tracking_ps'\n",
    "\n",
    "    frames = []\n",
    "    start_year = 2014\n",
    "    \n",
    "    if update:\n",
    "        df = pd.read_csv('passing.csv')\n",
    "        df = df[df.year < 2025]\n",
    "        frames.append(df)\n",
    "        start_year = 2025\n",
    "\n",
    "    print(start_year)\n",
    "\n",
    "    for year in range(start_year, 2026):\n",
    "        time.sleep(1)\n",
    "        # Prepare API call\n",
    "        season=str(year-1)+\"-\"+str(year)[-2:]\n",
    "        params = {\n",
    "            \"Season\": season,\n",
    "            \"SeasonType\": stype,\n",
    "            \"Type\": \"Player\"\n",
    "        }\n",
    "        response = requests.get(url, params=params)\n",
    "        response_json = response.json()\n",
    "        df = response_json[\"multi_row_table_data\"]\n",
    "        df = pd.DataFrame(df)\n",
    "        df.rename(columns={'EntityId':'PLAYER_ID'},inplace=True)\n",
    "\n",
    "        # Load the unified passing and touches data from the common files\n",
    "        passing_file_path = f'{folder}/passing.csv'\n",
    "        touches_file_path = f'{folder}/touches.csv'\n",
    "\n",
    "        df2 = pd.read_csv(passing_file_path)\n",
    "        df2.rename(columns={'PLAYER': 'Name'}, inplace=True)\n",
    "\n",
    "\n",
    "        df3 = pd.read_csv(touches_file_path)\n",
    "\n",
    "        df2=df2[df2.year==year]\n",
    "        df3=df3[df3.year==year]\n",
    "        df['nba_id']=df['PLAYER_ID'].astype(int)\n",
    "        df2['nba_id']=df2['PLAYER_ID'].astype(int)\n",
    "        df3['nba_id']=df3['PLAYER_ID'].astype(int)\n",
    "\n",
    "        df.drop(columns=['PLAYER_ID'],inplace=True)\n",
    "        df2.drop(columns=['PLAYER_ID','GP'],inplace=True)\n",
    "        df3.drop(columns=['PLAYER_ID'],inplace=True)\n",
    "        df3.rename(columns={'Player': 'Name'}, inplace=True)\n",
    "\n",
    "        # Merging data\n",
    "        merged = df.merge(df2, on='nba_id', how='left')\n",
    "        merged = merged.merge(df3, on='nba_id', how='left')\n",
    "\n",
    "        # Cleaning up column names and calculating additional fields\n",
    "\n",
    "        merged = merged.fillna(0)\n",
    "        merged['Points Unassisted'] = merged['PtsUnassisted2s'] + merged['PtsUnassisted3s']\n",
    "        merged['UAFGM'] = (merged['PtsUnassisted2s'] / 2) + (merged['PtsUnassisted3s'] / 3)\n",
    "        merged['UAPTS'] = merged['Points Unassisted']\n",
    "        merged['on-ball-time'] = merged['TIME_OF_POSS']\n",
    "        merged['High Value Assist %'] = 100 * (merged['ThreePtAssists'] + merged['AtRimAssists']) / merged['Assists']\n",
    "        merged['on-ball-time%'] = 100 * 2 * (merged['TIME_OF_POSS']) / (merged['Minutes'])\n",
    "        merged['TSA'] = (merged['Points'] / (merged['TsPct'] * 2))\n",
    "        merged['Potential Assists'] = merged['POTENTIAL_AST']\n",
    "        merged['Passes'] = merged['PASSES_MADE']\n",
    "        merged['PotAss/Passes'] = merged['POTENTIAL_AST'] / merged['Passes']\n",
    "        merged['Assist PPP'] = (merged['AST_PTS_CREATED']) / merged['POTENTIAL_AST']\n",
    "        merged['POT_AST_PER_MIN'] = merged['POTENTIAL_AST'] / (merged['on-ball-time'])\n",
    "        merged['year'] = year\n",
    "\n",
    "        frames.append(merged)\n",
    "        print(f'Season done {year}')\n",
    "    \n",
    "    df = pd.concat(frames)\n",
    "    return df\n",
    "\n",
    "\n",
    "#passing = passing_data()\n",
    "passing= passing_data(ps=False,update=True)\n",
    "#merged['testas'] = merged['TwoPtAssists']*2+ merged['ThreePtAssists']*3\n",
    "print(passing.columns)\n",
    "columns = ['nba_id','Name','Points','on-ball-time%','on-ball-time','UAPTS','TSA','OffPoss','Potential Assists','Travels','TsPct',\n",
    "            'Turnovers','Passes','PASSES_RECEIVED','PotAss/Passes','UAFGM','High Value Assist %','Assist PPP','TOUCHES','AVG_SEC_PER_TOUCH', 'AVG_DRIB_PER_TOUCH', 'PTS_PER_TOUCH',\n",
    "                'SECONDARY_AST', 'POTENTIAL_AST', 'AST_PTS_CREATED', 'AST_ADJ', 'AST_TO_PASS_PCT', 'AST_TO_PASS_PCT_ADJ','Assists','POT_AST_PER_MIN','ThreePtAssists','AtRimAssists','BadPassTurnovers',\n",
    "           'BadPassSteals','BadPassOutOfBoundsTurnovers',\n",
    "                   'PtsUnassisted2s','PtsUnassisted3s','Fg3Pct','FG3A','FG3M','OffPoss','GP','Minutes','year']\n",
    "#rs=passing[columns]\n",
    "rs=passing[columns]\n",
    "#rs.to_csv('passing.csv',index =False)\n",
    "rs.to_csv('passing.csv',index = False)\n",
    "\n",
    "\n",
    "\n",
    "#passing= passing_data(ps=True,update=False)\n",
    "#merged['testas'] = merged['TwoPtAssists']*2+ merged['ThreePtAssists']*3\n",
    "\n",
    "#rs=passing[columns]\n",
    "#ps=passing[columns]\n",
    "#rs.to_csv('passing.csv',index =False)\n",
    "#ps.to_csv('passing_ps.csv',index = False)"
   ]
  },
  {
   "cell_type": "code",
   "execution_count": 4,
   "id": "9eb75c39-ef72-4f4d-9d8b-fa4943bb6234",
   "metadata": {},
   "outputs": [
    {
     "name": "stdout",
     "output_type": "stream",
     "text": [
      "BadPassTurnovers\n",
      "BadPassSteals\n",
      "BadPassOutOfBoundsTurnovers\n"
     ]
    }
   ],
   "source": [
    "for col in passing:\n",
    "    if 'bad' in col.lower():\n",
    "        print(col)"
   ]
  },
  {
   "cell_type": "code",
   "execution_count": 5,
   "id": "bf3eab8b-d4d9-4d17-bbca-7d9ae0da4a11",
   "metadata": {},
   "outputs": [],
   "source": [
    "avg = pd.read_html('https://www.basketball-reference.com/leagues/NBA_stats_per_poss.html')[0]\n",
    "avg.columns = avg.columns.droplevel()\n",
    "avg = avg.dropna(subset='Season')\n",
    "avg = avg[avg.Season!='Season']\n",
    "\n",
    "avg = avg.dropna()\n",
    "avg['PTS'] = avg['PTS'].astype(float)\n",
    "avg['FGA'] = avg['FGA'].astype(float)\n",
    "avg['FTA'] = avg['FTA'].astype(float)\n",
    "\n",
    "#avg.head(87)"
   ]
  },
  {
   "cell_type": "code",
   "execution_count": 6,
   "id": "63c9a14c-c815-4898-9d02-85572f52f1ee",
   "metadata": {},
   "outputs": [],
   "source": [
    "avg['TS%'] = avg['PTS']/(2*(avg['FGA']+.44*avg['FTA']))\n",
    "#avg"
   ]
  },
  {
   "cell_type": "code",
   "execution_count": 7,
   "id": "e1c5b1c6-38eb-4fec-876a-b5d1feb662f1",
   "metadata": {},
   "outputs": [],
   "source": [
    "avg.to_csv('avg_shooting.csv',index = False)\n",
    "avg = avg[['Season','ORtg']]\n",
    "avg.to_csv('team_avg.csv',index = False)"
   ]
  },
  {
   "cell_type": "code",
   "execution_count": null,
   "id": "d4047b74-393f-4bdf-844b-356dccafc97d",
   "metadata": {},
   "outputs": [],
   "source": []
  },
  {
   "cell_type": "code",
   "execution_count": null,
   "id": "2ff91323-98f6-4c93-bdb0-9274cf0499eb",
   "metadata": {},
   "outputs": [],
   "source": []
  }
 ],
 "metadata": {
  "kernelspec": {
   "display_name": "Python 3 (ipykernel)",
   "language": "python",
   "name": "python3"
  },
  "language_info": {
   "codemirror_mode": {
    "name": "ipython",
    "version": 3
   },
   "file_extension": ".py",
   "mimetype": "text/x-python",
   "name": "python",
   "nbconvert_exporter": "python",
   "pygments_lexer": "ipython3",
   "version": "3.10.12"
  }
 },
 "nbformat": 4,
 "nbformat_minor": 5
}
