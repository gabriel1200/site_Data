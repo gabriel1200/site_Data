{
 "cells": [
  {
   "cell_type": "code",
   "execution_count": 1,
   "id": "6de58d4f-0088-40b2-9d91-611907dd5751",
   "metadata": {},
   "outputs": [
    {
     "name": "stdout",
     "output_type": "stream",
     "text": [
      "2024\n",
      "Season done 2024\n",
      "2024\n",
      "Season done 2024\n"
     ]
    }
   ],
   "source": [
    "import pandas as pd\n",
    "import unicodedata\n",
    "import requests\n",
    "import json\n",
    "import math\n",
    "#df = pd.read_csv('../../league_wide/wowy/player_large.csv')\n",
    "def passing_data(ps = False,update=True):\n",
    "    url = 'https://api.pbpstats.com/get-totals/nba'\n",
    "    stype = 'Regular Season'\n",
    "    trail = ''\n",
    "    if ps == True:\n",
    "        stype='Playoffs'\n",
    "        trail ='/playoffs'\n",
    "    frames = []\n",
    "    start_year = 2014\n",
    "    if update == True:\n",
    "        df = pd.read_csv('passing.csv')\n",
    "        df = df[df.year<2024]\n",
    "        frames.append(df)\n",
    "        start_year=2024\n",
    "    print(start_year)\n",
    "    for year in range(start_year,2025):\n",
    "        #print(str(year-1)+'-'+str(year)[-2:])\n",
    "\n",
    "        params = {\n",
    "            \"Season\": str(year-1)+'-'+str(year)[-2:],\n",
    "            \"SeasonType\": stype,\n",
    "            \"Type\": 'Player'\n",
    "        }\n",
    "        response = requests.get(url, params=params)\n",
    "        response_json = response.json()\n",
    "        df = response_json[\"multi_row_table_data\"]\n",
    "        \n",
    "        df = pd.DataFrame(df)\n",
    "        #print(df['Time Of Poss'])\n",
    "        #print(df.head)\n",
    "\n",
    "        df2 = pd.read_csv(str(year)+trail+'/player_tracking/passing.csv')\n",
    "\n",
    "        df2.rename(columns = {'PLAYER':'Name'}, inplace = True)\n",
    "        df3 =  pd.read_csv(str(year)+trail+'/player_tracking/touches.csv')\n",
    "        df3.rename(columns = {'Player':'Name'}, inplace = True)\n",
    "        two = df.merge(df2,on='Name',how ='left',suffixes=('', '_y'))\n",
    "        #print(two.columns)\n",
    "        #print(df2.columns)\n",
    "        #print(df2.columns)\n",
    "        merged = two.merge(df3,on='Name',how ='left',suffixes=('', '_y'))\n",
    "        pre = []\n",
    "        post= []\n",
    "        for col in merged.columns:\n",
    "            if \"\\xa0\" in col:\n",
    "                pre.append(col)\n",
    "                norm=  unicodedata.normalize('NFKD', col)\n",
    "\n",
    "                merged.rename(columns = {col:norm}, inplace = True)\n",
    "        merged = merged.fillna(0)\n",
    "        merged['Points Unassisted'] = merged['PtsUnassisted2s']+merged['PtsUnassisted3s']\n",
    "        merged['UAFGM'] = (merged['PtsUnassisted2s']/2)+(merged['PtsUnassisted3s']/3)\n",
    "        merged['UAPTS'] = merged['Points Unassisted'] \n",
    "        merged['on-ball-time'] = merged['Time OfPoss']\n",
    "        merged['High Value Assist %'] = 100* (merged['ThreePtAssists'] +merged['AtRimAssists'])/merged['Assists']\n",
    "\n",
    "        merged['on-ball-time%'] = 100* 2* (merged['Time OfPoss'])/(merged['Minutes'])\n",
    "        merged['TSA'] = (merged['Points']/ (merged['TsPct']*2))\n",
    "        \n",
    "        \n",
    "        merged['Potential Assists'] = merged['PotentialAST']\n",
    "        merged['Passes'] = merged['PassesMade']\n",
    "        \n",
    "        merged['PotAss/Passes'] = merged['Potential Assists']/merged['Passes']\n",
    "        #merged['Assist PPP'] = merged['Potential Assists']/(75* merged['Assists']/merged['OffPoss'])\n",
    "        merged['Assist PPP'] = (merged['AST PTSCreated'])/merged['Potential Assists']\n",
    "        #merged['TOUCHES'] = merged['TOUCHES']/merged['GP']\t\n",
    "        merged['POT_AST_PER_MIN'] = merged['Potential Assists']/(merged['on-ball-time'])\n",
    "        merged['year'] = year\n",
    "        #print(*merged['Fg3Pct'])\n",
    "        #three_p=  (2/(1+math.e**-merged['FG3A'].sum())-1)*(merged['Fg3Pct'].mean()\n",
    "        #merged['Box Creation'] = merged['Assists']*0.1843+(merged['Points']+merged['Turnovers'])*0.0969-2.3021*(three_p)+0.0582*(merged['Assists'] *(merged['Points']+merged['Turnovers'])*three_p)-1.1942\n",
    "        frames.append(merged)\n",
    "        print('Season done ' +str(year))\n",
    "    df = pd.concat(frames)\n",
    "    return df\n",
    "\n",
    "passing = passing_data()\n",
    "passing_ps = passing_data(ps=True)\n",
    "#merged['testas'] = merged['TwoPtAssists']*2+ merged['ThreePtAssists']*3"
   ]
  },
  {
   "cell_type": "code",
   "execution_count": 2,
   "id": "9eb75c39-ef72-4f4d-9d8b-fa4943bb6234",
   "metadata": {},
   "outputs": [],
   "source": [
    "columns = ['EntityId','Name','Points','on-ball-time%','on-ball-time','UAPTS','TSA','OffPoss','Potential Assists','Travels','TsPct',\n",
    "        'Turnovers','Passes','PassesReceived','PotAss/Passes','UAFGM','High Value Assist %','Assist PPP','TOUCHES','Avg Sec PerTouch',\n",
    "           'AST PTSCreated','Assists','SecondaryAST','POT_AST_PER_MIN','ThreePtAssists','AtRimAssists','Time OfPoss','ASTAdj','BadPassTurnovers',\n",
    "       'Avg Drib PerTouch','PtsUnassisted2s','PtsUnassisted3s','Fg3Pct','FG3A','FG3M','OffPoss','GP','Minutes','year']\n",
    "rs=passing[columns]\n",
    "ps=passing_ps[columns]\n",
    "rs.to_csv('passing.csv',index =False)\n",
    "ps.to_csv('passing_ps.csv',index = False)\n",
    "#print(rs.sort_values(by=)"
   ]
  },
  {
   "cell_type": "code",
   "execution_count": 3,
   "id": "bf3eab8b-d4d9-4d17-bbca-7d9ae0da4a11",
   "metadata": {},
   "outputs": [],
   "source": [
    "avg = pd.read_html('https://www.basketball-reference.com/leagues/NBA_stats_per_poss.html')[0]\n",
    "avg.columns = avg.columns.droplevel()\n",
    "avg = avg.dropna(subset='Season')\n",
    "avg = avg[avg.Season!='Season']\n",
    "\n",
    "avg = avg.dropna()\n",
    "avg['PTS'] = avg['PTS'].astype(float)\n",
    "avg['FGA'] = avg['FGA'].astype(float)\n",
    "avg['FTA'] = avg['FTA'].astype(float)\n",
    "\n",
    "#avg.head(87)"
   ]
  },
  {
   "cell_type": "code",
   "execution_count": 4,
   "id": "63c9a14c-c815-4898-9d02-85572f52f1ee",
   "metadata": {},
   "outputs": [],
   "source": [
    "avg['TS%'] = avg['PTS']/(2*(avg['FGA']+.44*avg['FTA']))\n",
    "#avg"
   ]
  },
  {
   "cell_type": "code",
   "execution_count": 5,
   "id": "e1c5b1c6-38eb-4fec-876a-b5d1feb662f1",
   "metadata": {},
   "outputs": [],
   "source": [
    "avg.to_csv('avg_shooting.csv',index = False)\n",
    "avg = avg[['Season','ORtg']]\n",
    "avg.to_csv('team_avg.csv',index = False)"
   ]
  },
  {
   "cell_type": "code",
   "execution_count": null,
   "id": "d4047b74-393f-4bdf-844b-356dccafc97d",
   "metadata": {},
   "outputs": [],
   "source": []
  },
  {
   "cell_type": "code",
   "execution_count": null,
   "id": "2ff91323-98f6-4c93-bdb0-9274cf0499eb",
   "metadata": {},
   "outputs": [],
   "source": []
  }
 ],
 "metadata": {
  "kernelspec": {
   "display_name": "Python 3 (ipykernel)",
   "language": "python",
   "name": "python3"
  },
  "language_info": {
   "codemirror_mode": {
    "name": "ipython",
    "version": 3
   },
   "file_extension": ".py",
   "mimetype": "text/x-python",
   "name": "python",
   "nbconvert_exporter": "python",
   "pygments_lexer": "ipython3",
   "version": "3.10.11"
  }
 },
 "nbformat": 4,
 "nbformat_minor": 5
}
