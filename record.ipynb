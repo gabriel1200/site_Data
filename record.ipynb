{
 "cells": [
  {
   "cell_type": "code",
   "execution_count": 5,
   "id": "b358e30b-c968-476d-b6a9-30fc9721a775",
   "metadata": {},
   "outputs": [],
   "source": [
    "url = 'https://api.pbpstats.com/get-games/nba?Season=2022-23&SeasonType=Regular+Season'\n",
    "import json\n",
    "import requests\n",
    "import pandas as pd\n",
    "r = requests.get(url)\n",
    "data= r.json()\n"
   ]
  },
  {
   "cell_type": "code",
   "execution_count": 6,
   "id": "2fa9081b-003c-4863-9c5f-5e5958705007",
   "metadata": {},
   "outputs": [],
   "source": [
    "df = pd.DataFrame(data['results'])\n",
    "df.to_csv('record/record.csv',index = False)"
   ]
  },
  {
   "cell_type": "code",
   "execution_count": null,
   "id": "64c6b308-2b68-4524-85e1-5f47e0fde985",
   "metadata": {},
   "outputs": [],
   "source": []
  }
 ],
 "metadata": {
  "kernelspec": {
   "display_name": "Python 3 (ipykernel)",
   "language": "python",
   "name": "python3"
  },
  "language_info": {
   "codemirror_mode": {
    "name": "ipython",
    "version": 3
   },
   "file_extension": ".py",
   "mimetype": "text/x-python",
   "name": "python",
   "nbconvert_exporter": "python",
   "pygments_lexer": "ipython3",
   "version": "3.10.11"
  }
 },
 "nbformat": 4,
 "nbformat_minor": 5
}
