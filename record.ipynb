{
 "cells": [
  {
   "cell_type": "code",
   "execution_count": null,
   "id": "b358e30b-c968-476d-b6a9-30fc9721a775",
   "metadata": {},
   "outputs": [],
   "source": [
    "url = 'https://api.pbpstats.com/get-games/nba?Season=2022-23&SeasonType=Regular+Season'\n",
    "import json\n",
    "import requests\n",
    "r = requests.get(url)\n",
    "dictionary = r.json()\n",
    "with open(\"sample.json\", \"w\") as outfile:\n",
    "    json.dump(dictionary, outfile)"
   ]
  },
  {
   "cell_type": "code",
   "execution_count": null,
   "id": "2fa9081b-003c-4863-9c5f-5e5958705007",
   "metadata": {},
   "outputs": [],
   "source": []
  }
 ],
 "metadata": {
  "kernelspec": {
   "display_name": "Python 3",
   "language": "python",
   "name": "python3"
  },
  "language_info": {
   "codemirror_mode": {
    "name": "ipython",
    "version": 3
   },
   "file_extension": ".py",
   "mimetype": "text/x-python",
   "name": "python",
   "nbconvert_exporter": "python",
   "pygments_lexer": "ipython3",
   "version": "3.8.8"
  }
 },
 "nbformat": 4,
 "nbformat_minor": 5
}
