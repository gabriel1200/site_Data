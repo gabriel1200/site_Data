{
 "cells": [
  {
   "cell_type": "code",
   "execution_count": 11,
   "id": "d84e0e9d-6ada-4637-8712-5404a76a590c",
   "metadata": {},
   "outputs": [],
   "source": [
    "import requests\n",
    "import json\n",
    "url = 'https://nbacourtoptix.nba.com/api/leaderboards/'\n",
    "response = requests.get(url)\n",
    "json = json.loads(response.text)"
   ]
  },
  {
   "cell_type": "code",
   "execution_count": 12,
   "id": "237765f8-a9b2-4f18-9701-5e8d2b0401cf",
   "metadata": {},
   "outputs": [],
   "source": [
    "import pandas as pd\n",
    "frames = []\n",
    "screens =json['ballScreens']\n",
    "for i in range(len(screens)):\n",
    "    team = screens[i]\n",
    "    for p in range(len(team['players'])):\n",
    "        player = team['players'][p]\n",
    "        df = pd.DataFrame(json['ballScreens'][i]['players'][p]['screeners'])\n",
    "        df['receiver'] = json['ballScreens'][i]['players'][p]['playerName']\n",
    "        df['team'] = team['abbrev']\n",
    "        frames.append(df)\n"
   ]
  },
  {
   "cell_type": "code",
   "execution_count": 13,
   "id": "452da78f-6ca5-4ac8-94d2-4533e74282e0",
   "metadata": {},
   "outputs": [],
   "source": [
    "final = pd.concat(frames)\n",
    "final.to_csv('screening/ballscreen.csv',index = False)\n",
    "final = final.drop(columns = 'playerId')"
   ]
  },
  {
   "cell_type": "code",
   "execution_count": 17,
   "id": "56ac1729-de2a-4f44-9686-8e97e288e01b",
   "metadata": {},
   "outputs": [
    {
     "data": {
      "text/html": [
       "<div>\n",
       "<style scoped>\n",
       "    .dataframe tbody tr th:only-of-type {\n",
       "        vertical-align: middle;\n",
       "    }\n",
       "\n",
       "    .dataframe tbody tr th {\n",
       "        vertical-align: top;\n",
       "    }\n",
       "\n",
       "    .dataframe thead th {\n",
       "        text-align: right;\n",
       "    }\n",
       "</style>\n",
       "<table border=\"1\" class=\"dataframe\">\n",
       "  <thead>\n",
       "    <tr style=\"text-align: right;\">\n",
       "      <th></th>\n",
       "      <th>playerName</th>\n",
       "      <th>screensPerGame</th>\n",
       "      <th>PPP</th>\n",
       "      <th>receiver</th>\n",
       "      <th>team</th>\n",
       "    </tr>\n",
       "  </thead>\n",
       "  <tbody>\n",
       "    <tr>\n",
       "      <th>0</th>\n",
       "      <td>Rudy Gobert</td>\n",
       "      <td>9.2</td>\n",
       "      <td>1.11</td>\n",
       "      <td>Anthony Edwards</td>\n",
       "      <td>MIN</td>\n",
       "    </tr>\n",
       "    <tr>\n",
       "      <th>0</th>\n",
       "      <td>Rudy Gobert</td>\n",
       "      <td>3.4</td>\n",
       "      <td>0.97</td>\n",
       "      <td>Jaylen Nowell</td>\n",
       "      <td>MIN</td>\n",
       "    </tr>\n",
       "    <tr>\n",
       "      <th>0</th>\n",
       "      <td>Rudy Gobert</td>\n",
       "      <td>4.3</td>\n",
       "      <td>1.12</td>\n",
       "      <td>Kyle Anderson</td>\n",
       "      <td>MIN</td>\n",
       "    </tr>\n",
       "  </tbody>\n",
       "</table>\n",
       "</div>"
      ],
      "text/plain": [
       "    playerName  screensPerGame   PPP         receiver team\n",
       "0  Rudy Gobert             9.2  1.11  Anthony Edwards  MIN\n",
       "0  Rudy Gobert             3.4  0.97    Jaylen Nowell  MIN\n",
       "0  Rudy Gobert             4.3  1.12    Kyle Anderson  MIN"
      ]
     },
     "execution_count": 17,
     "metadata": {},
     "output_type": "execute_result"
    }
   ],
   "source": [
    "def get_combos(player,df):\n",
    "    return df[(df.playerName.str.lower()==player.lower()) | (df.receiver.str.lower()==player.lower())]\n",
    "              \n",
    "get_combos('rudy gobert',final)\n",
    "    "
   ]
  },
  {
   "cell_type": "code",
   "execution_count": 7,
   "id": "0ffe48d7-fd77-4342-b190-01839b76bcfb",
   "metadata": {},
   "outputs": [
    {
     "data": {
      "text/plain": [
       "Index(['playerName', 'screensPerGame', 'PPP', 'receiver', 'team'], dtype='object')"
      ]
     },
     "execution_count": 7,
     "metadata": {},
     "output_type": "execute_result"
    }
   ],
   "source": [
    "final.columns"
   ]
  },
  {
   "cell_type": "code",
   "execution_count": null,
   "id": "3567d792-10f6-4e94-9794-9f1c24ae1e9e",
   "metadata": {},
   "outputs": [],
   "source": []
  }
 ],
 "metadata": {
  "kernelspec": {
   "display_name": "Python 3",
   "language": "python",
   "name": "python3"
  },
  "language_info": {
   "codemirror_mode": {
    "name": "ipython",
    "version": 3
   },
   "file_extension": ".py",
   "mimetype": "text/x-python",
   "name": "python",
   "nbconvert_exporter": "python",
   "pygments_lexer": "ipython3",
   "version": "3.8.8"
  }
 },
 "nbformat": 4,
 "nbformat_minor": 5
}
