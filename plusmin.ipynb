{
 "cells": [
  {
   "cell_type": "code",
   "execution_count": 1,
   "id": "b9b9b4ef-ae5d-46f4-bc1c-8a9ed8a9bf72",
   "metadata": {},
   "outputs": [],
   "source": [
    "import pandas as pd\n",
    "from selenium import webdriver\n",
    "from bs4 import BeautifulSoup\n",
    "from selenium.webdriver.support.wait import WebDriverWait\n",
    "from pathlib import Path\n",
    "\n",
    "\n",
    "from selenium.webdriver.common.by import By\n",
    "from selenium.common.exceptions import NoSuchElementException\n",
    "from selenium.common.exceptions import ElementNotInteractableException \n",
    "from selenium.webdriver.support import expected_conditions as EC\n",
    "import os\n",
    "import requests\n",
    "import time\n",
    "import shutil\n",
    "import glob\n",
    "import configparser\n",
    "\n"
   ]
  },
  {
   "cell_type": "code",
   "execution_count": 2,
   "id": "776da8fa-5768-4999-b067-a2ace1ddc0b2",
   "metadata": {
    "tags": []
   },
   "outputs": [],
   "source": [
    "def scrape_LEBRON():\n",
    "    headers = {\n",
    "      \n",
    "        \"User-Agent\": \"Mozilla/5.0 (Windows NT 10.0; Win64; x64; rv:72.0) Gecko/20100101 Firefox/72.0\",\n",
    "        \"Accept\": \"application/json, text/plain, */*\",\n",
    "        \"Accept-Language\": \"en-US,en;q=0.5\",\n",
    "        \"Accept-Encoding\": \"gzip, deflate, br\",\n",
    "\n",
    "        \"Connection\": \"keep-alive\",\n",
    "    }\n",
    "    url = 'https://www.bball-index.com/lebron-database/'\n",
    "    page = requests.get(url,headers=headers)\n",
    "    soup = BeautifulSoup(page.content, \"html.parser\")\n",
    "    table = soup.find(id = 'table_1')\n",
    "    df = pd.read_html(str(table),displayed_only=False)[0]\n",
    "    df = df.dropna(subset = 'Player')\n",
    "    year = df['Season'].str[0:4].astype(int) +1\n",
    "    df['year'] = year\n",
    "    df['Player'] = df['Player'].str.lower()\n",
    "    df = df.rename(columns = {'Team':'team'})\n",
    "    return df\n",
    "df = scrape_LEBRON()\n",
    "\n",
    "df.to_csv('lebron.csv',index = False)\n",
    "df = df[df['Season'] =='2022-23']\n",
    "df.to_csv('lebron/lebron.csv',index = False)\n",
    "#df.to_csv('2023/lebron/lebron.csv',index = False)"
   ]
  },
  {
   "cell_type": "code",
   "execution_count": 7,
   "id": "e33d0b9a-66c2-4bf0-888c-8fca9c3baf79",
   "metadata": {},
   "outputs": [
    {
     "name": "stdout",
     "output_type": "stream",
     "text": [
      "No file located, proceeding\n",
      "located\n"
     ]
    }
   ],
   "source": [
    "files = glob.glob('epm/*')\n",
    "try:\n",
    "    for f in files:\n",
    "        os.remove(f)\n",
    "    os.remove(r'C:\\Users\\gaber\\Downloads\\EPM data.csv')\n",
    "except Exception as e:\n",
    "    print('No file located, proceeding') \n",
    "    \n",
    "config = configparser.RawConfigParser()\n",
    "config.read('conf.cfg')\n",
    "    \n",
    "details_dict = dict(config.items('LOGIN'))\n",
    "\n",
    "\n",
    "username = details_dict['username']\n",
    "password = details_dict['password']\n",
    "\n",
    "\n",
    "def load_epm(username,password):\n",
    "    options=webdriver.ChromeOptions()\n",
    "    # Step 1: Create a session and load the page\n",
    "    epm = 'https://dunksandthrees.com/epm'\n",
    "    directory =  str(os.getcwd()) +'\\epm'\n",
    "    pref={\"download.default_directory\":directory}\n",
    "    #example: prefs = {\"download.default_directory\" : \"C:\\Tutorial\\down\"};\n",
    "    options = webdriver.FirefoxOptions()\n",
    "    driver = webdriver.Firefox(options=options)\n",
    "    driver.get(epm)\n",
    "    try:\n",
    "        # find username/email field and send the username itself to the input field\n",
    "        driver.find_element(\"name\", \"email\").click()\n",
    "        driver.find_element(\"name\", \"email\").send_keys(username)\n",
    "        # find password input field and insert password as well\n",
    "        driver.find_element(\"name\", \"password\").click()\n",
    "        driver.find_element(\"name\", \"password\").send_keys(password)\n",
    "        # click login button\n",
    "        xpath ='/html/body/div/div[2]/div/div/div[2]/form/div[2]/div[2]/button'\n",
    "        wait = WebDriverWait(driver, 10)\n",
    "        pause = wait.until(EC.presence_of_element_located((By.XPATH,xpath)))\n",
    "\n",
    "        driver.find_element(By.XPATH, xpath).click()\n",
    "        \n",
    "        path2 ='/html/body/div/main/div/div[2]/div[1]/div[6]/span/button'\n",
    "        #wait = WebDriverWait(driver, 10)\n",
    "        #pause = wait.until(EC.presence_of_element_located((By.CLASS_NAME,'outlined svelte-aai53c'))) \n",
    "        time.sleep(5)\n",
    "        driver.find_element(By.XPATH, path2).click()\n",
    "        print('located')\n",
    "\n",
    "        \n",
    "        #url_list = [url1,url2,url3,url4,url5]\n",
    "\n",
    "        #os.remove('epm/epm.csv')\n",
    "        time.sleep(10)\n",
    "        #os.rename('epm/EPM data.csv','epm/epm.csv')\n",
    "        driver.close()\n",
    "        \n",
    "    except Exception as e:\n",
    "        print(e)\n",
    "\n",
    "load_epm(username,password)"
   ]
  },
  {
   "cell_type": "code",
   "execution_count": 8,
   "id": "6f217497-1b35-45e7-9677-3e7957834ddc",
   "metadata": {},
   "outputs": [],
   "source": [
    "download_path = r'C:\\Users\\gaber\\Downloads\\EPM data.csv'\n",
    "#replace download path with whatever the file path for your download folder is\n",
    "df = pd.read_csv(download_path)\n",
    "df.to_csv('epm/epm.csv',index = False)"
   ]
  },
  {
   "cell_type": "code",
   "execution_count": null,
   "id": "920eba24-72e7-423a-a706-92f5620d5744",
   "metadata": {},
   "outputs": [],
   "source": [
    "\n"
   ]
  },
  {
   "cell_type": "code",
   "execution_count": null,
   "id": "befd30e3-4645-457e-baaf-50f56e5f7e77",
   "metadata": {},
   "outputs": [],
   "source": [
    "'''\n",
    "for i in range(2013,2022):\n",
    "        \n",
    "\n",
    "\n",
    " \n",
    "    path = str(i+1)+'/lebron/'\n",
    "    output_dir = Path(path)\n",
    "    output_dir.mkdir(parents=True, exist_ok=True)\n",
    "    frame = df[df['year'] ==i+1]\n",
    "    frame.to_csv(str(i+1)+'/lebron/lebron.csv',index = False)'''"
   ]
  },
  {
   "cell_type": "code",
   "execution_count": null,
   "id": "3ca3beab-f1e9-4d28-a680-302811a32db5",
   "metadata": {},
   "outputs": [],
   "source": [
    "df"
   ]
  },
  {
   "cell_type": "code",
   "execution_count": null,
   "id": "2a4c59c3-3023-4716-9732-f98ae00a5cc2",
   "metadata": {},
   "outputs": [],
   "source": []
  }
 ],
 "metadata": {
  "kernelspec": {
   "display_name": "Python 3 (ipykernel)",
   "language": "python",
   "name": "python3"
  },
  "language_info": {
   "codemirror_mode": {
    "name": "ipython",
    "version": 3
   },
   "file_extension": ".py",
   "mimetype": "text/x-python",
   "name": "python",
   "nbconvert_exporter": "python",
   "pygments_lexer": "ipython3",
   "version": "3.10.11"
  }
 },
 "nbformat": 4,
 "nbformat_minor": 5
}
