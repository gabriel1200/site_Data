{
 "cells": [
  {
   "cell_type": "code",
   "execution_count": 1,
   "id": "b9b9b4ef-ae5d-46f4-bc1c-8a9ed8a9bf72",
   "metadata": {},
   "outputs": [
    {
     "name": "stdout",
     "output_type": "stream",
     "text": [
      "https://dunksandthrees.com/epm?season=2023\n"
     ]
    }
   ],
   "source": [
    "import pandas as pd\n",
    "from selenium import webdriver\n",
    "from bs4 import BeautifulSoup\n",
    "from selenium.webdriver.support.wait import WebDriverWait\n",
    "\n",
    "\n",
    "from selenium.webdriver.common.by import By\n",
    "from selenium.common.exceptions import NoSuchElementException\n",
    "from selenium.common.exceptions import ElementNotInteractableException \n",
    "from selenium.webdriver.support import expected_conditions as EC\n",
    "\n",
    "\n",
    "# Step 1: Create a session and load the page\n",
    "epm = 'https://dunksandthrees.com/epm?season=2023'\n",
    "\n",
    "#url_list = [url1,url2,url3,url4,url5]\n",
    "\n",
    "def check_exists_by_xpath(driver, xpath):\n",
    "    try:\n",
    "        driver.find_element(By.XPATH, xpath)\n",
    "    except NoSuchElementException:\n",
    "        return False\n",
    "    return True\n",
    "#url_list = [cs,pullup]\n",
    "def get_tables(url_list):\n",
    "    data = []\n",
    "    for url in url_list:\n",
    "        print(url)\n",
    "        driver = webdriver.Chrome()\n",
    "        driver.get(url)\n",
    "        w_path = '//*[@id=\"player-stats\"]/div[2]/table/tbody/tr[480]'\n",
    "        xpath = '//*[@id=\"player-stats\"]/div[2]/table'\n",
    "        #button_path = '/html/body/div/main/div/div[3]/div[2]/table/thead/tr[2]/th[8]'\n",
    "        '''\n",
    "        try:\n",
    "            elem = WebDriverWait(driver, 30).until(\n",
    "                EC.presence_of_element_located((By.XPATH,xpath)))\n",
    "            \n",
    "        finally:\n",
    "            driver.quit()\n",
    "        \n",
    "        '''\n",
    "        #'''\n",
    "        wait = WebDriverWait(driver, 10)\n",
    "        result = wait.until(EC.presence_of_element_located((By.XPATH,w_path)))\n",
    "        elem = driver.find_element(By.XPATH,xpath)\n",
    "        \n",
    "        # Wait for the page to fully load\n",
    "        #print(elem.text)\n",
    "        #elem = driver.find_element(By.XPATH,xpath)\n",
    "        #driver.implicitly_wait(40)\n",
    "        #driver.execute_script(\"window.scrollTo(0,document.body.scrollHeight)\",elem)\n",
    "        driver.implicitly_wait(40)\n",
    "       \n",
    "        '''if check_exists_by_xpath(driver, \"//a[contains(text(),'>')]/preceding-sibling::a[1]\"):\n",
    "            number_of_pages = int(driver.find_element(By.XPATH, \"//a[contains(text(),'>')]/preceding-sibling::a[1]\").text)\n",
    "            print(number_of_pages)'''\n",
    "        # Step 2: Parse HTML code and grab tables with Beautiful Soup\n",
    "        soup = BeautifulSoup(driver.page_source, 'html.parser')\n",
    "\n",
    "        \n",
    "        #return elem\n",
    "        #rows = soup.find_all('tr')\n",
    "        #print(rows)\n",
    "        #return rows\n",
    "        tables = soup.find_all('table')\n",
    "        #vals = soup.find_all('td',class_ = 'player_name')\n",
    "        #print(len(vals))\n",
    "        #print(vals)\n",
    "        # Step 3: Read tables with Pandas read_html()\n",
    "        df = pd.read_html(str(tables))[0]\n",
    "        #print(dfs)\n",
    "        data.append(df)\n",
    "        driver.close()\n",
    "    return data\n",
    "elem = get_tables([epm])"
   ]
  },
  {
   "cell_type": "code",
   "execution_count": 2,
   "id": "afa2ec2c-1ba9-4df2-8c01-4b77da9589c7",
   "metadata": {},
   "outputs": [],
   "source": [
    "df = elem[0]\n",
    "df.columns = df.columns.droplevel()\n",
    "df = df.dropna(subset = 'PLAYER')\n",
    "df = df[df.PLAYER != 'PLAYER']\n",
    "df.to_csv('epm_temp.csv',index = False)\n",
    "df = pd.read_csv('epm_temp.csv')"
   ]
  },
  {
   "cell_type": "code",
   "execution_count": 3,
   "id": "e33d0b9a-66c2-4bf0-888c-8fca9c3baf79",
   "metadata": {},
   "outputs": [],
   "source": [
    "\n",
    "new_columns = []\n",
    "columns = df.columns\n",
    "for col in columns:\n",
    "   # print(col)\n",
    "    #print(df[col].dtype)\n",
    "    if df[col].dtype == 'object':\n",
    "       \n",
    "        if '%' in df.loc[1][col]:\n",
    "            df[[col,col+'_per']] = df[col].str.split(\"%\",expand=True)\n",
    "            df[col] = pd.to_numeric(df[col], errors='coerce')\n",
    "            df[col+'_per'] = pd.to_numeric(df[col+'_per'], errors='coerce')\n",
    "#df[['PLAYER','POS']] = df['PLAYER'].str.split('·',expand = True)\n",
    "#df['PLAYER'] = df['PLAYER'].str.replace(' ', '')\n",
    "df['pos'] = df['PLAYER'].str.split(\"·\",expand = True)[1]\n",
    "\n",
    "df['PLAYER'] = df['PLAYER'].str.split(\"·\",expand = True)[0]\n",
    "df['team'] = df['PLAYER'].str[-4:-1]\n",
    "df['PLAYER'] =  df['PLAYER'].str[:-4]\n",
    "df = df.round(2)\n",
    "df.columns = [x.lower() for x in df.columns]"
   ]
  },
  {
   "cell_type": "code",
   "execution_count": 4,
   "id": "6f217497-1b35-45e7-9677-3e7957834ddc",
   "metadata": {},
   "outputs": [],
   "source": [
    "df.to_csv('epm/epm.csv',index = False)"
   ]
  }
 ],
 "metadata": {
  "kernelspec": {
   "display_name": "Python 3",
   "language": "python",
   "name": "python3"
  },
  "language_info": {
   "codemirror_mode": {
    "name": "ipython",
    "version": 3
   },
   "file_extension": ".py",
   "mimetype": "text/x-python",
   "name": "python",
   "nbconvert_exporter": "python",
   "pygments_lexer": "ipython3",
   "version": "3.8.8"
  }
 },
 "nbformat": 4,
 "nbformat_minor": 5
}
