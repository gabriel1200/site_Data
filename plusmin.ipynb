{
 "cells": [
  {
   "cell_type": "code",
   "execution_count": 1,
   "id": "b9b9b4ef-ae5d-46f4-bc1c-8a9ed8a9bf72",
   "metadata": {},
   "outputs": [
    {
     "name": "stdout",
     "output_type": "stream",
     "text": [
      "https://dunksandthrees.com/epm?season=2023\n"
     ]
    }
   ],
   "source": [
    "import pandas as pd\n",
    "from selenium import webdriver\n",
    "from bs4 import BeautifulSoup\n",
    "from selenium.webdriver.support.wait import WebDriverWait\n",
    "\n",
    "\n",
    "from selenium.webdriver.common.by import By\n",
    "from selenium.common.exceptions import NoSuchElementException\n",
    "from selenium.common.exceptions import ElementNotInteractableException \n",
    "from selenium.webdriver.support import expected_conditions as EC\n",
    "import requests\n",
    "\n",
    "\n",
    "# Step 1: Create a session and load the page\n",
    "epm = 'https://dunksandthrees.com/epm?season=2023'\n",
    "\n",
    "#url_list = [url1,url2,url3,url4,url5]\n",
    "\n",
    "def check_exists_by_xpath(driver, xpath):\n",
    "    try:\n",
    "        driver.find_element(By.XPATH, xpath)\n",
    "    except NoSuchElementException:\n",
    "        return False\n",
    "    return True\n",
    "#url_list = [cs,pullup]\n",
    "def get_tables(url_list):\n",
    "    data = []\n",
    "    driver = webdriver.Chrome()\n",
    "    for url in url_list:\n",
    "        print(url)\n",
    "        \n",
    "        driver.get(url)\n",
    "        w_path = '//*[@id=\"player-stats\"]/div[2]/table/tbody/tr[480]'\n",
    "        xpath = '//*[@id=\"player-stats\"]/div[2]/table'\n",
    "        #button_path = '/html/body/div/main/div/div[3]/div[2]/table/thead/tr[2]/th[8]'\n",
    "        '''\n",
    "        try:\n",
    "            elem = WebDriverWait(driver, 30).until(\n",
    "                EC.presence_of_element_located((By.XPATH,xpath)))\n",
    "            \n",
    "        finally:\n",
    "            driver.quit()\n",
    "        \n",
    "        '''\n",
    "        #'''\n",
    "        wait = WebDriverWait(driver, 10)\n",
    "        result = wait.until(EC.presence_of_element_located((By.XPATH,w_path)))\n",
    "        elem = driver.find_element(By.XPATH,xpath)\n",
    "        \n",
    "        # Wait for the page to fully load\n",
    "        #print(elem.text)\n",
    "        #elem = driver.find_element(By.XPATH,xpath)\n",
    "        #driver.implicitly_wait(40)\n",
    "        #driver.execute_script(\"window.scrollTo(0,document.body.scrollHeight)\",elem)\n",
    "        driver.implicitly_wait(40)\n",
    "       \n",
    "        '''if check_exists_by_xpath(driver, \"//a[contains(text(),'>')]/preceding-sibling::a[1]\"):\n",
    "            number_of_pages = int(driver.find_element(By.XPATH, \"//a[contains(text(),'>')]/preceding-sibling::a[1]\").text)\n",
    "            print(number_of_pages)'''\n",
    "        # Step 2: Parse HTML code and grab tables with Beautiful Soup\n",
    "        soup = BeautifulSoup(driver.page_source, 'html.parser')\n",
    "\n",
    "        \n",
    "        #return elem\n",
    "        #rows = soup.find_all('tr')\n",
    "        #print(rows)\n",
    "        #return rows\n",
    "        tables = soup.find_all('table')\n",
    "        #vals = soup.find_all('td',class_ = 'player_name')\n",
    "        #print(len(vals))\n",
    "        #print(vals)\n",
    "        # Step 3: Read tables with Pandas read_html()\n",
    "        df = pd.read_html(str(tables))[0]\n",
    "        #print(dfs)\n",
    "        data.append(df)\n",
    "    driver.close()\n",
    "    return data\n",
    "elem = get_tables([epm])"
   ]
  },
  {
   "cell_type": "code",
   "execution_count": 2,
   "id": "afa2ec2c-1ba9-4df2-8c01-4b77da9589c7",
   "metadata": {},
   "outputs": [],
   "source": [
    "df = elem[0]\n",
    "df.columns = df.columns.droplevel()\n",
    "df = df.dropna(subset = 'PLAYER')\n",
    "df = df[df.PLAYER != 'PLAYER']\n",
    "df.to_csv('epm_temp.csv',index = False)\n",
    "df = pd.read_csv('epm_temp.csv')"
   ]
  },
  {
   "cell_type": "code",
   "execution_count": 3,
   "id": "e33d0b9a-66c2-4bf0-888c-8fca9c3baf79",
   "metadata": {},
   "outputs": [],
   "source": [
    "\n",
    "new_columns = []\n",
    "columns = df.columns\n",
    "for col in columns:\n",
    "   # print(col)\n",
    "    #print(df[col].dtype)\n",
    "    if df[col].dtype == 'object':\n",
    "       \n",
    "        if '%' in df.loc[1][col]:\n",
    "            df[[col,col+'_per']] = df[col].str.split(\"%\",expand=True)\n",
    "            df[col] = pd.to_numeric(df[col], errors='coerce')\n",
    "            df[col+'_per'] = pd.to_numeric(df[col+'_per'], errors='coerce')\n",
    "#df[['PLAYER','POS']] = df['PLAYER'].str.split('·',expand = True)\n",
    "#df['PLAYER'] = df['PLAYER'].str.replace(' ', '')\n",
    "df['pos'] = df['PLAYER'].str.split(\"·\",expand = True)[1]\n",
    "\n",
    "df['PLAYER'] = df['PLAYER'].str.split(\"·\",expand = True)[0]\n",
    "df['team'] = df['PLAYER'].str[-4:-1]\n",
    "df['PLAYER'] =  df['PLAYER'].str[:-4]\n",
    "df = df.round(2)\n",
    "df.columns = [x.lower() for x in df.columns]"
   ]
  },
  {
   "cell_type": "code",
   "execution_count": 4,
   "id": "6f217497-1b35-45e7-9677-3e7957834ddc",
   "metadata": {},
   "outputs": [],
   "source": [
    "df.to_csv('epm/epm.csv',index = False)\n"
   ]
  },
  {
   "cell_type": "code",
   "execution_count": 2,
   "id": "920eba24-72e7-423a-a706-92f5620d5744",
   "metadata": {},
   "outputs": [
    {
     "ename": "NameError",
     "evalue": "name 'BeautifulSoup' is not defined",
     "output_type": "error",
     "traceback": [
      "\u001b[1;31m---------------------------------------------------------------------------\u001b[0m",
      "\u001b[1;31mNameError\u001b[0m                                 Traceback (most recent call last)",
      "\u001b[1;32m<ipython-input-2-59aad7b217dc>\u001b[0m in \u001b[0;36m<module>\u001b[1;34m\u001b[0m\n\u001b[0;32m     12\u001b[0m     \u001b[0mdf\u001b[0m \u001b[1;33m=\u001b[0m \u001b[0mdf\u001b[0m\u001b[1;33m.\u001b[0m\u001b[0mrename\u001b[0m\u001b[1;33m(\u001b[0m\u001b[0mcolumns\u001b[0m \u001b[1;33m=\u001b[0m \u001b[1;33m{\u001b[0m\u001b[1;34m'Team'\u001b[0m\u001b[1;33m:\u001b[0m\u001b[1;34m'team'\u001b[0m\u001b[1;33m}\u001b[0m\u001b[1;33m)\u001b[0m\u001b[1;33m\u001b[0m\u001b[1;33m\u001b[0m\u001b[0m\n\u001b[0;32m     13\u001b[0m     \u001b[1;32mreturn\u001b[0m \u001b[0mdf\u001b[0m\u001b[1;33m\u001b[0m\u001b[1;33m\u001b[0m\u001b[0m\n\u001b[1;32m---> 14\u001b[1;33m \u001b[0mdf\u001b[0m \u001b[1;33m=\u001b[0m \u001b[0mscrape_LEBRON\u001b[0m\u001b[1;33m(\u001b[0m\u001b[1;33m)\u001b[0m\u001b[1;33m\u001b[0m\u001b[1;33m\u001b[0m\u001b[0m\n\u001b[0m\u001b[0;32m     15\u001b[0m \u001b[1;33m\u001b[0m\u001b[0m\n\u001b[0;32m     16\u001b[0m \u001b[0mdf\u001b[0m \u001b[1;33m=\u001b[0m \u001b[0mdf\u001b[0m\u001b[1;33m[\u001b[0m\u001b[0mdf\u001b[0m\u001b[1;33m[\u001b[0m\u001b[1;34m'Season'\u001b[0m\u001b[1;33m]\u001b[0m \u001b[1;33m==\u001b[0m\u001b[1;34m'2022-23'\u001b[0m\u001b[1;33m]\u001b[0m\u001b[1;33m\u001b[0m\u001b[1;33m\u001b[0m\u001b[0m\n",
      "\u001b[1;32m<ipython-input-2-59aad7b217dc>\u001b[0m in \u001b[0;36mscrape_LEBRON\u001b[1;34m()\u001b[0m\n\u001b[0;32m      3\u001b[0m     \u001b[0murl\u001b[0m \u001b[1;33m=\u001b[0m \u001b[1;34m'https://www.bball-index.com/lebron-database/'\u001b[0m\u001b[1;33m\u001b[0m\u001b[1;33m\u001b[0m\u001b[0m\n\u001b[0;32m      4\u001b[0m     \u001b[0mpage\u001b[0m \u001b[1;33m=\u001b[0m \u001b[0mrequests\u001b[0m\u001b[1;33m.\u001b[0m\u001b[0mget\u001b[0m\u001b[1;33m(\u001b[0m\u001b[0murl\u001b[0m\u001b[1;33m)\u001b[0m\u001b[1;33m\u001b[0m\u001b[1;33m\u001b[0m\u001b[0m\n\u001b[1;32m----> 5\u001b[1;33m     \u001b[0msoup\u001b[0m \u001b[1;33m=\u001b[0m \u001b[0mBeautifulSoup\u001b[0m\u001b[1;33m(\u001b[0m\u001b[0mpage\u001b[0m\u001b[1;33m.\u001b[0m\u001b[0mcontent\u001b[0m\u001b[1;33m,\u001b[0m \u001b[1;34m\"html.parser\"\u001b[0m\u001b[1;33m)\u001b[0m\u001b[1;33m\u001b[0m\u001b[1;33m\u001b[0m\u001b[0m\n\u001b[0m\u001b[0;32m      6\u001b[0m     \u001b[0mtable\u001b[0m \u001b[1;33m=\u001b[0m \u001b[0msoup\u001b[0m\u001b[1;33m.\u001b[0m\u001b[0mfind\u001b[0m\u001b[1;33m(\u001b[0m\u001b[0mid\u001b[0m \u001b[1;33m=\u001b[0m \u001b[1;34m'table_1'\u001b[0m\u001b[1;33m)\u001b[0m\u001b[1;33m\u001b[0m\u001b[1;33m\u001b[0m\u001b[0m\n\u001b[0;32m      7\u001b[0m     \u001b[0mdf\u001b[0m \u001b[1;33m=\u001b[0m \u001b[0mpd\u001b[0m\u001b[1;33m.\u001b[0m\u001b[0mread_html\u001b[0m\u001b[1;33m(\u001b[0m\u001b[0mstr\u001b[0m\u001b[1;33m(\u001b[0m\u001b[0mtable\u001b[0m\u001b[1;33m)\u001b[0m\u001b[1;33m,\u001b[0m\u001b[0mdisplayed_only\u001b[0m\u001b[1;33m=\u001b[0m\u001b[1;32mFalse\u001b[0m\u001b[1;33m)\u001b[0m\u001b[1;33m[\u001b[0m\u001b[1;36m0\u001b[0m\u001b[1;33m]\u001b[0m\u001b[1;33m\u001b[0m\u001b[1;33m\u001b[0m\u001b[0m\n",
      "\u001b[1;31mNameError\u001b[0m: name 'BeautifulSoup' is not defined"
     ]
    }
   ],
   "source": [
    "\n",
    "def scrape_LEBRON():\n",
    "    url = 'https://www.bball-index.com/lebron-database/'\n",
    "    page = requests.get(url)\n",
    "    soup = BeautifulSoup(page.content, \"html.parser\")\n",
    "    table = soup.find(id = 'table_1')\n",
    "    df = pd.read_html(str(table),displayed_only=False)[0]\n",
    "    df = df.dropna(subset = 'Player')\n",
    "    year = df['Season'].str[0:4].astype(int) +1\n",
    "    df['year'] = year\n",
    "    df['Player'] = df['Player'].str.lower()\n",
    "    df = df.rename(columns = {'Team':'team'})\n",
    "    return df\n",
    "df = scrape_LEBRON()\n",
    "\n",
    "df = df[df['Season'] =='2022-23']\n",
    "df.to_csv('lebron/lebron.csv',index = False)"
   ]
  },
  {
   "cell_type": "code",
   "execution_count": null,
   "id": "befd30e3-4645-457e-baaf-50f56e5f7e77",
   "metadata": {},
   "outputs": [],
   "source": []
  }
 ],
 "metadata": {
  "kernelspec": {
   "display_name": "Python 3",
   "language": "python",
   "name": "python3"
  },
  "language_info": {
   "codemirror_mode": {
    "name": "ipython",
    "version": 3
   },
   "file_extension": ".py",
   "mimetype": "text/x-python",
   "name": "python",
   "nbconvert_exporter": "python",
   "pygments_lexer": "ipython3",
   "version": "3.8.8"
  }
 },
 "nbformat": 4,
 "nbformat_minor": 5
}
