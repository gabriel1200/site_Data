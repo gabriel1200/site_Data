{
 "cells": [
  {
   "cell_type": "code",
   "execution_count": null,
   "id": "38ee2710-0244-46d2-98c5-86530b460044",
   "metadata": {},
   "outputs": [],
   "source": [
    "import pandas as pd\n",
    "from selenium import webdriver\n",
    "from bs4 import BeautifulSoup\n",
    "\n",
    "from pathlib import Path\n",
    "\n",
    "\n",
    "# Step 1: Create a session and load the page\n",
    "def years(start_year, end_year):\n",
    "    urls = []\n",
    "    for year in range(start_year,end_year +1):\n",
    "        url = 'https://www.nba.com/stats/teams/drives?Season='+str(year-1)+'-'+str((year)%2000)+'&PerMode=PerGame'\n",
    "        urls.append(url)\n",
    "    return urls\n",
    "url_list = years(2014,2023)\n",
    "def get_tables(url_list):\n",
    "    data = []\n",
    "    for url in url_list:\n",
    "        print(url)\n",
    "        driver = webdriver.Chrome()\n",
    "        driver.get(url)\n",
    "\n",
    "        # Wait for the page to fully load\n",
    "        driver.implicitly_wait(8)\n",
    "\n",
    "        # Step 2: Parse HTML code and grab tables with Beautiful Soup\n",
    "        soup = BeautifulSoup(driver.page_source, 'lxml')\n",
    "\n",
    "        tables = soup.find_all('table')\n",
    "\n",
    "        # Step 3: Read tables with Pandas read_html()\n",
    "        dfs = pd.read_html(str(tables))\n",
    "\n",
    "        #print(f'Total tables: {len(dfs)}')\n",
    "        #print(dfs[2].head())\n",
    "    \n",
    "        driver.close()\n",
    "        #return dfs\n",
    "        df= dfs[-1]\n",
    "        #drop = ['Unnamed: 16_level_1', 'Unnamed: 17_level_1', 'Unnamed: 18_level_1']\n",
    "        #df.columns = df.columns.droplevel()\n",
    "        #df = df.drop(columns = drop)\n",
    "        data.append(df)\n",
    "    return data\n",
    "frames = get_tables(url_list)"
   ]
  },
  {
   "cell_type": "code",
   "execution_count": null,
   "id": "596c91b6-d4bd-4f8f-8e18-0c787e058165",
   "metadata": {},
   "outputs": [],
   "source": [
    "year = 2014\n",
    "for df in frames:\n",
    "    df['year'] = year\n",
    "    df.to_csv(str(year)+'drives.csv',index = False)\n",
    "    year+=1\n",
    "    "
   ]
  },
  {
   "cell_type": "code",
   "execution_count": null,
   "id": "2d297e00-6853-496f-9af8-a38d579e4b23",
   "metadata": {},
   "outputs": [],
   "source": [
    "drives = pd.concat(frames)"
   ]
  },
  {
   "cell_type": "code",
   "execution_count": null,
   "id": "e7113d84-b642-46b5-9d56-2aff1da7b229",
   "metadata": {},
   "outputs": [],
   "source": [
    "drives = drives[drives.year != 2020]"
   ]
  },
  {
   "cell_type": "code",
   "execution_count": null,
   "id": "b1230c9e-8662-4a4a-9f6d-266c5d39a90e",
   "metadata": {},
   "outputs": [],
   "source": [
    "test = get_tables(['https://www.nba.com/stats/teams/drives?Season=2021-22&PerMode=PerGame'])"
   ]
  },
  {
   "cell_type": "code",
   "execution_count": null,
   "id": "7ec86a2b-baf9-41ae-aa15-3f5b6e4b0289",
   "metadata": {},
   "outputs": [],
   "source": [
    "test['year'] = 2020"
   ]
  },
  {
   "cell_type": "code",
   "execution_count": null,
   "id": "285b20d2-ab4d-4a53-ab7e-63a3f57e9e76",
   "metadata": {},
   "outputs": [],
   "source": []
  },
  {
   "cell_type": "code",
   "execution_count": null,
   "id": "97fca27d-eff0-4dbc-a30b-0df757671845",
   "metadata": {},
   "outputs": [],
   "source": [
    "drives = drives.dropna(subset = ['year'])\n",
    "drives"
   ]
  },
  {
   "cell_type": "code",
   "execution_count": null,
   "id": "d75b3b2d-9fef-4b5c-9315-9fce0d426b4f",
   "metadata": {},
   "outputs": [],
   "source": [
    "drives = pd.concat([drives,test])\n",
    "drives"
   ]
  },
  {
   "cell_type": "code",
   "execution_count": null,
   "id": "7717e87c-e2aa-48df-b4fe-e365006b4476",
   "metadata": {},
   "outputs": [],
   "source": [
    "drives['year'] = drives['year'].astype(int)"
   ]
  },
  {
   "cell_type": "code",
   "execution_count": null,
   "id": "b73d121b-a91d-405a-ad2b-2cad07cb8618",
   "metadata": {},
   "outputs": [],
   "source": [
    "drives.to_csv('drives.csv',index = False)"
   ]
  },
  {
   "cell_type": "code",
   "execution_count": null,
   "id": "29441792-815e-485f-86bd-1ba09c6b170c",
   "metadata": {},
   "outputs": [],
   "source": [
    "df = pd.read_csv('drives.csv')"
   ]
  },
  {
   "cell_type": "code",
   "execution_count": null,
   "id": "5ec3a85a-2d4a-448c-b3d6-8d4ea858b7a3",
   "metadata": {},
   "outputs": [],
   "source": [
    "drives"
   ]
  },
  {
   "cell_type": "code",
   "execution_count": null,
   "id": "b53ee718-f630-4102-abb8-9e5170b6bbf3",
   "metadata": {},
   "outputs": [],
   "source": [
    "by_year = drives.groupby('year').max()[['DRIVES','FTA','PF','PTS%','Team']]"
   ]
  },
  {
   "cell_type": "code",
   "execution_count": null,
   "id": "ac936471-7655-49c2-bef9-53bf6655aba7",
   "metadata": {},
   "outputs": [],
   "source": [
    "by_year['ftperdrive'] = by_year['FTA']/by_year['DRIVES']"
   ]
  },
  {
   "cell_type": "code",
   "execution_count": null,
   "id": "c8dd9f66-9060-4982-8d78-5d95c636da11",
   "metadata": {},
   "outputs": [],
   "source": [
    "by_year"
   ]
  },
  {
   "cell_type": "code",
   "execution_count": null,
   "id": "757986ae-d146-4dcd-ac8b-ab3e48960548",
   "metadata": {},
   "outputs": [],
   "source": [
    "drives.groupby([\"year\",\"Team\"]).max()[\"DRIVES\"]"
   ]
  },
  {
   "cell_type": "code",
   "execution_count": null,
   "id": "d112808f-19de-408d-966b-9318ec6887d1",
   "metadata": {},
   "outputs": [],
   "source": [
    "drives.groupby(['year','DRIVES']).head(1)\n",
    "drives.columns"
   ]
  },
  {
   "cell_type": "code",
   "execution_count": null,
   "id": "5e629e80-11a2-4a6f-935c-336eb5a6d490",
   "metadata": {},
   "outputs": [],
   "source": [
    "drives.sort_values(by ='DRIVES',ascending = False)"
   ]
  },
  {
   "cell_type": "code",
   "execution_count": null,
   "id": "bf6d251b-a839-4e69-ae11-8773e2e3f831",
   "metadata": {},
   "outputs": [],
   "source": [
    "drives = drives.drop(columns = ['Sun', 'Mon', 'Tues', 'Wed', 'Thurs','Fri', 'Sat'])"
   ]
  },
  {
   "cell_type": "code",
   "execution_count": null,
   "id": "3f4bfea2-556a-4085-b7ec-a0469d2af165",
   "metadata": {},
   "outputs": [],
   "source": [
    "drives = drives.sort_values(by = 'DRIVES',ascending = False)"
   ]
  },
  {
   "cell_type": "code",
   "execution_count": null,
   "id": "ca3c19f8-239c-43f3-901f-256deb7e9594",
   "metadata": {},
   "outputs": [],
   "source": [
    "drives.to_csv('drives.csv',index = False)"
   ]
  },
  {
   "cell_type": "code",
   "execution_count": null,
   "id": "e2e919a4-7cfc-49cb-b8c3-c3f3d4d51b72",
   "metadata": {},
   "outputs": [],
   "source": [
    "drives.iloc[drives.reset_index().groupby(['year'])['DRIVES'].idxmax()]"
   ]
  },
  {
   "cell_type": "code",
   "execution_count": null,
   "id": "a8be0716-ed04-4c1b-a861-a2468bb0dc7f",
   "metadata": {},
   "outputs": [],
   "source": [
    "drives.groupby(['year'])['DRIVES'].idxmax(axis = 0)"
   ]
  },
  {
   "cell_type": "code",
   "execution_count": null,
   "id": "53a770d2-a5a9-4662-a3e8-84c66544a1a1",
   "metadata": {},
   "outputs": [],
   "source": [
    "drives[drives.year == 2014]"
   ]
  },
  {
   "cell_type": "code",
   "execution_count": null,
   "id": "850d0a58-192b-4fe5-b39b-6333e36ea99c",
   "metadata": {},
   "outputs": [],
   "source": []
  }
 ],
 "metadata": {
  "kernelspec": {
   "display_name": "Python 3",
   "language": "python",
   "name": "python3"
  },
  "language_info": {
   "codemirror_mode": {
    "name": "ipython",
    "version": 3
   },
   "file_extension": ".py",
   "mimetype": "text/x-python",
   "name": "python",
   "nbconvert_exporter": "python",
   "pygments_lexer": "ipython3",
   "version": "3.8.8"
  }
 },
 "nbformat": 4,
 "nbformat_minor": 5
}
