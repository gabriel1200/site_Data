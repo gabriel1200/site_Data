{
 "cells": [
  {
   "cell_type": "code",
   "execution_count": 19,
   "id": "60460a70-ab70-4ee6-9f2a-c40226150cd1",
   "metadata": {},
   "outputs": [],
   "source": [
    "import requests\n",
    "import pandas as pd\n",
    "players_response = requests.get(\"https://api.pbpstats.com/get-all-players-for-league/nba\")\n",
    "players = players_response.json()\n",
    "#players[\"players\"]"
   ]
  },
  {
   "cell_type": "code",
   "execution_count": 20,
   "id": "c2b48ca8-9b58-47a1-ad38-d8be0a56a1d1",
   "metadata": {},
   "outputs": [],
   "source": [
    "df = pd.DataFrame(players)"
   ]
  },
  {
   "cell_type": "code",
   "execution_count": 21,
   "id": "75dd3b26-2eb4-4ace-b28d-89df137102e1",
   "metadata": {},
   "outputs": [],
   "source": [
    "df.index.name = 'id'"
   ]
  },
  {
   "cell_type": "code",
   "execution_count": 22,
   "id": "f38dbb99-32ce-420b-8f3b-97e4002a78a0",
   "metadata": {},
   "outputs": [],
   "source": [
    "df.reset_index(inplace=True)"
   ]
  },
  {
   "cell_type": "code",
   "execution_count": 23,
   "id": "7dc65e6b-f1c1-4a28-8716-14dd6f7ce9b7",
   "metadata": {},
   "outputs": [
    {
     "data": {
      "text/html": [
       "<div>\n",
       "<style scoped>\n",
       "    .dataframe tbody tr th:only-of-type {\n",
       "        vertical-align: middle;\n",
       "    }\n",
       "\n",
       "    .dataframe tbody tr th {\n",
       "        vertical-align: top;\n",
       "    }\n",
       "\n",
       "    .dataframe thead th {\n",
       "        text-align: right;\n",
       "    }\n",
       "</style>\n",
       "<table border=\"1\" class=\"dataframe\">\n",
       "  <thead>\n",
       "    <tr style=\"text-align: right;\">\n",
       "      <th></th>\n",
       "      <th>id</th>\n",
       "      <th>players</th>\n",
       "    </tr>\n",
       "  </thead>\n",
       "  <tbody>\n",
       "    <tr>\n",
       "      <th>0</th>\n",
       "      <td>1000</td>\n",
       "      <td>Shandon Anderson</td>\n",
       "    </tr>\n",
       "    <tr>\n",
       "      <th>1</th>\n",
       "      <td>1005</td>\n",
       "      <td>Walt Williams</td>\n",
       "    </tr>\n",
       "    <tr>\n",
       "      <th>2</th>\n",
       "      <td>101106</td>\n",
       "      <td>Andrew Bogut</td>\n",
       "    </tr>\n",
       "    <tr>\n",
       "      <th>3</th>\n",
       "      <td>101107</td>\n",
       "      <td>Marvin Williams</td>\n",
       "    </tr>\n",
       "    <tr>\n",
       "      <th>4</th>\n",
       "      <td>101108</td>\n",
       "      <td>Chris Paul</td>\n",
       "    </tr>\n",
       "    <tr>\n",
       "      <th>...</th>\n",
       "      <td>...</td>\n",
       "      <td>...</td>\n",
       "    </tr>\n",
       "    <tr>\n",
       "      <th>2268</th>\n",
       "      <td>983</td>\n",
       "      <td>Moochie Norris</td>\n",
       "    </tr>\n",
       "    <tr>\n",
       "      <th>2269</th>\n",
       "      <td>988</td>\n",
       "      <td>Randy Livingston</td>\n",
       "    </tr>\n",
       "    <tr>\n",
       "      <th>2270</th>\n",
       "      <td>990</td>\n",
       "      <td>Malik Rose</td>\n",
       "    </tr>\n",
       "    <tr>\n",
       "      <th>2271</th>\n",
       "      <td>994</td>\n",
       "      <td>Jamie Feick</td>\n",
       "    </tr>\n",
       "    <tr>\n",
       "      <th>2272</th>\n",
       "      <td>998</td>\n",
       "      <td>Mark Pope</td>\n",
       "    </tr>\n",
       "  </tbody>\n",
       "</table>\n",
       "<p>2273 rows × 2 columns</p>\n",
       "</div>"
      ],
      "text/plain": [
       "          id           players\n",
       "0       1000  Shandon Anderson\n",
       "1       1005     Walt Williams\n",
       "2     101106      Andrew Bogut\n",
       "3     101107   Marvin Williams\n",
       "4     101108        Chris Paul\n",
       "...      ...               ...\n",
       "2268     983    Moochie Norris\n",
       "2269     988  Randy Livingston\n",
       "2270     990        Malik Rose\n",
       "2271     994       Jamie Feick\n",
       "2272     998         Mark Pope\n",
       "\n",
       "[2273 rows x 2 columns]"
      ]
     },
     "execution_count": 23,
     "metadata": {},
     "output_type": "execute_result"
    }
   ],
   "source": [
    "df"
   ]
  },
  {
   "cell_type": "code",
   "execution_count": 24,
   "id": "8fb45775-4e53-4110-aee5-d39dfa92395d",
   "metadata": {},
   "outputs": [],
   "source": [
    "df.to_csv('names.csv',index = False)"
   ]
  },
  {
   "cell_type": "code",
   "execution_count": null,
   "id": "c0df8866-32ac-4390-84bc-5f9a1cb27b25",
   "metadata": {},
   "outputs": [],
   "source": []
  }
 ],
 "metadata": {
  "kernelspec": {
   "display_name": "Python 3",
   "language": "python",
   "name": "python3"
  },
  "language_info": {
   "codemirror_mode": {
    "name": "ipython",
    "version": 3
   },
   "file_extension": ".py",
   "mimetype": "text/x-python",
   "name": "python",
   "nbconvert_exporter": "python",
   "pygments_lexer": "ipython3",
   "version": "3.8.8"
  }
 },
 "nbformat": 4,
 "nbformat_minor": 5
}
