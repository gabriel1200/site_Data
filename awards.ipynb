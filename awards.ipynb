{
 "cells": [
  {
   "cell_type": "code",
   "execution_count": 8,
   "id": "2187adeb-1b9d-41d3-9250-b1702d98b315",
   "metadata": {},
   "outputs": [],
   "source": [
    "import requests\n",
    "from bs4 import BeautifulSoup,Comment\n",
    "import pandas as pd\n",
    "import time\n",
    "# URL of the NBA awards page\n",
    "\n",
    "# URL of the NBA awards page\n",
    "award_acronyms = {\n",
    "    'Most Valuable Player (Michael Jordan Trophy) Table': 'mvp',\n",
    "    'NBA Most Valuable Player (Michael Jordan Trophy) Table':'nbamvp',\n",
    "    'ABA Most Valuable Player (Michael Jordan Trophy) Table':'abamvp',\n",
    "    'Rookie of the Year (Wilt Chamberlain Trophy) Table': 'roy',\n",
    "    'NBA Rookie of the Year (Wilt Chamberlain Trophy) Table':'nbaroy',\n",
    "    'ABA Rookie of the Year (Wilt Chamberlain Trophy) Table':'abaroy',\n",
    "    'All-NBA Teams Table': 'all-nba',\n",
    "    'All-Defensive Teams Table': 'all-defensive',\n",
    "    'All-Rookie Teams Table': 'all-rookie',\n",
    "    'Defensive Player of the Year (Hakeem Olajuwon Trophy) Table': 'dpoy',\n",
    "    'Sixth Man of the Year (John Havlicek Trophy) Table': '6moy',\n",
    "    'Most Improved Player (George Mikan Trophy) Table': 'mip',\n",
    "    'Clutch Player of the Year Table': 'clutch player',\n",
    "    'Coach of the Year (Red Auerbach Trophy) Table': 'coy'\n",
    "}\n",
    "for year in range(1971, 2025):\n",
    "    url = f\"https://www.basketball-reference.com/awards/awards_{year}.html\"\n",
    "    names=[]\n",
    "\n",
    "    \n",
    "    # Send a GET request to the URL\n",
    "    response = requests.get(url)\n",
    "    \n",
    "    # Parse the HTML content using BeautifulSoup\n",
    "    soup = BeautifulSoup(response.content, \"html.parser\")\n",
    "    \n",
    "    # Find all the tables on the page, including those in comments\n",
    "    all_tables = soup.find_all(\"table\", class_=\"sortable stats_table\")\n",
    "    comment_tables = soup.find_all(string=lambda text: isinstance(text, Comment))\n",
    "\n",
    "\n",
    "    comment_tables =   [table for table in comment_tables if '<table' in table]\n",
    "\n",
    "    \n",
    "    frames = []\n",
    "    \n",
    "    # Iterate through the tables and extract the data\n",
    "    for table in all_tables + comment_tables:\n",
    "        # Check if the table is inside a comment\n",
    "        if isinstance(table, Comment):\n",
    "            # Parse the table from the comment\n",
    "            table_html = BeautifulSoup(str(table), \"html.parser\")\n",
    "     \n",
    "            table_element = table_html.find(\"table\")\n",
    "        else:\n",
    "            table_element = table\n",
    "        \n",
    "        # Get the table header (award name)\n",
    "        award_name = table_element.find(\"caption\").text.strip()\n",
    "\n",
    "        \n",
    "        \n",
    "        # Extract the table data into a pandas DataFrame\n",
    "        df = pd.read_html(str(table_element))[0]\n",
    "        df.columns = df.columns.droplevel()\n",
    "        df['year'] = year\n",
    "\n",
    "        award = award_acronyms[award_name]\n",
    "        df['award'] = award\n",
    "\n",
    "        df.to_csv('awards/'+award+str(year)+'.csv',index=False)\n",
    "        priny(year)\n",
    "    time.sleep(10)\n",
    "\n",
    "\n"
   ]
  },
  {
   "cell_type": "code",
   "execution_count": 4,
   "id": "1601fce6-96d1-483e-916a-b954a568e39c",
   "metadata": {},
   "outputs": [
    {
     "ename": "KeyError",
     "evalue": "'NBA Most Valuable Player (Michael Jordan Trophy) Table'",
     "output_type": "error",
     "traceback": [
      "\u001b[0;31m---------------------------------------------------------------------------\u001b[0m",
      "\u001b[0;31mKeyError\u001b[0m                                  Traceback (most recent call last)",
      "Cell \u001b[0;32mIn[4], line 1\u001b[0m\n\u001b[0;32m----> 1\u001b[0m \u001b[43maward_acronyms\u001b[49m\u001b[43m[\u001b[49m\u001b[38;5;124;43m'\u001b[39;49m\u001b[38;5;124;43mNBA Most Valuable Player (Michael Jordan Trophy) Table\u001b[39;49m\u001b[38;5;124;43m'\u001b[39;49m\u001b[43m]\u001b[49m\n",
      "\u001b[0;31mKeyError\u001b[0m: 'NBA Most Valuable Player (Michael Jordan Trophy) Table'"
     ]
    }
   ],
   "source": [
    "award_acronyms['NBA Most Valuable Player (Michael Jordan Trophy) Table']"
   ]
  },
  {
   "cell_type": "code",
   "execution_count": null,
   "id": "589ed6e5-a354-4215-ba73-ec498faed868",
   "metadata": {},
   "outputs": [],
   "source": []
  }
 ],
 "metadata": {
  "kernelspec": {
   "display_name": "Python 3 (ipykernel)",
   "language": "python",
   "name": "python3"
  },
  "language_info": {
   "codemirror_mode": {
    "name": "ipython",
    "version": 3
   },
   "file_extension": ".py",
   "mimetype": "text/x-python",
   "name": "python",
   "nbconvert_exporter": "python",
   "pygments_lexer": "ipython3",
   "version": "3.10.12"
  }
 },
 "nbformat": 4,
 "nbformat_minor": 5
}
